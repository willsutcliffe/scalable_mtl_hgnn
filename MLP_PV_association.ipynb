{
 "cells": [
  {
   "cell_type": "code",
   "execution_count": 13,
   "id": "6f730573-ca43-4fe4-82f4-5f97be3e1523",
   "metadata": {},
   "outputs": [],
   "source": [
    "import numpy as np\n",
    "import networkx as nx\n",
    "import os, time\n",
    "\n",
    "import os.path as osp\n",
    "import glob\n",
    "from wmpgnn.datasets.graph_dataset import CustomDataset\n",
    "from wmpgnn.datasets.hetero_graph_dataset import CustomHeteroDataset\n",
    "from torch_geometric.loader import DataLoader\n",
    "import contextlib\n",
    "import torch\n",
    "from torch import nn\n",
    "from torch_scatter import scatter_add\n",
    "from wmpgnn.configs.config_loader import ConfigLoader\n",
    "from wmpgnn.datasets.data_handler import DataHandler\n",
    "from wmpgnn.model.model_loader import ModelLoader\n",
    "from torch_geometric.nn.models import MLP\n",
    "from torch.nn import ReLU"
   ]
  },
  {
   "cell_type": "code",
   "execution_count": 14,
   "id": "b28726fa-ab6a-4c15-8472-f0a6e52076ec",
   "metadata": {},
   "outputs": [],
   "source": [
    "from wmpgnn.configs.config_loader import ConfigLoader\n",
    "# Load the configuration\n",
    "config_loader = ConfigLoader(\"config_files/heteromp_gnn.yaml\", environment_prefix=\"DL\")"
   ]
  },
  {
   "cell_type": "code",
   "execution_count": null,
   "id": "7bed559c-fee8-44b7-b329-a63e6700aa74",
   "metadata": {},
   "outputs": [],
   "source": []
  },
  {
   "cell_type": "code",
   "execution_count": 15,
   "id": "dcc085c0-d474-44b0-b3b0-e08cd698a4c3",
   "metadata": {},
   "outputs": [
    {
     "name": "stdout",
     "output_type": "stream",
     "text": [
      "Loading Dataset heterogeneous\n"
     ]
    }
   ],
   "source": [
    "print(f\"Loading Dataset {config_loader.get('dataset.data_type')}\")\n",
    "data_loader = DataHandler(config_loader)\n",
    "data_loader.load_data()\n",
    "train_loader = data_loader.get_train_dataloader()\n",
    "val_loader = data_loader.get_val_dataloader(batch_size=4)"
   ]
  },
  {
   "cell_type": "code",
   "execution_count": 16,
   "id": "ac9b314b-42a6-4423-b1c1-119c449b2c1b",
   "metadata": {},
   "outputs": [],
   "source": [
    "val_loader = data_loader.get_test_dataloader(batch_size=1)"
   ]
  },
  {
   "cell_type": "code",
   "execution_count": 4,
   "id": "5cdf8dcb-e970-4175-9f96-c460f6c98cc6",
   "metadata": {},
   "outputs": [
    {
     "data": {
      "text/plain": [
       "BCEWithLogitsLoss()"
      ]
     },
     "execution_count": 4,
     "metadata": {},
     "output_type": "execute_result"
    }
   ],
   "source": [
    "def mlp(output_size):\n",
    "    return lambda: MLP(in_channels=-1, hidden_channels=128,  # Increased size\n",
    "                       out_channels=output_size, num_layers=6, norm='batch_norm', act=ReLU())  \n",
    "\n",
    "NN =mlp(1)()\n",
    "\n",
    "criterionBCE_PV = nn.BCEWithLogitsLoss() #pos_weight=pos_weight) \n",
    "#criterionBCE_PV = nn.BCEWithLogitsLoss()\n",
    "#criterionBCE_PV = nn.BCELoss(weight=pos_weight) \n",
    "criterionBCE_PV.cuda()\n"
   ]
  },
  {
   "cell_type": "code",
   "execution_count": 5,
   "id": "7f735cd5-0ef9-4df1-a770-0b42fc9ae14c",
   "metadata": {},
   "outputs": [
    {
     "name": "stdout",
     "output_type": "stream",
     "text": [
      "Epoch  0\n",
      "Train Acc  0.9635868072509766\n",
      "Train Loss  0.09787874209265957\n",
      "Val Acc  0.9709593653678894\n",
      "Val Loss  0.08204033757752642\n",
      "Epoch  1\n",
      "Train Acc  0.9775792956352234\n",
      "Train Loss  0.06265948258082402\n",
      "Val Acc  0.9756284356117249\n",
      "Val Loss  0.06842774219393473\n",
      "Epoch  2\n",
      "Train Acc  0.9790926575660706\n",
      "Train Loss  0.05692266828114083\n",
      "Val Acc  0.9778027534484863\n",
      "Val Loss  0.06061638444742381\n",
      "Epoch  3\n",
      "Train Acc  0.9798160791397095\n",
      "Train Loss  0.05426189768286303\n",
      "Val Acc  0.9787959456443787\n",
      "Val Loss  0.05748888306512401\n",
      "Epoch  4\n",
      "Train Acc  0.980305016040802\n",
      "Train Loss  0.05232563871293687\n",
      "Val Acc  0.9795210361480713\n",
      "Val Loss  0.05493134787579163\n",
      "Epoch  5\n",
      "Train Acc  0.9806844592094421\n",
      "Train Loss  0.05094296158025334\n",
      "Val Acc  0.979909360408783\n",
      "Val Loss  0.05340977521324209\n",
      "Epoch  6\n",
      "Train Acc  0.9809280633926392\n",
      "Train Loss  0.04999209263899967\n",
      "Val Acc  0.9804187417030334\n",
      "Val Loss  0.05169409666740304\n",
      "Epoch  7\n",
      "Train Acc  0.9810318946838379\n",
      "Train Loss  0.04937823327632719\n",
      "Val Acc  0.980819821357727\n",
      "Val Loss  0.05046111542876039\n",
      "Epoch  8\n",
      "Train Acc  0.9812995195388794\n",
      "Train Loss  0.04846111914257237\n",
      "Val Acc  0.9809715747833252\n",
      "Val Loss  0.049872185716983576\n",
      "Epoch  9\n",
      "Train Acc  0.9814508557319641\n",
      "Train Loss  0.047883073030532575\n",
      "Val Acc  0.9812405109405518\n",
      "Val Loss  0.04900531942137228\n"
     ]
    }
   ],
   "source": [
    "\n",
    "optimizer = torch.optim.Adam(NN.parameters(), lr=0.001)\n",
    "\n",
    "\n",
    "NN.cuda()\n",
    "sig = nn.Sigmoid()\n",
    "\n",
    "val_acc = []\n",
    "train_acc = []\n",
    "val_loss = []\n",
    "train_loss = []\n",
    "for epoch in range(0,10):\n",
    "    running_loss = 0.\n",
    "    vl_running_loss = 0.\n",
    "    PV_acc_one_epoch = []\n",
    "    vl_PV_acc_one_epoch=[]\n",
    "\n",
    "    print(\"Epoch \",epoch )\n",
    "    for i, data in enumerate(train_loader): \n",
    "\n",
    "        \n",
    "        optimizer.zero_grad()\n",
    "        data.to('cuda')\n",
    "        #data['tracks'].x[data[('tracks','to','PVs')]\n",
    "        #data['tracks'].x = torch.hstack( [ data['tracks'].x[:,:6] , data['tracks'].x[:,9:10] ] )\n",
    "        X=torch.concat([data['tracks'].x[data[('tracks','to','pvs')].edge_index[0]],\n",
    "                        data['pvs'].x[data[('tracks','to','pvs')].edge_index[1]],\n",
    "                        data[('tracks','to','pvs')].edges], -1)\n",
    "        \n",
    "        outputs = NN(X)\n",
    "        PVlabel = data[('tracks', 'to', 'pvs')].y.to('cuda', dtype=torch.float32)\n",
    "        loss = criterionBCE_PV(outputs, PVlabel)\n",
    "        running_loss += loss.item()   \n",
    "        loss.backward()\n",
    "        optimizer.step()\n",
    "        PV_acc_one_batch =  torch.sum(PVlabel == ( sig(outputs) > 0.5) )/ PVlabel.shape[0]\n",
    "        PV_acc_one_epoch.append(PV_acc_one_batch)  \n",
    "\n",
    "    for i, data in enumerate(val_loader): \n",
    "        optimizer.zero_grad()\n",
    "        data.to('cuda')\n",
    "        #data['tracks'].x = torch.hstack( [ data['tracks'].x[:,:6] , data['tracks'].x[:,9:10] ] )\n",
    "        X=torch.concat([data['tracks'].x[data[('tracks','to','pvs')].edge_index[0]],\n",
    "                        data['pvs'].x[data[('tracks','to','pvs')].edge_index[1]],\n",
    "                        data[('tracks','to','pvs')].edges], -1)\n",
    "        \n",
    "        outputs = NN(X)\n",
    "        PVlabel = data[('tracks', 'to', 'pvs')].y.to('cuda', dtype=torch.float32)\n",
    "        loss = criterionBCE_PV(outputs, PVlabel)\n",
    "        vl_running_loss += loss.item()   \n",
    "        loss.backward()\n",
    "        optimizer.step()\n",
    "        PV_acc_one_batch =  torch.sum(PVlabel == ( sig(outputs) > 0.5) )/ PVlabel.shape[0]\n",
    "        vl_PV_acc_one_epoch.append(PV_acc_one_batch)  \n",
    "\n",
    "    PV_acc_one_epoch=torch.stack(PV_acc_one_epoch)\n",
    "    vl_PV_acc_one_epoch=torch.stack(vl_PV_acc_one_epoch)\n",
    "    #print(PV_acc_one_epoch)\n",
    "    # print(\"Global Train Acc \", global_acc)\n",
    "    print(\"Train Acc \", PV_acc_one_epoch.nanmean(dim=0).item())\n",
    "    print(\"Train Loss \",running_loss/len(train_loader))\n",
    "    print(\"Val Acc \", vl_PV_acc_one_epoch.nanmean(dim=0).item())\n",
    "    print(\"Val Loss \",vl_running_loss/len(val_loader))\n",
    "    train_loss.append(running_loss/len(train_loader))\n",
    "    val_loss.append(vl_running_loss/len(val_loader))\n",
    "    train_acc.append(PV_acc_one_epoch.nanmean(dim=0).item())\n",
    "    val_acc.append( vl_PV_acc_one_epoch.nanmean(dim=0).item())"
   ]
  },
  {
   "cell_type": "code",
   "execution_count": 6,
   "id": "30fd56b3-fe71-4dcc-b6cc-8d090e268bee",
   "metadata": {},
   "outputs": [
    {
     "name": "stdout",
     "output_type": "stream",
     "text": [
      "Epoch  10\n",
      "Train Acc  0.9819509983062744\n",
      "Train Loss  0.04610251994717939\n",
      "Val Acc  0.9822982549667358\n",
      "Val Loss  0.04543734135965271\n",
      "Epoch  11\n",
      "Train Acc  0.9821089506149292\n",
      "Train Loss  0.04563650978443642\n",
      "Val Acc  0.9823743104934692\n",
      "Val Loss  0.04516797091065232\n"
     ]
    }
   ],
   "source": [
    "\n",
    "optimizer = torch.optim.Adam(NN.parameters(), lr=0.0001)\n",
    "\n",
    "for epoch in range(10,12):\n",
    "    running_loss = 0.\n",
    "    vl_running_loss = 0.\n",
    "    PV_acc_one_epoch = []\n",
    "    vl_PV_acc_one_epoch=[]\n",
    "\n",
    "    print(\"Epoch \",epoch )\n",
    "    for i, data in enumerate(train_loader): \n",
    "\n",
    "        \n",
    "        optimizer.zero_grad()\n",
    "        data.to('cuda')\n",
    "        #data['tracks'].x[data[('tracks','to','PVs')]\n",
    "        # data['tracks'].x = torch.hstack( [ data['tracks'].x[:,:6] , data['tracks'].x[:,9:10] ] )\n",
    "        X=torch.concat([data['tracks'].x[data[('tracks','to','pvs')].edge_index[0]],\n",
    "                        data['pvs'].x[data[('tracks','to','pvs')].edge_index[1]],\n",
    "                        data[('tracks','to','pvs')].edges], -1)\n",
    "        \n",
    "        outputs = NN(X)\n",
    "        PVlabel = data[('tracks', 'to', 'pvs')].y.to('cuda', dtype=torch.float32)\n",
    "        loss = criterionBCE_PV(outputs, PVlabel)\n",
    "        running_loss += loss.item()   \n",
    "        loss.backward()\n",
    "        optimizer.step()\n",
    "        PV_acc_one_batch =  torch.sum(PVlabel == ( sig(outputs) > 0.5) )/ PVlabel.shape[0]\n",
    "        PV_acc_one_epoch.append(PV_acc_one_batch)  \n",
    "\n",
    "    for i, data in enumerate(val_loader): \n",
    "        optimizer.zero_grad()\n",
    "        data.to('cuda')\n",
    "        #data['tracks'].x = torch.hstack( [ data['tracks'].x[:,:6] , data['tracks'].x[:,9:10] ] )\n",
    "        X=torch.concat([data['tracks'].x[data[('tracks','to','pvs')].edge_index[0]],\n",
    "                        data['pvs'].x[data[('tracks','to','pvs')].edge_index[1]],\n",
    "                        data[('tracks','to','pvs')].edges], -1)\n",
    "        \n",
    "        outputs = NN(X)\n",
    "        PVlabel = data[('tracks', 'to', 'pvs')].y.to('cuda', dtype=torch.float32)\n",
    "        loss = criterionBCE_PV(outputs, PVlabel)\n",
    "        vl_running_loss += loss.item()   \n",
    "        loss.backward()\n",
    "        optimizer.step()\n",
    "        PV_acc_one_batch =  torch.sum(PVlabel == ( sig(outputs) > 0.5) )/ PVlabel.shape[0]\n",
    "        vl_PV_acc_one_epoch.append(PV_acc_one_batch)  \n",
    "\n",
    "    PV_acc_one_epoch=torch.stack(PV_acc_one_epoch)\n",
    "    vl_PV_acc_one_epoch=torch.stack(vl_PV_acc_one_epoch)\n",
    "    #print(PV_acc_one_epoch)\n",
    "    # print(\"Global Train Acc \", global_acc)\n",
    "    print(\"Train Acc \", PV_acc_one_epoch.nanmean(dim=0).item())\n",
    "    print(\"Train Loss \",running_loss/len(train_loader))\n",
    "    print(\"Val Acc \", vl_PV_acc_one_epoch.nanmean(dim=0).item())\n",
    "    print(\"Val Loss \",vl_running_loss/len(val_loader))\n",
    "    train_loss.append(running_loss/len(train_loader))\n",
    "    val_loss.append(vl_running_loss/len(val_loader))\n",
    "    train_acc.append(PV_acc_one_epoch.nanmean(dim=0).item())\n",
    "    val_acc.append( vl_PV_acc_one_epoch.nanmean(dim=0).item())"
   ]
  },
  {
   "cell_type": "code",
   "execution_count": 8,
   "id": "acb5a93e-7f32-4ec5-a9ef-2cd077b1c162",
   "metadata": {},
   "outputs": [],
   "source": [
    "import pandas"
   ]
  },
  {
   "cell_type": "code",
   "execution_count": 9,
   "id": "5688451e-8dde-4b96-a835-b47b6c08da5f",
   "metadata": {},
   "outputs": [],
   "source": [
    "df=pandas.DataFrame( data= {\"train_loss\" : train_loss, 'train_acc' :train_acc, \"val_loss\" : val_loss, 'val_acc' :val_acc})"
   ]
  },
  {
   "cell_type": "code",
   "execution_count": 10,
   "id": "813a1583-dff8-4dba-ac6b-3d7a7d614968",
   "metadata": {},
   "outputs": [],
   "source": [
    "df.to_csv(\"pv_mlp_training.csv\")"
   ]
  },
  {
   "cell_type": "code",
   "execution_count": 11,
   "id": "b3bf6029-2a0c-4835-9287-0a8ddf51a562",
   "metadata": {},
   "outputs": [],
   "source": [
    "import pandas"
   ]
  },
  {
   "cell_type": "code",
   "execution_count": null,
   "id": "bf3bbc07-38ce-44f9-b757-e2fdceb34eb5",
   "metadata": {},
   "outputs": [],
   "source": [
    "df = pandas.read_csv(\"../bn_trainings/Final_full_graph_hetero_8block_10_pv_task.csv\")"
   ]
  },
  {
   "cell_type": "code",
   "execution_count": 12,
   "id": "f6c065fa-d168-45e6-b2a1-6179717de6d9",
   "metadata": {},
   "outputs": [],
   "source": [
    "torch.save(NN.state_dict(), 'MLP_pvs.pt')"
   ]
  },
  {
   "cell_type": "code",
   "execution_count": 7,
   "id": "ceb1319b-b754-448a-b587-9679319d2762",
   "metadata": {},
   "outputs": [
    {
     "ename": "NameError",
     "evalue": "name 'df' is not defined",
     "output_type": "error",
     "traceback": [
      "\u001b[0;31m---------------------------------------------------------------------------\u001b[0m",
      "\u001b[0;31mNameError\u001b[0m                                 Traceback (most recent call last)",
      "Cell \u001b[0;32mIn[7], line 1\u001b[0m\n\u001b[0;32m----> 1\u001b[0m df\n",
      "\u001b[0;31mNameError\u001b[0m: name 'df' is not defined"
     ]
    }
   ],
   "source": [
    "df"
   ]
  },
  {
   "cell_type": "code",
   "execution_count": 11,
   "id": "7552e4d2-0b6e-4979-9a8f-4d1e7c70f497",
   "metadata": {},
   "outputs": [
    {
     "data": {
      "text/plain": [
       "HeteroDataBatch(\n",
       "  tracks={\n",
       "    x=[3082, 7],\n",
       "    batch=[3082],\n",
       "    ptr=[33],\n",
       "  },\n",
       "  pvs={\n",
       "    x=[172, 3],\n",
       "    batch=[172],\n",
       "    ptr=[33],\n",
       "  },\n",
       "  globals={\n",
       "    x=[32, 2],\n",
       "    batch=[32],\n",
       "    ptr=[33],\n",
       "  },\n",
       "  (tracks, to, pvs)={\n",
       "    edge_index=[2, 17248],\n",
       "    y=[17248, 1],\n",
       "    edges=[17248, 1],\n",
       "  },\n",
       "  (tracks, to, tracks)={\n",
       "    edge_index=[2, 118988],\n",
       "    y=[118988, 4],\n",
       "    edges=[118988, 4],\n",
       "  },\n",
       "  (tracks, to, PVs)={}\n",
       ")"
      ]
     },
     "execution_count": 11,
     "metadata": {},
     "output_type": "execute_result"
    }
   ],
   "source": [
    "data"
   ]
  },
  {
   "cell_type": "code",
   "execution_count": 23,
   "id": "d9b5a8a0-fbfd-4d76-a639-64004d733572",
   "metadata": {},
   "outputs": [],
   "source": [
    "for i, data in enumerate(train_loader): \n",
    "\n",
    "    \n",
    "    optimizer.zero_grad()\n",
    "    data.to('cuda')\n",
    "    break"
   ]
  },
  {
   "cell_type": "code",
   "execution_count": 24,
   "id": "8ab81920-3706-47b3-b92f-29db9fc8bb5c",
   "metadata": {},
   "outputs": [
    {
     "data": {
      "text/plain": [
       "HeteroDataBatch(\n",
       "  tracks={\n",
       "    x=[1087, 7],\n",
       "    batch=[1087],\n",
       "    ptr=[9],\n",
       "  },\n",
       "  pvs={\n",
       "    x=[34, 3],\n",
       "    batch=[34],\n",
       "    ptr=[9],\n",
       "  },\n",
       "  globals={\n",
       "    x=[8, 2],\n",
       "    batch=[8],\n",
       "    ptr=[9],\n",
       "  },\n",
       "  (tracks, to, pvs)={\n",
       "    edge_index=[2, 5194],\n",
       "    y=[5194, 1],\n",
       "    edges=[5194, 1],\n",
       "  },\n",
       "  (tracks, to, tracks)={\n",
       "    edge_index=[2, 150894],\n",
       "    y=[150894, 4],\n",
       "    edges=[150894, 4],\n",
       "  }\n",
       ")"
      ]
     },
     "execution_count": 24,
     "metadata": {},
     "output_type": "execute_result"
    }
   ],
   "source": [
    "data"
   ]
  },
  {
   "cell_type": "code",
   "execution_count": 26,
   "id": "dfc59648-b729-4ee7-af9e-491614728b6e",
   "metadata": {},
   "outputs": [
    {
     "data": {
      "text/plain": [
       "torch.Size([1087, 6])"
      ]
     },
     "execution_count": 26,
     "metadata": {},
     "output_type": "execute_result"
    }
   ],
   "source": [
    "torch.hstack( [ data['tracks'].x[:,:6] , data['tracks'].x[:,9:10] ] ).shape"
   ]
  },
  {
   "cell_type": "code",
   "execution_count": 81,
   "id": "39b7df71-e7d9-468c-afa4-3a0565f0e52a",
   "metadata": {},
   "outputs": [
    {
     "data": {
      "text/plain": [
       "MLP(-1, 128, 128, 128, 128, 128, 1)"
      ]
     },
     "execution_count": 81,
     "metadata": {},
     "output_type": "execute_result"
    }
   ],
   "source": [
    "\n",
    "NN.load_state_dict(torch.load('MLP_pvs.pt', weights_only=True))\n",
    "NN.eval()"
   ]
  },
  {
   "cell_type": "code",
   "execution_count": 82,
   "id": "3b1219b5-0c36-479a-bcf2-240106f89a26",
   "metadata": {},
   "outputs": [
    {
     "data": {
      "text/plain": [
       "<torch_geometric.loader.dataloader.DataLoader at 0x773d357a1ad0>"
      ]
     },
     "execution_count": 82,
     "metadata": {},
     "output_type": "execute_result"
    }
   ],
   "source": [
    "val_loader"
   ]
  },
  {
   "cell_type": "code",
   "execution_count": 83,
   "id": "abe6a422-e6fb-4338-8bfb-dcf9a4edca76",
   "metadata": {},
   "outputs": [
    {
     "data": {
      "text/plain": [
       "MLP(-1, 128, 128, 128, 128, 128, 1)"
      ]
     },
     "execution_count": 83,
     "metadata": {},
     "output_type": "execute_result"
    }
   ],
   "source": [
    "NN.cuda()"
   ]
  },
  {
   "cell_type": "code",
   "execution_count": 12,
   "id": "80cce78f-375b-48c1-8afc-b9c071daf311",
   "metadata": {},
   "outputs": [
    {
     "name": "stderr",
     "output_type": "stream",
     "text": [
      "/tmp/ipykernel_5923/1235606826.py:17: UserWarning: To copy construct from a tensor, it is recommended to use sourceTensor.clone().detach() or sourceTensor.clone().detach().requires_grad_(True), rather than torch.tensor(sourceTensor).\n",
      "  PVlabel = torch.tensor(data[('tracks', 'to', 'pvs')].y, dtype=torch.float32)\n"
     ]
    }
   ],
   "source": [
    "#def evaluate_pv_association(self, batch_size=8, b_tracks=True):\n",
    "#self.dataset = self.data_loader.get_test_dataloader(batch_size=batch_size)\n",
    "running_acc = 0\n",
    "npvs = []\n",
    "associated = []\n",
    "b_tracks=False\n",
    "for i, data in enumerate(val_loader):\n",
    "    data.to('cuda')\n",
    "\n",
    "    #outputs = self.model(data)\n",
    "    #data = outputs\n",
    "    X=torch.concat([data['tracks'].x[data[('tracks','to','pvs')].edge_index[0]],\n",
    "                    data['pvs'].x[data[('tracks','to','pvs')].edge_index[1]],\n",
    "                    data[('tracks','to','pvs')].edges], -1)\n",
    "    \n",
    "    outputs = NN(X)\n",
    "    PVlabel = torch.tensor(data[('tracks', 'to', 'pvs')].y, dtype=torch.float32)\n",
    "\n",
    "    if b_tracks:\n",
    "        tracks = data[('tracks', 'to', 'tracks')].edge_index[0][data[('tracks', 'to', 'tracks')].y[:, 0] == 0]\n",
    "    else:\n",
    "        tracks = data[('tracks', 'to', 'tracks')].edge_index[0]\n",
    "    unique_tracks = torch.unique(tracks)\n",
    "    correctly_associated = 0\n",
    "\n",
    "    for i in unique_tracks:\n",
    "        index = (data[('tracks', 'to', 'pvs')].edge_index[0] == i)\n",
    "        pv_associated = (torch.argmax(\n",
    "            outputs[index]) == torch.argmax(\n",
    "            data[('tracks', 'to', 'pvs')].y[index]))\n",
    "        correctly_associated += int(pv_associated.item())\n",
    "        npvs.append(data['pvs'].x.shape[0])\n",
    "        associated.append( int(pv_associated.item()))\n",
    "    running_acc += correctly_associated / unique_tracks.shape[0]\n",
    "acc = running_acc / len(val_loader)\n"
   ]
  },
  {
   "cell_type": "code",
   "execution_count": 13,
   "id": "b0c30045-5156-4ab0-8e62-2339473fc2f9",
   "metadata": {},
   "outputs": [
    {
     "data": {
      "text/plain": [
       "0.9616826526798637"
      ]
     },
     "execution_count": 13,
     "metadata": {},
     "output_type": "execute_result"
    }
   ],
   "source": [
    "acc"
   ]
  },
  {
   "cell_type": "code",
   "execution_count": 11,
   "id": "fe036cfb-f16c-4ce3-a11f-518c2243e262",
   "metadata": {},
   "outputs": [
    {
     "data": {
      "text/plain": [
       "0.8990567300057899"
      ]
     },
     "execution_count": 11,
     "metadata": {},
     "output_type": "execute_result"
    }
   ],
   "source": [
    "acc"
   ]
  },
  {
   "cell_type": "code",
   "execution_count": 17,
   "id": "7e2ed2a5-27f5-45a5-846f-cdf6a01dacc5",
   "metadata": {},
   "outputs": [
    {
     "name": "stderr",
     "output_type": "stream",
     "text": [
      "/tmp/ipykernel_7705/2082784988.py:18: UserWarning: To copy construct from a tensor, it is recommended to use sourceTensor.clone().detach() or sourceTensor.clone().detach().requires_grad_(True), rather than torch.tensor(sourceTensor).\n",
      "  PVlabel = torch.tensor(data[('tracks', 'to', 'pvs')].y, dtype=torch.float32)\n"
     ]
    }
   ],
   "source": [
    "running_acc = 0\n",
    "npvs = []\n",
    "associated = []\n",
    "running_num = 0\n",
    "running_denom = 0\n",
    "b_tracks=True\n",
    "for i, data in enumerate(val_loader):\n",
    "    data.to('cuda')\n",
    "\n",
    "    #outputs = self.model(data)\n",
    "    #data = outputs\n",
    "    # X=torch.concat([data['tracks'].x[data[('tracks','to','pvs')].edge_index[0]],\n",
    "    #                 data['pvs'].x[data[('tracks','to','pvs')].edge_index[1]],\n",
    "    #                 data[('tracks','to','pvs')].edges], -1)\n",
    "    \n",
    "    #outputs = NN(X)\n",
    "    outputs = data[('tracks','to','pvs')].edges\n",
    "    PVlabel = torch.tensor(data[('tracks', 'to', 'pvs')].y, dtype=torch.float32)\n",
    "\n",
    "    if b_tracks:\n",
    "        tracks = data[('tracks', 'to', 'tracks')].edge_index[0][data[('tracks', 'to', 'tracks')].y[:, 0] == 0]\n",
    "    else:\n",
    "        tracks = data[('tracks', 'to', 'tracks')].edge_index[0]\n",
    "    unique_tracks = torch.unique(tracks)\n",
    "    correctly_associated = 0\n",
    "\n",
    "    for i in unique_tracks:\n",
    "        index = (data[('tracks', 'to', 'pvs')].edge_index[0] == i)\n",
    "        pv_associated = (torch.argmin(\n",
    "            outputs[index]) == torch.argmax(\n",
    "            data[('tracks', 'to', 'pvs')].y[index]))\n",
    "        correctly_associated += int(pv_associated.item())\n",
    "        npvs.append(data['pvs'].x.shape[0])\n",
    "        associated.append( int(pv_associated.item()))\n",
    "    running_acc += correctly_associated / unique_tracks.shape[0]\n",
    "    running_num += correctly_associated \n",
    "    running_denom += unique_tracks.shape[0]\n",
    "acc = running_num / running_denom\n",
    "#acc = running_acc / len(val_loader)"
   ]
  },
  {
   "cell_type": "code",
   "execution_count": 16,
   "id": "fdf41c4b-9e46-4f87-adf6-0fb850dc1fc8",
   "metadata": {},
   "outputs": [
    {
     "data": {
      "text/plain": [
       "0.9527223204017804"
      ]
     },
     "execution_count": 16,
     "metadata": {},
     "output_type": "execute_result"
    }
   ],
   "source": [
    "acc"
   ]
  },
  {
   "cell_type": "code",
   "execution_count": 18,
   "id": "4f47f79a-29f6-4242-82f9-61e1919f42b8",
   "metadata": {},
   "outputs": [
    {
     "data": {
      "text/plain": [
       "0.8795470410300162"
      ]
     },
     "execution_count": 18,
     "metadata": {},
     "output_type": "execute_result"
    }
   ],
   "source": [
    "acc"
   ]
  },
  {
   "cell_type": "code",
   "execution_count": 17,
   "id": "636c63c4-6903-4fe7-8ba8-a630cd072b1a",
   "metadata": {},
   "outputs": [],
   "source": [
    "from wmpgnn.model.gnn_model import GNN\n",
    "from wmpgnn.model.model_loader import ModelLoader\n",
    "from wmpgnn.configs.config_loader import ConfigLoader\n",
    "from wmpgnn.datasets.data_handler import DataHandler\n",
    "# Load the configuration\n",
    "config_loader = ConfigLoader(\"config_files/heteromp_gnn.yaml\", environment_prefix=\"DL\")"
   ]
  },
  {
   "cell_type": "code",
   "execution_count": 18,
   "id": "fcb5d5c8-ccb1-402d-ad1b-12d5c8809b17",
   "metadata": {},
   "outputs": [],
   "source": [
    "model_loader = ModelLoader(config_loader)\n",
    "model = model_loader.get_model()"
   ]
  },
  {
   "cell_type": "code",
   "execution_count": 19,
   "id": "e69ccf89-be7e-4c5f-a350-9160cdf7b1bf",
   "metadata": {},
   "outputs": [
    {
     "name": "stderr",
     "output_type": "stream",
     "text": [
      "/tmp/ipykernel_58616/312718684.py:8: FutureWarning: You are using `torch.load` with `weights_only=False` (the current default value), which uses the default pickle module implicitly. It is possible to construct malicious pickle data which will execute arbitrary code during unpickling (See https://github.com/pytorch/pytorch/blob/main/SECURITY.md#untrusted-models for more details). In a future release, the default value for `weights_only` will be flipped to `True`. This limits the functions that could be executed during unpickling. Arbitrary objects will no longer be allowed to be loaded via this mode unless they are explicitly allowlisted by the user via `torch.serialization.add_safe_globals`. We recommend you start setting `weights_only=True` for any use case where you don't have full control of the loaded file. Please open an issue on GitHub for any issues related to this experimental feature.\n",
      "  model.load_state_dict(torch.load(\"../bn_trainings/Final_full_graph_hetero_8block_36_epochs_message_passing_BCE_batch_norm_4mlp_layers.pt\"))\n"
     ]
    },
    {
     "data": {
      "text/plain": [
       "HeteroGNN(\n",
       "  (_encoder): HeteroGraphCoder(\n",
       "    (_global_model): WrappedModelFnModule(\n",
       "      (_model): MLP(-1, 128, 128, 128, 16)\n",
       "    )\n",
       "    (_edge_models_model_dict): ModuleDict(\n",
       "      (('tracks', 'to', 'tracks')): WrappedModelFnModule(\n",
       "        (_model): MLP(-1, 128, 128, 128, 16)\n",
       "      )\n",
       "      (('tracks', 'to', 'pvs')): WrappedModelFnModule(\n",
       "        (_model): MLP(-1, 128, 128, 128, 16)\n",
       "      )\n",
       "    )\n",
       "    (_node_models_model_dict): ModuleDict(\n",
       "      (tracks): WrappedModelFnModule(\n",
       "        (_model): MLP(-1, 128, 128, 128, 16)\n",
       "      )\n",
       "      (pvs): WrappedModelFnModule(\n",
       "        (_model): MLP(-1, 128, 128, 128, 16)\n",
       "      )\n",
       "    )\n",
       "  )\n",
       "  (_blocks): ModuleList(\n",
       "    (0-7): 8 x HeteroGraphNetwork(\n",
       "      (_edge_block): HeteroEdgeBlock(\n",
       "        (_edge_models_model_dict): ModuleDict(\n",
       "          (('tracks', 'to', 'tracks')): MLP(-1, 128, 128, 128, 16)\n",
       "          (('tracks', 'to', 'pvs')): MLP(-1, 128, 128, 128, 16)\n",
       "        )\n",
       "      )\n",
       "      (_node_block): HeteroNodeBlock(\n",
       "        (_received_edges_aggregator): HeteroEdgesToNodesAggregator()\n",
       "        (_sent_edges_aggregator): HeteroEdgesToNodesAggregator()\n",
       "        (_node_models_model_dict): ModuleDict(\n",
       "          (tracks): MLP(-1, 128, 128, 128, 16)\n",
       "          (pvs): MLP(-1, 128, 128, 128, 16)\n",
       "        )\n",
       "      )\n",
       "      (_global_block): HeteroGlobalBlock(\n",
       "        (_global_model): MLP(-1, 128, 128, 128, 16)\n",
       "        (_edges_aggregator): HeteroEdgesToGlobalsAggregator()\n",
       "        (_nodes_aggregator): HeteroNodesToGlobalsAggregator()\n",
       "      )\n",
       "      (_edge_models_model_dict): ModuleDict(\n",
       "        (('tracks', 'to', 'tracks')): MLP(-1, 16, 16, 16, 1)\n",
       "        (('tracks', 'to', 'pvs')): MLP(-1, 16, 16, 16, 1)\n",
       "      )\n",
       "      (_node_models_model_dict): ModuleDict(\n",
       "        (tracks): MLP(-1, 16, 16, 16, 1)\n",
       "      )\n",
       "      (_sigmoid): Sigmoid()\n",
       "    )\n",
       "  )\n",
       "  (_decoder): HeteroGraphCoder(\n",
       "    (_global_model): WrappedModelFnModule(\n",
       "      (_model): MLP(-1, 128, 128, 128, 16)\n",
       "    )\n",
       "    (_edge_models_model_dict): ModuleDict(\n",
       "      (('tracks', 'to', 'tracks')): WrappedModelFnModule(\n",
       "        (_model): MLP(-1, 128, 128, 128, 16)\n",
       "      )\n",
       "      (('tracks', 'to', 'pvs')): WrappedModelFnModule(\n",
       "        (_model): MLP(-1, 128, 128, 128, 16)\n",
       "      )\n",
       "    )\n",
       "    (_node_models_model_dict): ModuleDict(\n",
       "      (tracks): WrappedModelFnModule(\n",
       "        (_model): MLP(-1, 128, 128, 128, 16)\n",
       "      )\n",
       "      (pvs): WrappedModelFnModule(\n",
       "        (_model): MLP(-1, 128, 128, 128, 16)\n",
       "      )\n",
       "    )\n",
       "  )\n",
       "  (_output_transform): HeteroGraphCoder(\n",
       "    (_edge_models_model_dict): ModuleDict(\n",
       "      (('tracks', 'to', 'tracks')): WrappedModelFnModule(\n",
       "        (_model): Linear(in_features=16, out_features=4, bias=True)\n",
       "      )\n",
       "      (('tracks', 'to', 'pvs')): WrappedModelFnModule(\n",
       "        (_model): Linear(in_features=16, out_features=1, bias=True)\n",
       "      )\n",
       "    )\n",
       "    (_node_models_model_dict): ModuleDict(\n",
       "      (tracks): WrappedModelFnModule()\n",
       "      (pvs): WrappedModelFnModule()\n",
       "    )\n",
       "  )\n",
       ")"
      ]
     },
     "execution_count": 19,
     "metadata": {},
     "output_type": "execute_result"
    }
   ],
   "source": [
    "# model.load_state_dict(torch.load(\"../bn_trainings/Final_full_graph_hetero_8block_10_pv_task.pt\"))\n",
    "# model.eval()\n",
    "\n",
    "# model.load_state_dict(torch.load(\"../bn_trainings/Final_full_graph_hetero_8block_10_pv_task_with_track_edges.pt\"))\n",
    "# model.eval()\n",
    "#Final_full_graph_hetero_8block_10_pv_task_with_track_edges.pt\n",
    "\n",
    "model.load_state_dict(torch.load(\"../bn_trainings/Final_full_graph_hetero_8block_36_epochs_message_passing_BCE_batch_norm_4mlp_layers.pt\"))\n",
    "model.eval()"
   ]
  },
  {
   "cell_type": "code",
   "execution_count": 10,
   "id": "d8145226-7889-411f-8010-f40789cc4390",
   "metadata": {},
   "outputs": [
    {
     "data": {
      "text/plain": [
       "HeteroGNN(\n",
       "  (_encoder): HeteroGraphCoder(\n",
       "    (_global_model): WrappedModelFnModule(\n",
       "      (_model): MLP(-1, 128, 128, 128, 16)\n",
       "    )\n",
       "    (_edge_models_model_dict): ModuleDict(\n",
       "      (('tracks', 'to', 'tracks')): WrappedModelFnModule(\n",
       "        (_model): MLP(-1, 128, 128, 128, 16)\n",
       "      )\n",
       "      (('tracks', 'to', 'pvs')): WrappedModelFnModule(\n",
       "        (_model): MLP(-1, 128, 128, 128, 16)\n",
       "      )\n",
       "    )\n",
       "    (_node_models_model_dict): ModuleDict(\n",
       "      (tracks): WrappedModelFnModule(\n",
       "        (_model): MLP(-1, 128, 128, 128, 16)\n",
       "      )\n",
       "      (pvs): WrappedModelFnModule(\n",
       "        (_model): MLP(-1, 128, 128, 128, 16)\n",
       "      )\n",
       "    )\n",
       "  )\n",
       "  (_blocks): ModuleList(\n",
       "    (0-7): 8 x HeteroGraphNetwork(\n",
       "      (_edge_block): HeteroEdgeBlock(\n",
       "        (_edge_models_model_dict): ModuleDict(\n",
       "          (('tracks', 'to', 'tracks')): MLP(-1, 128, 128, 128, 16)\n",
       "          (('tracks', 'to', 'pvs')): MLP(-1, 128, 128, 128, 16)\n",
       "        )\n",
       "      )\n",
       "      (_node_block): HeteroNodeBlock(\n",
       "        (_received_edges_aggregator): HeteroEdgesToNodesAggregator()\n",
       "        (_sent_edges_aggregator): HeteroEdgesToNodesAggregator()\n",
       "        (_node_models_model_dict): ModuleDict(\n",
       "          (tracks): MLP(-1, 128, 128, 128, 16)\n",
       "          (pvs): MLP(-1, 128, 128, 128, 16)\n",
       "        )\n",
       "      )\n",
       "      (_global_block): HeteroGlobalBlock(\n",
       "        (_global_model): MLP(-1, 128, 128, 128, 16)\n",
       "        (_edges_aggregator): HeteroEdgesToGlobalsAggregator()\n",
       "        (_nodes_aggregator): HeteroNodesToGlobalsAggregator()\n",
       "      )\n",
       "      (_edge_models_model_dict): ModuleDict(\n",
       "        (('tracks', 'to', 'tracks')): MLP(-1, 16, 16, 16, 1)\n",
       "        (('tracks', 'to', 'pvs')): MLP(-1, 16, 16, 16, 1)\n",
       "      )\n",
       "      (_node_models_model_dict): ModuleDict(\n",
       "        (tracks): MLP(-1, 16, 16, 16, 1)\n",
       "      )\n",
       "      (_sigmoid): Sigmoid()\n",
       "    )\n",
       "  )\n",
       "  (_decoder): HeteroGraphCoder(\n",
       "    (_global_model): WrappedModelFnModule(\n",
       "      (_model): MLP(-1, 128, 128, 128, 16)\n",
       "    )\n",
       "    (_edge_models_model_dict): ModuleDict(\n",
       "      (('tracks', 'to', 'tracks')): WrappedModelFnModule(\n",
       "        (_model): MLP(-1, 128, 128, 128, 16)\n",
       "      )\n",
       "      (('tracks', 'to', 'pvs')): WrappedModelFnModule(\n",
       "        (_model): MLP(-1, 128, 128, 128, 16)\n",
       "      )\n",
       "    )\n",
       "    (_node_models_model_dict): ModuleDict(\n",
       "      (tracks): WrappedModelFnModule(\n",
       "        (_model): MLP(-1, 128, 128, 128, 16)\n",
       "      )\n",
       "      (pvs): WrappedModelFnModule(\n",
       "        (_model): MLP(-1, 128, 128, 128, 16)\n",
       "      )\n",
       "    )\n",
       "  )\n",
       "  (_output_transform): HeteroGraphCoder(\n",
       "    (_edge_models_model_dict): ModuleDict(\n",
       "      (('tracks', 'to', 'tracks')): WrappedModelFnModule(\n",
       "        (_model): Linear(in_features=16, out_features=4, bias=True)\n",
       "      )\n",
       "      (('tracks', 'to', 'pvs')): WrappedModelFnModule(\n",
       "        (_model): Linear(in_features=16, out_features=1, bias=True)\n",
       "      )\n",
       "    )\n",
       "    (_node_models_model_dict): ModuleDict(\n",
       "      (tracks): WrappedModelFnModule()\n",
       "      (pvs): WrappedModelFnModule()\n",
       "    )\n",
       "  )\n",
       ")"
      ]
     },
     "execution_count": 10,
     "metadata": {},
     "output_type": "execute_result"
    }
   ],
   "source": [
    "model.cuda()"
   ]
  },
  {
   "cell_type": "code",
   "execution_count": 38,
   "id": "87714ac7-ae7d-4746-8dd1-8b953aec95ec",
   "metadata": {},
   "outputs": [],
   "source": [
    "b_tracks=False"
   ]
  },
  {
   "cell_type": "code",
   "execution_count": 39,
   "id": "a4b23fd7-87ae-4668-9b32-f24171a6003a",
   "metadata": {},
   "outputs": [
    {
     "data": {
      "text/plain": [
       "10000"
      ]
     },
     "execution_count": 39,
     "metadata": {},
     "output_type": "execute_result"
    }
   ],
   "source": [
    "len(val_loader)"
   ]
  },
  {
   "cell_type": "code",
   "execution_count": 77,
   "id": "c18bbb67-daf6-4751-8573-2cbdd33a8686",
   "metadata": {},
   "outputs": [
    {
     "data": {
      "text/plain": [
       "True"
      ]
     },
     "execution_count": 77,
     "metadata": {},
     "output_type": "execute_result"
    }
   ],
   "source": [
    "b_tracks"
   ]
  },
  {
   "cell_type": "code",
   "execution_count": 76,
   "id": "ce160937-c3cc-4722-89b4-ac2562620d6d",
   "metadata": {},
   "outputs": [
    {
     "name": "stderr",
     "output_type": "stream",
     "text": [
      "/tmp/ipykernel_28741/2478245616.py:10: UserWarning: To copy construct from a tensor, it is recommended to use sourceTensor.clone().detach() or sourceTensor.clone().detach().requires_grad_(True), rather than torch.tensor(sourceTensor).\n",
      "  PVlabel = torch.tensor(data[('tracks', 'to', 'pvs')].y, dtype=torch.float32)\n"
     ]
    },
    {
     "ename": "KeyboardInterrupt",
     "evalue": "",
     "output_type": "error",
     "traceback": [
      "\u001b[0;31m---------------------------------------------------------------------------\u001b[0m",
      "\u001b[0;31mKeyboardInterrupt\u001b[0m                         Traceback (most recent call last)",
      "Cell \u001b[0;32mIn[76], line 8\u001b[0m\n\u001b[1;32m      5\u001b[0m \u001b[38;5;28;01mfor\u001b[39;00m i, data \u001b[38;5;129;01min\u001b[39;00m \u001b[38;5;28menumerate\u001b[39m(val_loader):\n\u001b[1;32m      6\u001b[0m     data\u001b[38;5;241m.\u001b[39mto(\u001b[38;5;124m'\u001b[39m\u001b[38;5;124mcuda\u001b[39m\u001b[38;5;124m'\u001b[39m)\n\u001b[0;32m----> 8\u001b[0m     outputs \u001b[38;5;241m=\u001b[39m model(data)\n\u001b[1;32m      9\u001b[0m     data \u001b[38;5;241m=\u001b[39m outputs\n\u001b[1;32m     10\u001b[0m     PVlabel \u001b[38;5;241m=\u001b[39m torch\u001b[38;5;241m.\u001b[39mtensor(data[(\u001b[38;5;124m'\u001b[39m\u001b[38;5;124mtracks\u001b[39m\u001b[38;5;124m'\u001b[39m, \u001b[38;5;124m'\u001b[39m\u001b[38;5;124mto\u001b[39m\u001b[38;5;124m'\u001b[39m, \u001b[38;5;124m'\u001b[39m\u001b[38;5;124mpvs\u001b[39m\u001b[38;5;124m'\u001b[39m)]\u001b[38;5;241m.\u001b[39my, dtype\u001b[38;5;241m=\u001b[39mtorch\u001b[38;5;241m.\u001b[39mfloat32)\n",
      "File \u001b[0;32m~/anaconda3/envs/dfei/lib/python3.11/site-packages/torch/nn/modules/module.py:1736\u001b[0m, in \u001b[0;36mModule._wrapped_call_impl\u001b[0;34m(self, *args, **kwargs)\u001b[0m\n\u001b[1;32m   1734\u001b[0m     \u001b[38;5;28;01mreturn\u001b[39;00m \u001b[38;5;28mself\u001b[39m\u001b[38;5;241m.\u001b[39m_compiled_call_impl(\u001b[38;5;241m*\u001b[39margs, \u001b[38;5;241m*\u001b[39m\u001b[38;5;241m*\u001b[39mkwargs)  \u001b[38;5;66;03m# type: ignore[misc]\u001b[39;00m\n\u001b[1;32m   1735\u001b[0m \u001b[38;5;28;01melse\u001b[39;00m:\n\u001b[0;32m-> 1736\u001b[0m     \u001b[38;5;28;01mreturn\u001b[39;00m \u001b[38;5;28mself\u001b[39m\u001b[38;5;241m.\u001b[39m_call_impl(\u001b[38;5;241m*\u001b[39margs, \u001b[38;5;241m*\u001b[39m\u001b[38;5;241m*\u001b[39mkwargs)\n",
      "File \u001b[0;32m~/anaconda3/envs/dfei/lib/python3.11/site-packages/torch/nn/modules/module.py:1747\u001b[0m, in \u001b[0;36mModule._call_impl\u001b[0;34m(self, *args, **kwargs)\u001b[0m\n\u001b[1;32m   1742\u001b[0m \u001b[38;5;66;03m# If we don't have any hooks, we want to skip the rest of the logic in\u001b[39;00m\n\u001b[1;32m   1743\u001b[0m \u001b[38;5;66;03m# this function, and just call forward.\u001b[39;00m\n\u001b[1;32m   1744\u001b[0m \u001b[38;5;28;01mif\u001b[39;00m \u001b[38;5;129;01mnot\u001b[39;00m (\u001b[38;5;28mself\u001b[39m\u001b[38;5;241m.\u001b[39m_backward_hooks \u001b[38;5;129;01mor\u001b[39;00m \u001b[38;5;28mself\u001b[39m\u001b[38;5;241m.\u001b[39m_backward_pre_hooks \u001b[38;5;129;01mor\u001b[39;00m \u001b[38;5;28mself\u001b[39m\u001b[38;5;241m.\u001b[39m_forward_hooks \u001b[38;5;129;01mor\u001b[39;00m \u001b[38;5;28mself\u001b[39m\u001b[38;5;241m.\u001b[39m_forward_pre_hooks\n\u001b[1;32m   1745\u001b[0m         \u001b[38;5;129;01mor\u001b[39;00m _global_backward_pre_hooks \u001b[38;5;129;01mor\u001b[39;00m _global_backward_hooks\n\u001b[1;32m   1746\u001b[0m         \u001b[38;5;129;01mor\u001b[39;00m _global_forward_hooks \u001b[38;5;129;01mor\u001b[39;00m _global_forward_pre_hooks):\n\u001b[0;32m-> 1747\u001b[0m     \u001b[38;5;28;01mreturn\u001b[39;00m forward_call(\u001b[38;5;241m*\u001b[39margs, \u001b[38;5;241m*\u001b[39m\u001b[38;5;241m*\u001b[39mkwargs)\n\u001b[1;32m   1749\u001b[0m result \u001b[38;5;241m=\u001b[39m \u001b[38;5;28;01mNone\u001b[39;00m\n\u001b[1;32m   1750\u001b[0m called_always_called_hooks \u001b[38;5;241m=\u001b[39m \u001b[38;5;28mset\u001b[39m()\n",
      "File \u001b[0;32m~/Work/Zurich/LHCb/GNNs/weighted_MP_gnn/wmpgnn/model/hetero_gnn_model.py:105\u001b[0m, in \u001b[0;36mHeteroGNN.forward\u001b[0;34m(self, input_op)\u001b[0m\n\u001b[1;32m    102\u001b[0m latent0 \u001b[38;5;241m=\u001b[39m latent\u001b[38;5;241m.\u001b[39mclone()\n\u001b[1;32m    104\u001b[0m \u001b[38;5;28;01mfor\u001b[39;00m b, core \u001b[38;5;129;01min\u001b[39;00m \u001b[38;5;28menumerate\u001b[39m(\u001b[38;5;28mself\u001b[39m\u001b[38;5;241m.\u001b[39m_blocks):\n\u001b[0;32m--> 105\u001b[0m     latent \u001b[38;5;241m=\u001b[39m core(latent)\n\u001b[1;32m    106\u001b[0m     \u001b[38;5;28;01mif\u001b[39;00m core\u001b[38;5;241m.\u001b[39medge_prune \u001b[38;5;241m==\u001b[39m \u001b[38;5;28;01mTrue\u001b[39;00m:\n\u001b[1;32m    107\u001b[0m         \u001b[38;5;28;01mfor\u001b[39;00m edge_type \u001b[38;5;129;01min\u001b[39;00m \u001b[38;5;28mself\u001b[39m\u001b[38;5;241m.\u001b[39medge_types:\n",
      "File \u001b[0;32m~/anaconda3/envs/dfei/lib/python3.11/site-packages/torch/nn/modules/module.py:1736\u001b[0m, in \u001b[0;36mModule._wrapped_call_impl\u001b[0;34m(self, *args, **kwargs)\u001b[0m\n\u001b[1;32m   1734\u001b[0m     \u001b[38;5;28;01mreturn\u001b[39;00m \u001b[38;5;28mself\u001b[39m\u001b[38;5;241m.\u001b[39m_compiled_call_impl(\u001b[38;5;241m*\u001b[39margs, \u001b[38;5;241m*\u001b[39m\u001b[38;5;241m*\u001b[39mkwargs)  \u001b[38;5;66;03m# type: ignore[misc]\u001b[39;00m\n\u001b[1;32m   1735\u001b[0m \u001b[38;5;28;01melse\u001b[39;00m:\n\u001b[0;32m-> 1736\u001b[0m     \u001b[38;5;28;01mreturn\u001b[39;00m \u001b[38;5;28mself\u001b[39m\u001b[38;5;241m.\u001b[39m_call_impl(\u001b[38;5;241m*\u001b[39margs, \u001b[38;5;241m*\u001b[39m\u001b[38;5;241m*\u001b[39mkwargs)\n",
      "File \u001b[0;32m~/anaconda3/envs/dfei/lib/python3.11/site-packages/torch/nn/modules/module.py:1747\u001b[0m, in \u001b[0;36mModule._call_impl\u001b[0;34m(self, *args, **kwargs)\u001b[0m\n\u001b[1;32m   1742\u001b[0m \u001b[38;5;66;03m# If we don't have any hooks, we want to skip the rest of the logic in\u001b[39;00m\n\u001b[1;32m   1743\u001b[0m \u001b[38;5;66;03m# this function, and just call forward.\u001b[39;00m\n\u001b[1;32m   1744\u001b[0m \u001b[38;5;28;01mif\u001b[39;00m \u001b[38;5;129;01mnot\u001b[39;00m (\u001b[38;5;28mself\u001b[39m\u001b[38;5;241m.\u001b[39m_backward_hooks \u001b[38;5;129;01mor\u001b[39;00m \u001b[38;5;28mself\u001b[39m\u001b[38;5;241m.\u001b[39m_backward_pre_hooks \u001b[38;5;129;01mor\u001b[39;00m \u001b[38;5;28mself\u001b[39m\u001b[38;5;241m.\u001b[39m_forward_hooks \u001b[38;5;129;01mor\u001b[39;00m \u001b[38;5;28mself\u001b[39m\u001b[38;5;241m.\u001b[39m_forward_pre_hooks\n\u001b[1;32m   1745\u001b[0m         \u001b[38;5;129;01mor\u001b[39;00m _global_backward_pre_hooks \u001b[38;5;129;01mor\u001b[39;00m _global_backward_hooks\n\u001b[1;32m   1746\u001b[0m         \u001b[38;5;129;01mor\u001b[39;00m _global_forward_hooks \u001b[38;5;129;01mor\u001b[39;00m _global_forward_pre_hooks):\n\u001b[0;32m-> 1747\u001b[0m     \u001b[38;5;28;01mreturn\u001b[39;00m forward_call(\u001b[38;5;241m*\u001b[39margs, \u001b[38;5;241m*\u001b[39m\u001b[38;5;241m*\u001b[39mkwargs)\n\u001b[1;32m   1749\u001b[0m result \u001b[38;5;241m=\u001b[39m \u001b[38;5;28;01mNone\u001b[39;00m\n\u001b[1;32m   1750\u001b[0m called_always_called_hooks \u001b[38;5;241m=\u001b[39m \u001b[38;5;28mset\u001b[39m()\n",
      "File \u001b[0;32m~/Work/Zurich/LHCb/GNNs/weighted_MP_gnn/wmpgnn/gnn/hetero_graph_network.py:118\u001b[0m, in \u001b[0;36mHeteroGraphNetwork.forward\u001b[0;34m(self, graph)\u001b[0m\n\u001b[1;32m    116\u001b[0m \u001b[38;5;28;01mif\u001b[39;00m \u001b[38;5;28mself\u001b[39m\u001b[38;5;241m.\u001b[39m_use_edge_weights:\n\u001b[1;32m    117\u001b[0m     graph_batch \u001b[38;5;241m=\u001b[39m node_input[edge_type[\u001b[38;5;241m0\u001b[39m]]\u001b[38;5;241m.\u001b[39mbatch[ node_input[edge_type]\u001b[38;5;241m.\u001b[39medge_index[\u001b[38;5;241m0\u001b[39m] ]\n\u001b[0;32m--> 118\u001b[0m     \u001b[38;5;28mself\u001b[39m\u001b[38;5;241m.\u001b[39medge_logits[edge_type] \u001b[38;5;241m=\u001b[39m \u001b[38;5;28mself\u001b[39m\u001b[38;5;241m.\u001b[39m_edge_mlps[edge_type](node_input[edge_type]\u001b[38;5;241m.\u001b[39medges, graph_batch)\n\u001b[1;32m    119\u001b[0m     \u001b[38;5;28mself\u001b[39m\u001b[38;5;241m.\u001b[39medge_weights[edge_type] \u001b[38;5;241m=\u001b[39m \u001b[38;5;28mself\u001b[39m\u001b[38;5;241m.\u001b[39m_sigmoid(\u001b[38;5;28mself\u001b[39m\u001b[38;5;241m.\u001b[39medge_logits[edge_type])\n\u001b[1;32m    120\u001b[0m \u001b[38;5;28;01melse\u001b[39;00m:\n",
      "File \u001b[0;32m~/anaconda3/envs/dfei/lib/python3.11/site-packages/torch/nn/modules/module.py:1736\u001b[0m, in \u001b[0;36mModule._wrapped_call_impl\u001b[0;34m(self, *args, **kwargs)\u001b[0m\n\u001b[1;32m   1734\u001b[0m     \u001b[38;5;28;01mreturn\u001b[39;00m \u001b[38;5;28mself\u001b[39m\u001b[38;5;241m.\u001b[39m_compiled_call_impl(\u001b[38;5;241m*\u001b[39margs, \u001b[38;5;241m*\u001b[39m\u001b[38;5;241m*\u001b[39mkwargs)  \u001b[38;5;66;03m# type: ignore[misc]\u001b[39;00m\n\u001b[1;32m   1735\u001b[0m \u001b[38;5;28;01melse\u001b[39;00m:\n\u001b[0;32m-> 1736\u001b[0m     \u001b[38;5;28;01mreturn\u001b[39;00m \u001b[38;5;28mself\u001b[39m\u001b[38;5;241m.\u001b[39m_call_impl(\u001b[38;5;241m*\u001b[39margs, \u001b[38;5;241m*\u001b[39m\u001b[38;5;241m*\u001b[39mkwargs)\n",
      "File \u001b[0;32m~/anaconda3/envs/dfei/lib/python3.11/site-packages/torch/nn/modules/module.py:1747\u001b[0m, in \u001b[0;36mModule._call_impl\u001b[0;34m(self, *args, **kwargs)\u001b[0m\n\u001b[1;32m   1742\u001b[0m \u001b[38;5;66;03m# If we don't have any hooks, we want to skip the rest of the logic in\u001b[39;00m\n\u001b[1;32m   1743\u001b[0m \u001b[38;5;66;03m# this function, and just call forward.\u001b[39;00m\n\u001b[1;32m   1744\u001b[0m \u001b[38;5;28;01mif\u001b[39;00m \u001b[38;5;129;01mnot\u001b[39;00m (\u001b[38;5;28mself\u001b[39m\u001b[38;5;241m.\u001b[39m_backward_hooks \u001b[38;5;129;01mor\u001b[39;00m \u001b[38;5;28mself\u001b[39m\u001b[38;5;241m.\u001b[39m_backward_pre_hooks \u001b[38;5;129;01mor\u001b[39;00m \u001b[38;5;28mself\u001b[39m\u001b[38;5;241m.\u001b[39m_forward_hooks \u001b[38;5;129;01mor\u001b[39;00m \u001b[38;5;28mself\u001b[39m\u001b[38;5;241m.\u001b[39m_forward_pre_hooks\n\u001b[1;32m   1745\u001b[0m         \u001b[38;5;129;01mor\u001b[39;00m _global_backward_pre_hooks \u001b[38;5;129;01mor\u001b[39;00m _global_backward_hooks\n\u001b[1;32m   1746\u001b[0m         \u001b[38;5;129;01mor\u001b[39;00m _global_forward_hooks \u001b[38;5;129;01mor\u001b[39;00m _global_forward_pre_hooks):\n\u001b[0;32m-> 1747\u001b[0m     \u001b[38;5;28;01mreturn\u001b[39;00m forward_call(\u001b[38;5;241m*\u001b[39margs, \u001b[38;5;241m*\u001b[39m\u001b[38;5;241m*\u001b[39mkwargs)\n\u001b[1;32m   1749\u001b[0m result \u001b[38;5;241m=\u001b[39m \u001b[38;5;28;01mNone\u001b[39;00m\n\u001b[1;32m   1750\u001b[0m called_always_called_hooks \u001b[38;5;241m=\u001b[39m \u001b[38;5;28mset\u001b[39m()\n",
      "File \u001b[0;32m~/anaconda3/envs/dfei/lib/python3.11/site-packages/torch_geometric/nn/models/mlp.py:245\u001b[0m, in \u001b[0;36mMLP.forward\u001b[0;34m(self, x, batch, batch_size, return_emb)\u001b[0m\n\u001b[1;32m    242\u001b[0m         emb \u001b[38;5;241m=\u001b[39m x\n\u001b[1;32m    244\u001b[0m \u001b[38;5;28;01mif\u001b[39;00m \u001b[38;5;28mself\u001b[39m\u001b[38;5;241m.\u001b[39mplain_last:\n\u001b[0;32m--> 245\u001b[0m     x \u001b[38;5;241m=\u001b[39m \u001b[38;5;28mself\u001b[39m\u001b[38;5;241m.\u001b[39mlins[\u001b[38;5;241m-\u001b[39m\u001b[38;5;241m1\u001b[39m](x)\n\u001b[1;32m    246\u001b[0m     x \u001b[38;5;241m=\u001b[39m F\u001b[38;5;241m.\u001b[39mdropout(x, p\u001b[38;5;241m=\u001b[39m\u001b[38;5;28mself\u001b[39m\u001b[38;5;241m.\u001b[39mdropout[\u001b[38;5;241m-\u001b[39m\u001b[38;5;241m1\u001b[39m], training\u001b[38;5;241m=\u001b[39m\u001b[38;5;28mself\u001b[39m\u001b[38;5;241m.\u001b[39mtraining)\n\u001b[1;32m    248\u001b[0m \u001b[38;5;28;01mreturn\u001b[39;00m (x, emb) \u001b[38;5;28;01mif\u001b[39;00m \u001b[38;5;28misinstance\u001b[39m(return_emb, \u001b[38;5;28mbool\u001b[39m) \u001b[38;5;28;01melse\u001b[39;00m x\n",
      "File \u001b[0;32m~/anaconda3/envs/dfei/lib/python3.11/site-packages/torch/nn/modules/module.py:1736\u001b[0m, in \u001b[0;36mModule._wrapped_call_impl\u001b[0;34m(self, *args, **kwargs)\u001b[0m\n\u001b[1;32m   1734\u001b[0m     \u001b[38;5;28;01mreturn\u001b[39;00m \u001b[38;5;28mself\u001b[39m\u001b[38;5;241m.\u001b[39m_compiled_call_impl(\u001b[38;5;241m*\u001b[39margs, \u001b[38;5;241m*\u001b[39m\u001b[38;5;241m*\u001b[39mkwargs)  \u001b[38;5;66;03m# type: ignore[misc]\u001b[39;00m\n\u001b[1;32m   1735\u001b[0m \u001b[38;5;28;01melse\u001b[39;00m:\n\u001b[0;32m-> 1736\u001b[0m     \u001b[38;5;28;01mreturn\u001b[39;00m \u001b[38;5;28mself\u001b[39m\u001b[38;5;241m.\u001b[39m_call_impl(\u001b[38;5;241m*\u001b[39margs, \u001b[38;5;241m*\u001b[39m\u001b[38;5;241m*\u001b[39mkwargs)\n",
      "File \u001b[0;32m~/anaconda3/envs/dfei/lib/python3.11/site-packages/torch/nn/modules/module.py:1747\u001b[0m, in \u001b[0;36mModule._call_impl\u001b[0;34m(self, *args, **kwargs)\u001b[0m\n\u001b[1;32m   1742\u001b[0m \u001b[38;5;66;03m# If we don't have any hooks, we want to skip the rest of the logic in\u001b[39;00m\n\u001b[1;32m   1743\u001b[0m \u001b[38;5;66;03m# this function, and just call forward.\u001b[39;00m\n\u001b[1;32m   1744\u001b[0m \u001b[38;5;28;01mif\u001b[39;00m \u001b[38;5;129;01mnot\u001b[39;00m (\u001b[38;5;28mself\u001b[39m\u001b[38;5;241m.\u001b[39m_backward_hooks \u001b[38;5;129;01mor\u001b[39;00m \u001b[38;5;28mself\u001b[39m\u001b[38;5;241m.\u001b[39m_backward_pre_hooks \u001b[38;5;129;01mor\u001b[39;00m \u001b[38;5;28mself\u001b[39m\u001b[38;5;241m.\u001b[39m_forward_hooks \u001b[38;5;129;01mor\u001b[39;00m \u001b[38;5;28mself\u001b[39m\u001b[38;5;241m.\u001b[39m_forward_pre_hooks\n\u001b[1;32m   1745\u001b[0m         \u001b[38;5;129;01mor\u001b[39;00m _global_backward_pre_hooks \u001b[38;5;129;01mor\u001b[39;00m _global_backward_hooks\n\u001b[1;32m   1746\u001b[0m         \u001b[38;5;129;01mor\u001b[39;00m _global_forward_hooks \u001b[38;5;129;01mor\u001b[39;00m _global_forward_pre_hooks):\n\u001b[0;32m-> 1747\u001b[0m     \u001b[38;5;28;01mreturn\u001b[39;00m forward_call(\u001b[38;5;241m*\u001b[39margs, \u001b[38;5;241m*\u001b[39m\u001b[38;5;241m*\u001b[39mkwargs)\n\u001b[1;32m   1749\u001b[0m result \u001b[38;5;241m=\u001b[39m \u001b[38;5;28;01mNone\u001b[39;00m\n\u001b[1;32m   1750\u001b[0m called_always_called_hooks \u001b[38;5;241m=\u001b[39m \u001b[38;5;28mset\u001b[39m()\n",
      "File \u001b[0;32m~/anaconda3/envs/dfei/lib/python3.11/site-packages/torch_geometric/nn/dense/linear.py:147\u001b[0m, in \u001b[0;36mLinear.forward\u001b[0;34m(self, x)\u001b[0m\n\u001b[1;32m    141\u001b[0m \u001b[38;5;28;01mdef\u001b[39;00m \u001b[38;5;21mforward\u001b[39m(\u001b[38;5;28mself\u001b[39m, x: Tensor) \u001b[38;5;241m-\u001b[39m\u001b[38;5;241m>\u001b[39m Tensor:\n\u001b[1;32m    142\u001b[0m \u001b[38;5;250m    \u001b[39m\u001b[38;5;124mr\u001b[39m\u001b[38;5;124;03m\"\"\"Forward pass.\u001b[39;00m\n\u001b[1;32m    143\u001b[0m \n\u001b[1;32m    144\u001b[0m \u001b[38;5;124;03m    Args:\u001b[39;00m\n\u001b[1;32m    145\u001b[0m \u001b[38;5;124;03m        x (torch.Tensor): The input features.\u001b[39;00m\n\u001b[1;32m    146\u001b[0m \u001b[38;5;124;03m    \"\"\"\u001b[39;00m\n\u001b[0;32m--> 147\u001b[0m     \u001b[38;5;28;01mreturn\u001b[39;00m F\u001b[38;5;241m.\u001b[39mlinear(x, \u001b[38;5;28mself\u001b[39m\u001b[38;5;241m.\u001b[39mweight, \u001b[38;5;28mself\u001b[39m\u001b[38;5;241m.\u001b[39mbias)\n",
      "\u001b[0;31mKeyboardInterrupt\u001b[0m: "
     ]
    }
   ],
   "source": [
    "\n",
    "\n",
    "running_num = 0\n",
    "running_denom = 0\n",
    "npvs = []\n",
    "associated = []\n",
    "for i, data in enumerate(val_loader):\n",
    "    data.to('cuda')\n",
    "\n",
    "    outputs = model(data)\n",
    "    data = outputs\n",
    "    PVlabel = torch.tensor(data[('tracks', 'to', 'pvs')].y, dtype=torch.float32)\n",
    "\n",
    "    if b_tracks:\n",
    "        tracks = data[('tracks', 'to', 'tracks')].edge_index[0][data[('tracks', 'to', 'tracks')].y[:, 0] == 0]\n",
    "    else:\n",
    "        tracks = data[('tracks', 'to', 'tracks')].edge_index[0]\n",
    "    unique_tracks = torch.unique(tracks)\n",
    "    correctly_associated = 0\n",
    "\n",
    "    for i in unique_tracks:\n",
    "        index = (data[('tracks', 'to', 'pvs')].edge_index[0] == i)\n",
    "        pv_associated = (torch.argmax(\n",
    "            model._blocks[-1].edge_weights[('tracks', 'to', 'pvs')][index]) == torch.argmax(\n",
    "            data[('tracks', 'to', 'pvs')].y[index]))\n",
    "        correctly_associated += int(pv_associated.item())\n",
    "    if unique_tracks.shape[0] > 0:\n",
    "        npvs.append(data['pvs'].x.shape[0])\n",
    "        associated.append( correctly_associated/ unique_tracks.shape[0])\n",
    "    running_num += correctly_associated \n",
    "    running_denom += unique_tracks.shape[0]\n",
    "acc = running_num / running_denom"
   ]
  },
  {
   "cell_type": "code",
   "execution_count": 64,
   "id": "5ae82e48-f63b-4da0-9b33-076df7a40e20",
   "metadata": {},
   "outputs": [
    {
     "name": "stderr",
     "output_type": "stream",
     "text": [
      "/tmp/ipykernel_28741/1048840956.py:18: UserWarning: To copy construct from a tensor, it is recommended to use sourceTensor.clone().detach() or sourceTensor.clone().detach().requires_grad_(True), rather than torch.tensor(sourceTensor).\n",
      "  PVlabel = torch.tensor(data[('tracks', 'to', 'pvs')].y, dtype=torch.float32)\n"
     ]
    }
   ],
   "source": [
    "running_acc = 0\n",
    "npvs = []\n",
    "associated = []\n",
    "running_num = 0\n",
    "running_denom = 0\n",
    "b_tracks=True\n",
    "for i, data in enumerate(val_loader):\n",
    "    data.to('cuda')\n",
    "\n",
    "    #outputs = self.model(data)\n",
    "    #data = outputs\n",
    "    # X=torch.concat([data['tracks'].x[data[('tracks','to','pvs')].edge_index[0]],\n",
    "    #                 data['pvs'].x[data[('tracks','to','pvs')].edge_index[1]],\n",
    "    #                 data[('tracks','to','pvs')].edges], -1)\n",
    "    \n",
    "    #outputs = NN(X)\n",
    "    outputs = data[('tracks','to','pvs')].edges\n",
    "    PVlabel = torch.tensor(data[('tracks', 'to', 'pvs')].y, dtype=torch.float32)\n",
    "\n",
    "    if b_tracks:\n",
    "        tracks = data[('tracks', 'to', 'tracks')].edge_index[0][data[('tracks', 'to', 'tracks')].y[:, 0] == 0]\n",
    "    else:\n",
    "        tracks = data[('tracks', 'to', 'tracks')].edge_index[0]\n",
    "    unique_tracks = torch.unique(tracks)\n",
    "    correctly_associated = 0\n",
    "\n",
    "    for i in unique_tracks:\n",
    "        index = (data[('tracks', 'to', 'pvs')].edge_index[0] == i)\n",
    "        pv_associated = (torch.argmin(\n",
    "            outputs[index]) == torch.argmax(\n",
    "            data[('tracks', 'to', 'pvs')].y[index]))\n",
    "        correctly_associated += int(pv_associated.item())\n",
    "    if unique_tracks.shape[0] > 0:\n",
    "        npvs.append(data['pvs'].x.shape[0])\n",
    "        associated.append( correctly_associated/ unique_tracks.shape[0])\n",
    "    running_num += correctly_associated \n",
    "    running_denom += unique_tracks.shape[0]\n",
    "acc = running_num / running_denom"
   ]
  },
  {
   "cell_type": "code",
   "execution_count": 29,
   "id": "bdcadfb2-9c4e-4165-bd88-b4461531cad3",
   "metadata": {},
   "outputs": [
    {
     "name": "stderr",
     "output_type": "stream",
     "text": [
      "/tmp/ipykernel_58616/2107750139.py:22: UserWarning: To copy construct from a tensor, it is recommended to use sourceTensor.clone().detach() or sourceTensor.clone().detach().requires_grad_(True), rather than torch.tensor(sourceTensor).\n",
      "  PVlabel = torch.tensor(data[('tracks', 'to', 'pvs')].y, dtype=torch.float32)\n"
     ]
    }
   ],
   "source": [
    "#def evaluate_pv_association(self, batch_size=8, b_tracks=True):\n",
    "#self.dataset = self.data_loader.get_test_dataloader(batch_size=batch_size)\n",
    "running_acc = 0\n",
    "running_num = 0\n",
    "running_denom = 0\n",
    "npvs = []\n",
    "associated = []\n",
    "b_track = []\n",
    "event_no = []\n",
    "n_tracks = []\n",
    "b_tracks=False\n",
    "for j, data in enumerate(val_loader):\n",
    "    data.to('cuda')\n",
    "\n",
    "    #outputs = self.model(data)\n",
    "    #data = outputs\n",
    "    X=torch.concat([data['tracks'].x[data[('tracks','to','pvs')].edge_index[0]],\n",
    "                    data['pvs'].x[data[('tracks','to','pvs')].edge_index[1]],\n",
    "                    data[('tracks','to','pvs')].edges], -1)\n",
    "    \n",
    "    outputs = NN(X)\n",
    "    PVlabel = torch.tensor(data[('tracks', 'to', 'pvs')].y, dtype=torch.float32)\n",
    "\n",
    "    if b_tracks:\n",
    "        tracks = data[('tracks', 'to', 'tracks')].edge_index[0][data[('tracks', 'to', 'tracks')].y[:, 0] == 0]\n",
    "    else:\n",
    "        tracks = data[('tracks', 'to', 'tracks')].edge_index[0]\n",
    "\n",
    "    btracks = data[('tracks', 'to', 'tracks')].edge_index[0][data[('tracks', 'to', 'tracks')].y[:, 0] == 0]\n",
    "    b_unique_tracks = torch.unique(btracks)\n",
    "    unique_tracks = torch.unique(tracks)\n",
    "    correctly_associated = 0\n",
    "    \n",
    "    for i in unique_tracks:\n",
    "        index = (data[('tracks', 'to', 'pvs')].edge_index[0] == i)\n",
    "        \n",
    "        pv_associated = (torch.argmax(\n",
    "            outputs[index]) == torch.argmax(\n",
    "            data[('tracks', 'to', 'pvs')].y[index]))\n",
    "        correctly_associated += int(pv_associated.item())\n",
    "        npvs.append(data['pvs'].x.shape[0])\n",
    "        associated.append( int(pv_associated.item()))\n",
    "        if i in b_unique_tracks:\n",
    "            b_track.append(1)\n",
    "        else:\n",
    "            b_track.append(0)       \n",
    "        event_no.append(j)\n",
    "        n_tracks.append(unique_tracks.shape[0])\n",
    "            \n",
    "    # if unique_tracks.shape[0] > 0:\n",
    "    #     npvs.append(data['pvs'].x.shape[0])\n",
    "    #     associated.append( correctly_associated/ unique_tracks.shape[0])\n",
    "    running_num += correctly_associated \n",
    "    running_denom += unique_tracks.shape[0]\n",
    "acc = running_num / running_denom"
   ]
  },
  {
   "cell_type": "code",
   "execution_count": 32,
   "id": "efd6bdbf-8b41-4adb-92e1-f40df72e1379",
   "metadata": {},
   "outputs": [],
   "source": [
    "df = pandas.DataFrame( data={'associated':associated, 'npvs':npvs, 'btrack' : b_track, 'event_number':event_no,\n",
    "                       'n_tracks': n_tracks})"
   ]
  },
  {
   "cell_type": "code",
   "execution_count": 33,
   "id": "0c35abc2-6d32-455a-93a2-bdb57407cc13",
   "metadata": {},
   "outputs": [],
   "source": [
    "df.to_csv(\"HGNN_PV_association.csv\")"
   ]
  },
  {
   "cell_type": "code",
   "execution_count": 90,
   "id": "a82204e5-4520-4b22-8a74-141756eaa2e2",
   "metadata": {},
   "outputs": [],
   "source": [
    "import matplotlib.pyplot as plt"
   ]
  },
  {
   "cell_type": "code",
   "execution_count": 91,
   "id": "50df41fe-b819-40b6-9354-b8952fb24e6c",
   "metadata": {},
   "outputs": [],
   "source": [
    "npvs2 = np.array(npvs)\n",
    "associated2 = np.array(associated)"
   ]
  },
  {
   "cell_type": "code",
   "execution_count": 92,
   "id": "a6c09805-328e-4be6-ac48-9f7c4dd71ac3",
   "metadata": {},
   "outputs": [],
   "source": [
    "npvs3 =[]\n",
    "associated3 = []\n",
    "associated3p = []\n",
    "associated3m = []\n",
    "for i in range(0,16):\n",
    "    npvs3.append(i)\n",
    "    associated3.append(np.mean(associated2[npvs2==i]))\n",
    "    associated3p.append(np.mean(associated2[npvs2==i])+ np.std(associated2[npvs2==i]))\n",
    "    associated3m.append(np.mean(associated2[npvs2==i])- np.std(associated2[npvs2==i]))"
   ]
  },
  {
   "cell_type": "code",
   "execution_count": 73,
   "id": "6a0f8bf1-d66a-4db9-a14f-771f059a85ba",
   "metadata": {},
   "outputs": [],
   "source": [
    "npvs4 =[]\n",
    "associated4 = []\n",
    "associated4p = []\n",
    "associated4m = []\n",
    "for i in range(0,16):\n",
    "    npvs4.append(i)\n",
    "    associated4.append(np.mean(associated2[npvs2==i]))\n",
    "    associated4p.append(np.mean(associated2[npvs2==i])+ np.std(associated2[npvs2==i]))\n",
    "    associated4m.append(np.mean(associated2[npvs2==i])- np.std(associated2[npvs2==i]))"
   ]
  },
  {
   "cell_type": "code",
   "execution_count": 74,
   "id": "ab51ba5d-8950-405c-a8b1-79ff3722d3bf",
   "metadata": {},
   "outputs": [],
   "source": [
    "npvs3 =[]\n",
    "associated3 = []\n",
    "associated3p = []\n",
    "associated3m = []\n",
    "for i in range(0,16):\n",
    "    npvs3.append(i)\n",
    "    associated3.append(np.mean(associated2[npvs2==i]))\n"
   ]
  },
  {
   "cell_type": "code",
   "execution_count": 93,
   "id": "8a81143d-26eb-4a00-991e-f1cde62b45d5",
   "metadata": {},
   "outputs": [
    {
     "data": {
      "text/plain": [
       "[<matplotlib.lines.Line2D at 0x773bde1df650>]"
      ]
     },
     "execution_count": 93,
     "metadata": {},
     "output_type": "execute_result"
    },
    {
     "data": {
      "image/png": "[encoded data removed]",
      "text/plain": [
       "<Figure size 640x480 with 1 Axes>"
      ]
     },
     "metadata": {},
     "output_type": "display_data"
    }
   ],
   "source": [
    "plt.plot(npvs3, associated3)\n",
    "plt.plot(npvs4, associated4)\n",
    "#plt.plot(npvs3, associated3p)\n",
    "#plt.plot(npvs3, associated3m)"
   ]
  },
  {
   "cell_type": "code",
   "execution_count": 51,
   "id": "f857e477-c917-4a6c-b627-05125a39e7a7",
   "metadata": {},
   "outputs": [
    {
     "data": {
      "text/plain": [
       "<matplotlib.collections.PathCollection at 0x773c645b5410>"
      ]
     },
     "execution_count": 51,
     "metadata": {},
     "output_type": "execute_result"
    },
    {
     "data": {
      "image/png": "[encoded data removed]",
      "text/plain": [
       "<Figure size 640x480 with 1 Axes>"
      ]
     },
     "metadata": {},
     "output_type": "display_data"
    }
   ],
   "source": [
    "plt.scatter(npvs,associated)"
   ]
  },
  {
   "cell_type": "code",
   "execution_count": null,
   "id": "f1703e55-5326-46f4-81b3-c15ae9c23454",
   "metadata": {},
   "outputs": [],
   "source": []
  },
  {
   "cell_type": "code",
   "execution_count": 30,
   "id": "272df1e1-2767-4620-91b8-a72f50500f1b",
   "metadata": {},
   "outputs": [
    {
     "name": "stderr",
     "output_type": "stream",
     "text": [
      "/tmp/ipykernel_25515/147940974.py:10: UserWarning: To copy construct from a tensor, it is recommended to use sourceTensor.clone().detach() or sourceTensor.clone().detach().requires_grad_(True), rather than torch.tensor(sourceTensor).\n",
      "  PVlabel = torch.tensor(data[('tracks', 'to', 'pvs')].y, dtype=torch.float32)\n"
     ]
    }
   ],
   "source": [
    "\n",
    "\n",
    "running_num = 0\n",
    "running_denom = 0\n",
    "npvs = []\n",
    "associated = []\n",
    "for i, data in enumerate(val_loader):\n",
    "    data.to('cuda')\n",
    "\n",
    "    outputs = model(data)\n",
    "    data = outputs\n",
    "    PVlabel = torch.tensor(data[('tracks', 'to', 'pvs')].y, dtype=torch.float32)\n",
    "\n",
    "    if b_tracks:\n",
    "        tracks = data[('tracks', 'to', 'tracks')].edge_index[0][data[('tracks', 'to', 'tracks')].y[:, 0] == 0]\n",
    "    else:\n",
    "        tracks = data[('tracks', 'to', 'tracks')].edge_index[0]\n",
    "    unique_tracks = torch.unique(tracks)\n",
    "    correctly_associated = 0\n",
    "\n",
    "    for i in unique_tracks:\n",
    "        index = (data[('tracks', 'to', 'pvs')].edge_index[0] == i)\n",
    "        pv_associated = (torch.argmax(\n",
    "            model._blocks[-1].edge_weights[('tracks', 'to', 'pvs')][index]) == torch.argmax(\n",
    "            data[('tracks', 'to', 'pvs')].y[index]))\n",
    "        correctly_associated += int(pv_associated.item())\n",
    "        npvs.append(data['pvs'].x.shape[0])\n",
    "        associated.append( int(pv_associated.item()))\n",
    "    running_num += correctly_associated \n",
    "    running_denom += unique_tracks.shape[0]\n",
    "acc = running_num / running_denom\n"
   ]
  },
  {
   "cell_type": "code",
   "execution_count": 23,
   "id": "7d83b306-6dc4-48ec-b37d-e6120fcc9288",
   "metadata": {},
   "outputs": [
    {
     "data": {
      "text/plain": [
       "0"
      ]
     },
     "execution_count": 23,
     "metadata": {},
     "output_type": "execute_result"
    }
   ],
   "source": [
    "running_num\n"
   ]
  },
  {
   "cell_type": "code",
   "execution_count": 24,
   "id": "a0f294be-1c6e-416a-89be-f4a629c3364c",
   "metadata": {},
   "outputs": [
    {
     "data": {
      "text/plain": [
       "0"
      ]
     },
     "execution_count": 24,
     "metadata": {},
     "output_type": "execute_result"
    }
   ],
   "source": [
    "len(val_loader)"
   ]
  },
  {
   "cell_type": "code",
   "execution_count": null,
   "id": "c8dec938-3513-4d43-91ca-7722456c4a98",
   "metadata": {},
   "outputs": [],
   "source": []
  },
  {
   "cell_type": "code",
   "execution_count": 26,
   "id": "c8aeaf07-ee3e-409e-b854-4da3755bc7e4",
   "metadata": {},
   "outputs": [
    {
     "data": {
      "text/plain": [
       "0.9762227682831331"
      ]
     },
     "execution_count": 26,
     "metadata": {},
     "output_type": "execute_result"
    }
   ],
   "source": [
    "acc"
   ]
  },
  {
   "cell_type": "code",
   "execution_count": 31,
   "id": "816759c3-0c7e-4f20-914a-44d962b58044",
   "metadata": {},
   "outputs": [
    {
     "data": {
      "text/plain": [
       "0.9605471940987367"
      ]
     },
     "execution_count": 31,
     "metadata": {},
     "output_type": "execute_result"
    }
   ],
   "source": [
    "acc"
   ]
  },
  {
   "cell_type": "code",
   "execution_count": 11,
   "id": "a833a952-36cf-444c-bc44-28d8dc7eef00",
   "metadata": {},
   "outputs": [],
   "source": [
    "# new computation"
   ]
  },
  {
   "cell_type": "code",
   "execution_count": 14,
   "id": "ee0fcc36-4954-431f-b177-c469ea73994f",
   "metadata": {},
   "outputs": [
    {
     "data": {
      "text/plain": [
       "0.9759243422012249"
      ]
     },
     "execution_count": 14,
     "metadata": {},
     "output_type": "execute_result"
    }
   ],
   "source": [
    "acc"
   ]
  },
  {
   "cell_type": "code",
   "execution_count": 10,
   "id": "fc385c83-cd30-46e5-a3aa-964003de504b",
   "metadata": {},
   "outputs": [
    {
     "data": {
      "text/plain": [
       "0.9608702396649345"
      ]
     },
     "execution_count": 10,
     "metadata": {},
     "output_type": "execute_result"
    }
   ],
   "source": [
    "acc"
   ]
  },
  {
   "cell_type": "code",
   "execution_count": null,
   "id": "d5c02e03-2896-498c-bb24-e93a74138ea9",
   "metadata": {},
   "outputs": [],
   "source": []
  },
  {
   "cell_type": "code",
   "execution_count": 10,
   "id": "e8cb96e1-5516-426e-b525-5d7ce2a2320b",
   "metadata": {},
   "outputs": [
    {
     "data": {
      "text/plain": [
       "0.998936743533328"
      ]
     },
     "execution_count": 10,
     "metadata": {},
     "output_type": "execute_result"
    }
   ],
   "source": [
    "acc\n"
   ]
  },
  {
   "cell_type": "code",
   "execution_count": 16,
   "id": "86468585-854c-463f-90d7-9425d2ad0cb2",
   "metadata": {},
   "outputs": [
    {
     "data": {
      "text/plain": [
       "0.9987008454199954"
      ]
     },
     "execution_count": 16,
     "metadata": {},
     "output_type": "execute_result"
    }
   ],
   "source": [
    "acc\n"
   ]
  },
  {
   "cell_type": "code",
   "execution_count": 28,
   "id": "48cee2d5-db3e-4e88-8666-95bf296b1d9c",
   "metadata": {},
   "outputs": [
    {
     "data": {
      "text/plain": [
       "0.9988233818133104"
      ]
     },
     "execution_count": 28,
     "metadata": {},
     "output_type": "execute_result"
    }
   ],
   "source": [
    "acc\n"
   ]
  },
  {
   "cell_type": "code",
   "execution_count": 31,
   "id": "472bab84-2975-444e-a95b-a1de3bdc6414",
   "metadata": {},
   "outputs": [
    {
     "data": {
      "text/plain": [
       "0.9980809211578442"
      ]
     },
     "execution_count": 31,
     "metadata": {},
     "output_type": "execute_result"
    }
   ],
   "source": [
    "acc\n"
   ]
  },
  {
   "cell_type": "code",
   "execution_count": 32,
   "id": "0bae18c9-460a-49fa-934c-c8af1902720e",
   "metadata": {},
   "outputs": [
    {
     "data": {
      "text/plain": [
       "0.9980809211578442"
      ]
     },
     "execution_count": 32,
     "metadata": {},
     "output_type": "execute_result"
    }
   ],
   "source": [
    "acc"
   ]
  },
  {
   "cell_type": "code",
   "execution_count": null,
   "id": "f4f945b3-e915-474f-bc2b-08e2ac7318a5",
   "metadata": {},
   "outputs": [],
   "source": []
  }
 ],
 "metadata": {
  "kernelspec": {
   "display_name": "Python 3 (ipykernel)",
   "language": "python",
   "name": "python3"
  },
  "language_info": {
   "codemirror_mode": {
    "name": "ipython",
    "version": 3
   },
   "file_extension": ".py",
   "mimetype": "text/x-python",
   "name": "python",
   "nbconvert_exporter": "python",
   "pygments_lexer": "ipython3",
   "version": "3.11.11"
  }
 },
 "nbformat": 4,
 "nbformat_minor": 5
}
