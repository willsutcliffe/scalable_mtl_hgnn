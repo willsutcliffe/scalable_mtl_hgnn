{
 "cells": [
  {
   "cell_type": "code",
   "execution_count": 1,
   "id": "3e4ad52d-ec24-4eaf-8bc5-97ecf4b7c77e",
   "metadata": {},
   "outputs": [],
   "source": [
    "import numpy as np\n",
    "import networkx as nx\n",
    "import os, time\n",
    "\n",
    "import os.path as osp\n",
    "import glob\n",
    "from wmpgnn.datasets.graph_dataset import CustomDataset\n",
    "from torch_geometric.loader import DataLoader\n",
    "import contextlib\n",
    "import torch\n",
    "from torch import nn\n",
    "from torch_scatter import scatter_add\n"
   ]
  },
  {
   "cell_type": "code",
   "execution_count": 2,
   "id": "d0190f82-f990-46be-a743-72334ea84117",
   "metadata": {},
   "outputs": [
    {
     "name": "stdout",
     "output_type": "stream",
     "text": [
      "finish loading training dataset\n",
      "finish loading validation dataset\n"
     ]
    }
   ],
   "source": [
    "\n",
    "files_input_tr = sorted(glob.glob('/home/sutclw/Work/Zurich/LHCb/GNNs/cached_LCA_training_events_PYTHIA/training_dataset/input_*'))\n",
    "files_target_tr = sorted(glob.glob('/home/sutclw/Work/Zurich/LHCb/GNNs/cached_LCA_training_events_PYTHIA/training_dataset/target_*'))\n",
    "data_tr = CustomDataset(files_input_tr, files_target_tr)\n",
    "dataset_tr = data_tr.get()\n",
    "print(\"finish loading training dataset\")\n",
    "\n",
    "files_input_vl = sorted(glob.glob('/home/sutclw/Work/Zurich/LHCb/GNNs/cached_LCA_training_events_PYTHIA/validation_dataset/input_*'))\n",
    "files_target_vl = sorted(glob.glob('/home/sutclw/Work/Zurich/LHCb/GNNs/cached_LCA_training_events_PYTHIA/validation_dataset/target_*'))\n",
    "data_vl = CustomDataset(files_input_vl, files_target_vl)\n",
    "dataset_vl = data_vl.get()\n",
    "print(\"finish loading validation dataset\")"
   ]
  },
  {
   "cell_type": "code",
   "execution_count": 3,
   "id": "4ea0cf58-ce76-4004-a20c-5ad40b337bc4",
   "metadata": {},
   "outputs": [],
   "source": [
    "NUM_LAYERS = 5\n",
    "HIDDEN_CHANNELS=128"
   ]
  },
  {
   "cell_type": "code",
   "execution_count": 4,
   "id": "099aec80-6148-4c84-a0ad-4af1b5b6c910",
   "metadata": {},
   "outputs": [],
   "source": [
    "BATCH_SIZE = 32\n",
    "loader_tr = DataLoader(dataset_tr, batch_size=BATCH_SIZE, drop_last=True)\n",
    "loader_vl = DataLoader(dataset_vl, batch_size=BATCH_SIZE, drop_last=True)"
   ]
  },
  {
   "cell_type": "code",
   "execution_count": 5,
   "id": "7e180a4e-91ee-44b0-a38c-ae80637daecc",
   "metadata": {},
   "outputs": [],
   "source": [
    "for vdata in loader_vl:\n",
    "    break"
   ]
  },
  {
   "cell_type": "code",
   "execution_count": 6,
   "id": "3e6acc20-015a-4dcd-b5d5-4c5b9d38c110",
   "metadata": {},
   "outputs": [
    {
     "data": {
      "text/plain": [
       "DataBatch(y=[117026, 4], nodes=[3018, 4], edges=[117026, 4], senders=[117026], receivers=[117026], graph_globals=[32], edgepos=[117026], num_edges=[32], num_nodes=3018, batch=[3018], ptr=[33])"
      ]
     },
     "execution_count": 6,
     "metadata": {},
     "output_type": "execute_result"
    }
   ],
   "source": [
    "vdata"
   ]
  },
  {
   "cell_type": "code",
   "execution_count": 7,
   "id": "eb2770bf-d8f3-4a63-9038-cac0afbc606b",
   "metadata": {},
   "outputs": [],
   "source": [
    "#import wmpgnn.model.gnn_model \n",
    "#import wmpgnn.gnn.graph_network"
   ]
  },
  {
   "cell_type": "code",
   "execution_count": 8,
   "id": "0b3c4fe5-94c9-41da-b880-2d6426d66d72",
   "metadata": {},
   "outputs": [],
   "source": [
    "from wmpgnn.model.gnn_model import EncodeProcessDecode"
   ]
  },
  {
   "cell_type": "code",
   "execution_count": 9,
   "id": "5db7da20-9e36-40ff-9c87-bef14615e7dc",
   "metadata": {},
   "outputs": [],
   "source": [
    "import importlib\n",
    "#importlib.reload(wmpgnn.model)\n",
    "#importlib.reload(wmpgnn.model.gnn_model)\n",
    "#importlib.reload(wmpgnn.gnn.graph_network)\n",
    "#importlib.reload(gnn_model)"
   ]
  },
  {
   "cell_type": "code",
   "execution_count": 10,
   "id": "cee02ff9-d335-4d65-ac5e-f0c8aee83c40",
   "metadata": {},
   "outputs": [],
   "source": [
    "MLP_OUTPUT_SIZE=8\n",
    "\n",
    "myModel=EncodeProcessDecode(mlp_output_size=MLP_OUTPUT_SIZE, edge_op=4)"
   ]
  },
  {
   "cell_type": "code",
   "execution_count": 11,
   "id": "ce34d54b-e6ea-4a3d-8b4c-fc0168052020",
   "metadata": {},
   "outputs": [
    {
     "data": {
      "text/plain": [
       "GraphNetwork(\n",
       "  (_edge_block): EdgeBlock(\n",
       "    (_edge_model): MLP(-1, 128, 128, 128, 8)\n",
       "  )\n",
       "  (_node_block): NodeBlock(\n",
       "    (_node_model): MLP(-1, 128, 128, 128, 8)\n",
       "    (_sent_edges_aggregator): EdgesToNodesAggregator()\n",
       "  )\n",
       "  (_global_block): GlobalBlock(\n",
       "    (_global_model): MLP(-1, 128, 128, 128, 8)\n",
       "    (_edges_aggregator): EdgesToGlobalsAggregator()\n",
       "    (_nodes_aggregator): NodesToGlobalsAggregator()\n",
       "  )\n",
       "  (edge_linear): Linear(in_features=8, out_features=1, bias=True)\n",
       "  (edge_mlp): MLP(-1, 16, 16, 16, 1)\n",
       "  (node_linear): Linear(in_features=8, out_features=1, bias=True)\n",
       "  (node_mlp): MLP(-1, 16, 16, 16, 1)\n",
       "  (sigmoid): Sigmoid()\n",
       "  (select): SelectTopK(1, ratio=20)\n",
       "  (select_nodes): SelectTopK(1, ratio=70)\n",
       ")"
      ]
     },
     "execution_count": 11,
     "metadata": {},
     "output_type": "execute_result"
    }
   ],
   "source": [
    "myModel._blocks[0]._network"
   ]
  },
  {
   "cell_type": "code",
   "execution_count": 12,
   "id": "d8f1f1ba-e3f7-43d0-bcef-fba7285ff691",
   "metadata": {},
   "outputs": [],
   "source": [
    "from wmpgnn.util.functions import weight_four_class, acc_four_class"
   ]
  },
  {
   "cell_type": "code",
   "execution_count": 13,
   "id": "bf86ef98-0376-4fe2-89ae-dbe3ef6b95b2",
   "metadata": {},
   "outputs": [
    {
     "name": "stdout",
     "output_type": "stream",
     "text": [
      "tensor([2.5158e-01, 1.7982e+02, 6.0619e+01, 3.2675e+02])\n"
     ]
    }
   ],
   "source": [
    "weights=weight_four_class(loader_tr)"
   ]
  },
  {
   "cell_type": "code",
   "execution_count": 14,
   "id": "2d07c87d-080e-40ed-9896-41645135b566",
   "metadata": {},
   "outputs": [
    {
     "name": "stdout",
     "output_type": "stream",
     "text": [
      "model_27_epochs_pruning_latest.pth\n",
      "model_32_8block_epochs_pruning_latest.pth\n",
      "model_32_epochs_pruning_latest.pth\n",
      "model_34_6block_epochs_pruning_scattermean.pth\n"
     ]
    }
   ],
   "source": [
    "!ls *.pth"
   ]
  },
  {
   "cell_type": "code",
   "execution_count": 13,
   "id": "01015d1a-2192-4bc3-8cce-00b30b2b0ea9",
   "metadata": {},
   "outputs": [],
   "source": [
    "dic = torch.load('model_32_8block_epochs_pruning_latest.pth')"
   ]
  },
  {
   "cell_type": "code",
   "execution_count": null,
   "id": "fe78c30a-7618-4ac1-baf0-7c0fde45e17c",
   "metadata": {},
   "outputs": [],
   "source": []
  },
  {
   "cell_type": "code",
   "execution_count": 14,
   "id": "e0f0b9de-f46f-47f6-8b4c-a24882f58f8a",
   "metadata": {},
   "outputs": [
    {
     "data": {
      "text/plain": [
       "odict_keys(['_encoder._network._edge_model._model.lins.0.weight', '_encoder._network._edge_model._model.lins.0.bias', '_encoder._network._edge_model._model.lins.1.weight', '_encoder._network._edge_model._model.lins.1.bias', '_encoder._network._edge_model._model.lins.2.weight', '_encoder._network._edge_model._model.lins.2.bias', '_encoder._network._edge_model._model.lins.3.weight', '_encoder._network._edge_model._model.lins.3.bias', '_encoder._network._node_model._model.lins.0.weight', '_encoder._network._node_model._model.lins.0.bias', '_encoder._network._node_model._model.lins.1.weight', '_encoder._network._node_model._model.lins.1.bias', '_encoder._network._node_model._model.lins.2.weight', '_encoder._network._node_model._model.lins.2.bias', '_encoder._network._node_model._model.lins.3.weight', '_encoder._network._node_model._model.lins.3.bias', '_encoder._network._global_model._model.lins.0.weight', '_encoder._network._global_model._model.lins.0.bias', '_encoder._network._global_model._model.lins.1.weight', '_encoder._network._global_model._model.lins.1.bias', '_encoder._network._global_model._model.lins.2.weight', '_encoder._network._global_model._model.lins.2.bias', '_encoder._network._global_model._model.lins.3.weight', '_encoder._network._global_model._model.lins.3.bias', '_core._network._edge_block._edge_model.lins.0.weight', '_core._network._edge_block._edge_model.lins.0.bias', '_core._network._edge_block._edge_model.lins.1.weight', '_core._network._edge_block._edge_model.lins.1.bias', '_core._network._edge_block._edge_model.lins.2.weight', '_core._network._edge_block._edge_model.lins.2.bias', '_core._network._edge_block._edge_model.lins.3.weight', '_core._network._edge_block._edge_model.lins.3.bias', '_core._network._node_block._node_model.lins.0.weight', '_core._network._node_block._node_model.lins.0.bias', '_core._network._node_block._node_model.lins.1.weight', '_core._network._node_block._node_model.lins.1.bias', '_core._network._node_block._node_model.lins.2.weight', '_core._network._node_block._node_model.lins.2.bias', '_core._network._node_block._node_model.lins.3.weight', '_core._network._node_block._node_model.lins.3.bias', '_core._network._global_block._global_model.lins.0.weight', '_core._network._global_block._global_model.lins.0.bias', '_core._network._global_block._global_model.lins.1.weight', '_core._network._global_block._global_model.lins.1.bias', '_core._network._global_block._global_model.lins.2.weight', '_core._network._global_block._global_model.lins.2.bias', '_core._network._global_block._global_model.lins.3.weight', '_core._network._global_block._global_model.lins.3.bias', '_core._network.edge_linear.weight', '_core._network.edge_linear.bias', '_core._network.edge_mlp.lins.0.weight', '_core._network.edge_mlp.lins.0.bias', '_core._network.edge_mlp.lins.1.weight', '_core._network.edge_mlp.lins.1.bias', '_core._network.edge_mlp.lins.2.weight', '_core._network.edge_mlp.lins.2.bias', '_core._network.edge_mlp.lins.3.weight', '_core._network.edge_mlp.lins.3.bias', '_core._network.node_linear.weight', '_core._network.node_linear.bias', '_core._network.node_mlp.lins.0.weight', '_core._network.node_mlp.lins.0.bias', '_core._network.node_mlp.lins.1.weight', '_core._network.node_mlp.lins.1.bias', '_core._network.node_mlp.lins.2.weight', '_core._network.node_mlp.lins.2.bias', '_core._network.node_mlp.lins.3.weight', '_core._network.node_mlp.lins.3.bias', '_core._network.select.weight', '_core._network.select_nodes.weight', '_blocks.0._network._edge_block._edge_model.lins.0.weight', '_blocks.0._network._edge_block._edge_model.lins.0.bias', '_blocks.0._network._edge_block._edge_model.lins.1.weight', '_blocks.0._network._edge_block._edge_model.lins.1.bias', '_blocks.0._network._edge_block._edge_model.lins.2.weight', '_blocks.0._network._edge_block._edge_model.lins.2.bias', '_blocks.0._network._edge_block._edge_model.lins.3.weight', '_blocks.0._network._edge_block._edge_model.lins.3.bias', '_blocks.0._network._node_block._node_model.lins.0.weight', '_blocks.0._network._node_block._node_model.lins.0.bias', '_blocks.0._network._node_block._node_model.lins.1.weight', '_blocks.0._network._node_block._node_model.lins.1.bias', '_blocks.0._network._node_block._node_model.lins.2.weight', '_blocks.0._network._node_block._node_model.lins.2.bias', '_blocks.0._network._node_block._node_model.lins.3.weight', '_blocks.0._network._node_block._node_model.lins.3.bias', '_blocks.0._network._global_block._global_model.lins.0.weight', '_blocks.0._network._global_block._global_model.lins.0.bias', '_blocks.0._network._global_block._global_model.lins.1.weight', '_blocks.0._network._global_block._global_model.lins.1.bias', '_blocks.0._network._global_block._global_model.lins.2.weight', '_blocks.0._network._global_block._global_model.lins.2.bias', '_blocks.0._network._global_block._global_model.lins.3.weight', '_blocks.0._network._global_block._global_model.lins.3.bias', '_blocks.0._network.edge_linear.weight', '_blocks.0._network.edge_linear.bias', '_blocks.0._network.edge_mlp.lins.0.weight', '_blocks.0._network.edge_mlp.lins.0.bias', '_blocks.0._network.edge_mlp.lins.1.weight', '_blocks.0._network.edge_mlp.lins.1.bias', '_blocks.0._network.edge_mlp.lins.2.weight', '_blocks.0._network.edge_mlp.lins.2.bias', '_blocks.0._network.edge_mlp.lins.3.weight', '_blocks.0._network.edge_mlp.lins.3.bias', '_blocks.0._network.node_linear.weight', '_blocks.0._network.node_linear.bias', '_blocks.0._network.node_mlp.lins.0.weight', '_blocks.0._network.node_mlp.lins.0.bias', '_blocks.0._network.node_mlp.lins.1.weight', '_blocks.0._network.node_mlp.lins.1.bias', '_blocks.0._network.node_mlp.lins.2.weight', '_blocks.0._network.node_mlp.lins.2.bias', '_blocks.0._network.node_mlp.lins.3.weight', '_blocks.0._network.node_mlp.lins.3.bias', '_blocks.0._network.select.weight', '_blocks.0._network.select_nodes.weight', '_blocks.1._network._edge_block._edge_model.lins.0.weight', '_blocks.1._network._edge_block._edge_model.lins.0.bias', '_blocks.1._network._edge_block._edge_model.lins.1.weight', '_blocks.1._network._edge_block._edge_model.lins.1.bias', '_blocks.1._network._edge_block._edge_model.lins.2.weight', '_blocks.1._network._edge_block._edge_model.lins.2.bias', '_blocks.1._network._edge_block._edge_model.lins.3.weight', '_blocks.1._network._edge_block._edge_model.lins.3.bias', '_blocks.1._network._node_block._node_model.lins.0.weight', '_blocks.1._network._node_block._node_model.lins.0.bias', '_blocks.1._network._node_block._node_model.lins.1.weight', '_blocks.1._network._node_block._node_model.lins.1.bias', '_blocks.1._network._node_block._node_model.lins.2.weight', '_blocks.1._network._node_block._node_model.lins.2.bias', '_blocks.1._network._node_block._node_model.lins.3.weight', '_blocks.1._network._node_block._node_model.lins.3.bias', '_blocks.1._network._global_block._global_model.lins.0.weight', '_blocks.1._network._global_block._global_model.lins.0.bias', '_blocks.1._network._global_block._global_model.lins.1.weight', '_blocks.1._network._global_block._global_model.lins.1.bias', '_blocks.1._network._global_block._global_model.lins.2.weight', '_blocks.1._network._global_block._global_model.lins.2.bias', '_blocks.1._network._global_block._global_model.lins.3.weight', '_blocks.1._network._global_block._global_model.lins.3.bias', '_blocks.1._network.edge_linear.weight', '_blocks.1._network.edge_linear.bias', '_blocks.1._network.edge_mlp.lins.0.weight', '_blocks.1._network.edge_mlp.lins.0.bias', '_blocks.1._network.edge_mlp.lins.1.weight', '_blocks.1._network.edge_mlp.lins.1.bias', '_blocks.1._network.edge_mlp.lins.2.weight', '_blocks.1._network.edge_mlp.lins.2.bias', '_blocks.1._network.edge_mlp.lins.3.weight', '_blocks.1._network.edge_mlp.lins.3.bias', '_blocks.1._network.node_linear.weight', '_blocks.1._network.node_linear.bias', '_blocks.1._network.node_mlp.lins.0.weight', '_blocks.1._network.node_mlp.lins.0.bias', '_blocks.1._network.node_mlp.lins.1.weight', '_blocks.1._network.node_mlp.lins.1.bias', '_blocks.1._network.node_mlp.lins.2.weight', '_blocks.1._network.node_mlp.lins.2.bias', '_blocks.1._network.node_mlp.lins.3.weight', '_blocks.1._network.node_mlp.lins.3.bias', '_blocks.1._network.select.weight', '_blocks.1._network.select_nodes.weight', '_blocks.2._network._edge_block._edge_model.lins.0.weight', '_blocks.2._network._edge_block._edge_model.lins.0.bias', '_blocks.2._network._edge_block._edge_model.lins.1.weight', '_blocks.2._network._edge_block._edge_model.lins.1.bias', '_blocks.2._network._edge_block._edge_model.lins.2.weight', '_blocks.2._network._edge_block._edge_model.lins.2.bias', '_blocks.2._network._edge_block._edge_model.lins.3.weight', '_blocks.2._network._edge_block._edge_model.lins.3.bias', '_blocks.2._network._node_block._node_model.lins.0.weight', '_blocks.2._network._node_block._node_model.lins.0.bias', '_blocks.2._network._node_block._node_model.lins.1.weight', '_blocks.2._network._node_block._node_model.lins.1.bias', '_blocks.2._network._node_block._node_model.lins.2.weight', '_blocks.2._network._node_block._node_model.lins.2.bias', '_blocks.2._network._node_block._node_model.lins.3.weight', '_blocks.2._network._node_block._node_model.lins.3.bias', '_blocks.2._network._global_block._global_model.lins.0.weight', '_blocks.2._network._global_block._global_model.lins.0.bias', '_blocks.2._network._global_block._global_model.lins.1.weight', '_blocks.2._network._global_block._global_model.lins.1.bias', '_blocks.2._network._global_block._global_model.lins.2.weight', '_blocks.2._network._global_block._global_model.lins.2.bias', '_blocks.2._network._global_block._global_model.lins.3.weight', '_blocks.2._network._global_block._global_model.lins.3.bias', '_blocks.2._network.edge_linear.weight', '_blocks.2._network.edge_linear.bias', '_blocks.2._network.edge_mlp.lins.0.weight', '_blocks.2._network.edge_mlp.lins.0.bias', '_blocks.2._network.edge_mlp.lins.1.weight', '_blocks.2._network.edge_mlp.lins.1.bias', '_blocks.2._network.edge_mlp.lins.2.weight', '_blocks.2._network.edge_mlp.lins.2.bias', '_blocks.2._network.edge_mlp.lins.3.weight', '_blocks.2._network.edge_mlp.lins.3.bias', '_blocks.2._network.node_linear.weight', '_blocks.2._network.node_linear.bias', '_blocks.2._network.node_mlp.lins.0.weight', '_blocks.2._network.node_mlp.lins.0.bias', '_blocks.2._network.node_mlp.lins.1.weight', '_blocks.2._network.node_mlp.lins.1.bias', '_blocks.2._network.node_mlp.lins.2.weight', '_blocks.2._network.node_mlp.lins.2.bias', '_blocks.2._network.node_mlp.lins.3.weight', '_blocks.2._network.node_mlp.lins.3.bias', '_blocks.2._network.select.weight', '_blocks.2._network.select_nodes.weight', '_blocks.3._network._edge_block._edge_model.lins.0.weight', '_blocks.3._network._edge_block._edge_model.lins.0.bias', '_blocks.3._network._edge_block._edge_model.lins.1.weight', '_blocks.3._network._edge_block._edge_model.lins.1.bias', '_blocks.3._network._edge_block._edge_model.lins.2.weight', '_blocks.3._network._edge_block._edge_model.lins.2.bias', '_blocks.3._network._edge_block._edge_model.lins.3.weight', '_blocks.3._network._edge_block._edge_model.lins.3.bias', '_blocks.3._network._node_block._node_model.lins.0.weight', '_blocks.3._network._node_block._node_model.lins.0.bias', '_blocks.3._network._node_block._node_model.lins.1.weight', '_blocks.3._network._node_block._node_model.lins.1.bias', '_blocks.3._network._node_block._node_model.lins.2.weight', '_blocks.3._network._node_block._node_model.lins.2.bias', '_blocks.3._network._node_block._node_model.lins.3.weight', '_blocks.3._network._node_block._node_model.lins.3.bias', '_blocks.3._network._global_block._global_model.lins.0.weight', '_blocks.3._network._global_block._global_model.lins.0.bias', '_blocks.3._network._global_block._global_model.lins.1.weight', '_blocks.3._network._global_block._global_model.lins.1.bias', '_blocks.3._network._global_block._global_model.lins.2.weight', '_blocks.3._network._global_block._global_model.lins.2.bias', '_blocks.3._network._global_block._global_model.lins.3.weight', '_blocks.3._network._global_block._global_model.lins.3.bias', '_blocks.3._network.edge_linear.weight', '_blocks.3._network.edge_linear.bias', '_blocks.3._network.edge_mlp.lins.0.weight', '_blocks.3._network.edge_mlp.lins.0.bias', '_blocks.3._network.edge_mlp.lins.1.weight', '_blocks.3._network.edge_mlp.lins.1.bias', '_blocks.3._network.edge_mlp.lins.2.weight', '_blocks.3._network.edge_mlp.lins.2.bias', '_blocks.3._network.edge_mlp.lins.3.weight', '_blocks.3._network.edge_mlp.lins.3.bias', '_blocks.3._network.node_linear.weight', '_blocks.3._network.node_linear.bias', '_blocks.3._network.node_mlp.lins.0.weight', '_blocks.3._network.node_mlp.lins.0.bias', '_blocks.3._network.node_mlp.lins.1.weight', '_blocks.3._network.node_mlp.lins.1.bias', '_blocks.3._network.node_mlp.lins.2.weight', '_blocks.3._network.node_mlp.lins.2.bias', '_blocks.3._network.node_mlp.lins.3.weight', '_blocks.3._network.node_mlp.lins.3.bias', '_blocks.3._network.select.weight', '_blocks.3._network.select_nodes.weight', '_blocks.4._network._edge_block._edge_model.lins.0.weight', '_blocks.4._network._edge_block._edge_model.lins.0.bias', '_blocks.4._network._edge_block._edge_model.lins.1.weight', '_blocks.4._network._edge_block._edge_model.lins.1.bias', '_blocks.4._network._edge_block._edge_model.lins.2.weight', '_blocks.4._network._edge_block._edge_model.lins.2.bias', '_blocks.4._network._edge_block._edge_model.lins.3.weight', '_blocks.4._network._edge_block._edge_model.lins.3.bias', '_blocks.4._network._node_block._node_model.lins.0.weight', '_blocks.4._network._node_block._node_model.lins.0.bias', '_blocks.4._network._node_block._node_model.lins.1.weight', '_blocks.4._network._node_block._node_model.lins.1.bias', '_blocks.4._network._node_block._node_model.lins.2.weight', '_blocks.4._network._node_block._node_model.lins.2.bias', '_blocks.4._network._node_block._node_model.lins.3.weight', '_blocks.4._network._node_block._node_model.lins.3.bias', '_blocks.4._network._global_block._global_model.lins.0.weight', '_blocks.4._network._global_block._global_model.lins.0.bias', '_blocks.4._network._global_block._global_model.lins.1.weight', '_blocks.4._network._global_block._global_model.lins.1.bias', '_blocks.4._network._global_block._global_model.lins.2.weight', '_blocks.4._network._global_block._global_model.lins.2.bias', '_blocks.4._network._global_block._global_model.lins.3.weight', '_blocks.4._network._global_block._global_model.lins.3.bias', '_blocks.4._network.edge_linear.weight', '_blocks.4._network.edge_linear.bias', '_blocks.4._network.edge_mlp.lins.0.weight', '_blocks.4._network.edge_mlp.lins.0.bias', '_blocks.4._network.edge_mlp.lins.1.weight', '_blocks.4._network.edge_mlp.lins.1.bias', '_blocks.4._network.edge_mlp.lins.2.weight', '_blocks.4._network.edge_mlp.lins.2.bias', '_blocks.4._network.edge_mlp.lins.3.weight', '_blocks.4._network.edge_mlp.lins.3.bias', '_blocks.4._network.node_linear.weight', '_blocks.4._network.node_linear.bias', '_blocks.4._network.node_mlp.lins.0.weight', '_blocks.4._network.node_mlp.lins.0.bias', '_blocks.4._network.node_mlp.lins.1.weight', '_blocks.4._network.node_mlp.lins.1.bias', '_blocks.4._network.node_mlp.lins.2.weight', '_blocks.4._network.node_mlp.lins.2.bias', '_blocks.4._network.node_mlp.lins.3.weight', '_blocks.4._network.node_mlp.lins.3.bias', '_blocks.4._network.select.weight', '_blocks.4._network.select_nodes.weight', '_blocks.5._network._edge_block._edge_model.lins.0.weight', '_blocks.5._network._edge_block._edge_model.lins.0.bias', '_blocks.5._network._edge_block._edge_model.lins.1.weight', '_blocks.5._network._edge_block._edge_model.lins.1.bias', '_blocks.5._network._edge_block._edge_model.lins.2.weight', '_blocks.5._network._edge_block._edge_model.lins.2.bias', '_blocks.5._network._edge_block._edge_model.lins.3.weight', '_blocks.5._network._edge_block._edge_model.lins.3.bias', '_blocks.5._network._node_block._node_model.lins.0.weight', '_blocks.5._network._node_block._node_model.lins.0.bias', '_blocks.5._network._node_block._node_model.lins.1.weight', '_blocks.5._network._node_block._node_model.lins.1.bias', '_blocks.5._network._node_block._node_model.lins.2.weight', '_blocks.5._network._node_block._node_model.lins.2.bias', '_blocks.5._network._node_block._node_model.lins.3.weight', '_blocks.5._network._node_block._node_model.lins.3.bias', '_blocks.5._network._global_block._global_model.lins.0.weight', '_blocks.5._network._global_block._global_model.lins.0.bias', '_blocks.5._network._global_block._global_model.lins.1.weight', '_blocks.5._network._global_block._global_model.lins.1.bias', '_blocks.5._network._global_block._global_model.lins.2.weight', '_blocks.5._network._global_block._global_model.lins.2.bias', '_blocks.5._network._global_block._global_model.lins.3.weight', '_blocks.5._network._global_block._global_model.lins.3.bias', '_blocks.5._network.edge_linear.weight', '_blocks.5._network.edge_linear.bias', '_blocks.5._network.edge_mlp.lins.0.weight', '_blocks.5._network.edge_mlp.lins.0.bias', '_blocks.5._network.edge_mlp.lins.1.weight', '_blocks.5._network.edge_mlp.lins.1.bias', '_blocks.5._network.edge_mlp.lins.2.weight', '_blocks.5._network.edge_mlp.lins.2.bias', '_blocks.5._network.edge_mlp.lins.3.weight', '_blocks.5._network.edge_mlp.lins.3.bias', '_blocks.5._network.node_linear.weight', '_blocks.5._network.node_linear.bias', '_blocks.5._network.node_mlp.lins.0.weight', '_blocks.5._network.node_mlp.lins.0.bias', '_blocks.5._network.node_mlp.lins.1.weight', '_blocks.5._network.node_mlp.lins.1.bias', '_blocks.5._network.node_mlp.lins.2.weight', '_blocks.5._network.node_mlp.lins.2.bias', '_blocks.5._network.node_mlp.lins.3.weight', '_blocks.5._network.node_mlp.lins.3.bias', '_blocks.5._network.select.weight', '_blocks.5._network.select_nodes.weight', '_blocks.6._network._edge_block._edge_model.lins.0.weight', '_blocks.6._network._edge_block._edge_model.lins.0.bias', '_blocks.6._network._edge_block._edge_model.lins.1.weight', '_blocks.6._network._edge_block._edge_model.lins.1.bias', '_blocks.6._network._edge_block._edge_model.lins.2.weight', '_blocks.6._network._edge_block._edge_model.lins.2.bias', '_blocks.6._network._edge_block._edge_model.lins.3.weight', '_blocks.6._network._edge_block._edge_model.lins.3.bias', '_blocks.6._network._node_block._node_model.lins.0.weight', '_blocks.6._network._node_block._node_model.lins.0.bias', '_blocks.6._network._node_block._node_model.lins.1.weight', '_blocks.6._network._node_block._node_model.lins.1.bias', '_blocks.6._network._node_block._node_model.lins.2.weight', '_blocks.6._network._node_block._node_model.lins.2.bias', '_blocks.6._network._node_block._node_model.lins.3.weight', '_blocks.6._network._node_block._node_model.lins.3.bias', '_blocks.6._network._global_block._global_model.lins.0.weight', '_blocks.6._network._global_block._global_model.lins.0.bias', '_blocks.6._network._global_block._global_model.lins.1.weight', '_blocks.6._network._global_block._global_model.lins.1.bias', '_blocks.6._network._global_block._global_model.lins.2.weight', '_blocks.6._network._global_block._global_model.lins.2.bias', '_blocks.6._network._global_block._global_model.lins.3.weight', '_blocks.6._network._global_block._global_model.lins.3.bias', '_blocks.6._network.edge_linear.weight', '_blocks.6._network.edge_linear.bias', '_blocks.6._network.edge_mlp.lins.0.weight', '_blocks.6._network.edge_mlp.lins.0.bias', '_blocks.6._network.edge_mlp.lins.1.weight', '_blocks.6._network.edge_mlp.lins.1.bias', '_blocks.6._network.edge_mlp.lins.2.weight', '_blocks.6._network.edge_mlp.lins.2.bias', '_blocks.6._network.edge_mlp.lins.3.weight', '_blocks.6._network.edge_mlp.lins.3.bias', '_blocks.6._network.node_linear.weight', '_blocks.6._network.node_linear.bias', '_blocks.6._network.node_mlp.lins.0.weight', '_blocks.6._network.node_mlp.lins.0.bias', '_blocks.6._network.node_mlp.lins.1.weight', '_blocks.6._network.node_mlp.lins.1.bias', '_blocks.6._network.node_mlp.lins.2.weight', '_blocks.6._network.node_mlp.lins.2.bias', '_blocks.6._network.node_mlp.lins.3.weight', '_blocks.6._network.node_mlp.lins.3.bias', '_blocks.6._network.select.weight', '_blocks.6._network.select_nodes.weight', '_blocks.7._network._edge_block._edge_model.lins.0.weight', '_blocks.7._network._edge_block._edge_model.lins.0.bias', '_blocks.7._network._edge_block._edge_model.lins.1.weight', '_blocks.7._network._edge_block._edge_model.lins.1.bias', '_blocks.7._network._edge_block._edge_model.lins.2.weight', '_blocks.7._network._edge_block._edge_model.lins.2.bias', '_blocks.7._network._edge_block._edge_model.lins.3.weight', '_blocks.7._network._edge_block._edge_model.lins.3.bias', '_blocks.7._network._node_block._node_model.lins.0.weight', '_blocks.7._network._node_block._node_model.lins.0.bias', '_blocks.7._network._node_block._node_model.lins.1.weight', '_blocks.7._network._node_block._node_model.lins.1.bias', '_blocks.7._network._node_block._node_model.lins.2.weight', '_blocks.7._network._node_block._node_model.lins.2.bias', '_blocks.7._network._node_block._node_model.lins.3.weight', '_blocks.7._network._node_block._node_model.lins.3.bias', '_blocks.7._network._global_block._global_model.lins.0.weight', '_blocks.7._network._global_block._global_model.lins.0.bias', '_blocks.7._network._global_block._global_model.lins.1.weight', '_blocks.7._network._global_block._global_model.lins.1.bias', '_blocks.7._network._global_block._global_model.lins.2.weight', '_blocks.7._network._global_block._global_model.lins.2.bias', '_blocks.7._network._global_block._global_model.lins.3.weight', '_blocks.7._network._global_block._global_model.lins.3.bias', '_blocks.7._network.edge_linear.weight', '_blocks.7._network.edge_linear.bias', '_blocks.7._network.edge_mlp.lins.0.weight', '_blocks.7._network.edge_mlp.lins.0.bias', '_blocks.7._network.edge_mlp.lins.1.weight', '_blocks.7._network.edge_mlp.lins.1.bias', '_blocks.7._network.edge_mlp.lins.2.weight', '_blocks.7._network.edge_mlp.lins.2.bias', '_blocks.7._network.edge_mlp.lins.3.weight', '_blocks.7._network.edge_mlp.lins.3.bias', '_blocks.7._network.node_linear.weight', '_blocks.7._network.node_linear.bias', '_blocks.7._network.node_mlp.lins.0.weight', '_blocks.7._network.node_mlp.lins.0.bias', '_blocks.7._network.node_mlp.lins.1.weight', '_blocks.7._network.node_mlp.lins.1.bias', '_blocks.7._network.node_mlp.lins.2.weight', '_blocks.7._network.node_mlp.lins.2.bias', '_blocks.7._network.node_mlp.lins.3.weight', '_blocks.7._network.node_mlp.lins.3.bias', '_blocks.7._network.select.weight', '_blocks.7._network.select_nodes.weight', '_decoder._network._edge_model._model.lins.0.weight', '_decoder._network._edge_model._model.lins.0.bias', '_decoder._network._edge_model._model.lins.1.weight', '_decoder._network._edge_model._model.lins.1.bias', '_decoder._network._edge_model._model.lins.2.weight', '_decoder._network._edge_model._model.lins.2.bias', '_decoder._network._edge_model._model.lins.3.weight', '_decoder._network._edge_model._model.lins.3.bias', '_decoder._network._node_model._model.lins.0.weight', '_decoder._network._node_model._model.lins.0.bias', '_decoder._network._node_model._model.lins.1.weight', '_decoder._network._node_model._model.lins.1.bias', '_decoder._network._node_model._model.lins.2.weight', '_decoder._network._node_model._model.lins.2.bias', '_decoder._network._node_model._model.lins.3.weight', '_decoder._network._node_model._model.lins.3.bias', '_decoder._network._global_model._model.lins.0.weight', '_decoder._network._global_model._model.lins.0.bias', '_decoder._network._global_model._model.lins.1.weight', '_decoder._network._global_model._model.lins.1.bias', '_decoder._network._global_model._model.lins.2.weight', '_decoder._network._global_model._model.lins.2.bias', '_decoder._network._global_model._model.lins.3.weight', '_decoder._network._global_model._model.lins.3.bias', '_output_transform._edge_model._model.weight', '_output_transform._edge_model._model.bias'])"
      ]
     },
     "execution_count": 14,
     "metadata": {},
     "output_type": "execute_result"
    }
   ],
   "source": [
    "dic.keys()"
   ]
  },
  {
   "cell_type": "code",
   "execution_count": 15,
   "id": "31e765af-1f0a-4a11-b0c9-6f5725cfc519",
   "metadata": {},
   "outputs": [
    {
     "name": "stdout",
     "output_type": "stream",
     "text": [
      "_encoder._network._edge_model._model.lins.0.weight\n"
     ]
    },
    {
     "ename": "RuntimeError",
     "evalue": "Can't access the shape of an uninitialized parameter or buffer. This error usually happens in `load_state_dict` when trying to load an uninitialized parameter into an initialized one. Call `forward` to initialize the parameters before accessing their attributes.",
     "output_type": "error",
     "traceback": [
      "\u001b[0;31m---------------------------------------------------------------------------\u001b[0m",
      "\u001b[0;31mRuntimeError\u001b[0m                              Traceback (most recent call last)",
      "Cell \u001b[0;32mIn[15], line 3\u001b[0m\n\u001b[1;32m      1\u001b[0m \u001b[38;5;28;01mfor\u001b[39;00m par \u001b[38;5;129;01min\u001b[39;00m myModel\u001b[38;5;241m.\u001b[39mnamed_parameters():\n\u001b[1;32m      2\u001b[0m     \u001b[38;5;28mprint\u001b[39m(par[\u001b[38;5;241m0\u001b[39m])\n\u001b[0;32m----> 3\u001b[0m     \u001b[38;5;28mprint\u001b[39m(\u001b[43mpar\u001b[49m\u001b[43m[\u001b[49m\u001b[38;5;241;43m1\u001b[39;49m\u001b[43m]\u001b[49m\u001b[38;5;241;43m.\u001b[39;49m\u001b[43mshape\u001b[49m)\n\u001b[1;32m      4\u001b[0m     \u001b[38;5;28mprint\u001b[39m(dic[par[\u001b[38;5;241m0\u001b[39m]]\u001b[38;5;241m.\u001b[39mshape)\n\u001b[1;32m      5\u001b[0m     \u001b[38;5;28mprint\u001b[39m(par[\u001b[38;5;241m1\u001b[39m]\u001b[38;5;241m.\u001b[39mshape \u001b[38;5;241m==\u001b[39m dic[par[\u001b[38;5;241m0\u001b[39m]]\u001b[38;5;241m.\u001b[39mshape)\n",
      "File \u001b[0;32m~/anaconda3/envs/torch2/lib/python3.12/site-packages/torch/nn/parameter.py:128\u001b[0m, in \u001b[0;36mUninitializedTensorMixin.shape\u001b[0;34m(self)\u001b[0m\n\u001b[1;32m    126\u001b[0m \u001b[38;5;129m@property\u001b[39m\n\u001b[1;32m    127\u001b[0m \u001b[38;5;28;01mdef\u001b[39;00m \u001b[38;5;21mshape\u001b[39m(\u001b[38;5;28mself\u001b[39m):\n\u001b[0;32m--> 128\u001b[0m     \u001b[38;5;28;01mraise\u001b[39;00m \u001b[38;5;167;01mRuntimeError\u001b[39;00m(\n\u001b[1;32m    129\u001b[0m         \u001b[38;5;124m'\u001b[39m\u001b[38;5;124mCan\u001b[39m\u001b[38;5;130;01m\\'\u001b[39;00m\u001b[38;5;124mt access the shape of an uninitialized parameter or buffer. \u001b[39m\u001b[38;5;124m'\u001b[39m\n\u001b[1;32m    130\u001b[0m         \u001b[38;5;124m'\u001b[39m\u001b[38;5;124mThis error usually happens in `load_state_dict` when trying to load \u001b[39m\u001b[38;5;124m'\u001b[39m\n\u001b[1;32m    131\u001b[0m         \u001b[38;5;124m'\u001b[39m\u001b[38;5;124man uninitialized parameter into an initialized one. \u001b[39m\u001b[38;5;124m'\u001b[39m\n\u001b[1;32m    132\u001b[0m         \u001b[38;5;124m'\u001b[39m\u001b[38;5;124mCall `forward` to initialize the parameters before accessing their attributes.\u001b[39m\u001b[38;5;124m'\u001b[39m)\n",
      "\u001b[0;31mRuntimeError\u001b[0m: Can't access the shape of an uninitialized parameter or buffer. This error usually happens in `load_state_dict` when trying to load an uninitialized parameter into an initialized one. Call `forward` to initialize the parameters before accessing their attributes."
     ]
    }
   ],
   "source": [
    "for par in myModel.named_parameters():\n",
    "    print(par[0])\n",
    "    print(par[1].shape)\n",
    "    print(dic[par[0]].shape)\n",
    "    print(par[1].shape == dic[par[0]].shape)\n",
    "    #print(par[1].shape)\n",
    "    #print(dic[par[0]].shape)"
   ]
  },
  {
   "cell_type": "code",
   "execution_count": 12,
   "id": "dc700d3f-162f-4395-817f-d198a9f448bf",
   "metadata": {},
   "outputs": [
    {
     "name": "stdout",
     "output_type": "stream",
     "text": [
      "_encoder._network._edge_model._model.lins.0.weight\n"
     ]
    },
    {
     "ename": "NameError",
     "evalue": "name 'dic' is not defined",
     "output_type": "error",
     "traceback": [
      "\u001b[0;31m---------------------------------------------------------------------------\u001b[0m",
      "\u001b[0;31mNameError\u001b[0m                                 Traceback (most recent call last)",
      "Cell \u001b[0;32mIn[12], line 4\u001b[0m\n\u001b[1;32m      2\u001b[0m \u001b[38;5;28mprint\u001b[39m(par[\u001b[38;5;241m0\u001b[39m])\n\u001b[1;32m      3\u001b[0m \u001b[38;5;66;03m#print(par[1].shape)\u001b[39;00m\n\u001b[0;32m----> 4\u001b[0m \u001b[38;5;28mprint\u001b[39m(\u001b[43mdic\u001b[49m[par[\u001b[38;5;241m0\u001b[39m]]\u001b[38;5;241m.\u001b[39mshape)\n",
      "\u001b[0;31mNameError\u001b[0m: name 'dic' is not defined"
     ]
    }
   ],
   "source": [
    "for par in myModel.named_parameters():\n",
    "    print(par[0])\n",
    "    #print(par[1].shape)\n",
    "    print(dic[par[0]].shape)"
   ]
  },
  {
   "cell_type": "code",
   "execution_count": 15,
   "id": "2185b2f5-3338-4ff5-9be8-0953b80bb107",
   "metadata": {},
   "outputs": [
    {
     "data": {
      "text/plain": [
       "BCELoss()"
      ]
     },
     "execution_count": 15,
     "metadata": {},
     "output_type": "execute_result"
    }
   ],
   "source": [
    "\n",
    "myModel=EncodeProcessDecode(mlp_output_size=MLP_OUTPUT_SIZE, edge_op=4, num_blocks=8)\n",
    "\n",
    "myModel.cuda()\n",
    "\n",
    "optimizer = torch.optim.Adam(myModel.parameters(), lr=0.001)\n",
    "criterion = nn.CrossEntropyLoss(weight=weights)\n",
    "pos_weight = torch.tensor([166.128])  \n",
    "\n",
    "criterionBCE = nn.BCELoss(weight=pos_weight) \n",
    "pos_weight = torch.tensor([15.5])\n",
    "criterionBCEnodes = nn.BCELoss(weight=pos_weight) \n",
    "\n",
    "criterion.to('cuda')\n",
    "criterionBCE.cuda()\n",
    "criterionBCEnodes.cuda()"
   ]
  },
  {
   "cell_type": "code",
   "execution_count": 16,
   "id": "03e3427b-55aa-41af-b285-9c728a3d707f",
   "metadata": {},
   "outputs": [],
   "source": [
    "last_batch = len(loader_tr)\n",
    "\n",
    "def train_one_epoch(epoch_index):\n",
    "    \n",
    "    running_loss = 0.\n",
    "    last_loss = 0.\n",
    "    acc_one_epoch = []\n",
    "    if epoch_index > 100:\n",
    "        # don't use this right now\n",
    "        #myModel._blocks[2]._network.node_prune = True\n",
    "        #myModel._blocks[2]._network.edge_prune = False\n",
    "        #myModel._blocks[2]._network.prune_by_cut = False\n",
    "        #myModel._blocks[1]._network.prune_by_cut = True\n",
    "        #myModel._blocks[1]._network.edge_prune = True\n",
    "        #myModel._blocks[1]._network.edge_weight_cut = 0.005\n",
    "        #myModel._blocks[2]._network.edge_weight_cut = 0.005\n",
    "        #myModel._core2._network.select_nodes = SelectTopK(1,40).cuda()\n",
    "        #myModel.ratio = 0.75\n",
    "        print(\"pruning on \")\n",
    "    for i, data in enumerate(loader_tr): \n",
    "        data['graph_globals'] = data['graph_globals'].unsqueeze(1)\n",
    "        data.receivers = data.receivers - torch.min(data.receivers)\n",
    "        data.senders = data.senders - torch.min(data.senders)\n",
    "        data.edgepos = data.edgepos - torch.min(data.edgepos)\n",
    "        optimizer.zero_grad()\n",
    "        #print(data)\n",
    "        data.to('cuda')\n",
    "        #print(\"shape before \", data.y.shape)\n",
    "        yBCE_start = 1.*(data.y[:,0]==0).unsqueeze(1)\n",
    "        num_nodes=data.nodes.shape[0]\n",
    "        out = data.edges.new_zeros(num_nodes, data.edges.shape[1])\n",
    "        node_sum = scatter_add(data.y,data.senders,out=out,dim=0)\n",
    "        ynodes_start = (1.*(torch.sum(node_sum[:,1:],1)>0)).unsqueeze(1)\n",
    "        \n",
    "        label0 = data.y.argmax(dim=1)\n",
    "        #print(\"first label0 \",label0)\n",
    "        answers = torch.ones_like(data.edges).cuda()\n",
    "        #print(data)\n",
    "        outputs = myModel(data, num_processing_steps=STEP_SIZE)\n",
    "        #print(outputs)\n",
    "        data = outputs\n",
    "\n",
    "        #print('after', data)        \n",
    "        #ycopy = data.y.copy()\n",
    "        #print(\"shape after \", data.y.shape)\n",
    "        label= data.y.argmax(dim=1)\n",
    "        num_nodes=data.nodes.shape[0]\n",
    "        out = data.edges.new_zeros(num_nodes, data.edges.shape[1])\n",
    "        node_sum = scatter_add(data.y,data.senders,out=out,dim=0)\n",
    "        ynodes = (1.*(torch.sum(node_sum[:,1:],1)>0)).unsqueeze(1)\n",
    "    #         print(data.y)\n",
    "#         label= data.y\n",
    "#         print(outputs.edges)\n",
    "#         break\n",
    "#         pred = torch.softmax(outputs.edges, dim=1)\n",
    "        if myModel._blocks[2]._network.node_prune == True:\n",
    "            #indices= myModel._blocks[2]._network.edge_indices\n",
    "            indices = myModel._blocks[2]._network.edge_node_pruning_indices\n",
    "            #print(label.shape)\n",
    "            #print(outputs)\n",
    "            loss = criterion(outputs.edges, label) \n",
    "            #print(\"label0 \",label0)\n",
    "            index = torch.ones(label0.shape[0], dtype=bool).cuda()\n",
    "            index[indices] = False\n",
    "            selected_labels = label0[index]\n",
    "            answers[:,1:] = 0\n",
    "            answers[indices] = outputs.edges\n",
    "            num_nodes=data.nodes.shape[0]\n",
    "            out = data.edges.new_zeros(num_nodes, data.edges.shape[1])\n",
    "            node_sum = scatter_add(data.y,data.senders,out=out,dim=0)\n",
    "            ynodes = (1.*(torch.sum(node_sum[:,1:],1)>0)).unsqueeze(1)\n",
    "            #loss += criterion(answers[index], selected_labels)\n",
    "            yBCE = 1.*(data.y[:,0]==0).unsqueeze(1)\n",
    "            #print(myModel.blocks[2]._network.edge_weights.shape)\n",
    "            #print('shape later ', yBCE.shape)\n",
    "            for block in myModel._blocks:\n",
    "                if block._network.edge_prune:\n",
    "                    yBCE_start = yBCE_start[block._network.edge_indices ]\n",
    "                    loss += 0.2*criterionBCE(block._network.edge_weights, yBCE_start)\n",
    "                if block._network.node_prune:\n",
    "                    yBCE_start = yBCE_start[block._network.edge_node_pruning_indices ]\n",
    "                    loss += 0.2*criterionBCE(block._network.edge_weights, yBCE_start)\n",
    "                else:\n",
    "                    loss += 0.2*criterionBCE(block._network.edge_weights, yBCE_start)\n",
    "                if block._network.node_prune:\n",
    "                    ynodes_start = ynodes_start[block._network.node_indices]\n",
    "                    loss += 0.2*criterionBCEnodes(block._network.node_weights, ynodes_start)                    \n",
    "                else:\n",
    "                    loss += 0.2*criterionBCEnodes(block._network.node_weights, ynodes_start)\n",
    "        else:\n",
    "            loss = criterion(outputs.edges, label) \n",
    "        #loss = criterion(outputs.edges, label) \n",
    "            yBCE = 1.*(data.y[:,0]==0).unsqueeze(1)\n",
    "            for block in myModel._blocks:\n",
    "                loss += 0.2*criterionBCE(block._network.edge_weights, yBCE)\n",
    "                loss += 0.2*criterionBCEnodes(block._network.node_weights, ynodes)\n",
    "                \n",
    "\n",
    "    \n",
    "        loss.backward()\n",
    "\n",
    "        if myModel._blocks[2]._network.node_prune:\n",
    "           acc_one_batch = acc_four_class(answers, label0)\n",
    "        else:\n",
    "            acc_one_batch = acc_four_class(outputs.edges, label)\n",
    "        acc_one_epoch.append(acc_one_batch)\n",
    "        # Adjust learning weights\n",
    "        optimizer.step()\n",
    "#         break\n",
    "        # Gather data and report\n",
    "        running_loss += loss.item()\n",
    "        if (i+1) == last_batch:\n",
    "            last_loss = running_loss / last_batch # loss per batch\n",
    "            print('  batch {} last_batch {} loss: {}'.format(i + 1, last_batch, last_loss))\n",
    "\n",
    "            running_loss = 0.\n",
    "    \n",
    "        \n",
    "    acc_one_epoch=torch.stack(acc_one_epoch)\n",
    "\n",
    "    return last_loss, acc_one_epoch.nanmean(dim=0)"
   ]
  },
  {
   "cell_type": "code",
   "execution_count": 17,
   "id": "8aadce54-b8e0-4474-b3de-b78a5caa88d2",
   "metadata": {},
   "outputs": [],
   "source": [
    "last_batch_vl = len(loader_vl)\n",
    "\n",
    "def eval_one_epoch(epoch_index):\n",
    "    running_loss = 0.\n",
    "    last_loss = 0.\n",
    "    acc_one_epoch = []\n",
    "    \n",
    "    for j, vdata in enumerate(loader_vl): \n",
    "\n",
    "        vdata['graph_globals'] = vdata['graph_globals'].unsqueeze(1)\n",
    "        vdata.receivers = vdata.receivers - torch.min(vdata.receivers)\n",
    "        vdata.senders = vdata.senders - torch.min(vdata.senders)\n",
    "        vdata.edgepos = vdata.edgepos - torch.min(vdata.edgepos)\n",
    "        vdata.to('cuda')\n",
    "        yBCE_start = 1.*(vdata.y[:,0]==0).unsqueeze(1)\n",
    "        num_nodes=vdata.nodes.shape[0]\n",
    "        out = vdata.edges.new_zeros(num_nodes, vdata.edges.shape[1])\n",
    "        node_sum = scatter_add(vdata.y,vdata.senders,out=out,dim=0)\n",
    "        ynodes_start = (1.*(torch.sum(node_sum[:,1:],1)>0)).unsqueeze(1)\n",
    "        \n",
    "        label0 = vdata.y.argmax(dim=1)\n",
    "        answers = torch.ones_like(vdata.edges).cuda()\n",
    "\n",
    "        outputs = myModel(vdata, num_processing_steps=STEP_SIZE)\n",
    "\n",
    "        vdata = outputs\n",
    "        label= vdata.y.argmax(dim=1)\n",
    "\n",
    "        num_nodes=vdata.nodes.shape[0]\n",
    "        out = vdata.edges.new_zeros(num_nodes, vdata.edges.shape[1])\n",
    "        node_sum = scatter_add(vdata.y,vdata.senders,out=out,dim=0)\n",
    "        ynodes = (1.*(torch.sum(node_sum[:,1:],1)>0)).unsqueeze(1)\n",
    "#         label= vdata.y\n",
    "        \n",
    "#         loss = criterion(outputs.edges, label)\n",
    "#         loss = criterion.loss(outputs.edges, vdata.y)\n",
    "#         pred = torch.softmax(outputs.edges, dim=1)\n",
    "        #if myModel._blocks[3]._network.edge_prune == True:\n",
    "        if myModel._blocks[2]._network.node_prune == True:\n",
    "            #indices= myModel._blocks[3]._network.edge_indices\n",
    "            #indices= myModel._blocks[3]._network.edge_index\n",
    "            indices = myModel._blocks[2]._network.edge_node_pruning_indices\n",
    "            \n",
    "            #print(label.shape)\n",
    "            loss = criterion(outputs.edges, label) \n",
    "            index = torch.ones(label0.shape[0], dtype=bool).cuda()\n",
    "            index[indices] = False\n",
    "            selected_labels = label0[index]\n",
    "            answers[:,1:] = 0\n",
    "            answers[indices] = outputs.edges\n",
    "            num_nodes=vdata.nodes.shape[0]\n",
    "            out = vdata.edges.new_zeros(num_nodes, vdata.edges.shape[1])\n",
    "            node_sum = scatter_add(vdata.y,vdata.senders,out=out,dim=0)\n",
    "            ynodes = (1.*(torch.sum(node_sum[:,1:],1)>0)).unsqueeze(1)\n",
    "            # include missing graph \n",
    "            #loss += criterion(answers[index], selected_labels)\n",
    "            yBCE = 1.*(vdata.y[:,0]==0).unsqueeze(1)\n",
    "            for block in myModel._blocks:\n",
    "                if block._network.edge_prune:\n",
    "                    yBCE_start = yBCE_start[block._network.edge_indices ]\n",
    "                    loss += 0.2*criterionBCE(block._network.edge_weights, yBCE_start)\n",
    "                if block._network.node_prune:\n",
    "                    yBCE_start = yBCE_start[block._network.edge_node_pruning_indices ]\n",
    "                    loss += 0.2*criterionBCE(block._network.edge_weights, yBCE_start)\n",
    "                else:\n",
    "                    loss += 0.2*criterionBCE(block._network.edge_weights, yBCE_start)\n",
    "                if block._network.node_prune:\n",
    "                    #ynodes_start = ynodes_start[block._network.node_indices]\n",
    "                    loss += 0.2*criterionBCEnodes(block._network.node_weights, ynodes_start)                    \n",
    "                else:\n",
    "                    loss += 0.2*criterionBCEnodes(block._network.node_weights, ynodes_start)\n",
    "        else:\n",
    "            loss = criterion(outputs.edges, label) \n",
    "            yBCE = 1.*(vdata.y[:,0]==0).unsqueeze(1)\n",
    "            for block in myModel._blocks:\n",
    "                loss += 0.2*criterionBCE(block._network.edge_weights, yBCE)\n",
    "                loss += 0.2*criterionBCEnodes(block._network.node_weights, ynodes)\n",
    "\n",
    "        #if myModel._blocks[3]._network.edge_prune:\n",
    "        if myModel._blocks[2]._network.node_prune == True:\n",
    "            acc_one_batch = acc_four_class(answers, label0)\n",
    "        else:\n",
    "            acc_one_batch = acc_four_class(outputs.edges, label)\n",
    "        acc_one_epoch.append(acc_one_batch)\n",
    "#         break\n",
    "        # Gather data and report\n",
    "        running_loss += loss.item()\n",
    "        if (j+1) == last_batch_vl:\n",
    "            last_loss = running_loss / last_batch_vl # loss per batch\n",
    "            print(' validation: batch {} last_batch {} loss: {}'.format(j + 1, last_batch_vl, last_loss))\n",
    "            running_loss = 0.\n",
    "    \n",
    "    acc_one_epoch=torch.stack(acc_one_epoch)\n",
    "\n",
    "    return last_loss, acc_one_epoch.nanmean(dim=0)"
   ]
  },
  {
   "cell_type": "code",
   "execution_count": 18,
   "id": "25668edb-d889-4af3-9f6e-d46b67ae1630",
   "metadata": {},
   "outputs": [
    {
     "name": "stdout",
     "output_type": "stream",
     "text": [
      "epoch no.  1\n"
     ]
    },
    {
     "ename": "KeyboardInterrupt",
     "evalue": "",
     "output_type": "error",
     "traceback": [
      "\u001b[0;31m---------------------------------------------------------------------------\u001b[0m",
      "\u001b[0;31mKeyboardInterrupt\u001b[0m                         Traceback (most recent call last)",
      "Cell \u001b[0;32mIn[18], line 21\u001b[0m\n\u001b[1;32m     19\u001b[0m \u001b[38;5;66;03m# Make sure gradient tracking is on, and do a pass over the data\u001b[39;00m\n\u001b[1;32m     20\u001b[0m myModel\u001b[38;5;241m.\u001b[39mtrain(\u001b[38;5;28;01mTrue\u001b[39;00m)\n\u001b[0;32m---> 21\u001b[0m tr_loss, tr_acc\u001b[38;5;241m=\u001b[39m \u001b[43mtrain_one_epoch\u001b[49m\u001b[43m(\u001b[49m\u001b[43mepoch_number\u001b[49m\u001b[43m)\u001b[49m\n\u001b[1;32m     22\u001b[0m lst_tr_loss\u001b[38;5;241m.\u001b[39mappend(tr_loss)\n\u001b[1;32m     23\u001b[0m lst_tr_acc\u001b[38;5;241m.\u001b[39mappend(tr_acc)\n",
      "Cell \u001b[0;32mIn[16], line 105\u001b[0m, in \u001b[0;36mtrain_one_epoch\u001b[0;34m(epoch_index)\u001b[0m\n\u001b[1;32m    103\u001b[0m    acc_one_batch \u001b[38;5;241m=\u001b[39m acc_four_class(answers, label0)\n\u001b[1;32m    104\u001b[0m \u001b[38;5;28;01melse\u001b[39;00m:\n\u001b[0;32m--> 105\u001b[0m     acc_one_batch \u001b[38;5;241m=\u001b[39m \u001b[43macc_four_class\u001b[49m\u001b[43m(\u001b[49m\u001b[43moutputs\u001b[49m\u001b[38;5;241;43m.\u001b[39;49m\u001b[43medges\u001b[49m\u001b[43m,\u001b[49m\u001b[43m \u001b[49m\u001b[43mlabel\u001b[49m\u001b[43m)\u001b[49m\n\u001b[1;32m    106\u001b[0m acc_one_epoch\u001b[38;5;241m.\u001b[39mappend(acc_one_batch)\n\u001b[1;32m    107\u001b[0m \u001b[38;5;66;03m# Adjust learning weights\u001b[39;00m\n",
      "File \u001b[0;32m~/Work/Zurich/LHCb/GNNs/weighted_MP_gnn/wmpgnn/util/functions.py:30\u001b[0m, in \u001b[0;36macc_four_class\u001b[0;34m(pred, label)\u001b[0m\n\u001b[1;32m     27\u001b[0m     \u001b[38;5;28mprint\u001b[39m(\u001b[38;5;28mlen\u001b[39m(pred), \u001b[38;5;28mlen\u001b[39m(label))\n\u001b[1;32m     29\u001b[0m \u001b[38;5;28;01melse\u001b[39;00m:\n\u001b[0;32m---> 30\u001b[0m     correct_class1 \u001b[38;5;241m=\u001b[39m \u001b[43mtorch\u001b[49m\u001b[38;5;241;43m.\u001b[39;49m\u001b[43msum\u001b[49m\u001b[43m(\u001b[49m\u001b[43mpred_argmax\u001b[49m\u001b[43m[\u001b[49m\u001b[43mlabel\u001b[49m\u001b[43m \u001b[49m\u001b[38;5;241;43m==\u001b[39;49m\u001b[43m \u001b[49m\u001b[38;5;241;43m0\u001b[39;49m\u001b[43m]\u001b[49m\u001b[43m \u001b[49m\u001b[38;5;241;43m==\u001b[39;49m\u001b[43m \u001b[49m\u001b[43mlabel\u001b[49m\u001b[43m[\u001b[49m\u001b[43mlabel\u001b[49m\u001b[43m \u001b[49m\u001b[38;5;241;43m==\u001b[39;49m\u001b[43m \u001b[49m\u001b[38;5;241;43m0\u001b[39;49m\u001b[43m]\u001b[49m\u001b[43m)\u001b[49m\n\u001b[1;32m     31\u001b[0m     correct_class2 \u001b[38;5;241m=\u001b[39m torch\u001b[38;5;241m.\u001b[39msum(pred_argmax[label \u001b[38;5;241m==\u001b[39m \u001b[38;5;241m1\u001b[39m] \u001b[38;5;241m==\u001b[39m label[label \u001b[38;5;241m==\u001b[39m \u001b[38;5;241m1\u001b[39m])\n\u001b[1;32m     32\u001b[0m     correct_class3 \u001b[38;5;241m=\u001b[39m torch\u001b[38;5;241m.\u001b[39msum(pred_argmax[label \u001b[38;5;241m==\u001b[39m \u001b[38;5;241m2\u001b[39m] \u001b[38;5;241m==\u001b[39m label[label \u001b[38;5;241m==\u001b[39m \u001b[38;5;241m2\u001b[39m])\n",
      "\u001b[0;31mKeyboardInterrupt\u001b[0m: "
     ]
    }
   ],
   "source": [
    "STEP_SIZE = 2\n",
    "\n",
    "lst_tr_loss = []\n",
    "lst_vl_loss = []\n",
    "\n",
    "lst_vl_acc = []\n",
    "lst_tr_acc = []\n",
    "start = time.time()\n",
    "\n",
    "epoch_number = 0\n",
    "\n",
    "EPOCHS = 30\n",
    "\n",
    "best_vloss = 1_000_000.\n",
    "\n",
    "for epoch in range(EPOCHS):\n",
    "    print(\"epoch no. \", (epoch_number + 1))\n",
    "\n",
    "    # Make sure gradient tracking is on, and do a pass over the data\n",
    "    myModel.train(True)\n",
    "    tr_loss, tr_acc= train_one_epoch(epoch_number)\n",
    "    lst_tr_loss.append(tr_loss)\n",
    "    lst_tr_acc.append(tr_acc)\n",
    "#     break\n",
    "    # We don't need gradients on to do reporting\n",
    "    myModel.train(False)\n",
    "    vl_loss, vl_acc= eval_one_epoch(epoch_number)\n",
    "    lst_vl_loss.append(vl_loss)\n",
    "    lst_vl_acc.append(vl_acc)\n",
    "    \n",
    "    print(f'Train Loss: {tr_loss:03f}')\n",
    "    \n",
    "    epoch_number += 1\n",
    "    \n",
    "\n",
    "end = time.time()"
   ]
  },
  {
   "cell_type": "code",
   "execution_count": null,
   "id": "00dad8ba-6f29-4731-bcb2-3cd6c46b0594",
   "metadata": {},
   "outputs": [],
   "source": [
    "myModel.train(False)\n",
    "vl_loss, vl_acc= eval_one_epoch(epoch_number)\n",
    "lst_vl_loss.append(vl_loss)\n",
    "lst_vl_acc.append(vl_acc)"
   ]
  },
  {
   "cell_type": "code",
   "execution_count": 29,
   "id": "8d438f22-f107-4a6e-84b2-2e15379b1a9f",
   "metadata": {},
   "outputs": [
    {
     "data": {
      "text/plain": [
       "[tensor([0.9822, 0.7619, 0.5001, 0.8182])]"
      ]
     },
     "execution_count": 29,
     "metadata": {},
     "output_type": "execute_result"
    }
   ],
   "source": [
    "lst_vl_acc"
   ]
  },
  {
   "cell_type": "code",
   "execution_count": 28,
   "id": "854bee88-c481-4cb9-b103-5100fd58b57b",
   "metadata": {},
   "outputs": [
    {
     "data": {
      "text/plain": [
       "tensor([0.9822, 0.7619, 0.5001, 0.8182])"
      ]
     },
     "execution_count": 28,
     "metadata": {},
     "output_type": "execute_result"
    }
   ],
   "source": [
    "lst_vl_acc[-1]"
   ]
  },
  {
   "cell_type": "code",
   "execution_count": 155,
   "id": "4762b90d-ecff-4a14-9956-40793643eeee",
   "metadata": {},
   "outputs": [
    {
     "data": {
      "text/plain": [
       "tensor([0.9779, 0.3284, 0.7154, 0.6827])"
      ]
     },
     "execution_count": 155,
     "metadata": {},
     "output_type": "execute_result"
    }
   ],
   "source": [
    "lst_vl_acc[-1]"
   ]
  },
  {
   "cell_type": "code",
   "execution_count": 18,
   "id": "43d649ca-c27d-483c-b3ea-2d390e9f65f0",
   "metadata": {
    "scrolled": true
   },
   "outputs": [
    {
     "name": "stdout",
     "output_type": "stream",
     "text": [
      "acc_LCAloss_BCE_pruning_from_epoch_30_8.png\n",
      "acc_LCAloss_BCE_pruning_from_epoch_30_new_2.png\n",
      "acc_LCAloss_BCE_pruning_from_epoch_30_new_3.png\n",
      "acc_LCAloss_BCE_pruning_from_epoch_30_new.png\n",
      "LCA_pruning_for_Azusa.ipynb\n",
      "loss_new_2.png\n",
      "loss_new_3.png\n",
      "loss_new.png\n",
      "loss.png\n",
      "model_27_epochs_pruning_latest.pth\n",
      "model_32_8block_epochs_pruning_latest.pth\n",
      "model_32_epochs_pruning_latest.pth\n",
      "model_34_6block_epochs_pruning_scattermean.pth\n",
      "Test.ipynb\n",
      "wmpgnn\n"
     ]
    }
   ],
   "source": [
    "!ls"
   ]
  },
  {
   "cell_type": "code",
   "execution_count": null,
   "id": "720bcec8-2c85-4ce0-a7af-d035ee38619e",
   "metadata": {},
   "outputs": [],
   "source": [
    "#myModel=EncodeProcessDecode(mlp_output_size=MLP_OUTPUT_SIZE, edge_op=4, num_blocks=8)\n",
    "#myModel.load_state_dict(torch.load('model_32_8block_epochs_pruning_latest.pth'))\n",
    "myModel.load_state_dict(torch.load('model_32_8block_epochs_pruning_latest.pth'))\n",
    "myModel.eval()\n",
    "myModel.cuda()"
   ]
  },
  {
   "cell_type": "code",
   "execution_count": 19,
   "id": "70b9db26-e665-451c-b184-1f5b54bc993f",
   "metadata": {},
   "outputs": [],
   "source": [
    "loader_vl = DataLoader(dataset_vl, batch_size=32, drop_last=True)\n",
    "for vdata in loader_vl:\n",
    "    break"
   ]
  },
  {
   "cell_type": "code",
   "execution_count": 20,
   "id": "5f548987-ddb5-4a60-9d78-13c89ee70074",
   "metadata": {},
   "outputs": [],
   "source": [
    "vdata\n",
    "start = torch.cuda.Event(enable_timing=True)\n",
    "end = torch.cuda.Event(enable_timing=True)\n"
   ]
  },
  {
   "cell_type": "code",
   "execution_count": 21,
   "id": "5ca529f0-0d02-43a3-9bd8-4f8dca40894f",
   "metadata": {},
   "outputs": [
    {
     "data": {
      "text/plain": [
       "EncodeProcessDecode(\n",
       "  (_encoder): MLPGraphIndependent(\n",
       "    (_network): GraphIndependent(\n",
       "      (_edge_model): WrappedModelFnModule(\n",
       "        (_model): MLP(-1, 128, 128, 128, 8)\n",
       "      )\n",
       "      (_node_model): WrappedModelFnModule(\n",
       "        (_model): MLP(-1, 128, 128, 128, 8)\n",
       "      )\n",
       "      (_global_model): WrappedModelFnModule(\n",
       "        (_model): MLP(-1, 128, 128, 128, 8)\n",
       "      )\n",
       "    )\n",
       "  )\n",
       "  (_core): MLPGraphNetwork(\n",
       "    (_network): GraphNetwork(\n",
       "      (_edge_block): EdgeBlock(\n",
       "        (_edge_model): MLP(-1, 128, 128, 128, 8)\n",
       "      )\n",
       "      (_node_block): NodeBlock(\n",
       "        (_node_model): MLP(-1, 128, 128, 128, 8)\n",
       "        (_sent_edges_aggregator): EdgesToNodesAggregator()\n",
       "      )\n",
       "      (_global_block): GlobalBlock(\n",
       "        (_global_model): MLP(-1, 128, 128, 128, 8)\n",
       "        (_edges_aggregator): EdgesToGlobalsAggregator()\n",
       "        (_nodes_aggregator): NodesToGlobalsAggregator()\n",
       "      )\n",
       "      (edge_linear): Linear(in_features=8, out_features=1, bias=True)\n",
       "      (edge_mlp): MLP(-1, 16, 16, 16, 1)\n",
       "      (node_linear): Linear(in_features=8, out_features=1, bias=True)\n",
       "      (node_mlp): MLP(-1, 16, 16, 16, 1)\n",
       "      (sigmoid): Sigmoid()\n",
       "      (select): SelectTopK(1, ratio=20)\n",
       "      (select_nodes): SelectTopK(1, ratio=70)\n",
       "    )\n",
       "  )\n",
       "  (_blocks): ModuleList(\n",
       "    (0-7): 8 x MLPGraphNetwork(\n",
       "      (_network): GraphNetwork(\n",
       "        (_edge_block): EdgeBlock(\n",
       "          (_edge_model): MLP(-1, 128, 128, 128, 8)\n",
       "        )\n",
       "        (_node_block): NodeBlock(\n",
       "          (_node_model): MLP(-1, 128, 128, 128, 8)\n",
       "          (_sent_edges_aggregator): EdgesToNodesAggregator()\n",
       "        )\n",
       "        (_global_block): GlobalBlock(\n",
       "          (_global_model): MLP(-1, 128, 128, 128, 8)\n",
       "          (_edges_aggregator): EdgesToGlobalsAggregator()\n",
       "          (_nodes_aggregator): NodesToGlobalsAggregator()\n",
       "        )\n",
       "        (edge_linear): Linear(in_features=8, out_features=1, bias=True)\n",
       "        (edge_mlp): MLP(-1, 16, 16, 16, 1)\n",
       "        (node_linear): Linear(in_features=8, out_features=1, bias=True)\n",
       "        (node_mlp): MLP(-1, 16, 16, 16, 1)\n",
       "        (sigmoid): Sigmoid()\n",
       "        (select): SelectTopK(1, ratio=20)\n",
       "        (select_nodes): SelectTopK(1, ratio=70)\n",
       "      )\n",
       "    )\n",
       "  )\n",
       "  (_decoder): MLPGraphIndependent(\n",
       "    (_network): GraphIndependent(\n",
       "      (_edge_model): WrappedModelFnModule(\n",
       "        (_model): MLP(-1, 128, 128, 128, 8)\n",
       "      )\n",
       "      (_node_model): WrappedModelFnModule(\n",
       "        (_model): MLP(-1, 128, 128, 128, 8)\n",
       "      )\n",
       "      (_global_model): WrappedModelFnModule(\n",
       "        (_model): MLP(-1, 128, 128, 128, 8)\n",
       "      )\n",
       "    )\n",
       "  )\n",
       "  (_output_transform): GraphIndependent(\n",
       "    (_edge_model): WrappedModelFnModule(\n",
       "      (_model): Linear(in_features=8, out_features=4, bias=True)\n",
       "    )\n",
       "  )\n",
       ")"
      ]
     },
     "execution_count": 21,
     "metadata": {},
     "output_type": "execute_result"
    }
   ],
   "source": [
    "vdata['graph_globals'] = vdata['graph_globals'].unsqueeze(1)\n",
    "vdata.receivers = vdata.receivers - torch.min(vdata.receivers)\n",
    "vdata.senders = vdata.senders - torch.min(vdata.senders)\n",
    "vdata.edgepos = vdata.edgepos - torch.min(vdata.edgepos)\n",
    "vdata.cuda()\n",
    "myModel.cuda()"
   ]
  },
  {
   "cell_type": "code",
   "execution_count": 22,
   "id": "1d627bf5-c298-43a3-874a-3d8a315a0e0f",
   "metadata": {},
   "outputs": [],
   "source": [
    "#out"
   ]
  },
  {
   "cell_type": "code",
   "execution_count": 23,
   "id": "12c992c9-e727-44cf-aadf-0740d4418b3d",
   "metadata": {},
   "outputs": [
    {
     "data": {
      "text/plain": [
       "DataBatch(y=[117026, 4], nodes=[3018, 4], edges=[117026, 4], senders=[117026], receivers=[117026], graph_globals=[32, 1], edgepos=[117026], num_edges=[32], num_nodes=3018, batch=[3018], ptr=[33])"
      ]
     },
     "execution_count": 23,
     "metadata": {},
     "output_type": "execute_result"
    }
   ],
   "source": [
    "vdata"
   ]
  },
  {
   "cell_type": "code",
   "execution_count": null,
   "id": "39d7b9c2-4edf-4245-b665-dec624872802",
   "metadata": {},
   "outputs": [],
   "source": []
  },
  {
   "cell_type": "code",
   "execution_count": 24,
   "id": "7b22adf4-60bb-4aed-a872-0844bc68619c",
   "metadata": {},
   "outputs": [
    {
     "data": {
      "text/plain": [
       "torch.Size([117026])"
      ]
     },
     "execution_count": 24,
     "metadata": {},
     "output_type": "execute_result"
    }
   ],
   "source": [
    "vdata.edgepos.shape"
   ]
  },
  {
   "cell_type": "code",
   "execution_count": 25,
   "id": "87907227-b704-4b8b-84c4-42c76bd7a8a0",
   "metadata": {},
   "outputs": [
    {
     "data": {
      "text/plain": [
       "DataBatch(y=[117026, 4], nodes=[3018, 4], edges=[117026, 4], senders=[117026], receivers=[117026], graph_globals=[32, 1], edgepos=[117026], num_edges=[32], num_nodes=3018, batch=[3018], ptr=[33])"
      ]
     },
     "execution_count": 25,
     "metadata": {},
     "output_type": "execute_result"
    }
   ],
   "source": [
    "vdata"
   ]
  },
  {
   "cell_type": "code",
   "execution_count": 26,
   "id": "704e4bcf-93ed-406a-a41c-f5750f134666",
   "metadata": {},
   "outputs": [],
   "source": [
    "from torch_geometric.nn.pool.select import SelectTopK\n",
    "#myModel._blocks[2]._network.node_prune = True\n",
    "#myModel._blocks[1]._network.node_prune = False\n",
    "#myModel._blocks[2]._network.prune_by_cut = True\n",
    "#myModel._blocks[1]._network.prune_by_cut = False\n",
    "\n",
    "myModel._blocks[2]._network.node_prune = True\n",
    "myModel._blocks[2]._network.prune_by_cut = True\n",
    "myModel._blocks[2]._network.node_weight_cut = 0.001\n",
    "#myModel._blocks[2]._network.device = 'cpu'\n",
    "# myModel._blocks[3]._network.edge_prune = True\n",
    "# myModel._blocks[3]._network.prune_by_cut = True\n",
    "# myModel._blocks[3]._network.edge_weight_cut = 0.001\n",
    "# myModel._blocks[3]._network.device = 'cpu'\n",
    "#myModel._blocks[2]._network.select_nodes = SelectTopK(1 ,60).cuda()\n",
    "# myModel._blocks[4]._network.node_prune = True\n",
    "# myMoout = myModel(vdata, num_processing_steps=STEP_SIZE)del._blocks[4]._network.prune_by_cut = True\n",
    "# myModel._blocks[4]._network.node_weight_cut = 0.02"
   ]
  },
  {
   "cell_type": "code",
   "execution_count": 27,
   "id": "c50e0b33-eccd-44d1-8ab9-7c15abca5164",
   "metadata": {},
   "outputs": [
    {
     "name": "stdout",
     "output_type": "stream",
     "text": [
      "How nodes should be  tensor([[ 71.9309,  60.1754,  76.1086,  ...,  58.0367, -31.9290,  77.2153],\n",
      "        [ 71.9309,  60.1754,  76.1086,  ...,  58.0367, -31.9290,  77.2153],\n",
      "        [ 71.9309,  60.1754,  76.1086,  ...,  58.0367, -31.9290,  77.2153],\n",
      "        ...,\n",
      "        [ 63.0708,  56.4929,  71.2664,  ...,  55.0893, -30.1216,  74.7465],\n",
      "        [ 63.1131,  56.5527,  71.3459,  ...,  55.1406, -30.1357,  74.8177],\n",
      "        [ 63.1131,  56.5527,  71.3459,  ...,  55.1406, -30.1357,  74.8177]],\n",
      "       device='cuda:0', grad_fn=<IndexBackward0>)\n",
      "How nodes are  tensor([[ 71.9309,  60.1754,  76.1086,  ...,  58.0367, -31.9290,  77.2153],\n",
      "        [ 71.9309,  60.1754,  76.1086,  ...,  58.0367, -31.9290,  77.2153],\n",
      "        [ 71.9309,  60.1754,  76.1086,  ...,  58.0367, -31.9290,  77.2153],\n",
      "        ...,\n",
      "        [ 63.0708,  56.4929,  71.2664,  ...,  55.0893, -30.1216,  74.7465],\n",
      "        [ 63.1131,  56.5527,  71.3459,  ...,  55.1406, -30.1357,  74.8177],\n",
      "        [ 63.1131,  56.5527,  71.3459,  ...,  55.1406, -30.1357,  74.8177]],\n",
      "       device='cuda:0', grad_fn=<IndexBackward0>)\n",
      "How nodes should be  tensor([[ -1.2803,   1.8084, -13.0333,  ...,  -9.1424,   3.2366,   3.6185],\n",
      "        [ -1.2803,   1.8084, -13.0333,  ...,  -9.1424,   3.2366,   3.6185],\n",
      "        [ -1.2803,   1.8084, -13.0333,  ...,  -9.1424,   3.2366,   3.6185],\n",
      "        ...,\n",
      "        [ -1.8125,   2.6787, -19.0450,  ..., -13.6212,   4.9812,   5.4041],\n",
      "        [ -1.8629,   2.6847, -19.2340,  ..., -13.6213,   4.8320,   5.3591],\n",
      "        [ -1.8629,   2.6847, -19.2340,  ..., -13.6213,   4.8320,   5.3591]],\n",
      "       device='cuda:0', grad_fn=<IndexBackward0>)\n",
      "How nodes are  tensor([[ -1.2803,   1.8084, -13.0333,  ...,  -9.1424,   3.2366,   3.6185],\n",
      "        [ -1.2803,   1.8084, -13.0333,  ...,  -9.1424,   3.2366,   3.6185],\n",
      "        [ -1.2803,   1.8084, -13.0333,  ...,  -9.1424,   3.2366,   3.6185],\n",
      "        ...,\n",
      "        [ -1.8125,   2.6787, -19.0450,  ..., -13.6212,   4.9812,   5.4041],\n",
      "        [ -1.8629,   2.6847, -19.2340,  ..., -13.6213,   4.8320,   5.3591],\n",
      "        [ -1.8629,   2.6847, -19.2340,  ..., -13.6213,   4.8320,   5.3591]],\n",
      "       device='cuda:0', grad_fn=<IndexBackward0>)\n"
     ]
    }
   ],
   "source": [
    "out = myModel(vdata, num_processing_steps=STEP_SIZE)"
   ]
  },
  {
   "cell_type": "code",
   "execution_count": 100,
   "id": "bbf95f27-06e4-4b21-9b6a-aaea090a5561",
   "metadata": {},
   "outputs": [
    {
     "data": {
      "text/plain": [
       "EncodeProcessDecode(\n",
       "  (_encoder): MLPGraphIndependent(\n",
       "    (_network): GraphIndependent(\n",
       "      (_edge_model): WrappedModelFnModule(\n",
       "        (_model): MLP(-1, 128, 128, 128, 8)\n",
       "      )\n",
       "      (_node_model): WrappedModelFnModule(\n",
       "        (_model): MLP(-1, 128, 128, 128, 8)\n",
       "      )\n",
       "      (_global_model): WrappedModelFnModule(\n",
       "        (_model): MLP(-1, 128, 128, 128, 8)\n",
       "      )\n",
       "    )\n",
       "  )\n",
       "  (_core): MLPGraphNetwork(\n",
       "    (_network): GraphNetwork(\n",
       "      (_edge_block): EdgeBlock(\n",
       "        (_edge_model): MLP(-1, 128, 128, 128, 8)\n",
       "      )\n",
       "      (_node_block): NodeBlock(\n",
       "        (_node_model): MLP(-1, 128, 128, 128, 8)\n",
       "        (_sent_edges_aggregator): EdgesToNodesAggregator()\n",
       "      )\n",
       "      (_global_block): GlobalBlock(\n",
       "        (_global_model): MLP(-1, 128, 128, 128, 8)\n",
       "        (_edges_aggregator): EdgesToGlobalsAggregator()\n",
       "        (_nodes_aggregator): NodesToGlobalsAggregator()\n",
       "      )\n",
       "      (edge_linear): Linear(in_features=8, out_features=1, bias=True)\n",
       "      (edge_mlp): MLP(-1, 16, 16, 16, 1)\n",
       "      (node_linear): Linear(in_features=8, out_features=1, bias=True)\n",
       "      (node_mlp): MLP(-1, 16, 16, 16, 1)\n",
       "      (sigmoid): Sigmoid()\n",
       "      (select): SelectTopK(1, ratio=20)\n",
       "      (select_nodes): SelectTopK(1, ratio=70)\n",
       "    )\n",
       "  )\n",
       "  (_blocks): ModuleList(\n",
       "    (0-7): 8 x MLPGraphNetwork(\n",
       "      (_network): GraphNetwork(\n",
       "        (_edge_block): EdgeBlock(\n",
       "          (_edge_model): MLP(-1, 128, 128, 128, 8)\n",
       "        )\n",
       "        (_node_block): NodeBlock(\n",
       "          (_node_model): MLP(-1, 128, 128, 128, 8)\n",
       "          (_sent_edges_aggregator): EdgesToNodesAggregator()\n",
       "        )\n",
       "        (_global_block): GlobalBlock(\n",
       "          (_global_model): MLP(-1, 128, 128, 128, 8)\n",
       "          (_edges_aggregator): EdgesToGlobalsAggregator()\n",
       "          (_nodes_aggregator): NodesToGlobalsAggregator()\n",
       "        )\n",
       "        (edge_linear): Linear(in_features=8, out_features=1, bias=True)\n",
       "        (edge_mlp): MLP(-1, 16, 16, 16, 1)\n",
       "        (node_linear): Linear(in_features=8, out_features=1, bias=True)\n",
       "        (node_mlp): MLP(-1, 16, 16, 16, 1)\n",
       "        (sigmoid): Sigmoid()\n",
       "        (select): SelectTopK(1, ratio=20)\n",
       "        (select_nodes): SelectTopK(1, ratio=70)\n",
       "      )\n",
       "    )\n",
       "  )\n",
       "  (_decoder): MLPGraphIndependent(\n",
       "    (_network): GraphIndependent(\n",
       "      (_edge_model): WrappedModelFnModule(\n",
       "        (_model): MLP(-1, 128, 128, 128, 8)\n",
       "      )\n",
       "      (_node_model): WrappedModelFnModule(\n",
       "        (_model): MLP(-1, 128, 128, 128, 8)\n",
       "      )\n",
       "      (_global_model): WrappedModelFnModule(\n",
       "        (_model): MLP(-1, 128, 128, 128, 8)\n",
       "      )\n",
       "    )\n",
       "  )\n",
       "  (_output_transform): GraphIndependent(\n",
       "    (_edge_model): WrappedModelFnModule(\n",
       "      (_model): Linear(in_features=8, out_features=4, bias=True)\n",
       "    )\n",
       "  )\n",
       ")"
      ]
     },
     "execution_count": 100,
     "metadata": {},
     "output_type": "execute_result"
    }
   ],
   "source": [
    "myModel.cuda()"
   ]
  },
  {
   "cell_type": "code",
   "execution_count": 101,
   "id": "645d7cf6-b09c-4c0e-8fcf-2efcd0ecfb83",
   "metadata": {},
   "outputs": [],
   "source": [
    "vdata.to('cpu')\n",
    "myModel.to('cpu')\n",
    "start = time.time()\n",
    "out = myModel(vdata, num_processing_steps=STEP_SIZE)\n",
    "end = time.time()"
   ]
  },
  {
   "cell_type": "code",
   "execution_count": 102,
   "id": "267ba446-fa68-424c-900f-5cc0eeb32ec1",
   "metadata": {},
   "outputs": [
    {
     "data": {
      "text/plain": [
       "0.02920699119567871"
      ]
     },
     "execution_count": 102,
     "metadata": {},
     "output_type": "execute_result"
    }
   ],
   "source": [
    "end-start"
   ]
  },
  {
   "cell_type": "code",
   "execution_count": 103,
   "id": "d1e5532c-3e47-4287-8826-bc1364809d22",
   "metadata": {},
   "outputs": [
    {
     "data": {
      "text/plain": [
       "0.02920699119567871"
      ]
     },
     "execution_count": 103,
     "metadata": {},
     "output_type": "execute_result"
    }
   ],
   "source": [
    "end-start"
   ]
  },
  {
   "cell_type": "code",
   "execution_count": 79,
   "id": "5a8e1a7c-a4f3-48e6-9687-8dbd0cc0730e",
   "metadata": {},
   "outputs": [
    {
     "data": {
      "text/plain": [
       "tensor([[-4.7262,  2.0500,  2.1906,  2.4734],\n",
       "        [-4.1754,  1.6200,  1.8077,  3.1459],\n",
       "        [-4.6470,  2.0758,  2.1594,  2.1059],\n",
       "        [-4.6815,  1.8333,  2.6196,  2.3198],\n",
       "        [-3.9594,  0.8443,  3.1695,  2.2800],\n",
       "        [-4.8643,  2.0926,  2.4292,  2.4079],\n",
       "        [-3.8040,  1.0009,  2.6933,  2.7700],\n",
       "        [-4.2301,  1.5587,  1.9637,  3.4328],\n",
       "        [-4.7912,  2.0293,  2.4728,  2.2825],\n",
       "        [-4.7462,  2.0744,  2.1791,  2.4700],\n",
       "        [-4.5197,  1.4226,  3.1521,  1.8997],\n",
       "        [-4.7969,  2.0293,  2.5279,  2.1828]], grad_fn=<IndexBackward0>)"
      ]
     },
     "execution_count": 79,
     "metadata": {},
     "output_type": "execute_result"
    }
   ],
   "source": [
    "out.edges[out.y[:,2]==1]"
   ]
  },
  {
   "cell_type": "code",
   "execution_count": 155,
   "id": "108d5fe4-8978-4442-a555-9161ee90ba3f",
   "metadata": {},
   "outputs": [
    {
     "data": {
      "text/plain": [
       "tensor([0., 0., 0.,  ..., 0., 0., 0.], device='cuda:0')"
      ]
     },
     "execution_count": 155,
     "metadata": {},
     "output_type": "execute_result"
    }
   ],
   "source": [
    "out.y[:,1]"
   ]
  },
  {
   "cell_type": "code",
   "execution_count": 160,
   "id": "13b0600d-2661-4639-8e18-36caba7b67ca",
   "metadata": {},
   "outputs": [
    {
     "data": {
      "text/plain": [
       "(array([0.        , 0.        , 0.        , 0.        , 0.12820514,\n",
       "        0.1282051 , 0.12820517, 0.2564102 , 0.12820517, 0.        ,\n",
       "        0.1282051 , 0.        , 0.38461575, 0.2564102 , 0.1282051 ,\n",
       "        0.38461529, 0.38461529, 0.89743675, 0.64102549, 0.2564102 ,\n",
       "        0.64102625, 0.25640989, 0.64102625, 0.25640989, 0.7692315 ,\n",
       "        0.2564105 , 0.25640989, 0.512821  , 0.25640989, 0.12820525,\n",
       "        0.12820525, 0.12820494, 0.2564105 , 0.12820494, 0.2564105 ,\n",
       "        0.12820525, 0.12820494, 0.2564105 , 0.12820494, 0.        ,\n",
       "        0.        , 0.2564105 , 0.        , 0.        , 0.        ,\n",
       "        0.        , 0.        , 0.        , 0.        , 0.        ]),\n",
       " array([0.        , 0.1       , 0.2       , 0.30000001, 0.40000001,\n",
       "        0.5       , 0.60000002, 0.69999999, 0.80000001, 0.89999998,\n",
       "        1.        , 1.10000002, 1.20000005, 1.29999995, 1.39999998,\n",
       "        1.5       , 1.60000002, 1.70000005, 1.79999995, 1.89999998,\n",
       "        2.        , 2.0999999 , 2.20000005, 2.29999995, 2.4000001 ,\n",
       "        2.5       , 2.5999999 , 2.70000005, 2.79999995, 2.9000001 ,\n",
       "        3.        , 3.0999999 , 3.20000005, 3.29999995, 3.4000001 ,\n",
       "        3.5       , 3.5999999 , 3.70000005, 3.79999995, 3.9000001 ,\n",
       "        4.        , 4.0999999 , 4.19999981, 4.30000019, 4.4000001 ,\n",
       "        4.5       , 4.5999999 , 4.69999981, 4.80000019, 4.9000001 ,\n",
       "        5.        ]),\n",
       " [<matplotlib.patches.Polygon at 0x78422ff27d40>])"
      ]
     },
     "execution_count": 160,
     "metadata": {},
     "output_type": "execute_result"
    },
    {
     "data": {
      "image/png": "[encoded data removed]",
      "text/plain": [
       "<Figure size 640x480 with 1 Axes>"
      ]
     },
     "metadata": {},
     "output_type": "display_data"
    }
   ],
   "source": [
    "import matplotlib.pyplot as plt\n",
    "plt.hist(out.edges[out.y[:,1]==1][:,1].detach().cpu().numpy(),density=True, histtype='step',range=(0,5),bins=50,label= \"LCA=0\")"
   ]
  },
  {
   "cell_type": "code",
   "execution_count": 178,
   "id": "62bf033c-a074-4732-8b70-e8c93d2fe7a4",
   "metadata": {},
   "outputs": [
    {
     "data": {
      "text/plain": [
       "(array([0.        , 0.        , 0.        , 0.        , 0.        ,\n",
       "        0.        , 0.        , 0.        , 0.        , 0.        ,\n",
       "        0.        , 0.        , 0.        , 0.        , 0.        ,\n",
       "        0.14084504, 0.        , 0.        , 0.        , 0.        ,\n",
       "        0.        , 0.14084487, 0.1408452 , 0.28168974, 0.28169041,\n",
       "        0.28169041, 0.70422434, 0.28169041, 0.70422434, 0.42253561,\n",
       "        0.28169041, 0.84506921, 0.56338082, 0.42253461, 0.1408452 ,\n",
       "        0.28169041, 0.42253461, 0.1408452 , 0.70422434, 0.        ,\n",
       "        0.28169041, 0.42253561, 0.70422267, 0.1408452 , 0.1408452 ,\n",
       "        0.        , 0.42253561, 0.28168907, 0.28169041, 0.1408452 ]),\n",
       " array([0.        , 0.1       , 0.2       , 0.30000001, 0.40000001,\n",
       "        0.5       , 0.60000002, 0.69999999, 0.80000001, 0.89999998,\n",
       "        1.        , 1.10000002, 1.20000005, 1.29999995, 1.39999998,\n",
       "        1.5       , 1.60000002, 1.70000005, 1.79999995, 1.89999998,\n",
       "        2.        , 2.0999999 , 2.20000005, 2.29999995, 2.4000001 ,\n",
       "        2.5       , 2.5999999 , 2.70000005, 2.79999995, 2.9000001 ,\n",
       "        3.        , 3.0999999 , 3.20000005, 3.29999995, 3.4000001 ,\n",
       "        3.5       , 3.5999999 , 3.70000005, 3.79999995, 3.9000001 ,\n",
       "        4.        , 4.0999999 , 4.19999981, 4.30000019, 4.4000001 ,\n",
       "        4.5       , 4.5999999 , 4.69999981, 4.80000019, 4.9000001 ,\n",
       "        5.        ]),\n",
       " [<matplotlib.patches.Polygon at 0x78422c7cc140>])"
      ]
     },
     "execution_count": 178,
     "metadata": {},
     "output_type": "execute_result"
    },
    {
     "data": {
      "image/png": "[encoded data removed]",
      "text/plain": [
       "<Figure size 640x480 with 1 Axes>"
      ]
     },
     "metadata": {},
     "output_type": "display_data"
    }
   ],
   "source": [
    "import matplotlib.pyplot as plt\n",
    "plt.hist(out.edges[out.y[:,1]==1][:,1].detach().cpu().numpy(),density=True, histtype='step',range=(0,5),bins=50,label= \"LCA=0\")"
   ]
  },
  {
   "cell_type": "code",
   "execution_count": 86,
   "id": "807a06fc-876d-48ea-827a-dd1a859752fc",
   "metadata": {},
   "outputs": [],
   "source": [
    "# start.record()\n",
    "# out = myModel(vdata, num_processing_steps=STEP_SIZE)\n",
    "# end.record()\n",
    "# torch.cuda.synchronize()\n",
    "# start.elapsed_time(end)"
   ]
  },
  {
   "cell_type": "code",
   "execution_count": null,
   "id": "ec0dd143-1a81-45e7-9f25-a719f7bc8c53",
   "metadata": {},
   "outputs": [],
   "source": []
  },
  {
   "cell_type": "code",
   "execution_count": 42,
   "id": "e4e71f96-f8d4-48a9-ad32-3a2b8b168f37",
   "metadata": {},
   "outputs": [
    {
     "data": {
      "text/plain": [
       "53.53887939453125"
      ]
     },
     "execution_count": 42,
     "metadata": {},
     "output_type": "execute_result"
    }
   ],
   "source": [
    "53.53887939453125\n"
   ]
  },
  {
   "cell_type": "code",
   "execution_count": null,
   "id": "56cb425d-4cd3-48c7-981b-063b5539c549",
   "metadata": {},
   "outputs": [],
   "source": []
  },
  {
   "cell_type": "code",
   "execution_count": 238,
   "id": "f5b2b6c8-8efe-4a14-bc1f-647a256336bd",
   "metadata": {},
   "outputs": [
    {
     "ename": "TypeError",
     "evalue": "unsupported operand type(s) for -: 'Event' and 'Event'",
     "output_type": "error",
     "traceback": [
      "\u001b[0;31m---------------------------------------------------------------------------\u001b[0m",
      "\u001b[0;31mTypeError\u001b[0m                                 Traceback (most recent call last)",
      "Cell \u001b[0;32mIn[238], line 1\u001b[0m\n\u001b[0;32m----> 1\u001b[0m \u001b[43mend\u001b[49m\u001b[38;5;241;43m-\u001b[39;49m\u001b[43mstart\u001b[49m\n",
      "\u001b[0;31mTypeError\u001b[0m: unsupported operand type(s) for -: 'Event' and 'Event'"
     ]
    }
   ],
   "source": [
    "end-start"
   ]
  },
  {
   "cell_type": "code",
   "execution_count": 241,
   "id": "7770a5e7-ffa4-488f-b298-842b6e681750",
   "metadata": {},
   "outputs": [
    {
     "data": {
      "text/plain": [
       "DataBatch(y=[117026, 4], nodes=[3018, 8], edges=[117026, 8], senders=[117026], receivers=[117026], graph_globals=[32, 8], edgepos=[117026], num_edges=[32], num_nodes=3018, batch=[3018], ptr=[33])"
      ]
     },
     "execution_count": 241,
     "metadata": {},
     "output_type": "execute_result"
    }
   ],
   "source": [
    "vdata"
   ]
  },
  {
   "cell_type": "code",
   "execution_count": 242,
   "id": "029f0134-2d7f-4852-aabf-1783ae956b67",
   "metadata": {},
   "outputs": [
    {
     "data": {
      "text/plain": [
       "DataBatch(y=[3972, 4], nodes=[413, 8], edges=[3972, 4], senders=[3972], receivers=[3972], graph_globals=[32, 8], edgepos=[3972], num_edges=[32], num_nodes=3018, batch=[413], ptr=[33])"
      ]
     },
     "execution_count": 242,
     "metadata": {},
     "output_type": "execute_result"
    }
   ],
   "source": [
    "out"
   ]
  },
  {
   "cell_type": "code",
   "execution_count": 44,
   "id": "d21b99f6-0de2-4e26-b2d3-2ecb13ba9035",
   "metadata": {},
   "outputs": [
    {
     "data": {
      "text/plain": [
       "0.07987113974672296"
      ]
     },
     "execution_count": 44,
     "metadata": {},
     "output_type": "execute_result"
    }
   ],
   "source": [
    "9347/117026"
   ]
  },
  {
   "cell_type": "code",
   "execution_count": 149,
   "id": "0432a42a-a1c8-4dd2-b2e7-11ecce7b3c9d",
   "metadata": {},
   "outputs": [],
   "source": [
    "#torch.sum(vdata.y[myModel._blocks[2]._network.edge_node_pruning_indices][:,0]==0)"
   ]
  },
  {
   "cell_type": "code",
   "execution_count": 150,
   "id": "3fe1bda0-519c-4f6c-a46e-a482efdbb1b0",
   "metadata": {},
   "outputs": [],
   "source": [
    "#torch.sum(vdata.y[~myModel._blocks[2]._network.edge_node_pruning_indices][:,0]==1)"
   ]
  },
  {
   "cell_type": "code",
   "execution_count": 156,
   "id": "eca05c4a-1543-4d8c-9cf9-4d8d8f5e14c8",
   "metadata": {},
   "outputs": [
    {
     "data": {
      "text/plain": [
       "tensor(564, device='cuda:0')"
      ]
     },
     "execution_count": 156,
     "metadata": {},
     "output_type": "execute_result"
    }
   ],
   "source": [
    "torch.sum(out.y[:,0]==0)"
   ]
  },
  {
   "cell_type": "code",
   "execution_count": 152,
   "id": "0176fde9-f963-41f6-ad72-97621a337694",
   "metadata": {},
   "outputs": [
    {
     "data": {
      "text/plain": [
       "0.022994890024439014"
      ]
     },
     "execution_count": 152,
     "metadata": {},
     "output_type": "execute_result"
    }
   ],
   "source": [
    "2691/117026"
   ]
  },
  {
   "cell_type": "code",
   "execution_count": 157,
   "id": "fbb88f60-4d5f-4ab3-86a8-8b58d879506a",
   "metadata": {},
   "outputs": [
    {
     "data": {
      "text/plain": [
       "tensor(564, device='cuda:0')"
      ]
     },
     "execution_count": 157,
     "metadata": {},
     "output_type": "execute_result"
    }
   ],
   "source": [
    "torch.sum(vdata.y[:,0]==0)"
   ]
  },
  {
   "cell_type": "code",
   "execution_count": 224,
   "id": "2a5932fa-f9e1-496a-a729-6d7d2186f373",
   "metadata": {},
   "outputs": [
    {
     "data": {
      "text/plain": [
       "DataBatch(y=[117026, 4], nodes=[3018, 8], edges=[117026, 8], senders=[117026], receivers=[117026], graph_globals=[32, 8], edgepos=[117026], num_edges=[32], num_nodes=3018, batch=[3018], ptr=[33])"
      ]
     },
     "execution_count": 224,
     "metadata": {},
     "output_type": "execute_result"
    }
   ],
   "source": [
    "vdata"
   ]
  },
  {
   "cell_type": "code",
   "execution_count": 225,
   "id": "2f4997fc-e0a4-4c32-84cd-e0120ecd027b",
   "metadata": {},
   "outputs": [
    {
     "data": {
      "text/plain": [
       "DataBatch(y=[53654, 4], nodes=[2117, 8], edges=[53654, 4], senders=[53654], receivers=[53654], graph_globals=[32, 8], edgepos=[53654], num_edges=[32], num_nodes=3018, batch=[2117], ptr=[33])"
      ]
     },
     "execution_count": 225,
     "metadata": {},
     "output_type": "execute_result"
    }
   ],
   "source": [
    "out"
   ]
  },
  {
   "cell_type": "code",
   "execution_count": 55,
   "id": "5ca6c152-3b66-4f05-878c-cc28762a285f",
   "metadata": {},
   "outputs": [],
   "source": [
    "num_nodes=vdata.nodes.shape[0]\n",
    "out = vdata.edges.new_zeros(num_nodes, vdata.edges.shape[1])\n",
    "node_sum = scatter_add(vdata.y,vdata.senders,out=out,dim=0)\n",
    "ynodes = (1.*(torch.sum(node_sum[:,1:],1)>0)).unsqueeze(1)"
   ]
  },
  {
   "cell_type": "code",
   "execution_count": 111,
   "id": "b40c8c9e-1875-4ae7-b56d-6cc395714f1f",
   "metadata": {},
   "outputs": [
    {
     "data": {
      "text/plain": [
       "tensor([[57.,  0.,  0.,  ...,  0.,  0.,  0.],\n",
       "        [62.,  0.,  0.,  ...,  0.,  0.,  0.],\n",
       "        [63.,  0.,  0.,  ...,  0.,  0.,  0.],\n",
       "        ...,\n",
       "        [15.,  0.,  0.,  ...,  0.,  0.,  0.],\n",
       "        [11.,  0.,  0.,  ...,  0.,  0.,  0.],\n",
       "        [12.,  0.,  0.,  ...,  0.,  0.,  0.]], device='cuda:0')"
      ]
     },
     "execution_count": 111,
     "metadata": {},
     "output_type": "execute_result"
    }
   ],
   "source": [
    "node_sum"
   ]
  },
  {
   "cell_type": "code",
   "execution_count": 59,
   "id": "3681e480-c486-4a6f-9ab9-16532ac6efe6",
   "metadata": {},
   "outputs": [
    {
     "data": {
      "text/plain": [
       "<matplotlib.legend.Legend at 0x7cbac73e02f0>"
      ]
     },
     "execution_count": 59,
     "metadata": {},
     "output_type": "execute_result"
    },
    {
     "data": {
      "image/png": "[encoded data removed]",
      "text/plain": [
       "<Figure size 640x480 with 1 Axes>"
      ]
     },
     "metadata": {},
     "output_type": "display_data"
    }
   ],
   "source": [
    "import matplotlib.pyplot as plt\n",
    "plt.hist(myModel._blocks[2]._network.node_weights[ynodes==0].detach().cpu().numpy(),density=True, histtype='step',range=(0,1),bins=50,label= \"LCA=0\")\n",
    "plt.hist(myModel._blocks[2]._network.node_weights[ynodes==1].detach().cpu().numpy(), density=True, histtype='step',range=(0,1),bins=50,label= \"LCA=1,2,3\")\n",
    "plt.xlabel(\"GNN_block_node_weight\")\n",
    "plt.legend()\n",
    "#plt.savefig(\"GNNblock1_node_weights2.png\")"
   ]
  },
  {
   "cell_type": "code",
   "execution_count": 62,
   "id": "d8480704-c88a-4779-b7f0-90e3322fa651",
   "metadata": {},
   "outputs": [
    {
     "data": {
      "text/plain": [
       "<matplotlib.legend.Legend at 0x7cbac65265a0>"
      ]
     },
     "execution_count": 62,
     "metadata": {},
     "output_type": "execute_result"
    },
    {
     "data": {
      "image/png": "[encoded data removed]",
      "text/plain": [
       "<Figure size 640x480 with 1 Axes>"
      ]
     },
     "metadata": {},
     "output_type": "display_data"
    }
   ],
   "source": [
    "plt.hist(myModel._blocks[4]._network.edge_weights[vdata.y[:,0]==1].detach().cpu().numpy(),density=True, histtype='step',range=(0,1),bins=50,label= \"LCA=0\")\n",
    "plt.hist(myModel._blocks[4]._network.edge_weights[vdata.y[:,0]==0].detach().cpu().numpy(), density=True, histtype='step',range=(0,1),bins=50,label= \"LCA=1,2,3\")\n",
    "plt.xlabel(\"GNN_block_weight\")\n",
    "plt.legend()\n",
    "#plt.savefig(\"GNNblock5_edge_weights2.png\")"
   ]
  },
  {
   "cell_type": "code",
   "execution_count": 26,
   "id": "ada25572-5ff4-45d4-8191-9eed3c68c4fb",
   "metadata": {},
   "outputs": [],
   "source": [
    "optimizer = torch.optim.Adam(myModel.parameters(), lr=0.0001)"
   ]
  },
  {
   "cell_type": "code",
   "execution_count": 27,
   "id": "741583d8-5db3-43b2-a60e-e8c77d043281",
   "metadata": {},
   "outputs": [
    {
     "name": "stdout",
     "output_type": "stream",
     "text": [
      "epoch no.  33\n",
      "  batch 1234 last_batch 1234 loss: 4.001443981351497\n",
      " validation: batch 290 last_batch 290 loss: 4.092606962138209\n",
      "Train Loss: 4.001444\n",
      "epoch no.  34\n",
      "  batch 1234 last_batch 1234 loss: 3.932916738032522\n",
      " validation: batch 290 last_batch 290 loss: 4.068098196490058\n",
      "Train Loss: 3.932917\n"
     ]
    }
   ],
   "source": [
    "epoch_number = 32\n",
    "\n",
    "EPOCHS = 2\n",
    "\n",
    "best_vloss = 1_000_000.\n",
    "\n",
    "for epoch in range(EPOCHS):\n",
    "    print(\"epoch no. \", (epoch_number + 1))\n",
    "\n",
    "    # Make sure gradient tracking is on, and do a pass over the data\n",
    "    myModel.train(True)\n",
    "    tr_loss, tr_acc= train_one_epoch(epoch_number)\n",
    "    lst_tr_loss.append(tr_loss)\n",
    "    lst_tr_acc.append(tr_acc)\n",
    "#     break\n",
    "    # We don't need gradients on to do reporting\n",
    "    myModel.train(False)\n",
    "    vl_loss, vl_acc= eval_one_epoch(epoch_number)\n",
    "    lst_vl_loss.append(vl_loss)\n",
    "    lst_vl_acc.append(vl_acc)\n",
    "    \n",
    "    print(f'Train Loss: {tr_loss:03f}')\n",
    "    \n",
    "    epoch_number += 1"
   ]
  },
  {
   "cell_type": "code",
   "execution_count": 25,
   "id": "b4279f27-20c6-469d-86a7-82406df99505",
   "metadata": {},
   "outputs": [
    {
     "data": {
      "text/plain": [
       "Adam (\n",
       "Parameter Group 0\n",
       "    amsgrad: False\n",
       "    betas: (0.9, 0.999)\n",
       "    capturable: False\n",
       "    differentiable: False\n",
       "    eps: 1e-08\n",
       "    foreach: None\n",
       "    fused: None\n",
       "    lr: 0.001\n",
       "    maximize: False\n",
       "    weight_decay: 0\n",
       ")"
      ]
     },
     "execution_count": 25,
     "metadata": {},
     "output_type": "execute_result"
    }
   ],
   "source": [
    "optimizer"
   ]
  },
  {
   "cell_type": "code",
   "execution_count": 37,
   "id": "46607897-4c35-4e3c-ad75-87e20a317f53",
   "metadata": {},
   "outputs": [
    {
     "name": "stdout",
     "output_type": "stream",
     "text": [
      "epoch no.  33\n",
      "pruning on \n",
      "  batch 1234 last_batch 1234 loss: 4.131808488643343\n",
      " validation: batch 290 last_batch 290 loss: 4.39454566199204\n",
      "Train Loss: 4.131808\n",
      "epoch no.  34\n",
      "pruning on \n",
      "  batch 1234 last_batch 1234 loss: 4.0971095111806735\n",
      " validation: batch 290 last_batch 290 loss: 4.390218510298894\n",
      "Train Loss: 4.097110\n",
      "epoch no.  35\n",
      "pruning on \n",
      "  batch 1234 last_batch 1234 loss: 4.070656080879694\n",
      " validation: batch 290 last_batch 290 loss: 4.386067780955084\n",
      "Train Loss: 4.070656\n",
      "epoch no.  36\n",
      "pruning on \n",
      "  batch 1234 last_batch 1234 loss: 4.045172688640304\n",
      " validation: batch 290 last_batch 290 loss: 4.394372939241343\n",
      "Train Loss: 4.045173\n",
      "epoch no.  37\n",
      "pruning on \n",
      "  batch 1234 last_batch 1234 loss: 4.02175071521555\n",
      " validation: batch 290 last_batch 290 loss: 4.399417732501852\n",
      "Train Loss: 4.021751\n",
      "epoch no.  38\n",
      "pruning on \n",
      "  batch 1234 last_batch 1234 loss: 4.003487404393609\n",
      " validation: batch 290 last_batch 290 loss: 4.401324422606106\n",
      "Train Loss: 4.003487\n",
      "epoch no.  39\n",
      "pruning on \n",
      "  batch 1234 last_batch 1234 loss: 3.984957797987148\n",
      " validation: batch 290 last_batch 290 loss: 4.411240396828487\n",
      "Train Loss: 3.984958\n",
      "epoch no.  40\n",
      "pruning on \n",
      "  batch 1234 last_batch 1234 loss: 3.9671764317749\n",
      " validation: batch 290 last_batch 290 loss: 4.41439588398769\n",
      "Train Loss: 3.967176\n"
     ]
    }
   ],
   "source": [
    "epoch_number = 32\n",
    "\n",
    "EPOCHS = 8\n",
    "\n",
    "best_vloss = 1_000_000.\n",
    "\n",
    "for epoch in range(EPOCHS):\n",
    "    print(\"epoch no. \", (epoch_number + 1))\n",
    "\n",
    "    # Make sure gradient tracking is on, and do a pass over the data\n",
    "    myModel.train(True)\n",
    "    tr_loss, tr_acc= train_one_epoch(epoch_number)\n",
    "    lst_tr_loss.append(tr_loss)\n",
    "    lst_tr_acc.append(tr_acc)\n",
    "#     break\n",
    "    # We don't need gradients on to do reporting\n",
    "    myModel.train(False)\n",
    "    vl_loss, vl_acc= eval_one_epoch(epoch_number)\n",
    "    lst_vl_loss.append(vl_loss)\n",
    "    lst_vl_acc.append(vl_acc)\n",
    "    \n",
    "    print(f'Train Loss: {tr_loss:03f}')\n",
    "    \n",
    "    epoch_number += 1"
   ]
  },
  {
   "cell_type": "code",
   "execution_count": null,
   "id": "c7be2b06-6ab6-488d-a988-a7e707947f45",
   "metadata": {},
   "outputs": [],
   "source": []
  },
  {
   "cell_type": "code",
   "execution_count": 14,
   "id": "941e3b7d-4bca-44be-baa6-86176d74c8ba",
   "metadata": {},
   "outputs": [
    {
     "ename": "RuntimeError",
     "evalue": "Error(s) in loading state_dict for EncodeProcessDecode:\n\tWhile copying the parameter named \"_encoder._network._edge_model._model.lins.0.weight\", whose dimensions in the model are torch.Size([0]) and whose dimensions in the checkpoint are torch.Size([128, 4]), an exception occurred : ('The size of tensor a (0) must match the size of tensor b (4) at non-singleton dimension 1',).\n\tWhile copying the parameter named \"_encoder._network._node_model._model.lins.0.weight\", whose dimensions in the model are torch.Size([0]) and whose dimensions in the checkpoint are torch.Size([128, 4]), an exception occurred : ('The size of tensor a (0) must match the size of tensor b (4) at non-singleton dimension 1',).\n\tWhile copying the parameter named \"_encoder._network._global_model._model.lins.0.weight\", whose dimensions in the model are torch.Size([0]) and whose dimensions in the checkpoint are torch.Size([128, 1]), an exception occurred : (\"output with shape [0] doesn't match the broadcast shape [128, 0]\",).\n\tWhile copying the parameter named \"_core._network._edge_block._edge_model.lins.0.weight\", whose dimensions in the model are torch.Size([0]) and whose dimensions in the checkpoint are torch.Size([128, 64]), an exception occurred : ('The size of tensor a (0) must match the size of tensor b (64) at non-singleton dimension 1',).\n\tWhile copying the parameter named \"_core._network._node_block._node_model.lins.0.weight\", whose dimensions in the model are torch.Size([0]) and whose dimensions in the checkpoint are torch.Size([128, 40]), an exception occurred : ('The size of tensor a (0) must match the size of tensor b (40) at non-singleton dimension 1',).\n\tWhile copying the parameter named \"_core._network._global_block._global_model.lins.0.weight\", whose dimensions in the model are torch.Size([0]) and whose dimensions in the checkpoint are torch.Size([128, 32]), an exception occurred : ('The size of tensor a (0) must match the size of tensor b (32) at non-singleton dimension 1',).\n\tWhile copying the parameter named \"_core._network.edge_mlp.lins.0.weight\", whose dimensions in the model are torch.Size([0]) and whose dimensions in the checkpoint are torch.Size([16, 8]), an exception occurred : ('The size of tensor a (0) must match the size of tensor b (8) at non-singleton dimension 1',).\n\tWhile copying the parameter named \"_core._network.node_mlp.lins.0.weight\", whose dimensions in the model are torch.Size([0]) and whose dimensions in the checkpoint are torch.Size([16, 8]), an exception occurred : ('The size of tensor a (0) must match the size of tensor b (8) at non-singleton dimension 1',).\n\tWhile copying the parameter named \"_blocks.0._network._edge_block._edge_model.lins.0.weight\", whose dimensions in the model are torch.Size([0]) and whose dimensions in the checkpoint are torch.Size([128, 32]), an exception occurred : ('The size of tensor a (0) must match the size of tensor b (32) at non-singleton dimension 1',).\n\tWhile copying the parameter named \"_blocks.0._network._node_block._node_model.lins.0.weight\", whose dimensions in the model are torch.Size([0]) and whose dimensions in the checkpoint are torch.Size([128, 24]), an exception occurred : ('The size of tensor a (0) must match the size of tensor b (24) at non-singleton dimension 1',).\n\tWhile copying the parameter named \"_blocks.0._network._global_block._global_model.lins.0.weight\", whose dimensions in the model are torch.Size([0]) and whose dimensions in the checkpoint are torch.Size([128, 24]), an exception occurred : ('The size of tensor a (0) must match the size of tensor b (24) at non-singleton dimension 1',).\n\tWhile copying the parameter named \"_blocks.0._network.edge_mlp.lins.0.weight\", whose dimensions in the model are torch.Size([0]) and whose dimensions in the checkpoint are torch.Size([16, 8]), an exception occurred : ('The size of tensor a (0) must match the size of tensor b (8) at non-singleton dimension 1',).\n\tWhile copying the parameter named \"_blocks.0._network.node_mlp.lins.0.weight\", whose dimensions in the model are torch.Size([0]) and whose dimensions in the checkpoint are torch.Size([16, 8]), an exception occurred : ('The size of tensor a (0) must match the size of tensor b (8) at non-singleton dimension 1',).\n\tWhile copying the parameter named \"_blocks.1._network._edge_block._edge_model.lins.0.weight\", whose dimensions in the model are torch.Size([0]) and whose dimensions in the checkpoint are torch.Size([128, 64]), an exception occurred : ('The size of tensor a (0) must match the size of tensor b (64) at non-singleton dimension 1',).\n\tWhile copying the parameter named \"_blocks.1._network._node_block._node_model.lins.0.weight\", whose dimensions in the model are torch.Size([0]) and whose dimensions in the checkpoint are torch.Size([128, 40]), an exception occurred : ('The size of tensor a (0) must match the size of tensor b (40) at non-singleton dimension 1',).\n\tWhile copying the parameter named \"_blocks.1._network._global_block._global_model.lins.0.weight\", whose dimensions in the model are torch.Size([0]) and whose dimensions in the checkpoint are torch.Size([128, 32]), an exception occurred : ('The size of tensor a (0) must match the size of tensor b (32) at non-singleton dimension 1',).\n\tWhile copying the parameter named \"_blocks.1._network.edge_mlp.lins.0.weight\", whose dimensions in the model are torch.Size([0]) and whose dimensions in the checkpoint are torch.Size([16, 8]), an exception occurred : ('The size of tensor a (0) must match the size of tensor b (8) at non-singleton dimension 1',).\n\tWhile copying the parameter named \"_blocks.1._network.node_mlp.lins.0.weight\", whose dimensions in the model are torch.Size([0]) and whose dimensions in the checkpoint are torch.Size([16, 8]), an exception occurred : ('The size of tensor a (0) must match the size of tensor b (8) at non-singleton dimension 1',).\n\tWhile copying the parameter named \"_blocks.2._network._edge_block._edge_model.lins.0.weight\", whose dimensions in the model are torch.Size([0]) and whose dimensions in the checkpoint are torch.Size([128, 64]), an exception occurred : ('The size of tensor a (0) must match the size of tensor b (64) at non-singleton dimension 1',).\n\tWhile copying the parameter named \"_blocks.2._network._node_block._node_model.lins.0.weight\", whose dimensions in the model are torch.Size([0]) and whose dimensions in the checkpoint are torch.Size([128, 40]), an exception occurred : ('The size of tensor a (0) must match the size of tensor b (40) at non-singleton dimension 1',).\n\tWhile copying the parameter named \"_blocks.2._network._global_block._global_model.lins.0.weight\", whose dimensions in the model are torch.Size([0]) and whose dimensions in the checkpoint are torch.Size([128, 32]), an exception occurred : ('The size of tensor a (0) must match the size of tensor b (32) at non-singleton dimension 1',).\n\tWhile copying the parameter named \"_blocks.2._network.edge_mlp.lins.0.weight\", whose dimensions in the model are torch.Size([0]) and whose dimensions in the checkpoint are torch.Size([16, 8]), an exception occurred : ('The size of tensor a (0) must match the size of tensor b (8) at non-singleton dimension 1',).\n\tWhile copying the parameter named \"_blocks.2._network.node_mlp.lins.0.weight\", whose dimensions in the model are torch.Size([0]) and whose dimensions in the checkpoint are torch.Size([16, 8]), an exception occurred : ('The size of tensor a (0) must match the size of tensor b (8) at non-singleton dimension 1',).\n\tWhile copying the parameter named \"_blocks.3._network._edge_block._edge_model.lins.0.weight\", whose dimensions in the model are torch.Size([0]) and whose dimensions in the checkpoint are torch.Size([128, 64]), an exception occurred : ('The size of tensor a (0) must match the size of tensor b (64) at non-singleton dimension 1',).\n\tWhile copying the parameter named \"_blocks.3._network._node_block._node_model.lins.0.weight\", whose dimensions in the model are torch.Size([0]) and whose dimensions in the checkpoint are torch.Size([128, 40]), an exception occurred : ('The size of tensor a (0) must match the size of tensor b (40) at non-singleton dimension 1',).\n\tWhile copying the parameter named \"_blocks.3._network._global_block._global_model.lins.0.weight\", whose dimensions in the model are torch.Size([0]) and whose dimensions in the checkpoint are torch.Size([128, 32]), an exception occurred : ('The size of tensor a (0) must match the size of tensor b (32) at non-singleton dimension 1',).\n\tWhile copying the parameter named \"_blocks.3._network.edge_mlp.lins.0.weight\", whose dimensions in the model are torch.Size([0]) and whose dimensions in the checkpoint are torch.Size([16, 8]), an exception occurred : ('The size of tensor a (0) must match the size of tensor b (8) at non-singleton dimension 1',).\n\tWhile copying the parameter named \"_blocks.3._network.node_mlp.lins.0.weight\", whose dimensions in the model are torch.Size([0]) and whose dimensions in the checkpoint are torch.Size([16, 8]), an exception occurred : ('The size of tensor a (0) must match the size of tensor b (8) at non-singleton dimension 1',).\n\tWhile copying the parameter named \"_blocks.4._network._edge_block._edge_model.lins.0.weight\", whose dimensions in the model are torch.Size([0]) and whose dimensions in the checkpoint are torch.Size([128, 64]), an exception occurred : ('The size of tensor a (0) must match the size of tensor b (64) at non-singleton dimension 1',).\n\tWhile copying the parameter named \"_blocks.4._network._node_block._node_model.lins.0.weight\", whose dimensions in the model are torch.Size([0]) and whose dimensions in the checkpoint are torch.Size([128, 40]), an exception occurred : ('The size of tensor a (0) must match the size of tensor b (40) at non-singleton dimension 1',).\n\tWhile copying the parameter named \"_blocks.4._network._global_block._global_model.lins.0.weight\", whose dimensions in the model are torch.Size([0]) and whose dimensions in the checkpoint are torch.Size([128, 32]), an exception occurred : ('The size of tensor a (0) must match the size of tensor b (32) at non-singleton dimension 1',).\n\tWhile copying the parameter named \"_blocks.4._network.edge_mlp.lins.0.weight\", whose dimensions in the model are torch.Size([0]) and whose dimensions in the checkpoint are torch.Size([16, 8]), an exception occurred : ('The size of tensor a (0) must match the size of tensor b (8) at non-singleton dimension 1',).\n\tWhile copying the parameter named \"_blocks.4._network.node_mlp.lins.0.weight\", whose dimensions in the model are torch.Size([0]) and whose dimensions in the checkpoint are torch.Size([16, 8]), an exception occurred : ('The size of tensor a (0) must match the size of tensor b (8) at non-singleton dimension 1',).\n\tWhile copying the parameter named \"_blocks.5._network._edge_block._edge_model.lins.0.weight\", whose dimensions in the model are torch.Size([0]) and whose dimensions in the checkpoint are torch.Size([128, 64]), an exception occurred : ('The size of tensor a (0) must match the size of tensor b (64) at non-singleton dimension 1',).\n\tWhile copying the parameter named \"_blocks.5._network._node_block._node_model.lins.0.weight\", whose dimensions in the model are torch.Size([0]) and whose dimensions in the checkpoint are torch.Size([128, 40]), an exception occurred : ('The size of tensor a (0) must match the size of tensor b (40) at non-singleton dimension 1',).\n\tWhile copying the parameter named \"_blocks.5._network._global_block._global_model.lins.0.weight\", whose dimensions in the model are torch.Size([0]) and whose dimensions in the checkpoint are torch.Size([128, 32]), an exception occurred : ('The size of tensor a (0) must match the size of tensor b (32) at non-singleton dimension 1',).\n\tWhile copying the parameter named \"_blocks.5._network.edge_mlp.lins.0.weight\", whose dimensions in the model are torch.Size([0]) and whose dimensions in the checkpoint are torch.Size([16, 8]), an exception occurred : ('The size of tensor a (0) must match the size of tensor b (8) at non-singleton dimension 1',).\n\tWhile copying the parameter named \"_blocks.5._network.node_mlp.lins.0.weight\", whose dimensions in the model are torch.Size([0]) and whose dimensions in the checkpoint are torch.Size([16, 8]), an exception occurred : ('The size of tensor a (0) must match the size of tensor b (8) at non-singleton dimension 1',).\n\tWhile copying the parameter named \"_blocks.6._network._edge_block._edge_model.lins.0.weight\", whose dimensions in the model are torch.Size([0]) and whose dimensions in the checkpoint are torch.Size([128, 64]), an exception occurred : ('The size of tensor a (0) must match the size of tensor b (64) at non-singleton dimension 1',).\n\tWhile copying the parameter named \"_blocks.6._network._node_block._node_model.lins.0.weight\", whose dimensions in the model are torch.Size([0]) and whose dimensions in the checkpoint are torch.Size([128, 40]), an exception occurred : ('The size of tensor a (0) must match the size of tensor b (40) at non-singleton dimension 1',).\n\tWhile copying the parameter named \"_blocks.6._network._global_block._global_model.lins.0.weight\", whose dimensions in the model are torch.Size([0]) and whose dimensions in the checkpoint are torch.Size([128, 32]), an exception occurred : ('The size of tensor a (0) must match the size of tensor b (32) at non-singleton dimension 1',).\n\tWhile copying the parameter named \"_blocks.6._network.edge_mlp.lins.0.weight\", whose dimensions in the model are torch.Size([0]) and whose dimensions in the checkpoint are torch.Size([16, 8]), an exception occurred : ('The size of tensor a (0) must match the size of tensor b (8) at non-singleton dimension 1',).\n\tWhile copying the parameter named \"_blocks.6._network.node_mlp.lins.0.weight\", whose dimensions in the model are torch.Size([0]) and whose dimensions in the checkpoint are torch.Size([16, 8]), an exception occurred : ('The size of tensor a (0) must match the size of tensor b (8) at non-singleton dimension 1',).\n\tWhile copying the parameter named \"_blocks.7._network._edge_block._edge_model.lins.0.weight\", whose dimensions in the model are torch.Size([0]) and whose dimensions in the checkpoint are torch.Size([128, 64]), an exception occurred : ('The size of tensor a (0) must match the size of tensor b (64) at non-singleton dimension 1',).\n\tWhile copying the parameter named \"_blocks.7._network._node_block._node_model.lins.0.weight\", whose dimensions in the model are torch.Size([0]) and whose dimensions in the checkpoint are torch.Size([128, 40]), an exception occurred : ('The size of tensor a (0) must match the size of tensor b (40) at non-singleton dimension 1',).\n\tWhile copying the parameter named \"_blocks.7._network._global_block._global_model.lins.0.weight\", whose dimensions in the model are torch.Size([0]) and whose dimensions in the checkpoint are torch.Size([128, 32]), an exception occurred : ('The size of tensor a (0) must match the size of tensor b (32) at non-singleton dimension 1',).\n\tWhile copying the parameter named \"_blocks.7._network.edge_mlp.lins.0.weight\", whose dimensions in the model are torch.Size([0]) and whose dimensions in the checkpoint are torch.Size([16, 8]), an exception occurred : ('The size of tensor a (0) must match the size of tensor b (8) at non-singleton dimension 1',).\n\tWhile copying the parameter named \"_blocks.7._network.node_mlp.lins.0.weight\", whose dimensions in the model are torch.Size([0]) and whose dimensions in the checkpoint are torch.Size([16, 8]), an exception occurred : ('The size of tensor a (0) must match the size of tensor b (8) at non-singleton dimension 1',).\n\tWhile copying the parameter named \"_decoder._network._edge_model._model.lins.0.weight\", whose dimensions in the model are torch.Size([0]) and whose dimensions in the checkpoint are torch.Size([128, 8]), an exception occurred : ('The size of tensor a (0) must match the size of tensor b (8) at non-singleton dimension 1',).\n\tWhile copying the parameter named \"_decoder._network._node_model._model.lins.0.weight\", whose dimensions in the model are torch.Size([0]) and whose dimensions in the checkpoint are torch.Size([128, 8]), an exception occurred : ('The size of tensor a (0) must match the size of tensor b (8) at non-singleton dimension 1',).\n\tWhile copying the parameter named \"_decoder._network._global_model._model.lins.0.weight\", whose dimensions in the model are torch.Size([0]) and whose dimensions in the checkpoint are torch.Size([128, 8]), an exception occurred : ('The size of tensor a (0) must match the size of tensor b (8) at non-singleton dimension 1',).",
     "output_type": "error",
     "traceback": [
      "\u001b[0;31m---------------------------------------------------------------------------\u001b[0m",
      "\u001b[0;31mRuntimeError\u001b[0m                              Traceback (most recent call last)",
      "Cell \u001b[0;32mIn[14], line 1\u001b[0m\n\u001b[0;32m----> 1\u001b[0m \u001b[43mmyModel\u001b[49m\u001b[38;5;241;43m.\u001b[39;49m\u001b[43mload_state_dict\u001b[49m\u001b[43m(\u001b[49m\u001b[43mtorch\u001b[49m\u001b[38;5;241;43m.\u001b[39;49m\u001b[43mload\u001b[49m\u001b[43m(\u001b[49m\u001b[38;5;124;43m'\u001b[39;49m\u001b[38;5;124;43mmodel_32_8block_epochs_pruning_latest.pth\u001b[39;49m\u001b[38;5;124;43m'\u001b[39;49m\u001b[43m)\u001b[49m\u001b[43m)\u001b[49m\n\u001b[1;32m      2\u001b[0m myModel\u001b[38;5;241m.\u001b[39meval()\n",
      "File \u001b[0;32m~/anaconda3/envs/torch2/lib/python3.12/site-packages/torch/nn/modules/module.py:2153\u001b[0m, in \u001b[0;36mModule.load_state_dict\u001b[0;34m(self, state_dict, strict, assign)\u001b[0m\n\u001b[1;32m   2148\u001b[0m         error_msgs\u001b[38;5;241m.\u001b[39minsert(\n\u001b[1;32m   2149\u001b[0m             \u001b[38;5;241m0\u001b[39m, \u001b[38;5;124m'\u001b[39m\u001b[38;5;124mMissing key(s) in state_dict: \u001b[39m\u001b[38;5;132;01m{}\u001b[39;00m\u001b[38;5;124m. \u001b[39m\u001b[38;5;124m'\u001b[39m\u001b[38;5;241m.\u001b[39mformat(\n\u001b[1;32m   2150\u001b[0m                 \u001b[38;5;124m'\u001b[39m\u001b[38;5;124m, \u001b[39m\u001b[38;5;124m'\u001b[39m\u001b[38;5;241m.\u001b[39mjoin(\u001b[38;5;124mf\u001b[39m\u001b[38;5;124m'\u001b[39m\u001b[38;5;124m\"\u001b[39m\u001b[38;5;132;01m{\u001b[39;00mk\u001b[38;5;132;01m}\u001b[39;00m\u001b[38;5;124m\"\u001b[39m\u001b[38;5;124m'\u001b[39m \u001b[38;5;28;01mfor\u001b[39;00m k \u001b[38;5;129;01min\u001b[39;00m missing_keys)))\n\u001b[1;32m   2152\u001b[0m \u001b[38;5;28;01mif\u001b[39;00m \u001b[38;5;28mlen\u001b[39m(error_msgs) \u001b[38;5;241m>\u001b[39m \u001b[38;5;241m0\u001b[39m:\n\u001b[0;32m-> 2153\u001b[0m     \u001b[38;5;28;01mraise\u001b[39;00m \u001b[38;5;167;01mRuntimeError\u001b[39;00m(\u001b[38;5;124m'\u001b[39m\u001b[38;5;124mError(s) in loading state_dict for \u001b[39m\u001b[38;5;132;01m{}\u001b[39;00m\u001b[38;5;124m:\u001b[39m\u001b[38;5;130;01m\\n\u001b[39;00m\u001b[38;5;130;01m\\t\u001b[39;00m\u001b[38;5;132;01m{}\u001b[39;00m\u001b[38;5;124m'\u001b[39m\u001b[38;5;241m.\u001b[39mformat(\n\u001b[1;32m   2154\u001b[0m                        \u001b[38;5;28mself\u001b[39m\u001b[38;5;241m.\u001b[39m\u001b[38;5;18m__class__\u001b[39m\u001b[38;5;241m.\u001b[39m\u001b[38;5;18m__name__\u001b[39m, \u001b[38;5;124m\"\u001b[39m\u001b[38;5;130;01m\\n\u001b[39;00m\u001b[38;5;130;01m\\t\u001b[39;00m\u001b[38;5;124m\"\u001b[39m\u001b[38;5;241m.\u001b[39mjoin(error_msgs)))\n\u001b[1;32m   2155\u001b[0m \u001b[38;5;28;01mreturn\u001b[39;00m _IncompatibleKeys(missing_keys, unexpected_keys)\n",
      "\u001b[0;31mRuntimeError\u001b[0m: Error(s) in loading state_dict for EncodeProcessDecode:\n\tWhile copying the parameter named \"_encoder._network._edge_model._model.lins.0.weight\", whose dimensions in the model are torch.Size([0]) and whose dimensions in the checkpoint are torch.Size([128, 4]), an exception occurred : ('The size of tensor a (0) must match the size of tensor b (4) at non-singleton dimension 1',).\n\tWhile copying the parameter named \"_encoder._network._node_model._model.lins.0.weight\", whose dimensions in the model are torch.Size([0]) and whose dimensions in the checkpoint are torch.Size([128, 4]), an exception occurred : ('The size of tensor a (0) must match the size of tensor b (4) at non-singleton dimension 1',).\n\tWhile copying the parameter named \"_encoder._network._global_model._model.lins.0.weight\", whose dimensions in the model are torch.Size([0]) and whose dimensions in the checkpoint are torch.Size([128, 1]), an exception occurred : (\"output with shape [0] doesn't match the broadcast shape [128, 0]\",).\n\tWhile copying the parameter named \"_core._network._edge_block._edge_model.lins.0.weight\", whose dimensions in the model are torch.Size([0]) and whose dimensions in the checkpoint are torch.Size([128, 64]), an exception occurred : ('The size of tensor a (0) must match the size of tensor b (64) at non-singleton dimension 1',).\n\tWhile copying the parameter named \"_core._network._node_block._node_model.lins.0.weight\", whose dimensions in the model are torch.Size([0]) and whose dimensions in the checkpoint are torch.Size([128, 40]), an exception occurred : ('The size of tensor a (0) must match the size of tensor b (40) at non-singleton dimension 1',).\n\tWhile copying the parameter named \"_core._network._global_block._global_model.lins.0.weight\", whose dimensions in the model are torch.Size([0]) and whose dimensions in the checkpoint are torch.Size([128, 32]), an exception occurred : ('The size of tensor a (0) must match the size of tensor b (32) at non-singleton dimension 1',).\n\tWhile copying the parameter named \"_core._network.edge_mlp.lins.0.weight\", whose dimensions in the model are torch.Size([0]) and whose dimensions in the checkpoint are torch.Size([16, 8]), an exception occurred : ('The size of tensor a (0) must match the size of tensor b (8) at non-singleton dimension 1',).\n\tWhile copying the parameter named \"_core._network.node_mlp.lins.0.weight\", whose dimensions in the model are torch.Size([0]) and whose dimensions in the checkpoint are torch.Size([16, 8]), an exception occurred : ('The size of tensor a (0) must match the size of tensor b (8) at non-singleton dimension 1',).\n\tWhile copying the parameter named \"_blocks.0._network._edge_block._edge_model.lins.0.weight\", whose dimensions in the model are torch.Size([0]) and whose dimensions in the checkpoint are torch.Size([128, 32]), an exception occurred : ('The size of tensor a (0) must match the size of tensor b (32) at non-singleton dimension 1',).\n\tWhile copying the parameter named \"_blocks.0._network._node_block._node_model.lins.0.weight\", whose dimensions in the model are torch.Size([0]) and whose dimensions in the checkpoint are torch.Size([128, 24]), an exception occurred : ('The size of tensor a (0) must match the size of tensor b (24) at non-singleton dimension 1',).\n\tWhile copying the parameter named \"_blocks.0._network._global_block._global_model.lins.0.weight\", whose dimensions in the model are torch.Size([0]) and whose dimensions in the checkpoint are torch.Size([128, 24]), an exception occurred : ('The size of tensor a (0) must match the size of tensor b (24) at non-singleton dimension 1',).\n\tWhile copying the parameter named \"_blocks.0._network.edge_mlp.lins.0.weight\", whose dimensions in the model are torch.Size([0]) and whose dimensions in the checkpoint are torch.Size([16, 8]), an exception occurred : ('The size of tensor a (0) must match the size of tensor b (8) at non-singleton dimension 1',).\n\tWhile copying the parameter named \"_blocks.0._network.node_mlp.lins.0.weight\", whose dimensions in the model are torch.Size([0]) and whose dimensions in the checkpoint are torch.Size([16, 8]), an exception occurred : ('The size of tensor a (0) must match the size of tensor b (8) at non-singleton dimension 1',).\n\tWhile copying the parameter named \"_blocks.1._network._edge_block._edge_model.lins.0.weight\", whose dimensions in the model are torch.Size([0]) and whose dimensions in the checkpoint are torch.Size([128, 64]), an exception occurred : ('The size of tensor a (0) must match the size of tensor b (64) at non-singleton dimension 1',).\n\tWhile copying the parameter named \"_blocks.1._network._node_block._node_model.lins.0.weight\", whose dimensions in the model are torch.Size([0]) and whose dimensions in the checkpoint are torch.Size([128, 40]), an exception occurred : ('The size of tensor a (0) must match the size of tensor b (40) at non-singleton dimension 1',).\n\tWhile copying the parameter named \"_blocks.1._network._global_block._global_model.lins.0.weight\", whose dimensions in the model are torch.Size([0]) and whose dimensions in the checkpoint are torch.Size([128, 32]), an exception occurred : ('The size of tensor a (0) must match the size of tensor b (32) at non-singleton dimension 1',).\n\tWhile copying the parameter named \"_blocks.1._network.edge_mlp.lins.0.weight\", whose dimensions in the model are torch.Size([0]) and whose dimensions in the checkpoint are torch.Size([16, 8]), an exception occurred : ('The size of tensor a (0) must match the size of tensor b (8) at non-singleton dimension 1',).\n\tWhile copying the parameter named \"_blocks.1._network.node_mlp.lins.0.weight\", whose dimensions in the model are torch.Size([0]) and whose dimensions in the checkpoint are torch.Size([16, 8]), an exception occurred : ('The size of tensor a (0) must match the size of tensor b (8) at non-singleton dimension 1',).\n\tWhile copying the parameter named \"_blocks.2._network._edge_block._edge_model.lins.0.weight\", whose dimensions in the model are torch.Size([0]) and whose dimensions in the checkpoint are torch.Size([128, 64]), an exception occurred : ('The size of tensor a (0) must match the size of tensor b (64) at non-singleton dimension 1',).\n\tWhile copying the parameter named \"_blocks.2._network._node_block._node_model.lins.0.weight\", whose dimensions in the model are torch.Size([0]) and whose dimensions in the checkpoint are torch.Size([128, 40]), an exception occurred : ('The size of tensor a (0) must match the size of tensor b (40) at non-singleton dimension 1',).\n\tWhile copying the parameter named \"_blocks.2._network._global_block._global_model.lins.0.weight\", whose dimensions in the model are torch.Size([0]) and whose dimensions in the checkpoint are torch.Size([128, 32]), an exception occurred : ('The size of tensor a (0) must match the size of tensor b (32) at non-singleton dimension 1',).\n\tWhile copying the parameter named \"_blocks.2._network.edge_mlp.lins.0.weight\", whose dimensions in the model are torch.Size([0]) and whose dimensions in the checkpoint are torch.Size([16, 8]), an exception occurred : ('The size of tensor a (0) must match the size of tensor b (8) at non-singleton dimension 1',).\n\tWhile copying the parameter named \"_blocks.2._network.node_mlp.lins.0.weight\", whose dimensions in the model are torch.Size([0]) and whose dimensions in the checkpoint are torch.Size([16, 8]), an exception occurred : ('The size of tensor a (0) must match the size of tensor b (8) at non-singleton dimension 1',).\n\tWhile copying the parameter named \"_blocks.3._network._edge_block._edge_model.lins.0.weight\", whose dimensions in the model are torch.Size([0]) and whose dimensions in the checkpoint are torch.Size([128, 64]), an exception occurred : ('The size of tensor a (0) must match the size of tensor b (64) at non-singleton dimension 1',).\n\tWhile copying the parameter named \"_blocks.3._network._node_block._node_model.lins.0.weight\", whose dimensions in the model are torch.Size([0]) and whose dimensions in the checkpoint are torch.Size([128, 40]), an exception occurred : ('The size of tensor a (0) must match the size of tensor b (40) at non-singleton dimension 1',).\n\tWhile copying the parameter named \"_blocks.3._network._global_block._global_model.lins.0.weight\", whose dimensions in the model are torch.Size([0]) and whose dimensions in the checkpoint are torch.Size([128, 32]), an exception occurred : ('The size of tensor a (0) must match the size of tensor b (32) at non-singleton dimension 1',).\n\tWhile copying the parameter named \"_blocks.3._network.edge_mlp.lins.0.weight\", whose dimensions in the model are torch.Size([0]) and whose dimensions in the checkpoint are torch.Size([16, 8]), an exception occurred : ('The size of tensor a (0) must match the size of tensor b (8) at non-singleton dimension 1',).\n\tWhile copying the parameter named \"_blocks.3._network.node_mlp.lins.0.weight\", whose dimensions in the model are torch.Size([0]) and whose dimensions in the checkpoint are torch.Size([16, 8]), an exception occurred : ('The size of tensor a (0) must match the size of tensor b (8) at non-singleton dimension 1',).\n\tWhile copying the parameter named \"_blocks.4._network._edge_block._edge_model.lins.0.weight\", whose dimensions in the model are torch.Size([0]) and whose dimensions in the checkpoint are torch.Size([128, 64]), an exception occurred : ('The size of tensor a (0) must match the size of tensor b (64) at non-singleton dimension 1',).\n\tWhile copying the parameter named \"_blocks.4._network._node_block._node_model.lins.0.weight\", whose dimensions in the model are torch.Size([0]) and whose dimensions in the checkpoint are torch.Size([128, 40]), an exception occurred : ('The size of tensor a (0) must match the size of tensor b (40) at non-singleton dimension 1',).\n\tWhile copying the parameter named \"_blocks.4._network._global_block._global_model.lins.0.weight\", whose dimensions in the model are torch.Size([0]) and whose dimensions in the checkpoint are torch.Size([128, 32]), an exception occurred : ('The size of tensor a (0) must match the size of tensor b (32) at non-singleton dimension 1',).\n\tWhile copying the parameter named \"_blocks.4._network.edge_mlp.lins.0.weight\", whose dimensions in the model are torch.Size([0]) and whose dimensions in the checkpoint are torch.Size([16, 8]), an exception occurred : ('The size of tensor a (0) must match the size of tensor b (8) at non-singleton dimension 1',).\n\tWhile copying the parameter named \"_blocks.4._network.node_mlp.lins.0.weight\", whose dimensions in the model are torch.Size([0]) and whose dimensions in the checkpoint are torch.Size([16, 8]), an exception occurred : ('The size of tensor a (0) must match the size of tensor b (8) at non-singleton dimension 1',).\n\tWhile copying the parameter named \"_blocks.5._network._edge_block._edge_model.lins.0.weight\", whose dimensions in the model are torch.Size([0]) and whose dimensions in the checkpoint are torch.Size([128, 64]), an exception occurred : ('The size of tensor a (0) must match the size of tensor b (64) at non-singleton dimension 1',).\n\tWhile copying the parameter named \"_blocks.5._network._node_block._node_model.lins.0.weight\", whose dimensions in the model are torch.Size([0]) and whose dimensions in the checkpoint are torch.Size([128, 40]), an exception occurred : ('The size of tensor a (0) must match the size of tensor b (40) at non-singleton dimension 1',).\n\tWhile copying the parameter named \"_blocks.5._network._global_block._global_model.lins.0.weight\", whose dimensions in the model are torch.Size([0]) and whose dimensions in the checkpoint are torch.Size([128, 32]), an exception occurred : ('The size of tensor a (0) must match the size of tensor b (32) at non-singleton dimension 1',).\n\tWhile copying the parameter named \"_blocks.5._network.edge_mlp.lins.0.weight\", whose dimensions in the model are torch.Size([0]) and whose dimensions in the checkpoint are torch.Size([16, 8]), an exception occurred : ('The size of tensor a (0) must match the size of tensor b (8) at non-singleton dimension 1',).\n\tWhile copying the parameter named \"_blocks.5._network.node_mlp.lins.0.weight\", whose dimensions in the model are torch.Size([0]) and whose dimensions in the checkpoint are torch.Size([16, 8]), an exception occurred : ('The size of tensor a (0) must match the size of tensor b (8) at non-singleton dimension 1',).\n\tWhile copying the parameter named \"_blocks.6._network._edge_block._edge_model.lins.0.weight\", whose dimensions in the model are torch.Size([0]) and whose dimensions in the checkpoint are torch.Size([128, 64]), an exception occurred : ('The size of tensor a (0) must match the size of tensor b (64) at non-singleton dimension 1',).\n\tWhile copying the parameter named \"_blocks.6._network._node_block._node_model.lins.0.weight\", whose dimensions in the model are torch.Size([0]) and whose dimensions in the checkpoint are torch.Size([128, 40]), an exception occurred : ('The size of tensor a (0) must match the size of tensor b (40) at non-singleton dimension 1',).\n\tWhile copying the parameter named \"_blocks.6._network._global_block._global_model.lins.0.weight\", whose dimensions in the model are torch.Size([0]) and whose dimensions in the checkpoint are torch.Size([128, 32]), an exception occurred : ('The size of tensor a (0) must match the size of tensor b (32) at non-singleton dimension 1',).\n\tWhile copying the parameter named \"_blocks.6._network.edge_mlp.lins.0.weight\", whose dimensions in the model are torch.Size([0]) and whose dimensions in the checkpoint are torch.Size([16, 8]), an exception occurred : ('The size of tensor a (0) must match the size of tensor b (8) at non-singleton dimension 1',).\n\tWhile copying the parameter named \"_blocks.6._network.node_mlp.lins.0.weight\", whose dimensions in the model are torch.Size([0]) and whose dimensions in the checkpoint are torch.Size([16, 8]), an exception occurred : ('The size of tensor a (0) must match the size of tensor b (8) at non-singleton dimension 1',).\n\tWhile copying the parameter named \"_blocks.7._network._edge_block._edge_model.lins.0.weight\", whose dimensions in the model are torch.Size([0]) and whose dimensions in the checkpoint are torch.Size([128, 64]), an exception occurred : ('The size of tensor a (0) must match the size of tensor b (64) at non-singleton dimension 1',).\n\tWhile copying the parameter named \"_blocks.7._network._node_block._node_model.lins.0.weight\", whose dimensions in the model are torch.Size([0]) and whose dimensions in the checkpoint are torch.Size([128, 40]), an exception occurred : ('The size of tensor a (0) must match the size of tensor b (40) at non-singleton dimension 1',).\n\tWhile copying the parameter named \"_blocks.7._network._global_block._global_model.lins.0.weight\", whose dimensions in the model are torch.Size([0]) and whose dimensions in the checkpoint are torch.Size([128, 32]), an exception occurred : ('The size of tensor a (0) must match the size of tensor b (32) at non-singleton dimension 1',).\n\tWhile copying the parameter named \"_blocks.7._network.edge_mlp.lins.0.weight\", whose dimensions in the model are torch.Size([0]) and whose dimensions in the checkpoint are torch.Size([16, 8]), an exception occurred : ('The size of tensor a (0) must match the size of tensor b (8) at non-singleton dimension 1',).\n\tWhile copying the parameter named \"_blocks.7._network.node_mlp.lins.0.weight\", whose dimensions in the model are torch.Size([0]) and whose dimensions in the checkpoint are torch.Size([16, 8]), an exception occurred : ('The size of tensor a (0) must match the size of tensor b (8) at non-singleton dimension 1',).\n\tWhile copying the parameter named \"_decoder._network._edge_model._model.lins.0.weight\", whose dimensions in the model are torch.Size([0]) and whose dimensions in the checkpoint are torch.Size([128, 8]), an exception occurred : ('The size of tensor a (0) must match the size of tensor b (8) at non-singleton dimension 1',).\n\tWhile copying the parameter named \"_decoder._network._node_model._model.lins.0.weight\", whose dimensions in the model are torch.Size([0]) and whose dimensions in the checkpoint are torch.Size([128, 8]), an exception occurred : ('The size of tensor a (0) must match the size of tensor b (8) at non-singleton dimension 1',).\n\tWhile copying the parameter named \"_decoder._network._global_model._model.lins.0.weight\", whose dimensions in the model are torch.Size([0]) and whose dimensions in the checkpoint are torch.Size([128, 8]), an exception occurred : ('The size of tensor a (0) must match the size of tensor b (8) at non-singleton dimension 1',)."
     ]
    }
   ],
   "source": [
    "myModel.load_state_dict(torch.load('model_32_8block_epochs_pruning_latest.pth'))\n",
    "myModel.eval()"
   ]
  },
  {
   "cell_type": "code",
   "execution_count": 37,
   "id": "6bec5fbe-4e4f-4ee2-85dc-d6f67d36cfed",
   "metadata": {},
   "outputs": [],
   "source": [
    "class1_acc_vl=[]\n",
    "class2_acc_vl=[]\n",
    "class3_acc_vl=[]\n",
    "class4_acc_vl=[]\n",
    "\n",
    "\n",
    "for vl_acc in lst_vl_acc:\n",
    "    class1_acc_vl.append(vl_acc[0])\n",
    "    class2_acc_vl.append(vl_acc[1])\n",
    "    class3_acc_vl.append(vl_acc[2])\n",
    "    class4_acc_vl.append(vl_acc[3])"
   ]
  },
  {
   "cell_type": "code",
   "execution_count": 38,
   "id": "a4cdbc0d-e151-4ae6-adef-3afbde9659dc",
   "metadata": {},
   "outputs": [],
   "source": [
    "class1_acc_tr=[]\n",
    "class2_acc_tr=[]\n",
    "class3_acc_tr=[]\n",
    "class4_acc_tr=[]\n",
    "\n",
    "\n",
    "for tr_acc in lst_tr_acc:\n",
    "    class1_acc_tr.append(tr_acc[0])\n",
    "    class2_acc_tr.append(tr_acc[1])\n",
    "    class3_acc_tr.append(tr_acc[2])\n",
    "    class4_acc_tr.append(tr_acc[3])\n",
    "    "
   ]
  },
  {
   "cell_type": "code",
   "execution_count": 44,
   "id": "5d86ac64-8793-4438-af89-f0853edc0356",
   "metadata": {},
   "outputs": [
    {
     "data": {
      "image/png": "[encoded data removed]",
      "text/plain": [
       "<Figure size 640x480 with 1 Axes>"
      ]
     },
     "metadata": {},
     "output_type": "display_data"
    }
   ],
   "source": [
    "import matplotlib.pyplot as plt\n",
    "import os\n",
    "  \n",
    "\n",
    "    \n",
    "plt_numlayer = \"{}{}\".format(\"No. layers=\", NUM_LAYERS)\n",
    "plt_channel = \"{}{}\".format(\"hidden channels=\", HIDDEN_CHANNELS)\n",
    "plt_mlp = \"{}{}\".format(\"mlpout=\", MLP_OUTPUT_SIZE)\n",
    "plt_step = \"{}{}\".format(\"step=\", STEP_SIZE)\n",
    "\n",
    "plt_filename = \"{}{}{}{}\".format(\"L\", NUM_LAYERS, \"C\", HIDDEN_CHANNELS)\n",
    "\n",
    "\n",
    "plt.plot(lst_tr_loss, label=\"Train Loss\")\n",
    "plt.plot(lst_vl_loss, label=\"Validation Loss\")\n",
    "\n",
    "plt.xlabel('epoch')\n",
    "plt.ylabel('Cross Entropy Loss')\n",
    "#plt.ylabel('Focal Loss')\n",
    "\n",
    "\n",
    "plt.legend()\n",
    "plt.savefig(\"loss_new_3.png\")\n",
    "# plt.savefig(\"figures_Oct/\"+file_batch+\"/loss_\"+plt_filename+\"_2cores_norm\"+\".png\")\n",
    "\n",
    "plt.show()"
   ]
  },
  {
   "cell_type": "code",
   "execution_count": 45,
   "id": "bd5dc873-6298-4863-9867-981885029210",
   "metadata": {},
   "outputs": [
    {
     "data": {
      "image/png": "[encoded data removed]",
      "text/plain": [
       "<Figure size 1000x500 with 2 Axes>"
      ]
     },
     "metadata": {},
     "output_type": "display_data"
    }
   ],
   "source": [
    "fig, axarr = plt.subplots(1, 2, figsize=(10, 5))\n",
    "# fig.suptitle(plt_numlayer +', '+ plt_channel+', '+plt_mlp+', '+plt_step, fontsize=14)\n",
    "# fig.suptitle(\"without weight, gamma=3\")\n",
    "fig.suptitle(\"without weight, gamma=1, \" + plt_numlayer +', '+ plt_channel)\n",
    "\n",
    "# plt.title(\"with weight, gamma=3\")\n",
    "\n",
    "\n",
    "axarr[0].plot(class1_acc_tr, label=\"LCA=0\")\n",
    "axarr[0].plot(class2_acc_tr, label=\"LCA=1\")\n",
    "axarr[0].plot(class3_acc_tr, label=\"LCA=2\")\n",
    "axarr[0].plot(class4_acc_tr, label=\"LCA=3\")\n",
    "\n",
    "axarr[0].set_xlabel('epoch')\n",
    "axarr[0].set_ylabel('training accuracy')\n",
    "\n",
    "axarr[0].legend()\n",
    "\n",
    "axarr[1].plot(class1_acc_vl, label=\"LCA=0\")\n",
    "axarr[1].plot(class2_acc_vl, label=\"LCA=1\")\n",
    "axarr[1].plot(class3_acc_vl, label=\"LCA=2\")\n",
    "axarr[1].plot(class4_acc_vl, label=\"LCA=3\")\n",
    "\n",
    "axarr[1].set_xlabel('epoch')\n",
    "axarr[1].set_ylabel('validation accuracy')\n",
    "\n",
    "axarr[1].legend()\n",
    "\n",
    "fig.tight_layout()\n",
    "# fig.subplots_adjust(top=0.88)\n",
    "plt.savefig(\"acc_LCAloss_BCE_pruning_from_epoch_30_new_3\"+\".png\")\n",
    "\n",
    "# plt.savefig(\"figures_nov/reduced_features/FocalLoss/\"+\"acc_without_w_g1_\" + plt_filename+\"_3.png\")\n",
    "\n",
    "# plt.savefig(\"figures_Oct/\"+file_batch+\"/acc_\"+plt_filename+\"_norm\"+\".png\")\n",
    "# plt.savefig(\"figures_Oct/\"+file_batch+\"/acc_\"+plt_filename+\"_2cores_norm\"+\".png\")\n",
    "\n"
   ]
  },
  {
   "cell_type": "code",
   "execution_count": 30,
   "id": "672ba259-6f47-4abc-992c-903b9870ad4f",
   "metadata": {},
   "outputs": [
    {
     "data": {
      "text/plain": [
       "tensor(0.8311)"
      ]
     },
     "execution_count": 30,
     "metadata": {},
     "output_type": "execute_result"
    }
   ],
   "source": [
    "class4_acc_vl[-1]"
   ]
  },
  {
   "cell_type": "code",
   "execution_count": 31,
   "id": "c7bcc658-4b8f-417c-8e21-804ee046bd42",
   "metadata": {},
   "outputs": [
    {
     "data": {
      "text/plain": [
       "tensor(0.4842)"
      ]
     },
     "execution_count": 31,
     "metadata": {},
     "output_type": "execute_result"
    }
   ],
   "source": [
    "class3_acc_vl[-1]"
   ]
  },
  {
   "cell_type": "code",
   "execution_count": 32,
   "id": "2d1a143a-e9f8-4495-b770-28c02d65e29c",
   "metadata": {},
   "outputs": [
    {
     "data": {
      "text/plain": [
       "tensor(0.7474)"
      ]
     },
     "execution_count": 32,
     "metadata": {},
     "output_type": "execute_result"
    }
   ],
   "source": [
    "class2_acc_vl[-1]"
   ]
  },
  {
   "cell_type": "code",
   "execution_count": 33,
   "id": "2463d18b-ee3d-4f2f-a73a-beb12888af61",
   "metadata": {},
   "outputs": [
    {
     "data": {
      "text/plain": [
       "tensor(0.9785)"
      ]
     },
     "execution_count": 33,
     "metadata": {},
     "output_type": "execute_result"
    }
   ],
   "source": [
    "class1_acc_vl[-1]"
   ]
  },
  {
   "cell_type": "code",
   "execution_count": 43,
   "id": "e026118a-553c-4712-8703-ea0280291ad5",
   "metadata": {},
   "outputs": [],
   "source": [
    "torch.save(myModel.state_dict(), 'model_34_6block_epochs_pruning_scattermean.pth')"
   ]
  },
  {
   "cell_type": "code",
   "execution_count": 48,
   "id": "94e8a18f-4000-46cb-b4e9-d939e430b9c5",
   "metadata": {},
   "outputs": [
    {
     "data": {
      "text/plain": [
       "tensor(0.8107)"
      ]
     },
     "execution_count": 48,
     "metadata": {},
     "output_type": "execute_result"
    }
   ],
   "source": [
    "class4_acc_vl[-1]"
   ]
  },
  {
   "cell_type": "code",
   "execution_count": 49,
   "id": "93e24594-430c-4b29-982a-9ad3b7a40a90",
   "metadata": {},
   "outputs": [
    {
     "data": {
      "text/plain": [
       "tensor(0.5039)"
      ]
     },
     "execution_count": 49,
     "metadata": {},
     "output_type": "execute_result"
    }
   ],
   "source": [
    "class3_acc_vl[-1]"
   ]
  },
  {
   "cell_type": "code",
   "execution_count": 50,
   "id": "31c11093-7396-4e17-afea-ecb2fc1e625e",
   "metadata": {},
   "outputs": [
    {
     "data": {
      "text/plain": [
       "tensor(0.7652)"
      ]
     },
     "execution_count": 50,
     "metadata": {},
     "output_type": "execute_result"
    }
   ],
   "source": [
    "class2_acc_vl[-1]"
   ]
  },
  {
   "cell_type": "code",
   "execution_count": 51,
   "id": "54accf13-fcb3-485f-9e6f-0086592c3a12",
   "metadata": {},
   "outputs": [
    {
     "data": {
      "text/plain": [
       "tensor(0.9840)"
      ]
     },
     "execution_count": 51,
     "metadata": {},
     "output_type": "execute_result"
    }
   ],
   "source": [
    "class1_acc_vl[-1]"
   ]
  },
  {
   "cell_type": "code",
   "execution_count": 39,
   "id": "11d3d6ce-3d1f-41d5-b15b-dc5b685b6632",
   "metadata": {},
   "outputs": [
    {
     "data": {
      "text/plain": [
       "tensor(0.8163)"
      ]
     },
     "execution_count": 39,
     "metadata": {},
     "output_type": "execute_result"
    }
   ],
   "source": [
    "class4_acc_vl[-1]"
   ]
  },
  {
   "cell_type": "code",
   "execution_count": 40,
   "id": "75e4e341-2a5d-44dc-91bc-5aa6eccf14d0",
   "metadata": {},
   "outputs": [
    {
     "data": {
      "text/plain": [
       "tensor(0.4798)"
      ]
     },
     "execution_count": 40,
     "metadata": {},
     "output_type": "execute_result"
    }
   ],
   "source": [
    "class3_acc_vl[-1]"
   ]
  },
  {
   "cell_type": "code",
   "execution_count": 41,
   "id": "de5d3288-3439-454c-ae62-2145ab77c54d",
   "metadata": {},
   "outputs": [
    {
     "data": {
      "text/plain": [
       "tensor(0.7394)"
      ]
     },
     "execution_count": 41,
     "metadata": {},
     "output_type": "execute_result"
    }
   ],
   "source": [
    "class2_acc_vl[-1]"
   ]
  },
  {
   "cell_type": "code",
   "execution_count": 42,
   "id": "2c85b66e-5566-4b18-9db0-041f94950d3b",
   "metadata": {},
   "outputs": [
    {
     "data": {
      "text/plain": [
       "tensor(0.9788)"
      ]
     },
     "execution_count": 42,
     "metadata": {},
     "output_type": "execute_result"
    }
   ],
   "source": [
    "class1_acc_vl[-1]"
   ]
  },
  {
   "cell_type": "code",
   "execution_count": 105,
   "id": "fc30628a-76bb-4b24-a013-179c798ee3c6",
   "metadata": {},
   "outputs": [
    {
     "data": {
      "text/plain": [
       "tensor([  1,   2,   3,  ..., 133, 133, 134])"
      ]
     },
     "execution_count": 105,
     "metadata": {},
     "output_type": "execute_result"
    }
   ],
   "source": [
    "vdata.senders"
   ]
  },
  {
   "cell_type": "code",
   "execution_count": 131,
   "id": "5f3d19c4-f914-44ba-ad2a-d50987d2ff46",
   "metadata": {},
   "outputs": [],
   "source": [
    "test = torch.tensor([1,2,4,1])"
   ]
  },
  {
   "cell_type": "code",
   "execution_count": 120,
   "id": "0da47359-74ee-447e-9d87-fa043aeb7a61",
   "metadata": {},
   "outputs": [],
   "source": [
    "nodes = torch.tensor([0.1,1.1,2.1,4.1,5.1])"
   ]
  },
  {
   "cell_type": "code",
   "execution_count": 124,
   "id": "59faef57-db47-4077-a23a-ddf847282cff",
   "metadata": {},
   "outputs": [],
   "source": [
    "nodes = torch.tensor([1.1,2.1,5.1])"
   ]
  },
  {
   "cell_type": "code",
   "execution_count": 121,
   "id": "1880ebd0-043e-4aa6-9876-fd8a16d3dc21",
   "metadata": {},
   "outputs": [
    {
     "data": {
      "text/plain": [
       "tensor([0.1000, 1.1000, 2.1000, 4.1000, 5.1000])"
      ]
     },
     "execution_count": 121,
     "metadata": {},
     "output_type": "execute_result"
    }
   ],
   "source": [
    "nodes[test]"
   ]
  },
  {
   "cell_type": "code",
   "execution_count": 123,
   "id": "7b1b308b-e2fa-4fef-af03-6ebe21172a7d",
   "metadata": {},
   "outputs": [
    {
     "data": {
      "text/plain": [
       "tensor([1.1000, 2.1000, 5.1000])"
      ]
     },
     "execution_count": 123,
     "metadata": {},
     "output_type": "execute_result"
    }
   ],
   "source": [
    "nodes[test]"
   ]
  },
  {
   "cell_type": "code",
   "execution_count": 127,
   "id": "ce055f71-ac0a-43aa-a15c-5c0b5c11c7c8",
   "metadata": {},
   "outputs": [
    {
     "data": {
      "text/plain": [
       "tensor([1.1000, 2.1000, 5.1000])"
      ]
     },
     "execution_count": 127,
     "metadata": {},
     "output_type": "execute_result"
    }
   ],
   "source": [
    "nodes[relabelled_tensor]"
   ]
  },
  {
   "cell_type": "code",
   "execution_count": 132,
   "id": "71aed363-52a0-4d77-abc9-1819b13011fc",
   "metadata": {},
   "outputs": [],
   "source": [
    "edge_indices_concat = test\n",
    "unique_elements, inverse_indices = torch.unique(edge_indices_concat, sorted=True, return_inverse=True)\n",
    "relabelled_tensor = inverse_indices"
   ]
  },
  {
   "cell_type": "code",
   "execution_count": 133,
   "id": "78dbf165-1dd0-441a-832a-b4e6a3751ce6",
   "metadata": {},
   "outputs": [
    {
     "data": {
      "text/plain": [
       "tensor([0, 1, 2, 0])"
      ]
     },
     "execution_count": 133,
     "metadata": {},
     "output_type": "execute_result"
    }
   ],
   "source": [
    "relabelled_tensor"
   ]
  },
  {
   "cell_type": "code",
   "execution_count": 108,
   "id": "1936f4be-c1f8-49f4-974a-d3e9a245d7d8",
   "metadata": {},
   "outputs": [
    {
     "data": {
      "text/plain": [
       "tensor([  1,   2,   3,  ..., 133, 133, 134])"
      ]
     },
     "execution_count": 108,
     "metadata": {},
     "output_type": "execute_result"
    }
   ],
   "source": [
    "vdata.senders"
   ]
  },
  {
   "cell_type": "code",
   "execution_count": 109,
   "id": "46250c6b-a15a-4f34-9ece-8330613f884e",
   "metadata": {},
   "outputs": [
    {
     "data": {
      "text/plain": [
       "tensor([  0,   0,   0,  ..., 134, 135, 135])"
      ]
     },
     "execution_count": 109,
     "metadata": {},
     "output_type": "execute_result"
    }
   ],
   "source": [
    "vdata.receivers"
   ]
  },
  {
   "cell_type": "code",
   "execution_count": 134,
   "id": "f7073bb5-32a1-40a5-99a5-a5c5d8a6ccac",
   "metadata": {},
   "outputs": [
    {
     "data": {
      "text/plain": [
       "tensor([[-6.7957e+00,  3.6431e+00,  2.4472e-01,  3.9207e-03, -1.3510e+00,\n",
       "         -3.6156e+00, -8.5074e+00, -1.0527e+01],\n",
       "        [-8.4493e+00,  1.7830e+00, -1.4563e+00, -2.0323e-01, -9.7018e-01,\n",
       "         -7.0300e+00, -4.3188e+00, -8.4471e+00],\n",
       "        [-5.8492e+00,  5.7001e+00,  3.6310e+00,  1.9951e-01, -3.5947e+00,\n",
       "         -6.4097e-01, -1.3515e+01, -1.3911e+01],\n",
       "        [-6.7957e+00,  3.6431e+00,  2.4472e-01,  3.9207e-03, -1.3510e+00,\n",
       "         -3.6156e+00, -8.5074e+00, -1.0527e+01]], grad_fn=<IndexBackward0>)"
      ]
     },
     "execution_count": 134,
     "metadata": {},
     "output_type": "execute_result"
    }
   ],
   "source": [
    "vdata.nodes[test]"
   ]
  },
  {
   "cell_type": "code",
   "execution_count": null,
   "id": "3b63cf9b-b5a6-4f36-8feb-0cb7185d512b",
   "metadata": {},
   "outputs": [],
   "source": []
  }
 ],
 "metadata": {
  "kernelspec": {
   "display_name": "Python 3 (ipykernel)",
   "language": "python",
   "name": "python3"
  },
  "language_info": {
   "codemirror_mode": {
    "name": "ipython",
    "version": 3
   },
   "file_extension": ".py",
   "mimetype": "text/x-python",
   "name": "python",
   "nbconvert_exporter": "python",
   "pygments_lexer": "ipython3",
   "version": "3.12.1"
  }
 },
 "nbformat": 4,
 "nbformat_minor": 5
}
