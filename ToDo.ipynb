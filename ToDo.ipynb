{
 "cells": [
  {
   "cell_type": "markdown",
   "id": "49cded4b-71e0-45b0-bdf3-5f7a11c81844",
   "metadata": {},
   "source": [
    "# To do dfei \n",
    "\n",
    "\n",
    "\n",
    "\n",
    "## Code\n",
    "* invariant mass in performance loop\n",
    "* signal eff , bkg rej for different cut values\n",
    "\n",
    "\n",
    "\n",
    "## Paper\n",
    "\n",
    "## Other\n"
   ]
  },
  {
   "cell_type": "markdown",
   "id": "4f183936-0e0d-4dcd-bcfb-3bfd547794b7",
   "metadata": {},
   "source": [
    "## Results\n",
    "\n",
    "\n",
    "### Ablation study\n",
    "\n",
    "* full graph ablations lca val accuracy\n",
    "\n",
    "### Pruning performance\n",
    "\n",
    "* ROC curves for weights\n",
    "* signal eff , bkg rej for different cut values to choose cuts\n",
    "* timing of model with and without reasonable  pruning\n",
    "\n",
    "### Reconstruction performance\n",
    "\n",
    "* Reco perf. for two models WMP + BCE  and hetro + PV + BCE on inclusive sample and exclusive decays. \n",
    "* confusion matrix reco particles vs true like dfei paper\n",
    "\n",
    "\n",
    "### PV mis-association \n",
    "\n",
    "* all track pv-association\n",
    "* heavy-hadron pv-association\n",
    "* pv-association as a function of nPVs for all track and heavy-hadron tracks\n",
    "* B flight direction (angle between true direction and reco). Need the \n",
    "\n",
    "### Hyperparameter optimization\n",
    "* ce loss for different beta1 and beta2\n",
    "* ce loss for beta1 and beta2 fixed beta pv varied\n"
   ]
  },
  {
   "cell_type": "markdown",
   "id": "9eae4d5e-a0d3-4392-9db6-4df53087c1e2",
   "metadata": {},
   "source": [
    "# 19 Feb DFEI |to do\n",
    "\n",
    "## High priority\n",
    "* produce excl samples with truth, and bdt pruned inclusive\n",
    "* plots of signal eff, bkg rej for different cut values\n",
    "* timing of bdt pruned vs incl\n",
    "* fine tune model on hadronic modes and test performance\n",
    "\n",
    "\n",
    "\n",
    "## Pending fine tuning\n",
    "*  reco on various test samples and get this in tables (pruning cuts 0.2 last layer)\n",
    "\n",
    "## Medium priority\n",
    "\n",
    "## Lower priority \n",
    "  * collate results of hyperparameter optimization"
   ]
  },
  {
   "cell_type": "markdown",
   "id": "bb0c1882-7917-4ea6-8c9e-47bedb9065ec",
   "metadata": {},
   "source": [
    "# 19 Feb Supply chains\n",
    "\n",
    "* Prepare a hetrogeneous dataset with time windows\n",
    "* Fit heterogenous gnn "
   ]
  },
  {
   "cell_type": "markdown",
   "id": "23ca8f3e-ec81-4150-9259-69719405fece",
   "metadata": {},
   "source": [
    "# Proposal\n",
    "\n",
    "## Advancing b-decay reconstruction with probability weighted message passing in heterogeneous GNNs\n",
    "\n",
    "Aims:\n",
    "End to end GNN for decay reconstruction and pv-association vital. \n",
    "\n",
    "Science selling points:\n",
    "Primary vertex allows reconstruction of inclusive semileptonic decays \n",
    "End to end reconstruction with a prunable model\n",
    "\n",
    "ML selling points:\n",
    "novel message passing paradigm \n",
    "\n",
    "Challenges, new steps:\n",
    "inclusion of neutrals in a heterogeneous framework\n",
    "\n",
    "\n",
    "Additional learning tasks\n",
    "reconstruction of secondary vertices\n",
    "classification of particles within decays\n",
    "\n"
   ]
  },
  {
   "cell_type": "code",
   "execution_count": null,
   "id": "32dd1457-d01c-4e79-ae82-2c06470e2949",
   "metadata": {},
   "outputs": [],
   "source": []
  }
 ],
 "metadata": {
  "kernelspec": {
   "display_name": "Python 3 (ipykernel)",
   "language": "python",
   "name": "python3"
  },
  "language_info": {
   "codemirror_mode": {
    "name": "ipython",
    "version": 3
   },
   "file_extension": ".py",
   "mimetype": "text/x-python",
   "name": "python",
   "nbconvert_exporter": "python",
   "pygments_lexer": "ipython3",
   "version": "3.11.11"
  }
 },
 "nbformat": 4,
 "nbformat_minor": 5
}
