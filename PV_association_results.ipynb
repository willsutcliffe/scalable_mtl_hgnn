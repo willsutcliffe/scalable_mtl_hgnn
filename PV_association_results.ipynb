{
 "cells": [
  {
   "cell_type": "code",
   "execution_count": 3,
   "id": "ee3396a1-1ae2-4452-8288-2cade36ecf21",
   "metadata": {},
   "outputs": [],
   "source": [
    "import numpy as np\n",
    "import networkx as nx\n",
    "import os, time\n",
    "\n",
    "import os.path as osp\n",
    "import glob\n",
    "from wmpgnn.datasets.graph_dataset import CustomDataset\n",
    "from wmpgnn.datasets.hetero_graph_dataset import CustomHeteroDataset\n",
    "from torch_geometric.loader import DataLoader\n",
    "import contextlib\n",
    "import torch\n",
    "from torch import nn\n",
    "from torch_scatter import scatter_add\n",
    "from wmpgnn.configs.config_loader import ConfigLoader\n",
    "from wmpgnn.datasets.data_handler import DataHandler\n",
    "from wmpgnn.model.model_loader import ModelLoader\n",
    "from torch_geometric.nn.models import MLP\n",
    "from torch.nn import ReLU"
   ]
  },
  {
   "cell_type": "code",
   "execution_count": 2,
   "id": "0a5c36c7-3520-4f59-a73b-ad8bc2c251e3",
   "metadata": {},
   "outputs": [],
   "source": [
    "from wmpgnn.configs.config_loader import ConfigLoader\n",
    "# Load the configuration\n",
    "config_loader = ConfigLoader(\"config_files/heteromp_gnn.yaml\", environment_prefix=\"DL\")"
   ]
  },
  {
   "cell_type": "code",
   "execution_count": 3,
   "id": "384f597c-c4e4-4cc5-8b24-1bca056bb7a2",
   "metadata": {},
   "outputs": [
    {
     "name": "stdout",
     "output_type": "stream",
     "text": [
      "Loading Dataset {'data_type': 'heterogeneous', 'data_dir': '/media/sutclw/WILLSSD/truth_inclusive_10k_49193'}\n"
     ]
    }
   ],
   "source": [
    "print(f\"Loading Dataset {config_loader.get('dataset')}\")"
   ]
  },
  {
   "cell_type": "code",
   "execution_count": 4,
   "id": "65199139-c119-48e6-a78d-13ef4cbc7cd6",
   "metadata": {},
   "outputs": [
    {
     "name": "stdout",
     "output_type": "stream",
     "text": [
      "Loading Dataset heterogeneous\n"
     ]
    }
   ],
   "source": [
    "print(f\"Loading Dataset {config_loader.get('dataset.data_type')}\")\n",
    "data_loader = DataHandler(config_loader)\n",
    "data_loader.load_data()\n"
   ]
  },
  {
   "cell_type": "code",
   "execution_count": 5,
   "id": "3a7e408c-f564-4075-b44a-ed522df27f81",
   "metadata": {},
   "outputs": [
    {
     "data": {
      "text/plain": [
       "MLP(-1, 128, 128, 128, 128, 128, 1)"
      ]
     },
     "execution_count": 5,
     "metadata": {},
     "output_type": "execute_result"
    }
   ],
   "source": [
    "def mlp(output_size):\n",
    "    return lambda: MLP(in_channels=-1, hidden_channels=128,  # Increased size\n",
    "                       out_channels=output_size, num_layers=6, norm='batch_norm', act=ReLU())  \n",
    "\n",
    "NN =mlp(1)()\n",
    "\n",
    "\n",
    "NN.load_state_dict(torch.load('MLP_pvs.pt', weights_only=True))\n",
    "NN.eval()\n",
    "NN.cuda()"
   ]
  },
  {
   "cell_type": "code",
   "execution_count": 27,
   "id": "17d4a07a-d6da-42c1-9d7d-d7d4ae71cc1f",
   "metadata": {},
   "outputs": [],
   "source": [
    "from wmpgnn.configs.config_loader import ConfigLoader\n",
    "# Load the configuration\n",
    "config_loader = ConfigLoader(\"config_files/heteromp_gnn.yaml\", environment_prefix=\"DL\")"
   ]
  },
  {
   "cell_type": "code",
   "execution_count": 28,
   "id": "a6c5d7e6-5c43-4f8f-8cb0-6bf3f304e3f1",
   "metadata": {},
   "outputs": [],
   "source": [
    "model_loader = ModelLoader(config_loader)\n",
    "model = model_loader.get_model()"
   ]
  },
  {
   "cell_type": "code",
   "execution_count": 29,
   "id": "78f90624-0f70-46f7-bb48-3a3a776e5dd9",
   "metadata": {},
   "outputs": [
    {
     "name": "stderr",
     "output_type": "stream",
     "text": [
      "/tmp/ipykernel_14994/1134652269.py:3: FutureWarning: You are using `torch.load` with `weights_only=False` (the current default value), which uses the default pickle module implicitly. It is possible to construct malicious pickle data which will execute arbitrary code during unpickling (See https://github.com/pytorch/pytorch/blob/main/SECURITY.md#untrusted-models for more details). In a future release, the default value for `weights_only` will be flipped to `True`. This limits the functions that could be executed during unpickling. Arbitrary objects will no longer be allowed to be loaded via this mode unless they are explicitly allowlisted by the user via `torch.serialization.add_safe_globals`. We recommend you start setting `weights_only=True` for any use case where you don't have full control of the loaded file. Please open an issue on GitHub for any issues related to this experimental feature.\n",
      "  model.load_state_dict(torch.load(\"/media/sutclw/WILLSSD/bn_trainings_new/Final_full_graph_hetero_8block_10_pv_task.pt\"))\n"
     ]
    },
    {
     "data": {
      "text/plain": [
       "HeteroGNN(\n",
       "  (_encoder): HeteroGraphCoder(\n",
       "    (_global_model): WrappedModelFnModule(\n",
       "      (_model): MLP(-1, 128, 128, 128, 16)\n",
       "    )\n",
       "    (_edge_models_model_dict): ModuleDict(\n",
       "      (('tracks', 'to', 'pvs')): WrappedModelFnModule(\n",
       "        (_model): MLP(-1, 128, 128, 128, 16)\n",
       "      )\n",
       "    )\n",
       "    (_node_models_model_dict): ModuleDict(\n",
       "      (tracks): WrappedModelFnModule(\n",
       "        (_model): MLP(-1, 128, 128, 128, 16)\n",
       "      )\n",
       "      (pvs): WrappedModelFnModule(\n",
       "        (_model): MLP(-1, 128, 128, 128, 16)\n",
       "      )\n",
       "    )\n",
       "  )\n",
       "  (_blocks): ModuleList(\n",
       "    (0-7): 8 x HeteroGraphNetwork(\n",
       "      (_edge_block): HeteroEdgeBlock(\n",
       "        (_edge_models_model_dict): ModuleDict(\n",
       "          (('tracks', 'to', 'pvs')): MLP(-1, 128, 128, 128, 16)\n",
       "        )\n",
       "      )\n",
       "      (_node_block): HeteroNodeBlock(\n",
       "        (_received_edges_aggregator): HeteroEdgesToNodesAggregator()\n",
       "        (_sent_edges_aggregator): HeteroEdgesToNodesAggregator()\n",
       "        (_node_models_model_dict): ModuleDict(\n",
       "          (tracks): MLP(-1, 128, 128, 128, 16)\n",
       "          (pvs): MLP(-1, 128, 128, 128, 16)\n",
       "        )\n",
       "      )\n",
       "      (_global_block): HeteroGlobalBlock(\n",
       "        (_global_model): MLP(-1, 128, 128, 128, 16)\n",
       "        (_edges_aggregator): HeteroEdgesToGlobalsAggregator()\n",
       "        (_nodes_aggregator): HeteroNodesToGlobalsAggregator()\n",
       "      )\n",
       "      (_edge_models_model_dict): ModuleDict(\n",
       "        (('tracks', 'to', 'pvs')): MLP(-1, 16, 16, 16, 1)\n",
       "      )\n",
       "      (_node_models_model_dict): ModuleDict(\n",
       "        (tracks): MLP(-1, 16, 16, 16, 1)\n",
       "      )\n",
       "      (_sigmoid): Sigmoid()\n",
       "    )\n",
       "  )\n",
       "  (_decoder): HeteroGraphCoder(\n",
       "    (_global_model): WrappedModelFnModule(\n",
       "      (_model): MLP(-1, 128, 128, 128, 16)\n",
       "    )\n",
       "    (_edge_models_model_dict): ModuleDict(\n",
       "      (('tracks', 'to', 'pvs')): WrappedModelFnModule(\n",
       "        (_model): MLP(-1, 128, 128, 128, 16)\n",
       "      )\n",
       "    )\n",
       "    (_node_models_model_dict): ModuleDict(\n",
       "      (tracks): WrappedModelFnModule(\n",
       "        (_model): MLP(-1, 128, 128, 128, 16)\n",
       "      )\n",
       "      (pvs): WrappedModelFnModule(\n",
       "        (_model): MLP(-1, 128, 128, 128, 16)\n",
       "      )\n",
       "    )\n",
       "  )\n",
       "  (_output_transform): HeteroGraphCoder(\n",
       "    (_edge_models_model_dict): ModuleDict(\n",
       "      (('tracks', 'to', 'pvs')): WrappedModelFnModule(\n",
       "        (_model): Linear(in_features=16, out_features=1, bias=True)\n",
       "      )\n",
       "    )\n",
       "    (_node_models_model_dict): ModuleDict(\n",
       "      (tracks): WrappedModelFnModule()\n",
       "      (pvs): WrappedModelFnModule()\n",
       "    )\n",
       "  )\n",
       ")"
      ]
     },
     "execution_count": 29,
     "metadata": {},
     "output_type": "execute_result"
    }
   ],
   "source": [
    "#model.load_state_dict(torch.load(\"/media/sutclw/WILLSSD/bn_trainings_new/Final_full_graph_hetero_8block_36_epochs_message_passing_BCE_batch_norm_4mlp_layers.pt\"))\n",
    "#model.load_state_dict(torch.load(\"/media/sutclw/WILLSSD/bn_trainings_new/Final_full_graph_hetero_8block_10_pv_task_with_track_edges.pt\"))\n",
    "model.load_state_dict(torch.load(\"/media/sutclw/WILLSSD/bn_trainings_new/Final_full_graph_hetero_8block_10_pv_task.pt\"))\n",
    "model.eval()\n",
    "model.cuda()"
   ]
  },
  {
   "cell_type": "code",
   "execution_count": 30,
   "id": "1e69212c-1f95-4639-b36a-d119c4179197",
   "metadata": {},
   "outputs": [],
   "source": [
    "# num_params = sum(p.numel() for p in model.parameters())\n",
    "# print(f\"Total number of parameters: {num_params}\")\n",
    "val_loader = data_loader.get_test_dataloader(batch_size=1)"
   ]
  },
  {
   "cell_type": "code",
   "execution_count": 31,
   "id": "45e8225c-3583-4665-a855-bb358ca185cc",
   "metadata": {},
   "outputs": [
    {
     "name": "stderr",
     "output_type": "stream",
     "text": [
      "/tmp/ipykernel_14994/1459700391.py:24: UserWarning: To copy construct from a tensor, it is recommended to use sourceTensor.clone().detach() or sourceTensor.clone().detach().requires_grad_(True), rather than torch.tensor(sourceTensor).\n",
      "  PVlabel = torch.tensor(data[('tracks', 'to', 'pvs')].y, dtype=torch.float32)\n"
     ]
    }
   ],
   "source": [
    "running_acc = 0\n",
    "running_num = 0\n",
    "running_denom = 0\n",
    "npvs = []\n",
    "associated = []\n",
    "b_track = []\n",
    "event_no = []\n",
    "n_tracks = []\n",
    "b_tracks=False\n",
    "\n",
    "model_type = \"GNN\"\n",
    "\n",
    "for j, data in enumerate(val_loader):\n",
    "    data.to('cuda')\n",
    "    X=torch.concat([data['tracks'].x[data[('tracks','to','pvs')].edge_index[0]],\n",
    "                    data['pvs'].x[data[('tracks','to','pvs')].edge_index[1]],\n",
    "                    data[('tracks','to','pvs')].edges], -1)\n",
    "    if model_type == \"NN\":\n",
    "        outputs = NN(X)\n",
    "    if model_type == \"GNN\":\n",
    "        gnn_outputs = model(data)\n",
    "    if model_type == \"MINIP\":\n",
    "        outputs = outputs = data[('tracks','to','pvs')].edges\n",
    "    PVlabel = torch.tensor(data[('tracks', 'to', 'pvs')].y, dtype=torch.float32)\n",
    "\n",
    "    if b_tracks:\n",
    "        tracks = data[('tracks', 'to', 'tracks')].edge_index[0][data[('tracks', 'to', 'tracks')].y[:, 0] == 0]\n",
    "    else:\n",
    "        tracks = data[('tracks', 'to', 'tracks')].edge_index[0]\n",
    "\n",
    "    btracks = data[('tracks', 'to', 'tracks')].edge_index[0][data[('tracks', 'to', 'tracks')].y[:, 0] == 0]\n",
    "    b_unique_tracks = torch.unique(btracks)\n",
    "    unique_tracks = torch.unique(tracks)\n",
    "    correctly_associated = 0\n",
    "    \n",
    "    for i in unique_tracks:\n",
    "        index = (data[('tracks', 'to', 'pvs')].edge_index[0] == i)\n",
    "\n",
    "        if model_type == \"MINIP\":\n",
    "            pv_associated = (torch.argmin(\n",
    "                outputs[index]) == torch.argmax(\n",
    "                data[('tracks', 'to', 'pvs')].y[index]))\n",
    "        elif model_type == \"NN\":\n",
    "            pv_associated = (torch.argmax(\n",
    "                outputs[index]) == torch.argmax(\n",
    "                data[('tracks', 'to', 'pvs')].y[index]))\n",
    "        elif model_type == \"GNN\":\n",
    "            pv_associated = (torch.argmax(\n",
    "            model._blocks[-1].edge_weights[('tracks', 'to', 'pvs')][index]) == torch.argmax(\n",
    "            data[('tracks', 'to', 'pvs')].y[index]))\n",
    "            \n",
    "        correctly_associated += int(pv_associated.item())\n",
    "        npvs.append(data['pvs'].x.shape[0])\n",
    "        associated.append( int(pv_associated.item()))\n",
    "        if i in b_unique_tracks:\n",
    "            b_track.append(1)\n",
    "        else:\n",
    "            b_track.append(0)       \n",
    "        event_no.append(j)\n",
    "        n_tracks.append(unique_tracks.shape[0])\n",
    "            \n",
    "    # if unique_tracks.shape[0] > 0:\n",
    "    #     npvs.append(data['pvs'].x.shape[0])\n",
    "    #     associated.append( correctly_associated/ unique_tracks.shape[0])\n",
    "    running_num += correctly_associated \n",
    "    running_denom += unique_tracks.shape[0]\n",
    "acc = running_num / running_denom"
   ]
  },
  {
   "cell_type": "code",
   "execution_count": 10,
   "id": "f68e91e2-b12b-42be-93a1-f283f2d53de1",
   "metadata": {},
   "outputs": [
    {
     "data": {
      "text/plain": [
       "0.9982357815261022"
      ]
     },
     "execution_count": 10,
     "metadata": {},
     "output_type": "execute_result"
    }
   ],
   "source": [
    "acc"
   ]
  },
  {
   "cell_type": "code",
   "execution_count": 13,
   "id": "243e4438-666b-41de-9fba-5d7d8f86b0e0",
   "metadata": {},
   "outputs": [],
   "source": [
    "import pandas"
   ]
  },
  {
   "cell_type": "code",
   "execution_count": 83,
   "id": "f610963a-0000-44c2-a610-7cc2a16850aa",
   "metadata": {},
   "outputs": [],
   "source": [
    "df_nn = pandas.DataFrame( data={'associated':associated, 'npvs':npvs, 'btrack' : b_track, 'event_number':event_no,\n",
    "                       'n_tracks': n_tracks})"
   ]
  },
  {
   "cell_type": "code",
   "execution_count": 81,
   "id": "91545438-ded9-4d41-8a48-90ff9dd4fd38",
   "metadata": {},
   "outputs": [],
   "source": [
    "df_gnn = pandas.DataFrame( data={'associated':associated, 'npvs':npvs, 'btrack' : b_track, 'event_number':event_no,\n",
    "                       'n_tracks': n_tracks})"
   ]
  },
  {
   "cell_type": "code",
   "execution_count": 105,
   "id": "ec180743-45cd-4dfe-abb6-e9a2c2028fd0",
   "metadata": {},
   "outputs": [],
   "source": [
    "df_minip = pandas.DataFrame( data={'associated':associated, 'npvs':npvs, 'btrack' : b_track, 'event_number':event_no,\n",
    "                       'n_tracks': n_tracks})"
   ]
  },
  {
   "cell_type": "code",
   "execution_count": 14,
   "id": "b818d1bc-7e2b-4881-a4fa-f7a862629cb4",
   "metadata": {},
   "outputs": [],
   "source": [
    "df_gnn2 = pandas.DataFrame( data={'associated':associated, 'npvs':npvs, 'btrack' : b_track, 'event_number':event_no,\n",
    "                       'n_tracks': n_tracks})"
   ]
  },
  {
   "cell_type": "code",
   "execution_count": 32,
   "id": "7f2decfd-7d8e-441b-95a0-d51cdf915297",
   "metadata": {},
   "outputs": [],
   "source": [
    "df_gnn3 = pandas.DataFrame( data={'associated':associated, 'npvs':npvs, 'btrack' : b_track, 'event_number':event_no,\n",
    "                       'n_tracks': n_tracks})"
   ]
  },
  {
   "cell_type": "code",
   "execution_count": 15,
   "id": "03b7aa87-4cde-4003-8c4e-d99850d52f8e",
   "metadata": {},
   "outputs": [
    {
     "data": {
      "text/plain": [
       "0          6\n",
       "1          6\n",
       "2          6\n",
       "3          6\n",
       "4          6\n",
       "          ..\n",
       "1410818    8\n",
       "1410819    8\n",
       "1410820    8\n",
       "1410821    8\n",
       "1410822    8\n",
       "Name: npvs, Length: 1410823, dtype: int64"
      ]
     },
     "execution_count": 15,
     "metadata": {},
     "output_type": "execute_result"
    }
   ],
   "source": [
    "df.npvs"
   ]
  },
  {
   "cell_type": "code",
   "execution_count": 11,
   "id": "0229b8c6-fb46-44bc-884b-d07363aba23c",
   "metadata": {},
   "outputs": [
    {
     "ename": "NameError",
     "evalue": "name 'df' is not defined",
     "output_type": "error",
     "traceback": [
      "\u001b[0;31m---------------------------------------------------------------------------\u001b[0m",
      "\u001b[0;31mNameError\u001b[0m                                 Traceback (most recent call last)",
      "Cell \u001b[0;32mIn[11], line 1\u001b[0m\n\u001b[0;32m----> 1\u001b[0m np\u001b[38;5;241m.\u001b[39mmean(\u001b[43mdf\u001b[49m\u001b[38;5;241m.\u001b[39massociated)\n",
      "\u001b[0;31mNameError\u001b[0m: name 'df' is not defined"
     ]
    }
   ],
   "source": [
    "np.mean(df.associated)"
   ]
  },
  {
   "cell_type": "code",
   "execution_count": null,
   "id": "02eb8fde-2a0b-42b4-bbd9-fd46a778fac1",
   "metadata": {},
   "outputs": [],
   "source": [
    "!ls PV_association_HGNN_all_tasks.csv"
   ]
  },
  {
   "cell_type": "code",
   "execution_count": 33,
   "id": "2e706ab6-2c4c-4b7a-8c48-e347fb238076",
   "metadata": {},
   "outputs": [],
   "source": [
    "df_gnn2.to_csv(\"PV_association_HGNN_no_track_edges.csv\")"
   ]
  },
  {
   "cell_type": "code",
   "execution_count": 34,
   "id": "62488c37-40e9-495e-aa75-aa964d82b1e5",
   "metadata": {},
   "outputs": [],
   "source": [
    "df_gnn3.to_csv(\"PV_association_HGNN_no_track_edges.csv\")"
   ]
  },
  {
   "cell_type": "code",
   "execution_count": 22,
   "id": "1321825c-d7a9-497d-8177-5cf0c50fb65f",
   "metadata": {},
   "outputs": [],
   "source": [
    "bins = np.array([0,1,2,3,4,5,6,7,8,10,13,16])"
   ]
  },
  {
   "cell_type": "code",
   "execution_count": 23,
   "id": "adbbd1cf-69ec-47a0-9bb9-d42521b2d6de",
   "metadata": {},
   "outputs": [],
   "source": [
    "bins = np.array([0,1,2,3,4,5,6,7,8,10,13,16])\n",
    "bin_centers = (bins[:-1] + bins[1:]) / 2"
   ]
  },
  {
   "cell_type": "code",
   "execution_count": 24,
   "id": "36cbfbf9-6e28-46b1-9729-02b04b038786",
   "metadata": {},
   "outputs": [],
   "source": [
    "eff = []"
   ]
  },
  {
   "cell_type": "code",
   "execution_count": 25,
   "id": "7f8a32f2-e126-4c93-bb7b-0b0df26b9aef",
   "metadata": {},
   "outputs": [
    {
     "data": {
      "text/plain": [
       "(11,)"
      ]
     },
     "execution_count": 25,
     "metadata": {},
     "output_type": "execute_result"
    }
   ],
   "source": [
    "bin_centers.shape"
   ]
  },
  {
   "cell_type": "code",
   "execution_count": 26,
   "id": "5653e8b1-5857-4b1c-a7d5-f683ac148f0e",
   "metadata": {},
   "outputs": [],
   "source": [
    "#eff.shape"
   ]
  },
  {
   "cell_type": "code",
   "execution_count": 27,
   "id": "beaa14fc-329d-4f9b-8b84-af5260d507e2",
   "metadata": {},
   "outputs": [],
   "source": [
    "import numpy as np\n",
    "import matplotlib.pyplot as plt\n",
    "\n",
    "def init_thesis_plot_style():\n",
    "    my_rc_params = {\n",
    "        \"xtick.direction\": \"in\",\n",
    "        \"xtick.major.size\": 8.0,\n",
    "        \"xtick.minor.size\": 4.0,\n",
    "        \"xtick.minor.visible\": True,\n",
    "        \"xtick.major.width\": 1.2,\n",
    "        \"xtick.minor.width\": 0.9,\n",
    "        \"ytick.direction\": \"in\",\n",
    "        \"ytick.major.size\": 8.0,\n",
    "        \"ytick.minor.size\": 4.0,\n",
    "        \"ytick.minor.visible\": True,\n",
    "        \"ytick.major.width\": 1.2,\n",
    "        \"ytick.minor.width\": 0.9,\n",
    "        \"errorbar.capsize\": 2,\n",
    "        \"axes.linewidth\": 1.2,\n",
    "        # \"font.familiy\": \"serif\",\n",
    "        \"font.size\": 14,\n",
    "        \"axes.grid\": False,\n",
    "        \"ytick.right\": True,\n",
    "        \"xtick.top\": True\n",
    "    }\n",
    "    return(my_rc_params)\n",
    "class Tango(object):\n",
    "    scarlet_red_light = '#ef2929'\n",
    "    scarlet_red = '#cc0000'\n",
    "    scarlet_red_dark = '#a40000'\n",
    "\n",
    "    aluminium_light = '#eeeeec'\n",
    "    aluminium = '#d3d7cf'\n",
    "    aluminium_dark = '#babdb6'\n",
    "\n",
    "    butter_light = '#fce94f'\n",
    "    butter = '#edd400'\n",
    "    butter_dark = '#c4a000'\n",
    "\n",
    "    chameleon_light = '#8ae234'\n",
    "    chameleon = '#73d216'\n",
    "    chameleon_dark = '#4e9a06'\n",
    "\n",
    "    orange_light = '#fcaf3e'\n",
    "    orange = '#f57900'\n",
    "    orange_dark = '#ce5c00'\n",
    "\n",
    "    chocolate_light = '#e9b96e'\n",
    "    chocolate = '#c17d11'\n",
    "    chocolate_dark = '#8f5902'\n",
    "\n",
    "    sky_blue_light = '#729fcf'\n",
    "    sky_blue = '#3465a4'\n",
    "    sky_blue_dark = '#204a87'\n",
    "\n",
    "    plum_light = '#ad7fa8'\n",
    "    plum = '#75507b'\n",
    "    plum_dark = '#5c3566'\n",
    "\n",
    "    slate_light = '#888a85'\n",
    "    slate = '#555753'\n",
    "    slate_dark = '#2e3436'\n",
    "\n",
    "init_thesis_plot_style()\n",
    "plt.rcParams.update(init_thesis_plot_style())"
   ]
  },
  {
   "cell_type": "code",
   "execution_count": 28,
   "id": "89cbfc89-1170-4d86-bbaa-1fb838a5b2e7",
   "metadata": {},
   "outputs": [
    {
     "data": {
      "text/html": [
       "<div>\n",
       "<style scoped>\n",
       "    .dataframe tbody tr th:only-of-type {\n",
       "        vertical-align: middle;\n",
       "    }\n",
       "\n",
       "    .dataframe tbody tr th {\n",
       "        vertical-align: top;\n",
       "    }\n",
       "\n",
       "    .dataframe thead th {\n",
       "        text-align: right;\n",
       "    }\n",
       "</style>\n",
       "<table border=\"1\" class=\"dataframe\">\n",
       "  <thead>\n",
       "    <tr style=\"text-align: right;\">\n",
       "      <th></th>\n",
       "      <th>Unnamed: 0</th>\n",
       "      <th>associated</th>\n",
       "      <th>npvs</th>\n",
       "      <th>btrack</th>\n",
       "      <th>n_tracks</th>\n",
       "    </tr>\n",
       "    <tr>\n",
       "      <th>event_number</th>\n",
       "      <th></th>\n",
       "      <th></th>\n",
       "      <th></th>\n",
       "      <th></th>\n",
       "      <th></th>\n",
       "    </tr>\n",
       "  </thead>\n",
       "  <tbody>\n",
       "    <tr>\n",
       "      <th>0</th>\n",
       "      <td>80.0</td>\n",
       "      <td>0.975155</td>\n",
       "      <td>6.0</td>\n",
       "      <td>0.018634</td>\n",
       "      <td>161.0</td>\n",
       "    </tr>\n",
       "    <tr>\n",
       "      <th>1</th>\n",
       "      <td>189.5</td>\n",
       "      <td>1.000000</td>\n",
       "      <td>2.0</td>\n",
       "      <td>0.051724</td>\n",
       "      <td>58.0</td>\n",
       "    </tr>\n",
       "    <tr>\n",
       "      <th>2</th>\n",
       "      <td>266.0</td>\n",
       "      <td>0.936842</td>\n",
       "      <td>5.0</td>\n",
       "      <td>0.000000</td>\n",
       "      <td>95.0</td>\n",
       "    </tr>\n",
       "    <tr>\n",
       "      <th>3</th>\n",
       "      <td>375.0</td>\n",
       "      <td>0.991870</td>\n",
       "      <td>6.0</td>\n",
       "      <td>0.024390</td>\n",
       "      <td>123.0</td>\n",
       "    </tr>\n",
       "    <tr>\n",
       "      <th>4</th>\n",
       "      <td>498.0</td>\n",
       "      <td>0.983740</td>\n",
       "      <td>4.0</td>\n",
       "      <td>0.016260</td>\n",
       "      <td>123.0</td>\n",
       "    </tr>\n",
       "    <tr>\n",
       "      <th>...</th>\n",
       "      <td>...</td>\n",
       "      <td>...</td>\n",
       "      <td>...</td>\n",
       "      <td>...</td>\n",
       "      <td>...</td>\n",
       "    </tr>\n",
       "    <tr>\n",
       "      <th>9995</th>\n",
       "      <td>1410240.5</td>\n",
       "      <td>0.935897</td>\n",
       "      <td>6.0</td>\n",
       "      <td>0.000000</td>\n",
       "      <td>78.0</td>\n",
       "    </tr>\n",
       "    <tr>\n",
       "      <th>9996</th>\n",
       "      <td>1410302.0</td>\n",
       "      <td>1.000000</td>\n",
       "      <td>3.0</td>\n",
       "      <td>0.155556</td>\n",
       "      <td>45.0</td>\n",
       "    </tr>\n",
       "    <tr>\n",
       "      <th>9997</th>\n",
       "      <td>1410470.0</td>\n",
       "      <td>0.962199</td>\n",
       "      <td>11.0</td>\n",
       "      <td>0.013746</td>\n",
       "      <td>291.0</td>\n",
       "    </tr>\n",
       "    <tr>\n",
       "      <th>9998</th>\n",
       "      <td>1410650.5</td>\n",
       "      <td>0.971429</td>\n",
       "      <td>5.0</td>\n",
       "      <td>0.157143</td>\n",
       "      <td>70.0</td>\n",
       "    </tr>\n",
       "    <tr>\n",
       "      <th>9999</th>\n",
       "      <td>1410754.0</td>\n",
       "      <td>0.963504</td>\n",
       "      <td>8.0</td>\n",
       "      <td>0.036496</td>\n",
       "      <td>137.0</td>\n",
       "    </tr>\n",
       "  </tbody>\n",
       "</table>\n",
       "<p>10000 rows × 5 columns</p>\n",
       "</div>"
      ],
      "text/plain": [
       "              Unnamed: 0  associated  npvs    btrack  n_tracks\n",
       "event_number                                                  \n",
       "0                   80.0    0.975155   6.0  0.018634     161.0\n",
       "1                  189.5    1.000000   2.0  0.051724      58.0\n",
       "2                  266.0    0.936842   5.0  0.000000      95.0\n",
       "3                  375.0    0.991870   6.0  0.024390     123.0\n",
       "4                  498.0    0.983740   4.0  0.016260     123.0\n",
       "...                  ...         ...   ...       ...       ...\n",
       "9995           1410240.5    0.935897   6.0  0.000000      78.0\n",
       "9996           1410302.0    1.000000   3.0  0.155556      45.0\n",
       "9997           1410470.0    0.962199  11.0  0.013746     291.0\n",
       "9998           1410650.5    0.971429   5.0  0.157143      70.0\n",
       "9999           1410754.0    0.963504   8.0  0.036496     137.0\n",
       "\n",
       "[10000 rows x 5 columns]"
      ]
     },
     "execution_count": 28,
     "metadata": {},
     "output_type": "execute_result"
    }
   ],
   "source": [
    "df.groupby(\"event_number\").mean()"
   ]
  },
  {
   "cell_type": "code",
   "execution_count": 29,
   "id": "5adbf695-8baa-43ba-94ab-a07787c7f4a3",
   "metadata": {},
   "outputs": [],
   "source": [
    "import pandas\n",
    "import numpy as np"
   ]
  },
  {
   "cell_type": "code",
   "execution_count": 43,
   "id": "706c92fd-a1fa-41ad-bbbf-cfb8e6f8c8b0",
   "metadata": {},
   "outputs": [
    {
     "name": "stdout",
     "output_type": "stream",
     "text": [
      "dotted\n",
      "-.\n",
      "dashed\n",
      "dashdot\n",
      "solid\n"
     ]
    },
    {
     "data": {
      "image/png": "[encoded data removed]",
      "text/plain": [
       "<Figure size 640x480 with 1 Axes>"
      ]
     },
     "metadata": {},
     "output_type": "display_data"
    }
   ],
   "source": [
    "datasets = [\"PV_association_MINIP.csv\", \"PV_association_NN.csv\", \"PV_association_HGNN_no_track_edges.csv\",   \"PV_association_HGNN_no_LCA.csv\",  \"PV_association_HGNN_all_tasks.csv\"]\n",
    "labels = [ \"min IP\", \"NN\", \"HGNN, tr-pv, PV task\", \"HGNN, tr-pv, tr-tr, PV task\", \"HGNN, tr-pv, tr-tr, all tasks\"]\n",
    "line_styles = [   \"dotted\", \"-.\", \"dashed\",\"dashdot\", \"solid\"]\n",
    "label_dic = dict(zip(datasets,labels))\n",
    "linestyle_dic = dict(zip(datasets,line_styles))\n",
    "#datasets = [ \"PV_association_HGNN_all_tasks.csv\"]\n",
    "means=[]\n",
    "stds =[]\n",
    "for dataset in datasets:\n",
    "    df = pandas.read_csv(dataset)\n",
    "    #df = df.query(\"btrack == 1 \")\n",
    "    means.append(np.mean(df.associated))\n",
    "    stds.append(np.std(df.associated))\n",
    "    eff = []\n",
    "    std = []\n",
    "    for i in range(0,len(bins)-1):\n",
    "        #dfcut = df.query(f\"{bins[i]} < npvs <= {bins[i+1]} and btrack == 1 \")\n",
    "        dfcut = df.query(f\"{bins[i]} < npvs <= {bins[i+1]}\")\n",
    "        eff.append(np.mean(dfcut.associated))\n",
    "        std.append(np.std(dfcut.associated))\n",
    "    print( linestyle_dic[dataset])\n",
    "    plt.hist(\n",
    "            bin_centers,\n",
    "            weights=np.array(eff)*100,\n",
    "            bins=bins,\n",
    "            #edgecolor=\"black\",\n",
    "            histtype=\"step\",\n",
    "            \n",
    "            # color=colors,\n",
    "            linestyle = linestyle_dic[dataset],\n",
    "            label=label_dic[dataset],\n",
    "            stacked=True\n",
    "        )\n",
    "    # plt.errorbar(x= bin_centers, y=eff, yerr=std,\n",
    "    #             ls=\"\", marker=\".\") #, color=\"black\", label=\"Data\")\n",
    "        \n",
    "        # Labels and formatting\n",
    "plt.xlabel(\"Number of PVs\")\n",
    "plt.ylabel(\"PV association for tracks (%)\")\n",
    "\n",
    "plt.ylim(bottom=60, top=101)\n",
    "plt.xlim(left = 0)\n",
    "plt.legend(loc=\"lower left\")\n",
    "\n",
    "#plt.show()\n",
    "# plt.savefig(\"PV_association_btracks.png\",dpi=300)\n",
    "# plt.savefig(\"PV_association_btracks.pdf\")\n",
    "plt.savefig(\"PV_association_tracks.png\",dpi=300)\n",
    "plt.savefig(\"PV_association_tracks.pdf\")"
   ]
  },
  {
   "cell_type": "code",
   "execution_count": 34,
   "id": "d47cd116-e49d-475b-8001-91c47cbc779d",
   "metadata": {},
   "outputs": [
    {
     "data": {
      "text/plain": [
       "11"
      ]
     },
     "execution_count": 34,
     "metadata": {},
     "output_type": "execute_result"
    }
   ],
   "source": [
    "len(bin_centers)"
   ]
  },
  {
   "cell_type": "code",
   "execution_count": 123,
   "id": "f38c2d8d-6515-4503-af68-6371ac22bcb6",
   "metadata": {},
   "outputs": [
    {
     "data": {
      "text/plain": [
       "[0.8806972653126499,\n",
       " 0.897382589690282,\n",
       " 0.9630932707855785,\n",
       " 0.9976722284414592,\n",
       " 0.9980809211578442]"
      ]
     },
     "execution_count": 123,
     "metadata": {},
     "output_type": "execute_result"
    }
   ],
   "source": [
    "means2"
   ]
  },
  {
   "cell_type": "code",
   "execution_count": null,
   "id": "841b88bb-e9f6-431e-aaf3-f3eca5e78a50",
   "metadata": {},
   "outputs": [],
   "source": [
    "pandas.DataFrame(data={'btrack'})"
   ]
  },
  {
   "cell_type": "code",
   "execution_count": 141,
   "id": "71af6941-887f-478c-aaa9-663305e0895d",
   "metadata": {},
   "outputs": [
    {
     "data": {
      "text/plain": [
       "['min IP',\n",
       " 'NN',\n",
       " 'HGNN, tr-pv, PV task',\n",
       " 'HGNN, tr-pv, tr-tr, PV task',\n",
       " 'HGNN, tr-pv, tr-tr, all tasks']"
      ]
     },
     "execution_count": 141,
     "metadata": {},
     "output_type": "execute_result"
    }
   ],
   "source": [
    "labels"
   ]
  },
  {
   "cell_type": "code",
   "execution_count": 154,
   "id": "17ba9326-2ecf-4b41-ac03-69bd753e4bff",
   "metadata": {},
   "outputs": [
    {
     "name": "stdout",
     "output_type": "stream",
     "text": [
      "\\begin{tabular}{lllll}\n",
      "\\toprule\n",
      "method & task & edge type & track-PV association & B-track-PV association \\\\\n",
      "\\midrule\n",
      "min IP & - & - & 95.3 & 88.1  \\\\\n",
      "NN & - & - & 96.1 & 89.7  \\\\\n",
      "HGNN & $\\mathcal{L}^{\\mathrm PV}_{\\mathrm BCE}$ & tr-pv & 97.6 & 96.3  \\\\\n",
      "HGNN & $\\mathcal{L}^{\\mathrm PV}_{\\mathrm BCE}$ & tr-pv, tr-tr & 99.8 & 99.8  \\\\\n",
      "HGNN & $\\mathcal{L}^{\\mathrm PV}_{\\mathrm BCE}, \\mathcal{L}^{\\mathrm prune}_{\\mathrm BCE}, \\mathcal{L}^{\\mathrm LCA}_{\\mathrm BCE}$ & tr-pv, tr-tr & 99.9 & 99.8  \\\\\n",
      "\\bottomrule\n",
      "\\end{tabular}\n",
      "\n"
     ]
    }
   ],
   "source": [
    "import pandas as pd\n",
    "import numpy as np\n",
    "\n",
    "# Example data\n",
    "categories = ['min IP', 'NN',\n",
    " 'HGNN',\n",
    " 'HGNN',\n",
    " 'HGNN']\n",
    "\n",
    "tasks =  ['-',\n",
    " '-',\n",
    " '$\\mathcal{L}^{\\mathrm PV}_{\\mathrm BCE}$',\n",
    " '$\\mathcal{L}^{\\mathrm PV}_{\\mathrm BCE}$',\n",
    " '$\\mathcal{L}^{\\mathrm PV}_{\\mathrm BCE}, \\mathcal{L}^{\\mathrm prune}_{\\mathrm BCE}, \\mathcal{L}^{\\mathrm LCA}_{\\mathrm BCE}$']\n",
    "\n",
    "edge_types = [\"-\", \"-\", \"tr-pv\", \"tr-pv, tr-tr\", \"tr-pv, tr-tr\"]\n",
    "# Create DataFrame\n",
    "df = pd.DataFrame({\n",
    "    \"method\": categories,\n",
    "    \"task\" : tasks,\n",
    "    \"edge type\": edge_types,\n",
    "    \"Value\": 100*np.array(means),\n",
    "    \"Uncertainty\": 100*np.array(stds),\n",
    "    \"Value2\": 100*np.array(means2),\n",
    "    \"Uncertainty2\": 100**np.array(stds2)\n",
    "})\n",
    "\n",
    "# Format values as \"mean ± std\"\n",
    "df[\"track-PV association\"] = df.apply(lambda row: f\"{row['Value']:.3f} ± {row['Uncertainty']:.3f}\", axis=1)\n",
    "df[\"B-track-PV association\"] = df.apply(lambda row: f\"{row['Value2']:.3f} ± {row['Uncertainty2']:.3f}\", axis=1)\n",
    "df[\"track-PV association\"] = df.apply(lambda row: f\"{row['Value']:.1f}\", axis=1)\n",
    "df[\"B-track-PV association\"] = df.apply(lambda row: f\"{row['Value2']:.1f} \", axis=1)\n",
    "# Select columns for LaTeX table\n",
    "latex_table = df[[\"method\",\"task\",\"edge type\",\"track-PV association\", \"B-track-PV association\"]].to_latex(index=False, escape=False)\n",
    "\n",
    "# Print or save LaTeX table\n",
    "print(latex_table)"
   ]
  },
  {
   "cell_type": "code",
   "execution_count": 120,
   "id": "ecad7d59-5d4e-439a-bc64-81a2c94e3c3a",
   "metadata": {},
   "outputs": [
    {
     "data": {
      "text/plain": [
       "[]"
      ]
     },
     "execution_count": 120,
     "metadata": {},
     "output_type": "execute_result"
    }
   ],
   "source": [
    "means2"
   ]
  },
  {
   "cell_type": "code",
   "execution_count": 124,
   "id": "13a1b4a8-f6c2-4299-b8c2-a96caf96e4be",
   "metadata": {},
   "outputs": [
    {
     "data": {
      "text/plain": [
       "[0.3241444002037823,\n",
       " 0.3034585266738191,\n",
       " 0.1885328155868757,\n",
       " 0.048190798272201706,\n",
       " 0.04376523710153248]"
      ]
     },
     "execution_count": 124,
     "metadata": {},
     "output_type": "execute_result"
    }
   ],
   "source": [
    "stds2"
   ]
  },
  {
   "cell_type": "code",
   "execution_count": 96,
   "id": "c05a3c2e-95c3-4eeb-a583-64eb59ca44c5",
   "metadata": {},
   "outputs": [
    {
     "name": "stderr",
     "output_type": "stream",
     "text": [
      "/tmp/ipykernel_14994/2182704485.py:38: UserWarning: No artists with labels found to put in legend.  Note that artists whose label start with an underscore are ignored when legend() is called with no argument.\n",
      "  plt.legend(loc=\"lower left\")\n"
     ]
    },
    {
     "data": {
      "image/png": "[encoded data removed]",
      "text/plain": [
       "<Figure size 640x480 with 1 Axes>"
      ]
     },
     "metadata": {},
     "output_type": "display_data"
    }
   ],
   "source": [
    "datasets = [\"PV_association_MINIP.csv\", \"PV_association_NN.csv\", \"PV_association_HGNN_no_track_edges.csv\",   \"PV_association_HGNN_no_LCA.csv\",  \"PV_association_HGNN_all_tasks.csv\"]\n",
    "labels = [ \"min IP\", \"NN\", \"HGNN, tr-pv, PV task\", \"HGNN, tr-pv, tr-tr, PV task\", \"HGNN, tr-pv, tr-tr, all tasks\"]\n",
    "line_styles = [(0, (5, 10)),  \"dotted\", \"dashed\",\"dashdot\", \"solid\"]\n",
    "label_dic = dict(zip(datasets,labels))\n",
    "linestyle_dic = dict(zip(datasets,line_styles))\n",
    "#datasets = [ \"PV_association_HGNN_all_tasks.csv\"]\n",
    "for dataset in datasets:\n",
    "    df = pandas.read_csv(dataset)\n",
    "    eff = []\n",
    "    std = []\n",
    "    for i in range(0,len(bins)-1):\n",
    "        dfcut = df.query(f\"{bins[i]} < npvs <= {bins[i+1]} and btrack == 1 \")\n",
    "        #dfcut = df.query(f\"{bins[i]} < npvs <= {bins[i+1]}\")\n",
    "        dfcut = dfcut.groupby(\"event_number\").mean()\n",
    "        eff.append(np.mean(dfcut.associated))\n",
    "        std.append(np.std(dfcut.associated))\n",
    "    # plt.hist(\n",
    "    #         bin_centers,\n",
    "    #         weights=np.array(eff)*100,\n",
    "    #         bins=bins,\n",
    "    #         #edgecolor=\"black\",\n",
    "    #         histtype=\"step\",\n",
    "            \n",
    "    #         # color=colors,\n",
    "    #         linestyle = linestyle_dic[dataset],\n",
    "    #         label=label_dic[dataset],\n",
    "    #         stacked=True\n",
    "    #     )\n",
    "    plt.errorbar(x= bin_centers, y=np.array(eff)*100, yerr=np.array(std)*100,\n",
    "                 marker=\".\") #, color=\"black\", label=\"Data\")\n",
    "        \n",
    "        # Labels and formatting\n",
    "plt.xlabel(\"Number of PVs\")\n",
    "plt.ylabel(\"PV Association for b-tracks (%)\")\n",
    "\n",
    "plt.ylim(bottom=0, top=101)\n",
    "plt.xlim(left = 0)\n",
    "plt.legend(loc=\"lower left\")\n",
    "\n",
    "plt.show()"
   ]
  },
  {
   "cell_type": "code",
   "execution_count": 24,
   "id": "917eed9f-c343-4537-a4ba-898958d92990",
   "metadata": {},
   "outputs": [
    {
     "data": {
      "text/plain": [
       "[0.0,\n",
       " 0.05364824320506985,\n",
       " 0.012675503000427458,\n",
       " 0.05901450844076683,\n",
       " 0.05886975246927545,\n",
       " 0.029625554614143554,\n",
       " 0.04678111349645852,\n",
       " 0.05814190279049209,\n",
       " 0.04708804466759354,\n",
       " 0.05603290354222739,\n",
       " 0.09712418121129117]"
      ]
     },
     "execution_count": 24,
     "metadata": {},
     "output_type": "execute_result"
    }
   ],
   "source": [
    "std"
   ]
  },
  {
   "cell_type": "code",
   "execution_count": 134,
   "id": "51552b25-dbb6-4949-a7d7-79541f0b35c6",
   "metadata": {},
   "outputs": [
    {
     "data": {
      "text/plain": [
       "[1.0,\n",
       " 0.9714560615779346,\n",
       " 0.9492206331351438,\n",
       " 0.9246899661781285,\n",
       " 0.9052066772655007,\n",
       " 0.8765784561326452,\n",
       " 0.8666209732693626,\n",
       " 0.8600805596777613,\n",
       " 0.8355555555555556,\n",
       " 0.8102362204724409,\n",
       " 0.9047619047619048,\n",
       " nan]"
      ]
     },
     "execution_count": 134,
     "metadata": {},
     "output_type": "execute_result"
    }
   ],
   "source": [
    "eff"
   ]
  },
  {
   "cell_type": "code",
   "execution_count": 77,
   "id": "d84a306b-93cd-48c4-9f51-3b421d217bab",
   "metadata": {},
   "outputs": [
    {
     "data": {
      "image/png": "[encoded data removed]",
      "text/plain": [
       "<Figure size 640x480 with 1 Axes>"
      ]
     },
     "metadata": {},
     "output_type": "display_data"
    }
   ],
   "source": [
    "import numpy as np\n",
    "import matplotlib.pyplot as plt\n",
    "\n",
    "# Define bin edges and values\n",
    "\n",
    "# Create the step histogram\n",
    "plt.hist(\n",
    "            bin_centers,\n",
    "            weights=eff,\n",
    "            bins=bins,\n",
    "            edgecolor=\"black\",\n",
    "            histtype=\"step\",\n",
    "            lw=0.5,\n",
    "            # color=colors,\n",
    "            # label=labels,\n",
    "            stacked=True\n",
    "        )\n",
    "\n",
    "# Labels and formatting\n",
    "plt.xlabel(\"Number of PVs\")\n",
    "plt.ylabel(\"Efficiency\")\n",
    "plt.ylim(bottom=0.99, top=1.01)\n",
    "#plt.title(\"Step Histogram\")\n",
    "#plt.grid(True)\n",
    "#plt.legend()\n",
    "# Show the plot\n",
    "plt.show()"
   ]
  },
  {
   "cell_type": "code",
   "execution_count": 78,
   "id": "6acbc783-c6d2-4d33-b8e4-7331fca5ccde",
   "metadata": {},
   "outputs": [
    {
     "data": {
      "text/plain": [
       "array([ 0,  1,  2,  3,  4,  5,  6,  7,  8, 10, 13])"
      ]
     },
     "execution_count": 78,
     "metadata": {},
     "output_type": "execute_result"
    }
   ],
   "source": [
    "bins[:-1]\n"
   ]
  },
  {
   "cell_type": "code",
   "execution_count": 80,
   "id": "39da5b9a-b2d4-4aa7-b21a-e5375ec6c3cc",
   "metadata": {},
   "outputs": [
    {
     "data": {
      "text/plain": [
       "[1.0,\n",
       " 0.9992699545749514,\n",
       " 0.9995554314899249,\n",
       " 0.9992708930961943,\n",
       " 0.998958864247224,\n",
       " 0.9987952250070449,\n",
       " 0.9986858468350076,\n",
       " 0.9987312711454809,\n",
       " 0.9987232462045592,\n",
       " 0.9964653181213691,\n",
       " 0.9993141289437586]"
      ]
     },
     "execution_count": 80,
     "metadata": {},
     "output_type": "execute_result"
    }
   ],
   "source": [
    "eff"
   ]
  },
  {
   "cell_type": "code",
   "execution_count": 32,
   "id": "4a76a09b-23de-4dd3-ad52-a94ebb0156a4",
   "metadata": {},
   "outputs": [
    {
     "data": {
      "text/plain": [
       "1"
      ]
     },
     "execution_count": 32,
     "metadata": {},
     "output_type": "execute_result"
    }
   ],
   "source": [
    "np.min(df.npvs)"
   ]
  },
  {
   "cell_type": "code",
   "execution_count": null,
   "id": "3e0ae804-421a-4cf8-803d-2a4ea3921924",
   "metadata": {},
   "outputs": [],
   "source": [
    "# Final_full_graph_hetero_8block_10_pv_task.pt\n",
    "# Final_full_graph_hetero_8block_10_pv_task_with_track_edges.pt\n"
   ]
  }
 ],
 "metadata": {
  "kernelspec": {
   "display_name": "Python 3 (ipykernel)",
   "language": "python",
   "name": "python3"
  },
  "language_info": {
   "codemirror_mode": {
    "name": "ipython",
    "version": 3
   },
   "file_extension": ".py",
   "mimetype": "text/x-python",
   "name": "python",
   "nbconvert_exporter": "python",
   "pygments_lexer": "ipython3",
   "version": "3.11.11"
  }
 },
 "nbformat": 4,
 "nbformat_minor": 5
}
