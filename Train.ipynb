{
 "cells": [
  {
   "cell_type": "code",
   "execution_count": 1,
   "id": "46304192-9199-4da1-914d-602f4a35c646",
   "metadata": {},
   "outputs": [],
   "source": [
    "import numpy as np\n",
    "import networkx as nx\n",
    "import os, time\n",
    "\n",
    "import os.path as osp\n",
    "import glob\n",
    "from wmpgnn.datasets.graph_dataset import CustomDataset\n",
    "from torch_geometric.loader import DataLoader\n",
    "import contextlib\n",
    "import torch\n",
    "from torch import nn\n",
    "from torch_scatter import scatter_add"
   ]
  },
  {
   "cell_type": "code",
   "execution_count": 2,
   "id": "f51e35e7-bb2e-4e76-a134-cb64996f6511",
   "metadata": {},
   "outputs": [
    {
     "name": "stdout",
     "output_type": "stream",
     "text": [
      "finish loading training dataset\n",
      "finish loading validation dataset\n"
     ]
    }
   ],
   "source": [
    "files_input_tr = sorted(glob.glob('/home/sutclw/Work/Zurich/LHCb/GNNs/cached_LCA_training_events_PYTHIA/training_dataset/input_*'))\n",
    "files_target_tr = sorted(glob.glob('/home/sutclw/Work/Zurich/LHCb/GNNs/cached_LCA_training_events_PYTHIA/training_dataset/target_*'))\n",
    "data_tr = CustomDataset(files_input_tr, files_target_tr)\n",
    "dataset_tr = data_tr.get()\n",
    "print(\"finish loading training dataset\")\n",
    "\n",
    "files_input_vl = sorted(glob.glob('/home/sutclw/Work/Zurich/LHCb/GNNs/cached_LCA_training_events_PYTHIA/validation_dataset/input_*'))\n",
    "files_target_vl = sorted(glob.glob('/home/sutclw/Work/Zurich/LHCb/GNNs/cached_LCA_training_events_PYTHIA/validation_dataset/target_*'))\n",
    "data_vl = CustomDataset(files_input_vl, files_target_vl)\n",
    "dataset_vl = data_vl.get()\n",
    "print(\"finish loading validation dataset\")"
   ]
  },
  {
   "cell_type": "code",
   "execution_count": 3,
   "id": "343f10c9-1531-48ab-a32f-6ac804b37368",
   "metadata": {},
   "outputs": [],
   "source": [
    "NUM_LAYERS = 5\n",
    "HIDDEN_CHANNELS=128"
   ]
  },
  {
   "cell_type": "code",
   "execution_count": 4,
   "id": "865d523c-f5b5-4114-ab03-7f0cf8826348",
   "metadata": {},
   "outputs": [],
   "source": [
    "BATCH_SIZE = 32\n",
    "loader_tr = DataLoader(dataset_tr, batch_size=BATCH_SIZE, drop_last=True)\n",
    "loader_vl = DataLoader(dataset_vl, batch_size=BATCH_SIZE, drop_last=True)"
   ]
  },
  {
   "cell_type": "code",
   "execution_count": 5,
   "id": "39fd81f9-37de-41c0-9421-555dfc94200b",
   "metadata": {},
   "outputs": [],
   "source": [
    "for vdata in loader_vl:\n",
    "    break"
   ]
  },
  {
   "cell_type": "code",
   "execution_count": 6,
   "id": "bf91deb0-4b20-45a6-b17f-61e5e242e6d7",
   "metadata": {},
   "outputs": [
    {
     "data": {
      "text/plain": [
       "DataBatch(y=[117026, 4], nodes=[3018, 4], edges=[117026, 4], senders=[117026], receivers=[117026], graph_globals=[32], edgepos=[117026], num_edges=[32], num_nodes=3018, batch=[3018], ptr=[33])"
      ]
     },
     "execution_count": 6,
     "metadata": {},
     "output_type": "execute_result"
    }
   ],
   "source": [
    "vdata"
   ]
  },
  {
   "cell_type": "code",
   "execution_count": 16,
   "id": "51e789c5-702f-476b-8664-874a89cdcfbe",
   "metadata": {},
   "outputs": [],
   "source": [
    "from wmpgnn.model.gnn_model import EncodeProcessDecode"
   ]
  },
  {
   "cell_type": "code",
   "execution_count": 17,
   "id": "73baae8e-e7ea-4d85-b7d3-7b2e45d14098",
   "metadata": {},
   "outputs": [],
   "source": [
    "from wmpgnn.util.functions import weight_four_class, acc_four_class"
   ]
  },
  {
   "cell_type": "code",
   "execution_count": 18,
   "id": "157e0de1-a31f-40be-a405-a3665c48a4e0",
   "metadata": {},
   "outputs": [
    {
     "name": "stdout",
     "output_type": "stream",
     "text": [
      "tensor([2.5158e-01, 1.7982e+02, 6.0619e+01, 3.2675e+02])\n"
     ]
    }
   ],
   "source": [
    "weights=weight_four_class(loader_tr)"
   ]
  },
  {
   "cell_type": "code",
   "execution_count": 19,
   "id": "4ae854ca-50ba-4015-bc9d-37c94d54001e",
   "metadata": {},
   "outputs": [
    {
     "data": {
      "text/plain": [
       "BCELoss()"
      ]
     },
     "execution_count": 19,
     "metadata": {},
     "output_type": "execute_result"
    }
   ],
   "source": [
    "MLP_OUTPUT_SIZE=8\n",
    "myModel=EncodeProcessDecode(mlp_output_size=MLP_OUTPUT_SIZE, edge_op=4, num_blocks=6)\n",
    "\n",
    "myModel.cuda()\n",
    "\n",
    "optimizer = torch.optim.Adam(myModel.parameters(), lr=0.001)\n",
    "criterion = nn.CrossEntropyLoss(weight=weights)\n",
    "pos_weight = torch.tensor([166.128])  \n",
    "\n",
    "criterionBCE = nn.BCELoss(weight=pos_weight) \n",
    "pos_weight = torch.tensor([15.5])\n",
    "criterionBCEnodes = nn.BCELoss(weight=pos_weight) \n",
    "\n",
    "criterion.to('cuda')\n",
    "criterionBCE.cuda()\n",
    "criterionBCEnodes.cuda()"
   ]
  },
  {
   "cell_type": "code",
   "execution_count": 20,
   "id": "1c33fb71-48e9-4901-9930-3821321502d1",
   "metadata": {},
   "outputs": [],
   "source": [
    "last_batch = len(loader_tr)\n",
    "\n",
    "def train_one_epoch(epoch_index):\n",
    "    \n",
    "    running_loss = 0.\n",
    "    last_loss = 0.\n",
    "    acc_one_epoch = []\n",
    "    for i, data in enumerate(loader_tr): \n",
    "        data['graph_globals'] = data['graph_globals'].unsqueeze(1)\n",
    "        data.receivers = data.receivers - torch.min(data.receivers)\n",
    "        data.senders = data.senders - torch.min(data.senders)\n",
    "        data.edgepos = data.edgepos - torch.min(data.edgepos)\n",
    "        optimizer.zero_grad()\n",
    "        #print(data)\n",
    "        data.to('cuda')\n",
    "        #print(\"shape before \", data.y.shape)\n",
    "        yBCE_start = 1.*(data.y[:,0]==0).unsqueeze(1)\n",
    "        num_nodes=data.nodes.shape[0]\n",
    "        out = data.edges.new_zeros(num_nodes, data.edges.shape[1])\n",
    "        node_sum = scatter_add(data.y,data.senders,out=out,dim=0)\n",
    "        ynodes_start = (1.*(torch.sum(node_sum[:,1:],1)>0)).unsqueeze(1)\n",
    "        label0 = data.y.argmax(dim=1)\n",
    "        answers = torch.ones_like(data.edges).cuda()\n",
    "\n",
    "        outputs = myModel(data, num_processing_steps=STEP_SIZE)\n",
    "\n",
    "        data = outputs\n",
    "\n",
    "\n",
    "        label= data.y.argmax(dim=1)\n",
    "        num_nodes=data.nodes.shape[0]\n",
    "        out = data.edges.new_zeros(num_nodes, data.edges.shape[1])\n",
    "        node_sum = scatter_add(data.y,data.senders,out=out,dim=0)\n",
    "        ynodes = (1.*(torch.sum(node_sum[:,1:],1)>0)).unsqueeze(1)\n",
    "\n",
    "\n",
    "        loss = criterion(outputs.edges, label) \n",
    "        yBCE = 1.*(data.y[:,0]==0).unsqueeze(1)\n",
    "        for block in myModel._blocks:\n",
    "            loss += 0.2*criterionBCE(block._network.edge_weights, yBCE)\n",
    "            loss += 0.2*criterionBCEnodes(block._network.node_weights, ynodes)\n",
    "                \n",
    "\n",
    "    \n",
    "        loss.backward()\n",
    "\n",
    "\n",
    "        acc_one_batch = acc_four_class(outputs.edges, label)\n",
    "        acc_one_epoch.append(acc_one_batch)\n",
    "\n",
    "        optimizer.step()\n",
    "\n",
    "        running_loss += loss.item()\n",
    "        if (i+1) == last_batch:\n",
    "            last_loss = running_loss / last_batch # loss per batch\n",
    "            print('  batch {} last_batch {} loss: {}'.format(i + 1, last_batch, last_loss))\n",
    "\n",
    "            running_loss = 0.\n",
    "    \n",
    "        \n",
    "    acc_one_epoch=torch.stack(acc_one_epoch)\n",
    "\n",
    "    return last_loss, acc_one_epoch.nanmean(dim=0)"
   ]
  },
  {
   "cell_type": "code",
   "execution_count": 21,
   "id": "8e9c3792-a31b-4c59-ae26-1a9e2aa36b23",
   "metadata": {},
   "outputs": [],
   "source": [
    "last_batch_vl = len(loader_vl)\n",
    "\n",
    "def eval_one_epoch(epoch_index):\n",
    "    running_loss = 0.\n",
    "    last_loss = 0.\n",
    "    acc_one_epoch = []\n",
    "    \n",
    "    for j, vdata in enumerate(loader_vl): \n",
    "\n",
    "        vdata['graph_globals'] = vdata['graph_globals'].unsqueeze(1)\n",
    "        vdata.receivers = vdata.receivers - torch.min(vdata.receivers)\n",
    "        vdata.senders = vdata.senders - torch.min(vdata.senders)\n",
    "        vdata.edgepos = vdata.edgepos - torch.min(vdata.edgepos)\n",
    "        vdata.to('cuda')\n",
    "        yBCE_start = 1.*(vdata.y[:,0]==0).unsqueeze(1)\n",
    "        num_nodes=vdata.nodes.shape[0]\n",
    "        out = vdata.edges.new_zeros(num_nodes, vdata.edges.shape[1])\n",
    "        node_sum = scatter_add(vdata.y,vdata.senders,out=out,dim=0)\n",
    "        ynodes_start = (1.*(torch.sum(node_sum[:,1:],1)>0)).unsqueeze(1)\n",
    "        \n",
    "        label0 = vdata.y.argmax(dim=1)\n",
    "        answers = torch.ones_like(vdata.edges).cuda()\n",
    "\n",
    "        outputs = myModel(vdata, num_processing_steps=STEP_SIZE)\n",
    "\n",
    "        vdata = outputs\n",
    "        label= vdata.y.argmax(dim=1)\n",
    "\n",
    "        num_nodes=vdata.nodes.shape[0]\n",
    "        out = vdata.edges.new_zeros(num_nodes, vdata.edges.shape[1])\n",
    "        node_sum = scatter_add(vdata.y,vdata.senders,out=out,dim=0)\n",
    "        ynodes = (1.*(torch.sum(node_sum[:,1:],1)>0)).unsqueeze(1)\n",
    "\n",
    "        loss = criterion(outputs.edges, label) \n",
    "        yBCE = 1.*(vdata.y[:,0]==0).unsqueeze(1)\n",
    "        for block in myModel._blocks:\n",
    "            loss += 0.2*criterionBCE(block._network.edge_weights, yBCE)\n",
    "            loss += 0.2*criterionBCEnodes(block._network.node_weights, ynodes)\n",
    "\n",
    "        #if myModel._blocks[3]._network.edge_prune:\n",
    "\n",
    "        acc_one_batch = acc_four_class(outputs.edges, label)\n",
    "        acc_one_epoch.append(acc_one_batch)\n",
    "#         break\n",
    "        # Gather data and report\n",
    "        running_loss += loss.item()\n",
    "        if (j+1) == last_batch_vl:\n",
    "            last_loss = running_loss / last_batch_vl # loss per batch\n",
    "            print(' validation: batch {} last_batch {} loss: {}'.format(j + 1, last_batch_vl, last_loss))\n",
    "            running_loss = 0.\n",
    "    \n",
    "    acc_one_epoch=torch.stack(acc_one_epoch)\n",
    "\n",
    "    return last_loss, acc_one_epoch.nanmean(dim=0)"
   ]
  },
  {
   "cell_type": "code",
   "execution_count": 22,
   "id": "23800eb7-3841-4e2d-ba03-fe933d345e00",
   "metadata": {},
   "outputs": [
    {
     "name": "stdout",
     "output_type": "stream",
     "text": [
      "epoch no.  1\n",
      "  batch 1234 last_batch 1234 loss: 13.211484865779042\n",
      " validation: batch 290 last_batch 290 loss: 10.617620593103869\n",
      "Train Loss: 13.211485\n",
      "epoch no.  2\n"
     ]
    },
    {
     "ename": "KeyboardInterrupt",
     "evalue": "",
     "output_type": "error",
     "traceback": [
      "\u001b[0;31m---------------------------------------------------------------------------\u001b[0m",
      "\u001b[0;31mKeyboardInterrupt\u001b[0m                         Traceback (most recent call last)",
      "Cell \u001b[0;32mIn[22], line 21\u001b[0m\n\u001b[1;32m     19\u001b[0m \u001b[38;5;66;03m# Make sure gradient tracking is on, and do a pass over the data\u001b[39;00m\n\u001b[1;32m     20\u001b[0m myModel\u001b[38;5;241m.\u001b[39mtrain(\u001b[38;5;28;01mTrue\u001b[39;00m)\n\u001b[0;32m---> 21\u001b[0m tr_loss, tr_acc\u001b[38;5;241m=\u001b[39m \u001b[43mtrain_one_epoch\u001b[49m\u001b[43m(\u001b[49m\u001b[43mepoch_number\u001b[49m\u001b[43m)\u001b[49m\n\u001b[1;32m     22\u001b[0m lst_tr_loss\u001b[38;5;241m.\u001b[39mappend(tr_loss)\n\u001b[1;32m     23\u001b[0m lst_tr_acc\u001b[38;5;241m.\u001b[39mappend(tr_acc)\n",
      "Cell \u001b[0;32mIn[20], line 48\u001b[0m, in \u001b[0;36mtrain_one_epoch\u001b[0;34m(epoch_index)\u001b[0m\n\u001b[1;32m     41\u001b[0m     loss \u001b[38;5;241m+\u001b[39m\u001b[38;5;241m=\u001b[39m \u001b[38;5;241m0.2\u001b[39m\u001b[38;5;241m*\u001b[39mcriterionBCEnodes(block\u001b[38;5;241m.\u001b[39m_network\u001b[38;5;241m.\u001b[39mnode_weights, ynodes)\n\u001b[1;32m     45\u001b[0m loss\u001b[38;5;241m.\u001b[39mbackward()\n\u001b[0;32m---> 48\u001b[0m acc_one_batch \u001b[38;5;241m=\u001b[39m \u001b[43macc_four_class\u001b[49m\u001b[43m(\u001b[49m\u001b[43moutputs\u001b[49m\u001b[38;5;241;43m.\u001b[39;49m\u001b[43medges\u001b[49m\u001b[43m,\u001b[49m\u001b[43m \u001b[49m\u001b[43mlabel\u001b[49m\u001b[43m)\u001b[49m\n\u001b[1;32m     49\u001b[0m acc_one_epoch\u001b[38;5;241m.\u001b[39mappend(acc_one_batch)\n\u001b[1;32m     51\u001b[0m optimizer\u001b[38;5;241m.\u001b[39mstep()\n",
      "File \u001b[0;32m~/Work/Zurich/LHCb/GNNs/weighted_MP_gnn/wmpgnn/util/functions.py:30\u001b[0m, in \u001b[0;36macc_four_class\u001b[0;34m(pred, label)\u001b[0m\n\u001b[1;32m     27\u001b[0m     \u001b[38;5;28mprint\u001b[39m(\u001b[38;5;28mlen\u001b[39m(pred), \u001b[38;5;28mlen\u001b[39m(label))\n\u001b[1;32m     29\u001b[0m \u001b[38;5;28;01melse\u001b[39;00m:\n\u001b[0;32m---> 30\u001b[0m     correct_class1 \u001b[38;5;241m=\u001b[39m \u001b[43mtorch\u001b[49m\u001b[38;5;241;43m.\u001b[39;49m\u001b[43msum\u001b[49m\u001b[43m(\u001b[49m\u001b[43mpred_argmax\u001b[49m\u001b[43m[\u001b[49m\u001b[43mlabel\u001b[49m\u001b[43m \u001b[49m\u001b[38;5;241;43m==\u001b[39;49m\u001b[43m \u001b[49m\u001b[38;5;241;43m0\u001b[39;49m\u001b[43m]\u001b[49m\u001b[43m \u001b[49m\u001b[38;5;241;43m==\u001b[39;49m\u001b[43m \u001b[49m\u001b[43mlabel\u001b[49m\u001b[43m[\u001b[49m\u001b[43mlabel\u001b[49m\u001b[43m \u001b[49m\u001b[38;5;241;43m==\u001b[39;49m\u001b[43m \u001b[49m\u001b[38;5;241;43m0\u001b[39;49m\u001b[43m]\u001b[49m\u001b[43m)\u001b[49m\n\u001b[1;32m     31\u001b[0m     correct_class2 \u001b[38;5;241m=\u001b[39m torch\u001b[38;5;241m.\u001b[39msum(pred_argmax[label \u001b[38;5;241m==\u001b[39m \u001b[38;5;241m1\u001b[39m] \u001b[38;5;241m==\u001b[39m label[label \u001b[38;5;241m==\u001b[39m \u001b[38;5;241m1\u001b[39m])\n\u001b[1;32m     32\u001b[0m     correct_class3 \u001b[38;5;241m=\u001b[39m torch\u001b[38;5;241m.\u001b[39msum(pred_argmax[label \u001b[38;5;241m==\u001b[39m \u001b[38;5;241m2\u001b[39m] \u001b[38;5;241m==\u001b[39m label[label \u001b[38;5;241m==\u001b[39m \u001b[38;5;241m2\u001b[39m])\n",
      "\u001b[0;31mKeyboardInterrupt\u001b[0m: "
     ]
    }
   ],
   "source": [
    "STEP_SIZE = 2\n",
    "\n",
    "lst_tr_loss = []\n",
    "lst_vl_loss = []\n",
    "\n",
    "lst_vl_acc = []\n",
    "lst_tr_acc = []\n",
    "start = time.time()\n",
    "\n",
    "epoch_number = 0\n",
    "\n",
    "EPOCHS = 30\n",
    "\n",
    "best_vloss = 1_000_000.\n",
    "\n",
    "for epoch in range(EPOCHS):\n",
    "    print(\"epoch no. \", (epoch_number + 1))\n",
    "\n",
    "    # Make sure gradient tracking is on, and do a pass over the data\n",
    "    myModel.train(True)\n",
    "    tr_loss, tr_acc= train_one_epoch(epoch_number)\n",
    "    lst_tr_loss.append(tr_loss)\n",
    "    lst_tr_acc.append(tr_acc)\n",
    "#     break\n",
    "    # We don't need gradients on to do reporting\n",
    "    myModel.train(False)\n",
    "    vl_loss, vl_acc= eval_one_epoch(epoch_number)\n",
    "    lst_vl_loss.append(vl_loss)\n",
    "    lst_vl_acc.append(vl_acc)\n",
    "    \n",
    "    print(f'Train Loss: {tr_loss:03f}')\n",
    "    \n",
    "    epoch_number += 1\n",
    "    \n",
    "\n",
    "end = time.time()"
   ]
  },
  {
   "cell_type": "code",
   "execution_count": null,
   "id": "7834970e-8a2b-4244-a026-8bee4ffa898e",
   "metadata": {},
   "outputs": [],
   "source": [
    "optimizer = torch.optim.Adam(myModel.parameters(), lr=0.0001)\n",
    "\n",
    "epoch_number = 32\n",
    "\n",
    "EPOCHS = 2\n",
    "\n",
    "best_vloss = 1_000_000.\n",
    "\n",
    "for epoch in range(EPOCHS):\n",
    "    print(\"epoch no. \", (epoch_number + 1))\n",
    "\n",
    "    # Make sure gradient tracking is on, and do a pass over the data\n",
    "    myModel.train(True)\n",
    "    tr_loss, tr_acc= train_one_epoch(epoch_number)\n",
    "    lst_tr_loss.append(tr_loss)\n",
    "    lst_tr_acc.append(tr_acc)\n",
    "#     break\n",
    "    # We don't need gradients on to do reporting\n",
    "    myModel.train(False)\n",
    "    vl_loss, vl_acc= eval_one_epoch(epoch_number)\n",
    "    lst_vl_loss.append(vl_loss)\n",
    "    lst_vl_acc.append(vl_acc)\n",
    "    \n",
    "    print(f'Train Loss: {tr_loss:03f}')\n",
    "    \n",
    "    epoch_number += 1"
   ]
  },
  {
   "cell_type": "code",
   "execution_count": 23,
   "id": "71a583d1-992b-420b-abd3-499ab3b3d462",
   "metadata": {},
   "outputs": [],
   "source": [
    "class1_acc_vl=[]\n",
    "class2_acc_vl=[]\n",
    "class3_acc_vl=[]\n",
    "class4_acc_vl=[]\n",
    "\n",
    "\n",
    "for vl_acc in lst_vl_acc:\n",
    "    class1_acc_vl.append(vl_acc[0])\n",
    "    class2_acc_vl.append(vl_acc[1])\n",
    "    class3_acc_vl.append(vl_acc[2])\n",
    "    class4_acc_vl.append(vl_acc[3])"
   ]
  },
  {
   "cell_type": "code",
   "execution_count": 24,
   "id": "de404dc5-a6bc-4563-a902-00aef6c3760c",
   "metadata": {},
   "outputs": [],
   "source": [
    "class1_acc_tr=[]\n",
    "class2_acc_tr=[]\n",
    "class3_acc_tr=[]\n",
    "class4_acc_tr=[]\n",
    "\n",
    "\n",
    "for tr_acc in lst_tr_acc:\n",
    "    class1_acc_tr.append(tr_acc[0])\n",
    "    class2_acc_tr.append(tr_acc[1])\n",
    "    class3_acc_tr.append(tr_acc[2])\n",
    "    class4_acc_tr.append(tr_acc[3])"
   ]
  },
  {
   "cell_type": "code",
   "execution_count": 28,
   "id": "8e3982e9-4d8e-4eb4-a626-d9de9f4a2de0",
   "metadata": {},
   "outputs": [
    {
     "data": {
      "text/plain": [
       "[13.211484865779042]"
      ]
     },
     "execution_count": 28,
     "metadata": {},
     "output_type": "execute_result"
    }
   ],
   "source": [
    "lst_tr_loss"
   ]
  },
  {
   "cell_type": "code",
   "execution_count": 27,
   "id": "845bc8ce-601a-4468-a5ff-2341cceb8f1d",
   "metadata": {},
   "outputs": [
    {
     "data": {
      "image/png": "[encoded data removed]",
      "text/plain": [
       "<Figure size 640x480 with 1 Axes>"
      ]
     },
     "metadata": {},
     "output_type": "display_data"
    }
   ],
   "source": [
    "import matplotlib.pyplot as plt\n",
    "import os\n",
    "  \n",
    "\n",
    "    \n",
    "plt_numlayer = \"{}{}\".format(\"No. layers=\", NUM_LAYERS)\n",
    "plt_channel = \"{}{}\".format(\"hidden channels=\", HIDDEN_CHANNELS)\n",
    "plt_mlp = \"{}{}\".format(\"mlpout=\", MLP_OUTPUT_SIZE)\n",
    "plt_step = \"{}{}\".format(\"step=\", STEP_SIZE)\n",
    "\n",
    "plt_filename = \"{}{}{}{}\".format(\"L\", NUM_LAYERS, \"C\", HIDDEN_CHANNELS)\n",
    "\n",
    "\n",
    "plt.plot(lst_tr_loss, label=\"Train Loss\")\n",
    "plt.plot(lst_vl_loss, label=\"Validation Loss\")\n",
    "\n",
    "plt.xlabel('epoch')\n",
    "plt.ylabel('Cross Entropy Loss')\n",
    "#plt.ylabel('Focal Loss')\n",
    "\n",
    "\n",
    "plt.legend()\n",
    "plt.savefig(\"loss_new_4.png\")\n",
    "# plt.savefig(\"figures_Oct/\"+file_batch+\"/loss_\"+plt_filename+\"_2cores_norm\"+\".png\")\n",
    "\n",
    "plt.show()"
   ]
  },
  {
   "cell_type": "code",
   "execution_count": 29,
   "id": "f952e872-65c1-4ced-b7c1-60ac3985a5da",
   "metadata": {},
   "outputs": [
    {
     "data": {
      "image/png": "[encoded data removed]",
      "text/plain": [
       "<Figure size 1000x500 with 2 Axes>"
      ]
     },
     "metadata": {},
     "output_type": "display_data"
    }
   ],
   "source": [
    "fig, axarr = plt.subplots(1, 2, figsize=(10, 5))\n",
    "# fig.suptitle(plt_numlayer +', '+ plt_channel+', '+plt_mlp+', '+plt_step, fontsize=14)\n",
    "# fig.suptitle(\"without weight, gamma=3\")\n",
    "fig.suptitle(\"without weight, gamma=1, \" + plt_numlayer +', '+ plt_channel)\n",
    "\n",
    "# plt.title(\"with weight, gamma=3\")\n",
    "\n",
    "\n",
    "axarr[0].plot(class1_acc_tr, label=\"LCA=0\")\n",
    "axarr[0].plot(class2_acc_tr, label=\"LCA=1\")\n",
    "axarr[0].plot(class3_acc_tr, label=\"LCA=2\")\n",
    "axarr[0].plot(class4_acc_tr, label=\"LCA=3\")\n",
    "\n",
    "axarr[0].set_xlabel('epoch')\n",
    "axarr[0].set_ylabel('training accuracy')\n",
    "\n",
    "axarr[0].legend()\n",
    "\n",
    "axarr[1].plot(class1_acc_vl, label=\"LCA=0\")\n",
    "axarr[1].plot(class2_acc_vl, label=\"LCA=1\")\n",
    "axarr[1].plot(class3_acc_vl, label=\"LCA=2\")\n",
    "axarr[1].plot(class4_acc_vl, label=\"LCA=3\")\n",
    "\n",
    "axarr[1].set_xlabel('epoch')\n",
    "axarr[1].set_ylabel('validation accuracy')\n",
    "\n",
    "axarr[1].legend()\n",
    "\n",
    "fig.tight_layout()\n",
    "# fig.subplots_adjust(top=0.88)\n",
    "plt.savefig(\"acc_LCAloss_BCE_pruning_from_epoch_30_new_4\"+\".png\")\n"
   ]
  },
  {
   "cell_type": "code",
   "execution_count": null,
   "id": "19d62c55-6c68-42a4-86d3-9b51a1e30f6e",
   "metadata": {},
   "outputs": [],
   "source": [
    "torch.save(myModel.state_dict(), 'model_6block_32epochs_with_node_edge_weights.pth')"
   ]
  }
 ],
 "metadata": {
  "kernelspec": {
   "display_name": "Python 3 (ipykernel)",
   "language": "python",
   "name": "python3"
  },
  "language_info": {
   "codemirror_mode": {
    "name": "ipython",
    "version": 3
   },
   "file_extension": ".py",
   "mimetype": "text/x-python",
   "name": "python",
   "nbconvert_exporter": "python",
   "pygments_lexer": "ipython3",
   "version": "3.12.5"
  }
 },
 "nbformat": 4,
 "nbformat_minor": 5
}
