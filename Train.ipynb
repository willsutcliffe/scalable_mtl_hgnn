{
 "cells": [
  {
   "cell_type": "code",
   "execution_count": 3,
   "id": "46304192-9199-4da1-914d-602f4a35c646",
   "metadata": {},
   "outputs": [],
   "source": [
    "import numpy as np\n",
    "import networkx as nx\n",
    "import os, time\n",
    "\n",
    "import os.path as osp\n",
    "import glob\n",
    "from wmpgnn.datasets.graph_dataset import CustomDataset\n",
    "from torch_geometric.loader import DataLoader\n",
    "import contextlib\n",
    "import torch\n",
    "from torch import nn\n",
    "from torch_scatter import scatter_add"
   ]
  },
  {
   "cell_type": "code",
   "execution_count": 71,
   "id": "6333916b-5c25-401c-88ce-83f8e1746234",
   "metadata": {},
   "outputs": [
    {
     "data": {
      "text/plain": [
       "False"
      ]
     },
     "execution_count": 71,
     "metadata": {},
     "output_type": "execute_result"
    }
   ],
   "source": [
    "#myModel._blocks[0]._network._node_block._sent_edges_aggregator._weighted\n"
   ]
  },
  {
   "cell_type": "code",
   "execution_count": 2,
   "id": "a1fce0b6-49b4-4b17-9d58-842d0813a01e",
   "metadata": {},
   "outputs": [],
   "source": [
    "files_input_tr = sorted(glob.glob('cached_data/input_*'))[:10000]\n",
    "files_target_tr = sorted(glob.glob('cached_data/target_*'))[:10000]\n",
    "\n",
    "\n",
    "data_tr = CustomDataset(files_input_tr, files_target_tr)"
   ]
  },
  {
   "cell_type": "code",
   "execution_count": null,
   "id": "29985321-3c5f-4700-9391-78e94e5d9fef",
   "metadata": {},
   "outputs": [],
   "source": []
  },
  {
   "cell_type": "code",
   "execution_count": 4,
   "id": "37385888-7ab1-4d7d-ba8e-f6249a2777bc",
   "metadata": {},
   "outputs": [],
   "source": [
    "#data_tr[1].edge_index"
   ]
  },
  {
   "cell_type": "code",
   "execution_count": 2,
   "id": "2c16f0f0-ecd8-457d-902e-2dbcccf94b65",
   "metadata": {},
   "outputs": [
    {
     "ename": "NameError",
     "evalue": "name 'data_tr' is not defined",
     "output_type": "error",
     "traceback": [
      "\u001b[0;31m---------------------------------------------------------------------------\u001b[0m",
      "\u001b[0;31mNameError\u001b[0m                                 Traceback (most recent call last)",
      "Cell \u001b[0;32mIn[2], line 2\u001b[0m\n\u001b[1;32m      1\u001b[0m BATCH_SIZE \u001b[38;5;241m=\u001b[39m \u001b[38;5;241m32\u001b[39m\n\u001b[0;32m----> 2\u001b[0m loader_tr \u001b[38;5;241m=\u001b[39m DataLoader(\u001b[43mdata_tr\u001b[49m, batch_size\u001b[38;5;241m=\u001b[39mBATCH_SIZE, drop_last\u001b[38;5;241m=\u001b[39m\u001b[38;5;28;01mTrue\u001b[39;00m)\n",
      "\u001b[0;31mNameError\u001b[0m: name 'data_tr' is not defined"
     ]
    }
   ],
   "source": [
    "BATCH_SIZE = 32\n",
    "loader_tr = DataLoader(data_tr, batch_size=BATCH_SIZE, drop_last=True)"
   ]
  },
  {
   "cell_type": "code",
   "execution_count": 3,
   "id": "1b345067-c3d6-47ac-bd3d-f3c2a9e49553",
   "metadata": {},
   "outputs": [
    {
     "ename": "NameError",
     "evalue": "name 'loader_tr' is not defined",
     "output_type": "error",
     "traceback": [
      "\u001b[0;31m---------------------------------------------------------------------------\u001b[0m",
      "\u001b[0;31mNameError\u001b[0m                                 Traceback (most recent call last)",
      "Cell \u001b[0;32mIn[3], line 1\u001b[0m\n\u001b[0;32m----> 1\u001b[0m \u001b[38;5;28;01mfor\u001b[39;00m b \u001b[38;5;129;01min\u001b[39;00m \u001b[43mloader_tr\u001b[49m:\n\u001b[1;32m      2\u001b[0m     \u001b[38;5;28;01mbreak\u001b[39;00m\n",
      "\u001b[0;31mNameError\u001b[0m: name 'loader_tr' is not defined"
     ]
    }
   ],
   "source": [
    "for b in loader_tr:\n",
    "    break"
   ]
  },
  {
   "cell_type": "code",
   "execution_count": 24,
   "id": "d3d5be46-3358-45e0-ada4-c8b1f2bdce0d",
   "metadata": {},
   "outputs": [
    {
     "data": {
      "text/plain": [
       "tensor([[   1,    2,    3,  ..., 4945, 4945, 4946],\n",
       "        [   0,    0,    0,  ..., 4946, 4947, 4947]])"
      ]
     },
     "execution_count": 24,
     "metadata": {},
     "output_type": "execute_result"
    }
   ],
   "source": [
    "b.edge_index"
   ]
  },
  {
   "cell_type": "code",
   "execution_count": null,
   "id": "5126650e-e2c3-438e-8492-fb5216b2e7ba",
   "metadata": {},
   "outputs": [],
   "source": []
  },
  {
   "cell_type": "code",
   "execution_count": null,
   "id": "f51e35e7-bb2e-4e76-a134-cb64996f6511",
   "metadata": {},
   "outputs": [
    {
     "name": "stdout",
     "output_type": "stream",
     "text": [
      "finish loading training dataset\n"
     ]
    }
   ],
   "source": [
    "files_input_tr = sorted(glob.glob('/home/sutclw/Work/Zurich/LHCb/GNNs/cached_LCA_training_events_PYTHIA/training_dataset/input_*'))\n",
    "files_target_tr = sorted(glob.glob('/home/sutclw/Work/Zurich/LHCb/GNNs/cached_LCA_training_events_PYTHIA/training_dataset/target_*'))\n",
    "data_tr = CustomDataset(files_input_tr, files_target_tr)\n",
    "dataset_tr = data_tr.get()\n",
    "print(\"finish loading training dataset\")\n",
    "\n",
    "files_input_vl = sorted(glob.glob('/home/sutclw/Work/Zurich/LHCb/GNNs/cached_LCA_training_events_PYTHIA/validation_dataset/input_*'))\n",
    "files_target_vl = sorted(glob.glob('/home/sutclw/Work/Zurich/LHCb/GNNs/cached_LCA_training_events_PYTHIA/validation_dataset/target_*'))\n",
    "data_vl = CustomDataset(files_input_vl, files_target_vl)\n",
    "dataset_vl = data_vl.get()\n",
    "print(\"finish loading validation dataset\")"
   ]
  },
  {
   "cell_type": "code",
   "execution_count": null,
   "id": "7a76f55b-c1fa-4bd9-94b9-c50d84ed2df8",
   "metadata": {},
   "outputs": [],
   "source": []
  },
  {
   "cell_type": "code",
   "execution_count": 3,
   "id": "2dad4592-6e41-4e0a-8d1f-47f03d56b75f",
   "metadata": {},
   "outputs": [
    {
     "data": {
      "text/plain": [
       "'/home/sutclw/Work/Zurich/LHCb/GNNs/cached_LCA_training_events_PYTHIA/training_dataset/input_0.npy'"
      ]
     },
     "execution_count": 3,
     "metadata": {},
     "output_type": "execute_result"
    }
   ],
   "source": [
    "files_input_tr[0]"
   ]
  },
  {
   "cell_type": "code",
   "execution_count": 8,
   "id": "636178d1-06e1-4211-b6a4-978a85f5ece6",
   "metadata": {},
   "outputs": [
    {
     "data": {
      "text/plain": [
       "49399"
      ]
     },
     "execution_count": 8,
     "metadata": {},
     "output_type": "execute_result"
    }
   ],
   "source": [
    "len(files_input_tr)"
   ]
  },
  {
   "cell_type": "code",
   "execution_count": null,
   "id": "46067b09-3a8d-4ba0-9056-50750a46d390",
   "metadata": {},
   "outputs": [],
   "source": [
    "files_input_tr = sorted(glob.glob('cached_data/input_*'))[:40000]\n",
    "files_target_tr = sorted(glob.glob('cached_data/target_*'))[:40000]\n",
    "\n",
    "\n",
    "data_tr = CustomDataset(files_input_tr, files_target_tr)\n",
    "dataset_tr = data_tr.get()\n",
    "#print(\"finish loading training dataset\")\n",
    "\n",
    "files_input_vl = sorted(glob.glob('cached_data/input_*'))[40000:]\n",
    "files_target_vl = sorted(glob.glob('cached_data/target_*'))[40000:]\n",
    "data_vl = CustomDataset(files_input_vl, files_target_vl)\n",
    "dataset_vl = data_vl.get()\n",
    "print(\"finish loading validation dataset\")"
   ]
  },
  {
   "cell_type": "code",
   "execution_count": null,
   "id": "343f10c9-1531-48ab-a32f-6ac804b37368",
   "metadata": {},
   "outputs": [],
   "source": [
    "NUM_LAYERS = 5\n",
    "HIDDEN_CHANNELS=128"
   ]
  },
  {
   "cell_type": "code",
   "execution_count": null,
   "id": "865d523c-f5b5-4114-ab03-7f0cf8826348",
   "metadata": {},
   "outputs": [],
   "source": [
    "BATCH_SIZE = 32\n",
    "loader_tr = DataLoader(dataset_tr, batch_size=BATCH_SIZE, drop_last=True)\n",
    "loader_vl = DataLoader(dataset_vl, batch_size=BATCH_SIZE, drop_last=True)"
   ]
  },
  {
   "cell_type": "code",
   "execution_count": 4,
   "id": "39fd81f9-37de-41c0-9421-555dfc94200b",
   "metadata": {},
   "outputs": [],
   "source": [
    "for vdata in loader_vl:\n",
    "    break"
   ]
  },
  {
   "cell_type": "code",
   "execution_count": 7,
   "id": "b4bee984-ac0b-4915-a923-0ca76769c095",
   "metadata": {},
   "outputs": [
    {
     "data": {
      "text/plain": [
       "284635.125"
      ]
     },
     "execution_count": 7,
     "metadata": {},
     "output_type": "execute_result"
    }
   ],
   "source": [
    "32*(3018/32)**2"
   ]
  },
  {
   "cell_type": "code",
   "execution_count": 8,
   "id": "bd25fbf6-4446-46a1-b9bd-9e7b1eda15a2",
   "metadata": {},
   "outputs": [
    {
     "data": {
      "text/plain": [
       "DataBatch(y=[117026, 4], nodes=[3018, 10], edges=[117026, 4], senders=[117026], receivers=[117026], graph_globals=[32], edgepos=[117026], num_edges=[32], num_nodes=3018, batch=[3018], ptr=[33])"
      ]
     },
     "execution_count": 8,
     "metadata": {},
     "output_type": "execute_result"
    }
   ],
   "source": [
    "vdata"
   ]
  },
  {
   "cell_type": "code",
   "execution_count": 9,
   "id": "bf91deb0-4b20-45a6-b17f-61e5e242e6d7",
   "metadata": {},
   "outputs": [
    {
     "data": {
      "text/plain": [
       "DataBatch(y=[117026, 4], nodes=[3018, 10], edges=[117026, 4], senders=[117026], receivers=[117026], graph_globals=[32], edgepos=[117026], num_edges=[32], num_nodes=3018, batch=[3018], ptr=[33])"
      ]
     },
     "execution_count": 9,
     "metadata": {},
     "output_type": "execute_result"
    }
   ],
   "source": [
    "vdata"
   ]
  },
  {
   "cell_type": "code",
   "execution_count": null,
   "id": "51e789c5-702f-476b-8664-874a89cdcfbe",
   "metadata": {},
   "outputs": [],
   "source": [
    "\n",
    "#from wmpgnn.model.gnn_model import EncodeProcessDecode"
   ]
  },
  {
   "cell_type": "code",
   "execution_count": null,
   "id": "8cab89e2-e6df-4d69-a77b-d62c5ac8367e",
   "metadata": {},
   "outputs": [],
   "source": [
    "#from importlib import reload\n",
    "import wmpgnn.model.gnn_model\n",
    "\n",
    "# Reload the module\n",
    "#reload(wmpgnn.model.gnn_model)\n",
    "\n",
    "# Import the updated EncodeProcessDecode\n",
    "from wmpgnn.model.gnn_model import GNN\n"
   ]
  },
  {
   "cell_type": "code",
   "execution_count": null,
   "id": "73baae8e-e7ea-4d85-b7d3-7b2e45d14098",
   "metadata": {},
   "outputs": [],
   "source": [
    "from wmpgnn.util.functions import weight_four_class, acc_four_class"
   ]
  },
  {
   "cell_type": "code",
   "execution_count": null,
   "id": "157e0de1-a31f-40be-a405-a3665c48a4e0",
   "metadata": {},
   "outputs": [],
   "source": [
    "weights=weight_four_class(loader_tr)"
   ]
  },
  {
   "cell_type": "code",
   "execution_count": 8,
   "id": "3133a0e6-7eb8-4246-992a-e51b90079f97",
   "metadata": {},
   "outputs": [],
   "source": [
    "from wmpgnn.gnn.graph_network import GraphNetwork"
   ]
  },
  {
   "cell_type": "code",
   "execution_count": null,
   "id": "e40ef01a-5fc8-4ec8-b037-5364ff0f1a11",
   "metadata": {},
   "outputs": [],
   "source": []
  },
  {
   "cell_type": "code",
   "execution_count": 9,
   "id": "7a5fb65c-35c4-4fbd-b488-c505d5af11a8",
   "metadata": {},
   "outputs": [],
   "source": [
    "#GraphNetwork("
   ]
  },
  {
   "cell_type": "code",
   "execution_count": 10,
   "id": "9ffc529e-6bbe-48a9-8cf4-b8548c0847aa",
   "metadata": {},
   "outputs": [],
   "source": [
    "#GraphNetwork("
   ]
  },
  {
   "cell_type": "code",
   "execution_count": 20,
   "id": "4ae854ca-50ba-4015-bc9d-37c94d54001e",
   "metadata": {},
   "outputs": [
    {
     "data": {
      "text/plain": [
       "BCELoss()"
      ]
     },
     "execution_count": 20,
     "metadata": {},
     "output_type": "execute_result"
    }
   ],
   "source": [
    "MLP_OUTPUT_SIZE=16\n",
    "myModel=GNN(mlp_output_size=MLP_OUTPUT_SIZE, edge_op=4, num_blocks=8,use_edge_weights=True, use_node_weights=True)\n",
    "\n",
    "myModel.cuda()\n",
    "\n",
    "optimizer = torch.optim.Adam(myModel.parameters(), lr=0.001)\n",
    "criterion = nn.CrossEntropyLoss(weight=weights)\n",
    "pos_weight = torch.tensor([166.128])  \n",
    "\n",
    "criterionBCE = nn.BCELoss(weight=pos_weight) \n",
    "pos_weight = torch.tensor([15.5])\n",
    "criterionBCEnodes = nn.BCELoss(weight=pos_weight) \n",
    "# criterionBCE = nn.BCELoss() \n",
    "# pos_weight = torch.tensor([15.5])\n",
    "# criterionBCEnodes = nn.BCELoss() \n",
    "criterion.to('cuda')\n",
    "criterionBCE.cuda()\n",
    "criterionBCEnodes.cuda()"
   ]
  },
  {
   "cell_type": "code",
   "execution_count": 21,
   "id": "44590c8c-40f3-4799-86cf-e8016c42bab0",
   "metadata": {},
   "outputs": [],
   "source": [
    "add_BCE = True"
   ]
  },
  {
   "cell_type": "code",
   "execution_count": 22,
   "id": "8ce79c59-c5be-44f8-9efc-2de2b2834947",
   "metadata": {},
   "outputs": [],
   "source": [
    "from torch_geometric.nn.models import MLP\n",
    "from torch.nn import Linear, Sigmoid, Softmax"
   ]
  },
  {
   "cell_type": "code",
   "execution_count": 23,
   "id": "9a4f0569-382e-4fcc-9a5d-5ae178272272",
   "metadata": {},
   "outputs": [],
   "source": [
    "sigmoid = Sigmoid()\n",
    "\n",
    "def make_weight_mlp(output_size):\n",
    "    return lambda: MLP(in_channels=-1, hidden_channels=16,\n",
    "                       out_channels=output_size, num_layers=4 , norm=None)\n",
    "\n",
    "mlp_nodes = make_weight_mlp(1)()\n",
    "mlp_edges = make_weight_mlp(1)()\n",
    "#mlp_nodes_ce = make_weight_mlp(4)()\n",
    "mlp_edges_ce = make_weight_mlp(4)()"
   ]
  },
  {
   "cell_type": "code",
   "execution_count": 24,
   "id": "131a6e30-affa-4592-b846-f51439a3e7fd",
   "metadata": {},
   "outputs": [
    {
     "data": {
      "text/plain": [
       "MLP(-1, 16, 16, 16, 4)"
      ]
     },
     "execution_count": 24,
     "metadata": {},
     "output_type": "execute_result"
    }
   ],
   "source": [
    "mlp_edges.cuda()\n",
    "mlp_nodes.cuda()\n",
    "mlp_edges_ce.cuda()"
   ]
  },
  {
   "cell_type": "code",
   "execution_count": 25,
   "id": "1c33fb71-48e9-4901-9930-3821321502d1",
   "metadata": {},
   "outputs": [],
   "source": [
    "last_batch = len(loader_tr)\n",
    "\n",
    "def train_one_epoch(epoch_index):\n",
    "    \n",
    "    running_loss = 0.\n",
    "    last_loss = 0.\n",
    "    acc_one_epoch = []\n",
    "    for i, data in enumerate(loader_tr): \n",
    "        data['graph_globals'] = data['graph_globals'].unsqueeze(1)\n",
    "        data.receivers = data.receivers - torch.min(data.receivers)\n",
    "        data.senders = data.senders - torch.min(data.senders)\n",
    "        data.edgepos = data.edgepos - torch.min(data.edgepos)\n",
    "        optimizer.zero_grad()\n",
    "        #print(data)\n",
    "        data.to('cuda')\n",
    "        #print(\"shape before \", data.y.shape)\n",
    "        yBCE_start = 1.*(data.y[:,0]==0).unsqueeze(1)\n",
    "        num_nodes=data.nodes.shape[0]\n",
    "        out = data.edges.new_zeros(num_nodes, data.edges.shape[1])\n",
    "        node_sum = scatter_add(data.y,data.senders,out=out,dim=0)\n",
    "        ynodes_start = (1.*(torch.sum(node_sum[:,1:],1)>0)).unsqueeze(1)\n",
    "        label0 = data.y.argmax(dim=1)\n",
    "        answers = torch.ones_like(data.edges).cuda()\n",
    "\n",
    "        outputs = myModel(data)\n",
    "\n",
    "        data = outputs\n",
    "\n",
    "\n",
    "        label= data.y.argmax(dim=1)\n",
    "        num_nodes=data.nodes.shape[0]\n",
    "        out = data.edges.new_zeros(num_nodes, data.edges.shape[1])\n",
    "        node_sum = scatter_add(data.y,data.senders,out=out,dim=0)\n",
    "        ynodes = (1.*(torch.sum(node_sum[:,1:],1)>0)).unsqueeze(1)\n",
    "\n",
    "\n",
    "        loss = criterion(outputs.edges, label) \n",
    "        yBCE = 1.*(data.y[:,0]==0).unsqueeze(1)\n",
    "        if add_BCE:\n",
    "           #loss += 0.2*criterionBCE(sigmoid(mlp_edges(outputs.edges)), yBCE)\n",
    "            #loss += 0.2*criterionBCEnodes(sigmoid(mlp_nodes(outputs.nodes)), ynodes)\n",
    "            count = 0 \n",
    "            for block in myModel._blocks:\n",
    "                #if count != 7: \n",
    "                #    loss += criterion(mlp_edges_ce(block._network.edges), label) \n",
    "                loss += 0.2*criterionBCE(block._network.edge_weights, yBCE)\n",
    "                loss += 0.2*criterionBCEnodes(block._network.node_weights, ynodes)\n",
    "                count += 1\n",
    "    \n",
    "        loss.backward()\n",
    "\n",
    "\n",
    "        acc_one_batch = acc_four_class(outputs.edges, label)\n",
    "        acc_one_epoch.append(acc_one_batch)\n",
    "\n",
    "        optimizer.step()\n",
    "\n",
    "        running_loss += loss.item()\n",
    "        if (i+1) == last_batch:\n",
    "            last_loss = running_loss / last_batch # loss per batch\n",
    "            print('  batch {} last_batch {} loss: {}'.format(i + 1, last_batch, last_loss))\n",
    "\n",
    "            running_loss = 0.\n",
    "    \n",
    "        \n",
    "    acc_one_epoch=torch.stack(acc_one_epoch)\n",
    "\n",
    "    return last_loss, acc_one_epoch.nanmean(dim=0)"
   ]
  },
  {
   "cell_type": "code",
   "execution_count": 26,
   "id": "8e9c3792-a31b-4c59-ae26-1a9e2aa36b23",
   "metadata": {},
   "outputs": [],
   "source": [
    "last_batch_vl = len(loader_vl)\n",
    "\n",
    "def eval_one_epoch(epoch_index):\n",
    "    running_loss = 0.\n",
    "    last_loss = 0.\n",
    "    acc_one_epoch = []\n",
    "    \n",
    "    for j, vdata in enumerate(loader_vl): \n",
    "\n",
    "        vdata['graph_globals'] = vdata['graph_globals'].unsqueeze(1)\n",
    "        vdata.receivers = vdata.receivers - torch.min(vdata.receivers)\n",
    "        vdata.senders = vdata.senders - torch.min(vdata.senders)\n",
    "        vdata.edgepos = vdata.edgepos - torch.min(vdata.edgepos)\n",
    "        vdata.to('cuda')\n",
    "        yBCE_start = 1.*(vdata.y[:,0]==0).unsqueeze(1)\n",
    "        num_nodes=vdata.nodes.shape[0]\n",
    "        out = vdata.edges.new_zeros(num_nodes, vdata.edges.shape[1])\n",
    "        node_sum = scatter_add(vdata.y,vdata.senders,out=out,dim=0)\n",
    "        ynodes_start = (1.*(torch.sum(node_sum[:,1:],1)>0)).unsqueeze(1)\n",
    "        \n",
    "        label0 = vdata.y.argmax(dim=1)\n",
    "        answers = torch.ones_like(vdata.edges).cuda()\n",
    "\n",
    "        outputs = myModel(vdata)\n",
    "\n",
    "        vdata = outputs\n",
    "        label= vdata.y.argmax(dim=1)\n",
    "\n",
    "        num_nodes=vdata.nodes.shape[0]\n",
    "        out = vdata.edges.new_zeros(num_nodes, vdata.edges.shape[1])\n",
    "        node_sum = scatter_add(vdata.y,vdata.senders,out=out,dim=0)\n",
    "        ynodes = (1.*(torch.sum(node_sum[:,1:],1)>0)).unsqueeze(1)\n",
    "\n",
    "        loss = criterion(outputs.edges, label) \n",
    "        yBCE = 1.*(vdata.y[:,0]==0).unsqueeze(1)\n",
    "        if add_BCE:\n",
    "            #loss += 0.2*criterionBCE(sigmoid(mlp_edges(outputs.edges)), yBCE)\n",
    "            #loss += 0.2*criterionBCEnodes(sigmoid(mlp_nodes(outputs.nodes)), ynodes)\n",
    "            count = 0 \n",
    "            for block in myModel._blocks:\n",
    "                #if count != 7: \n",
    "                #    loss += criterion(mlp_edges_ce(block._network.edges), label) \n",
    "                loss += 0.2*criterionBCE(block._network.edge_weights, yBCE)\n",
    "                loss += 0.2*criterionBCEnodes(block._network.node_weights, ynodes)\n",
    "                count += 1\n",
    "\n",
    "        #if myModel._blocks[3]._network.edge_prune:\n",
    "\n",
    "        acc_one_batch = acc_four_class(outputs.edges, label)\n",
    "        acc_one_epoch.append(acc_one_batch)\n",
    "#         break\n",
    "        # Gather data and report\n",
    "        running_loss += loss.item()\n",
    "        if (j+1) == last_batch_vl:\n",
    "            last_loss = running_loss / last_batch_vl # loss per batch\n",
    "            print(' validation: batch {} last_batch {} loss: {}'.format(j + 1, last_batch_vl, last_loss))\n",
    "            running_loss = 0.\n",
    "    \n",
    "    acc_one_epoch=torch.stack(acc_one_epoch)\n",
    "\n",
    "    return last_loss, acc_one_epoch.nanmean(dim=0)"
   ]
  },
  {
   "cell_type": "code",
   "execution_count": 27,
   "id": "23800eb7-3841-4e2d-ba03-fe933d345e00",
   "metadata": {},
   "outputs": [
    {
     "name": "stdout",
     "output_type": "stream",
     "text": [
      "epoch no.  1\n",
      "  batch 1234 last_batch 1234 loss: 19.73090435542782\n",
      " validation: batch 290 last_batch 290 loss: 10.146211617568444\n",
      "Train Loss: 19.730904\n",
      "Val Loss: 10.146212\n",
      "Train Acc: tensor([0.5456, 0.5364, 0.2008, 0.4009])\n",
      "Val Acc: tensor([0.8605, 0.8802, 0.0954, 0.4129])\n",
      "epoch no.  2\n",
      "  batch 1234 last_batch 1234 loss: 9.269607177236672\n",
      " validation: batch 290 last_batch 290 loss: 8.331474649495092\n",
      "Train Loss: 9.269607\n",
      "Val Loss: 8.331475\n",
      "Train Acc: tensor([0.8968, 0.6809, 0.3350, 0.4223])\n",
      "Val Acc: tensor([0.9075, 0.7890, 0.3059, 0.4323])\n",
      "epoch no.  3\n",
      "  batch 1234 last_batch 1234 loss: 7.562707519608534\n",
      " validation: batch 290 last_batch 290 loss: 6.9769947331527185\n",
      "Train Loss: 7.562708\n",
      "Val Loss: 6.976995\n",
      "Train Acc: tensor([0.9331, 0.6532, 0.3979, 0.5013])\n",
      "Val Acc: tensor([0.9556, 0.7076, 0.3148, 0.6806])\n",
      "epoch no.  4\n",
      "  batch 1234 last_batch 1234 loss: 6.379329901846726\n",
      " validation: batch 290 last_batch 290 loss: 5.663989383598854\n",
      "Train Loss: 6.379330\n",
      "Val Loss: 5.663989\n",
      "Train Acc: tensor([0.9497, 0.6526, 0.3749, 0.7193])\n",
      "Val Acc: tensor([0.9750, 0.8150, 0.2075, 0.7661])\n",
      "epoch no.  5\n",
      "  batch 1234 last_batch 1234 loss: 5.541645145107127\n",
      " validation: batch 290 last_batch 290 loss: 5.31562032452945\n",
      "Train Loss: 5.541645\n",
      "Val Loss: 5.315620\n",
      "Train Acc: tensor([0.9607, 0.6625, 0.3850, 0.7680])\n",
      "Val Acc: tensor([0.9768, 0.7481, 0.3221, 0.7934])\n",
      "epoch no.  6\n",
      "  batch 1234 last_batch 1234 loss: 5.2069689373529515\n",
      " validation: batch 290 last_batch 290 loss: 5.025522406347867\n",
      "Train Loss: 5.206969\n",
      "Val Loss: 5.025522\n",
      "Train Acc: tensor([0.9647, 0.6697, 0.3985, 0.7941])\n",
      "Val Acc: tensor([0.9765, 0.7238, 0.3137, 0.8359])\n",
      "epoch no.  7\n",
      "  batch 1234 last_batch 1234 loss: 5.088572434899873\n",
      " validation: batch 290 last_batch 290 loss: 4.8327624222327925\n",
      "Train Loss: 5.088572\n",
      "Val Loss: 4.832762\n",
      "Train Acc: tensor([0.9663, 0.6745, 0.4066, 0.7946])\n",
      "Val Acc: tensor([0.9832, 0.7357, 0.3061, 0.8445])\n",
      "epoch no.  8\n",
      "  batch 1234 last_batch 1234 loss: 4.875285264158944\n",
      " validation: batch 290 last_batch 290 loss: 4.7353821244733085\n",
      "Train Loss: 4.875285\n",
      "Val Loss: 4.735382\n",
      "Train Acc: tensor([0.9690, 0.6718, 0.4198, 0.8000])\n",
      "Val Acc: tensor([0.9816, 0.7387, 0.3050, 0.8655])\n",
      "epoch no.  9\n",
      "  batch 1234 last_batch 1234 loss: 4.794157616323165\n",
      " validation: batch 290 last_batch 290 loss: 4.767595084782305\n",
      "Train Loss: 4.794158\n",
      "Val Loss: 4.767595\n",
      "Train Acc: tensor([0.9704, 0.6740, 0.4228, 0.8074])\n",
      "Val Acc: tensor([0.9800, 0.6819, 0.3679, 0.8627])\n",
      "epoch no.  10\n",
      "  batch 1234 last_batch 1234 loss: 4.723724318091642\n",
      " validation: batch 290 last_batch 290 loss: 4.614356632890372\n",
      "Train Loss: 4.723724\n",
      "Val Loss: 4.614357\n",
      "Train Acc: tensor([0.9709, 0.6788, 0.4305, 0.8148])\n",
      "Val Acc: tensor([0.9824, 0.6712, 0.4195, 0.8614])\n",
      "epoch no.  11\n",
      "  batch 1234 last_batch 1234 loss: 4.5583040629252425\n",
      " validation: batch 290 last_batch 290 loss: 4.588752383199231\n",
      "Train Loss: 4.558304\n",
      "Val Loss: 4.588752\n",
      "Train Acc: tensor([0.9727, 0.6767, 0.4506, 0.8181])\n",
      "Val Acc: tensor([0.9806, 0.7509, 0.3329, 0.8584])\n",
      "epoch no.  12\n",
      "  batch 1234 last_batch 1234 loss: 4.86999619335564\n",
      " validation: batch 290 last_batch 290 loss: 4.60574379460565\n",
      "Train Loss: 4.869996\n",
      "Val Loss: 4.605744\n",
      "Train Acc: tensor([0.9701, 0.6785, 0.4479, 0.8105])\n",
      "Val Acc: tensor([0.9811, 0.7222, 0.4026, 0.8390])\n",
      "epoch no.  13\n",
      "  batch 1234 last_batch 1234 loss: 4.4058524443612495\n",
      " validation: batch 290 last_batch 290 loss: 4.404310814265547\n",
      "Train Loss: 4.405852\n",
      "Val Loss: 4.404311\n",
      "Train Acc: tensor([0.9750, 0.6766, 0.4662, 0.8266])\n",
      "Val Acc: tensor([0.9862, 0.7250, 0.3878, 0.8609])\n",
      "epoch no.  14\n",
      "  batch 1234 last_batch 1234 loss: 4.384663201808157\n",
      " validation: batch 290 last_batch 290 loss: 4.669961321764979\n",
      "Train Loss: 4.384663\n",
      "Val Loss: 4.669961\n",
      "Train Acc: tensor([0.9754, 0.6761, 0.4757, 0.8289])\n",
      "Val Acc: tensor([0.9837, 0.6833, 0.4051, 0.8437])\n",
      "epoch no.  15\n",
      "  batch 1234 last_batch 1234 loss: 4.295798843451799\n",
      " validation: batch 290 last_batch 290 loss: 4.56496375100366\n",
      "Train Loss: 4.295799\n",
      "Val Loss: 4.564964\n",
      "Train Acc: tensor([0.9763, 0.6804, 0.4808, 0.8292])\n",
      "Val Acc: tensor([0.9855, 0.7377, 0.3583, 0.8722])\n",
      "epoch no.  16\n",
      "  batch 1234 last_batch 1234 loss: 4.249077970436751\n",
      " validation: batch 290 last_batch 290 loss: 4.2697368243644975\n",
      "Train Loss: 4.249078\n",
      "Val Loss: 4.269737\n",
      "Train Acc: tensor([0.9768, 0.6908, 0.4773, 0.8366])\n",
      "Val Acc: tensor([0.9815, 0.7164, 0.4378, 0.8536])\n",
      "epoch no.  17\n",
      "  batch 1234 last_batch 1234 loss: 4.1967382400117\n",
      " validation: batch 290 last_batch 290 loss: 4.22039468123995\n",
      "Train Loss: 4.196738\n",
      "Val Loss: 4.220395\n",
      "Train Acc: tensor([0.9769, 0.6885, 0.4842, 0.8399])\n",
      "Val Acc: tensor([0.9868, 0.7317, 0.4245, 0.8520])\n",
      "epoch no.  18\n",
      "  batch 1234 last_batch 1234 loss: 4.2505643106936635\n",
      " validation: batch 290 last_batch 290 loss: 4.405483774481149\n",
      "Train Loss: 4.250564\n",
      "Val Loss: 4.405484\n",
      "Train Acc: tensor([0.9767, 0.6968, 0.4805, 0.8396])\n",
      "Val Acc: tensor([0.9827, 0.6520, 0.4938, 0.8584])\n",
      "epoch no.  19\n",
      "  batch 1234 last_batch 1234 loss: 4.159334938182243\n",
      " validation: batch 290 last_batch 290 loss: 4.291740631235057\n",
      "Train Loss: 4.159335\n",
      "Val Loss: 4.291741\n",
      "Train Acc: tensor([0.9780, 0.6963, 0.4948, 0.8427])\n",
      "Val Acc: tensor([0.9851, 0.6729, 0.4937, 0.8603])\n",
      "epoch no.  20\n",
      "  batch 1234 last_batch 1234 loss: 4.381866594767454\n",
      " validation: batch 290 last_batch 290 loss: 5.428858230853903\n",
      "Train Loss: 4.381867\n",
      "Val Loss: 5.428858\n",
      "Train Acc: tensor([0.9758, 0.6940, 0.4910, 0.8401])\n",
      "Val Acc: tensor([0.9831, 0.6361, 0.4586, 0.8455])\n",
      "epoch no.  21\n",
      "  batch 1234 last_batch 1234 loss: 4.134026786110196\n",
      " validation: batch 290 last_batch 290 loss: 4.11507031917572\n",
      "Train Loss: 4.134027\n",
      "Val Loss: 4.115070\n",
      "Train Acc: tensor([0.9780, 0.6993, 0.4986, 0.8442])\n",
      "Val Acc: tensor([0.9839, 0.6990, 0.5027, 0.8512])\n",
      "epoch no.  22\n",
      "  batch 1234 last_batch 1234 loss: 3.999565536237806\n",
      " validation: batch 290 last_batch 290 loss: 4.278045337775658\n",
      "Train Loss: 3.999566\n",
      "Val Loss: 4.278045\n",
      "Train Acc: tensor([0.9790, 0.7127, 0.5030, 0.8488])\n",
      "Val Acc: tensor([0.9837, 0.7286, 0.4689, 0.8321])\n",
      "epoch no.  23\n",
      "  batch 1234 last_batch 1234 loss: 4.065950894471698\n",
      " validation: batch 290 last_batch 290 loss: 4.174893528017504\n",
      "Train Loss: 4.065951\n",
      "Val Loss: 4.174894\n",
      "Train Acc: tensor([0.9783, 0.7129, 0.5008, 0.8465])\n",
      "Val Acc: tensor([0.9881, 0.7400, 0.4827, 0.8247])\n",
      "epoch no.  24\n",
      "  batch 1234 last_batch 1234 loss: 3.965661470275644\n",
      " validation: batch 290 last_batch 290 loss: 4.089491453664056\n",
      "Train Loss: 3.965661\n",
      "Val Loss: 4.089491\n",
      "Train Acc: tensor([0.9794, 0.7181, 0.5052, 0.8512])\n",
      "Val Acc: tensor([0.9883, 0.7148, 0.5044, 0.8463])\n",
      "epoch no.  25\n",
      "  batch 1234 last_batch 1234 loss: 3.939229230633431\n",
      " validation: batch 290 last_batch 290 loss: 4.111343521907412\n",
      "Train Loss: 3.939229\n",
      "Val Loss: 4.111344\n",
      "Train Acc: tensor([0.9798, 0.7216, 0.5121, 0.8562])\n",
      "Val Acc: tensor([0.9886, 0.7278, 0.4657, 0.8449])\n",
      "epoch no.  26\n",
      "  batch 1234 last_batch 1234 loss: 3.8792482400056416\n",
      " validation: batch 290 last_batch 290 loss: 4.148694784065773\n",
      "Train Loss: 3.879248\n",
      "Val Loss: 4.148695\n",
      "Train Acc: tensor([0.9799, 0.7319, 0.5098, 0.8601])\n",
      "Val Acc: tensor([0.9882, 0.6679, 0.5545, 0.8310])\n",
      "epoch no.  27\n",
      "  batch 1234 last_batch 1234 loss: 3.9051590259496356\n",
      " validation: batch 290 last_batch 290 loss: 4.051185759182634\n",
      "Train Loss: 3.905159\n",
      "Val Loss: 4.051186\n",
      "Train Acc: tensor([0.9800, 0.7398, 0.5010, 0.8589])\n",
      "Val Acc: tensor([0.9879, 0.7406, 0.4877, 0.8385])\n",
      "epoch no.  28\n",
      "  batch 1234 last_batch 1234 loss: 3.901521233241021\n",
      " validation: batch 290 last_batch 290 loss: 4.038469515175655\n",
      "Train Loss: 3.901521\n",
      "Val Loss: 4.038470\n",
      "Train Acc: tensor([0.9800, 0.7318, 0.5093, 0.8613])\n",
      "Val Acc: tensor([0.9862, 0.7330, 0.5169, 0.8188])\n",
      "epoch no.  29\n",
      "  batch 1234 last_batch 1234 loss: 3.8287171872160615\n",
      " validation: batch 290 last_batch 290 loss: 4.061188780850378\n",
      "Train Loss: 3.828717\n",
      "Val Loss: 4.061189\n",
      "Train Acc: tensor([0.9801, 0.7419, 0.5109, 0.8606])\n",
      "Val Acc: tensor([0.9903, 0.7298, 0.5310, 0.8149])\n",
      "epoch no.  30\n",
      "  batch 1234 last_batch 1234 loss: 3.8160946630967882\n",
      " validation: batch 290 last_batch 290 loss: 4.047842602894224\n",
      "Train Loss: 3.816095\n",
      "Val Loss: 4.047843\n",
      "Train Acc: tensor([0.9805, 0.7391, 0.5224, 0.8600])\n",
      "Val Acc: tensor([0.9862, 0.7420, 0.4805, 0.8398])\n"
     ]
    }
   ],
   "source": [
    "STEP_SIZE = 2\n",
    "\n",
    "lst_tr_loss = []\n",
    "lst_vl_loss = []\n",
    "\n",
    "lst_vl_acc = []\n",
    "lst_tr_acc = []\n",
    "start = time.time()\n",
    "\n",
    "epoch_number = 0\n",
    "\n",
    "EPOCHS = 30\n",
    "\n",
    "best_vloss = 1_000_000.\n",
    "\n",
    "for epoch in range(EPOCHS):\n",
    "    print(\"epoch no. \", (epoch_number + 1))\n",
    "\n",
    "    # Make sure gradient tracking is on, and do a pass over the data\n",
    "    myModel.train(True)\n",
    "    tr_loss, tr_acc= train_one_epoch(epoch_number)\n",
    "    lst_tr_loss.append(tr_loss)\n",
    "    lst_tr_acc.append(tr_acc)\n",
    "#     break\n",
    "    # We don't need gradients on to do reporting\n",
    "    myModel.train(False)\n",
    "    vl_loss, vl_acc= eval_one_epoch(epoch_number)\n",
    "    lst_vl_loss.append(vl_loss)\n",
    "    lst_vl_acc.append(vl_acc)\n",
    "    \n",
    "    print(f'Train Loss: {tr_loss:03f}')\n",
    "    print(f'Val Loss: {vl_loss:03f}')\n",
    "    print(f'Train Acc: {tr_acc}')\n",
    "    print(f'Val Acc: {vl_acc}')\n",
    "    epoch_number += 1\n",
    "    \n",
    "\n",
    "end = time.time()"
   ]
  },
  {
   "cell_type": "code",
   "execution_count": null,
   "id": "3c778fa1-981e-4d09-aab4-819f4141f0c3",
   "metadata": {},
   "outputs": [],
   "source": [
    "torch.ones((12,1))"
   ]
  },
  {
   "cell_type": "code",
   "execution_count": null,
   "id": "9a05438e-7278-40ff-8028-fdc92742843a",
   "metadata": {},
   "outputs": [],
   "source": [
    "myModel._blocks[0]._network.edge_weights"
   ]
  },
  {
   "cell_type": "code",
   "execution_count": null,
   "id": "6ff84db0-02c4-46bd-b07b-54066e78187b",
   "metadata": {},
   "outputs": [],
   "source": [
    "torch.ones_like(myModel._blocks[0]._network.edge_weights)"
   ]
  },
  {
   "cell_type": "code",
   "execution_count": 28,
   "id": "7834970e-8a2b-4244-a026-8bee4ffa898e",
   "metadata": {},
   "outputs": [
    {
     "name": "stdout",
     "output_type": "stream",
     "text": [
      "epoch no.  31\n",
      "  batch 1234 last_batch 1234 loss: 3.3849346370132856\n",
      " validation: batch 290 last_batch 290 loss: 3.5542440825495225\n",
      "Train Loss: 3.384935\n",
      "Val Loss: 3.554244\n",
      "Train Acc: tensor([0.9843, 0.7607, 0.5540, 0.8790])\n",
      "Val Acc: tensor([0.9846, 0.7755, 0.5422, 0.8370])\n",
      "epoch no.  32\n",
      "  batch 1234 last_batch 1234 loss: 3.258640907378792\n",
      " validation: batch 290 last_batch 290 loss: 3.5281616268486813\n",
      "Train Loss: 3.258641\n",
      "Val Loss: 3.528162\n",
      "Train Acc: tensor([0.9854, 0.7730, 0.5666, 0.8874])\n",
      "Val Acc: tensor([0.9846, 0.7810, 0.5464, 0.8452])\n"
     ]
    }
   ],
   "source": [
    "optimizer = torch.optim.Adam(myModel.parameters(), lr=0.0001)\n",
    "\n",
    "epoch_number = 30\n",
    "\n",
    "EPOCHS = 2\n",
    "\n",
    "best_vloss = 1_000_000.\n",
    "\n",
    "for epoch in range(EPOCHS):\n",
    "    print(\"epoch no. \", (epoch_number + 1))\n",
    "\n",
    "    # Make sure gradient tracking is on, and do a pass over the data\n",
    "    myModel.train(True)\n",
    "    tr_loss, tr_acc= train_one_epoch(epoch_number)\n",
    "    lst_tr_loss.append(tr_loss)\n",
    "    lst_tr_acc.append(tr_acc)\n",
    "#     break\n",
    "    # We don't need gradients on to do reporting\n",
    "    myModel.train(False)\n",
    "    vl_loss, vl_acc= eval_one_epoch(epoch_number)\n",
    "    lst_vl_loss.append(vl_loss)\n",
    "    lst_vl_acc.append(vl_acc)\n",
    "    \n",
    "    print(f'Train Loss: {tr_loss:03f}')\n",
    "    print(f'Val Loss: {vl_loss:03f}')\n",
    "    print(f'Train Acc: {tr_acc}')\n",
    "    print(f'Val Acc: {vl_acc}')\n",
    "    \n",
    "    epoch_number += 1"
   ]
  },
  {
   "cell_type": "code",
   "execution_count": null,
   "id": "d882cfe1-904b-44ec-93f8-69a7f19b00b0",
   "metadata": {},
   "outputs": [],
   "source": []
  },
  {
   "cell_type": "code",
   "execution_count": 47,
   "id": "a99b1c5a-dadd-4267-b149-f145cac6faa8",
   "metadata": {},
   "outputs": [
    {
     "name": "stdout",
     "output_type": "stream",
     "text": [
      "epoch no.  33\n",
      "  batch 1234 last_batch 1234 loss: 3.422452560506725\n",
      " validation: batch 290 last_batch 290 loss: 3.6098817044291005\n",
      "Train Loss: 3.422453\n",
      "epoch no.  34\n",
      "  batch 1234 last_batch 1234 loss: 3.3859489927222315\n",
      " validation: batch 290 last_batch 290 loss: 3.5993692118546057\n",
      "Train Loss: 3.385949\n"
     ]
    }
   ],
   "source": [
    "optimizer = torch.optim.Adam(myModel.parameters(), lr=0.0001)\n",
    "\n",
    "epoch_number = 32\n",
    "\n",
    "EPOCHS = 2\n",
    "\n",
    "best_vloss = 1_000_000.\n",
    "\n",
    "for epoch in range(EPOCHS):\n",
    "    print(\"epoch no. \", (epoch_number + 1))\n",
    "\n",
    "    # Make sure gradient tracking is on, and do a pass over the data\n",
    "    myModel.train(True)\n",
    "    tr_loss, tr_acc= train_one_epoch(epoch_number)\n",
    "    lst_tr_loss.append(tr_loss)\n",
    "    lst_tr_acc.append(tr_acc)\n",
    "#     break\n",
    "    # We don't need gradients on to do reporting\n",
    "    myModel.train(False)\n",
    "    vl_loss, vl_acc= eval_one_epoch(epoch_number)\n",
    "    lst_vl_loss.append(vl_loss)\n",
    "    lst_vl_acc.append(vl_acc)\n",
    "    \n",
    "    print(f'Train Loss: {tr_loss:03f}')\n",
    "    \n",
    "    epoch_number += 1"
   ]
  },
  {
   "cell_type": "code",
   "execution_count": 30,
   "id": "71a583d1-992b-420b-abd3-499ab3b3d462",
   "metadata": {},
   "outputs": [],
   "source": [
    "#myModel.load_state_dict(torch.load('model_8block_32epochs_weighted_message_passing.pth'))\n",
    "#myModel.eval()\n",
    "\n",
    "class1_acc_vl=[]\n",
    "class2_acc_vl=[]\n",
    "class3_acc_vl=[]\n",
    "class4_acc_vl=[]\n",
    "\n",
    "\n",
    "for vl_acc in lst_vl_acc:\n",
    "    class1_acc_vl.append(vl_acc[0])\n",
    "    class2_acc_vl.append(vl_acc[1])\n",
    "    class3_acc_vl.append(vl_acc[2])\n",
    "    class4_acc_vl.append(vl_acc[3])"
   ]
  },
  {
   "cell_type": "code",
   "execution_count": 31,
   "id": "de404dc5-a6bc-4563-a902-00aef6c3760c",
   "metadata": {},
   "outputs": [],
   "source": [
    "class1_acc_vl=[]\n",
    "class2_acc_vl=[]\n",
    "class3_acc_vl=[]\n",
    "class4_acc_vl=[]\n",
    "\n",
    "\n",
    "for vl_acc in lst_vl_acc:\n",
    "    class1_acc_vl.append(vl_acc[0])\n",
    "    class2_acc_vl.append(vl_acc[1])\n",
    "    class3_acc_vl.append(vl_acc[2])\n",
    "    class4_acc_vl.append(vl_acc[3])\n",
    "\n",
    "class1_acc_tr=[]\n",
    "class2_acc_tr=[]\n",
    "class3_acc_tr=[]\n",
    "class4_acc_tr=[]\n",
    "\n",
    "\n",
    "for tr_acc in lst_tr_acc:\n",
    "    class1_acc_tr.append(tr_acc[0])\n",
    "    class2_acc_tr.append(tr_acc[1])\n",
    "    class3_acc_tr.append(tr_acc[2])\n",
    "    class4_acc_tr.append(tr_acc[3])"
   ]
  },
  {
   "cell_type": "code",
   "execution_count": 32,
   "id": "8e3982e9-4d8e-4eb4-a626-d9de9f4a2de0",
   "metadata": {},
   "outputs": [
    {
     "data": {
      "text/plain": [
       "32"
      ]
     },
     "execution_count": 32,
     "metadata": {},
     "output_type": "execute_result"
    }
   ],
   "source": [
    "len(lst_tr_loss)"
   ]
  },
  {
   "cell_type": "code",
   "execution_count": 35,
   "id": "845bc8ce-601a-4468-a5ff-2341cceb8f1d",
   "metadata": {},
   "outputs": [
    {
     "data": {
      "image/png": "[encoded data removed]",
      "text/plain": [
       "<Figure size 640x480 with 1 Axes>"
      ]
     },
     "metadata": {},
     "output_type": "display_data"
    }
   ],
   "source": [
    "import matplotlib.pyplot as plt\n",
    "import os\n",
    "  \n",
    "\n",
    "    \n",
    "# plt_numlayer = \"{}{}\".format(\"No. layers=\", NUM_LAYERS)\n",
    "# plt_channel = \"{}{}\".format(\"hidden channels=\", HIDDEN_CHANNELS)\n",
    "# plt_mlp = \"{}{}\".format(\"mlpout=\", MLP_OUTPUT_SIZE)\n",
    "# plt_step = \"{}{}\".format(\"step=\", STEP_SIZE)\n",
    "\n",
    "# plt_filename = \"{}{}{}{}\".format(\"L\", NUM_LAYERS, \"C\", HIDDEN_CHANNELS)\n",
    "\n",
    "\n",
    "plt.plot(lst_tr_loss, label=\"Train Loss\")\n",
    "plt.plot(lst_vl_loss, label=\"Validation Loss\")\n",
    "\n",
    "plt.xlabel('epoch')\n",
    "plt.ylabel('Cross Entropy Loss')\n",
    "#plt.ylabel('Focal Loss')\n",
    "\n",
    "\n",
    "plt.legend()\n",
    "#plt.savefig(\"loss_weighted_message_passing_BCE_Jan25_32epochs_4block.png\")\n",
    "#plt.savefig(\"figures_Oct/\"+file_batch+\"/loss_\"+plt_filename+\"_2cores_norm\"+\".png\")\n",
    "\n",
    "plt.show()"
   ]
  },
  {
   "cell_type": "code",
   "execution_count": 36,
   "id": "f952e872-65c1-4ced-b7c1-60ac3985a5da",
   "metadata": {},
   "outputs": [
    {
     "data": {
      "image/png": "[encoded data removed]",
      "text/plain": [
       "<Figure size 1000x500 with 2 Axes>"
      ]
     },
     "metadata": {},
     "output_type": "display_data"
    }
   ],
   "source": [
    "fig, axarr = plt.subplots(1, 2, figsize=(10, 5))\n",
    "# fig.suptitle(plt_numlayer +', '+ plt_channel+', '+plt_mlp+', '+plt_step, fontsize=14)\n",
    "# fig.suptitle(\"without weight, gamma=3\")\n",
    "# fig.suptitle(\"without weight, gamma=1, \" + plt_numlayer +', '+ plt_channel)\n",
    "\n",
    "# plt.title(\"with weight, gamma=3\")\n",
    "\n",
    "\n",
    "axarr[0].plot(class1_acc_tr, label=\"LCA=0\")\n",
    "axarr[0].plot(class2_acc_tr, label=\"LCA=1\")\n",
    "axarr[0].plot(class3_acc_tr, label=\"LCA=2\")\n",
    "axarr[0].plot(class4_acc_tr, label=\"LCA=3\")\n",
    "\n",
    "axarr[0].set_xlabel('epoch')\n",
    "axarr[0].set_ylabel('training accuracy')\n",
    "\n",
    "axarr[0].legend()\n",
    "\n",
    "axarr[1].plot(class1_acc_vl, label=\"LCA=0\")\n",
    "axarr[1].plot(class2_acc_vl, label=\"LCA=1\")\n",
    "axarr[1].plot(class3_acc_vl, label=\"LCA=2\")\n",
    "axarr[1].plot(class4_acc_vl, label=\"LCA=3\")\n",
    "\n",
    "axarr[1].set_xlabel('epoch')\n",
    "axarr[1].set_ylabel('validation accuracy')\n",
    "\n",
    "axarr[1].legend()\n",
    "\n",
    "fig.tight_layout()\n",
    "# fig.subplots_adjust(top=0.88)\n",
    "#plt.savefig(\"acc_LCAloss_wMP_BCE_32epoch_4block\"+\".png\")\n"
   ]
  },
  {
   "cell_type": "code",
   "execution_count": 38,
   "id": "f5f96c32-a49d-4c72-a465-a149739f4fb9",
   "metadata": {},
   "outputs": [
    {
     "data": {
      "text/plain": [
       "GNN(\n",
       "  (_encoder): MLPGraphIndependent(\n",
       "    (_network): GraphIndependent(\n",
       "      (_edge_model): WrappedModelFnModule(\n",
       "        (_model): MLP(-1, 128, 128, 128, 16)\n",
       "      )\n",
       "      (_node_model): WrappedModelFnModule(\n",
       "        (_model): MLP(-1, 128, 128, 128, 16)\n",
       "      )\n",
       "      (_global_model): WrappedModelFnModule(\n",
       "        (_model): MLP(-1, 128, 128, 128, 16)\n",
       "      )\n",
       "    )\n",
       "  )\n",
       "  (_core): MLPGraphNetwork(\n",
       "    (_network): GraphNetwork(\n",
       "      (_edge_block): EdgeBlock(\n",
       "        (_edge_model): MLP(-1, 128, 128, 128, 16)\n",
       "      )\n",
       "      (_node_block): NodeBlock(\n",
       "        (_node_model): MLP(-1, 128, 128, 128, 16)\n",
       "        (_received_edges_aggregator): EdgesToNodesAggregator()\n",
       "      )\n",
       "      (_global_block): GlobalBlock(\n",
       "        (_global_model): MLP(-1, 128, 128, 128, 16)\n",
       "        (_edges_aggregator): EdgesToGlobalsAggregator()\n",
       "        (_nodes_aggregator): NodesToGlobalsAggregator()\n",
       "      )\n",
       "      (edge_mlp): MLP(-1, 16, 16, 16, 1)\n",
       "      (node_mlp): MLP(-1, 16, 16, 16, 1)\n",
       "      (sigmoid): Sigmoid()\n",
       "      (softmax): Softmax(dim=0)\n",
       "      (select): SelectTopK(1, ratio=20)\n",
       "      (select_nodes): SelectTopK(1, ratio=70)\n",
       "    )\n",
       "  )\n",
       "  (_blocks): ModuleList(\n",
       "    (0-5): 6 x MLPGraphNetwork(\n",
       "      (_network): GraphNetwork(\n",
       "        (_edge_block): EdgeBlock(\n",
       "          (_edge_model): MLP(-1, 128, 128, 128, 16)\n",
       "        )\n",
       "        (_node_block): NodeBlock(\n",
       "          (_node_model): MLP(-1, 128, 128, 128, 16)\n",
       "          (_received_edges_aggregator): EdgesToNodesAggregator()\n",
       "        )\n",
       "        (_global_block): GlobalBlock(\n",
       "          (_global_model): MLP(-1, 128, 128, 128, 16)\n",
       "          (_edges_aggregator): EdgesToGlobalsAggregator()\n",
       "          (_nodes_aggregator): NodesToGlobalsAggregator()\n",
       "        )\n",
       "        (edge_mlp): MLP(-1, 16, 16, 16, 1)\n",
       "        (node_mlp): MLP(-1, 16, 16, 16, 1)\n",
       "        (sigmoid): Sigmoid()\n",
       "        (softmax): Softmax(dim=0)\n",
       "        (select): SelectTopK(1, ratio=20)\n",
       "        (select_nodes): SelectTopK(1, ratio=70)\n",
       "      )\n",
       "    )\n",
       "  )\n",
       "  (_decoder): MLPGraphIndependent(\n",
       "    (_network): GraphIndependent(\n",
       "      (_edge_model): WrappedModelFnModule(\n",
       "        (_model): MLP(-1, 128, 128, 128, 16)\n",
       "      )\n",
       "      (_node_model): WrappedModelFnModule(\n",
       "        (_model): MLP(-1, 128, 128, 128, 16)\n",
       "      )\n",
       "      (_global_model): WrappedModelFnModule(\n",
       "        (_model): MLP(-1, 128, 128, 128, 16)\n",
       "      )\n",
       "    )\n",
       "  )\n",
       "  (_output_transform): GraphIndependent(\n",
       "    (_edge_model): WrappedModelFnModule(\n",
       "      (_model): Linear(in_features=16, out_features=4, bias=True)\n",
       "    )\n",
       "  )\n",
       ")"
      ]
     },
     "execution_count": 38,
     "metadata": {},
     "output_type": "execute_result"
    }
   ],
   "source": [
    "myModel"
   ]
  },
  {
   "cell_type": "code",
   "execution_count": 31,
   "id": "dec49bc9-0ad2-4f77-add8-ce9e82d6c88a",
   "metadata": {},
   "outputs": [
    {
     "data": {
      "text/plain": [
       "tensor(0.9849)"
      ]
     },
     "execution_count": 31,
     "metadata": {},
     "output_type": "execute_result"
    }
   ],
   "source": [
    "class1_acc_vl[-1]"
   ]
  },
  {
   "cell_type": "code",
   "execution_count": 32,
   "id": "8b009f43-9f20-4bf9-9b61-6b131f28c378",
   "metadata": {},
   "outputs": [
    {
     "data": {
      "text/plain": [
       "tensor(0.7950)"
      ]
     },
     "execution_count": 32,
     "metadata": {},
     "output_type": "execute_result"
    }
   ],
   "source": [
    "class2_acc_vl[-1]"
   ]
  },
  {
   "cell_type": "code",
   "execution_count": 33,
   "id": "e531947b-6067-4e03-a150-d7641c151f12",
   "metadata": {},
   "outputs": [
    {
     "data": {
      "text/plain": [
       "tensor(0.5383)"
      ]
     },
     "execution_count": 33,
     "metadata": {},
     "output_type": "execute_result"
    }
   ],
   "source": [
    "class3_acc_vl[-1]"
   ]
  },
  {
   "cell_type": "code",
   "execution_count": 34,
   "id": "518bb832-b4ec-4e91-af97-13a8236e3a2d",
   "metadata": {},
   "outputs": [
    {
     "data": {
      "text/plain": [
       "tensor(0.8424)"
      ]
     },
     "execution_count": 34,
     "metadata": {},
     "output_type": "execute_result"
    }
   ],
   "source": [
    "class4_acc_vl[-1]"
   ]
  },
  {
   "cell_type": "code",
   "execution_count": 42,
   "id": "cd1d1080-774c-4508-862b-f7a6633b70ef",
   "metadata": {},
   "outputs": [
    {
     "data": {
      "text/plain": [
       "tensor(0.9853)"
      ]
     },
     "execution_count": 42,
     "metadata": {},
     "output_type": "execute_result"
    }
   ],
   "source": [
    "class1_acc_vl[-1]"
   ]
  },
  {
   "cell_type": "code",
   "execution_count": 43,
   "id": "a0b9ea3f-0b2b-4886-8228-ad0a3e21645d",
   "metadata": {},
   "outputs": [
    {
     "data": {
      "text/plain": [
       "tensor(0.7701)"
      ]
     },
     "execution_count": 43,
     "metadata": {},
     "output_type": "execute_result"
    }
   ],
   "source": [
    "class2_acc_vl[-1]"
   ]
  },
  {
   "cell_type": "code",
   "execution_count": 44,
   "id": "e1cfa663-9001-4474-b7df-2aa8d568e598",
   "metadata": {},
   "outputs": [
    {
     "data": {
      "text/plain": [
       "tensor(0.5693)"
      ]
     },
     "execution_count": 44,
     "metadata": {},
     "output_type": "execute_result"
    }
   ],
   "source": [
    "class3_acc_vl[-1]"
   ]
  },
  {
   "cell_type": "code",
   "execution_count": 45,
   "id": "3b52c37a-2455-4ac7-a23b-8a3b9a6de049",
   "metadata": {},
   "outputs": [
    {
     "data": {
      "text/plain": [
       "tensor(0.8123)"
      ]
     },
     "execution_count": 45,
     "metadata": {},
     "output_type": "execute_result"
    }
   ],
   "source": [
    "class4_acc_vl[-1]"
   ]
  },
  {
   "cell_type": "code",
   "execution_count": 39,
   "id": "4dcd07ff-8a2d-45fe-89f8-d80029baeaef",
   "metadata": {},
   "outputs": [
    {
     "data": {
      "text/plain": [
       "tensor(0.9765)"
      ]
     },
     "execution_count": 39,
     "metadata": {},
     "output_type": "execute_result"
    }
   ],
   "source": [
    "class1_acc_vl[-1]"
   ]
  },
  {
   "cell_type": "code",
   "execution_count": 40,
   "id": "45319eba-8baa-4400-8587-0837d16e2587",
   "metadata": {},
   "outputs": [
    {
     "data": {
      "text/plain": [
       "tensor(0.7497)"
      ]
     },
     "execution_count": 40,
     "metadata": {},
     "output_type": "execute_result"
    }
   ],
   "source": [
    "class2_acc_vl[-1]"
   ]
  },
  {
   "cell_type": "code",
   "execution_count": 41,
   "id": "bf221a5c-4bf4-4010-bcc5-fbe4940b27ac",
   "metadata": {},
   "outputs": [
    {
     "data": {
      "text/plain": [
       "tensor(0.4104)"
      ]
     },
     "execution_count": 41,
     "metadata": {},
     "output_type": "execute_result"
    }
   ],
   "source": [
    "class3_acc_vl[-1]"
   ]
  },
  {
   "cell_type": "code",
   "execution_count": 42,
   "id": "0c9188c2-d382-4d85-ac82-ddbceef88fdb",
   "metadata": {},
   "outputs": [
    {
     "data": {
      "text/plain": [
       "tensor(0.8279)"
      ]
     },
     "execution_count": 42,
     "metadata": {},
     "output_type": "execute_result"
    }
   ],
   "source": [
    "class4_acc_vl[-1]"
   ]
  },
  {
   "cell_type": "code",
   "execution_count": 28,
   "id": "30cd136f-0d7e-4b91-bfc2-8ee0ac7bab61",
   "metadata": {},
   "outputs": [
    {
     "data": {
      "text/plain": [
       "tensor(0.9848)"
      ]
     },
     "execution_count": 28,
     "metadata": {},
     "output_type": "execute_result"
    }
   ],
   "source": [
    "class1_acc_vl[-1]"
   ]
  },
  {
   "cell_type": "code",
   "execution_count": 29,
   "id": "de29050d-2510-4657-868b-a5cc79d31cad",
   "metadata": {},
   "outputs": [
    {
     "data": {
      "text/plain": [
       "tensor(0.7886)"
      ]
     },
     "execution_count": 29,
     "metadata": {},
     "output_type": "execute_result"
    }
   ],
   "source": [
    "class2_acc_vl[-1]"
   ]
  },
  {
   "cell_type": "code",
   "execution_count": 30,
   "id": "7e639b86-9881-475d-9c6c-065fcfb143dd",
   "metadata": {},
   "outputs": [
    {
     "data": {
      "text/plain": [
       "tensor(0.5527)"
      ]
     },
     "execution_count": 30,
     "metadata": {},
     "output_type": "execute_result"
    }
   ],
   "source": [
    "class3_acc_vl[-1]"
   ]
  },
  {
   "cell_type": "code",
   "execution_count": 31,
   "id": "f4e76eb9-3d46-4bb6-a965-a2caea8fb2ef",
   "metadata": {},
   "outputs": [
    {
     "data": {
      "text/plain": [
       "tensor(0.8343)"
      ]
     },
     "execution_count": 31,
     "metadata": {},
     "output_type": "execute_result"
    }
   ],
   "source": [
    "class4_acc_vl[-1]\n"
   ]
  },
  {
   "cell_type": "code",
   "execution_count": 54,
   "id": "b42060c0-df5d-4965-9652-b96e0f842fe8",
   "metadata": {},
   "outputs": [
    {
     "data": {
      "text/plain": [
       "tensor(0.9840)"
      ]
     },
     "execution_count": 54,
     "metadata": {},
     "output_type": "execute_result"
    }
   ],
   "source": [
    "class1_acc_vl[-1]"
   ]
  },
  {
   "cell_type": "code",
   "execution_count": 55,
   "id": "2cbb59a1-059e-43ed-a41d-62ba59e11033",
   "metadata": {},
   "outputs": [
    {
     "data": {
      "text/plain": [
       "tensor(0.7697)"
      ]
     },
     "execution_count": 55,
     "metadata": {},
     "output_type": "execute_result"
    }
   ],
   "source": [
    "class2_acc_vl[-1]"
   ]
  },
  {
   "cell_type": "code",
   "execution_count": 56,
   "id": "2c168e8c-b70a-4ac1-9515-93b1fad52aa9",
   "metadata": {},
   "outputs": [
    {
     "data": {
      "text/plain": [
       "tensor(0.5099)"
      ]
     },
     "execution_count": 56,
     "metadata": {},
     "output_type": "execute_result"
    }
   ],
   "source": [
    "class3_acc_vl[-1]"
   ]
  },
  {
   "cell_type": "code",
   "execution_count": 57,
   "id": "fd901837-6a4b-4d64-adc0-785c668147bb",
   "metadata": {},
   "outputs": [
    {
     "data": {
      "text/plain": [
       "tensor(0.8342)"
      ]
     },
     "execution_count": 57,
     "metadata": {},
     "output_type": "execute_result"
    }
   ],
   "source": [
    "class4_acc_vl[-1]"
   ]
  },
  {
   "cell_type": "code",
   "execution_count": 25,
   "id": "a6598733-7fe4-447e-9547-54d5024c8919",
   "metadata": {},
   "outputs": [
    {
     "data": {
      "text/plain": [
       "tensor(0.9598)"
      ]
     },
     "execution_count": 25,
     "metadata": {},
     "output_type": "execute_result"
    }
   ],
   "source": [
    "class1_acc_vl[-1]"
   ]
  },
  {
   "cell_type": "code",
   "execution_count": 26,
   "id": "fbf4b571-bbe5-40f1-972c-22494d7a49a7",
   "metadata": {},
   "outputs": [
    {
     "data": {
      "text/plain": [
       "tensor(0.7385)"
      ]
     },
     "execution_count": 26,
     "metadata": {},
     "output_type": "execute_result"
    }
   ],
   "source": [
    "class2_acc_vl[-1]"
   ]
  },
  {
   "cell_type": "code",
   "execution_count": 27,
   "id": "ece70bca-8474-47fa-813f-1f21bde23eb3",
   "metadata": {},
   "outputs": [
    {
     "data": {
      "text/plain": [
       "tensor(0.4841)"
      ]
     },
     "execution_count": 27,
     "metadata": {},
     "output_type": "execute_result"
    }
   ],
   "source": [
    "class3_acc_vl[-1]"
   ]
  },
  {
   "cell_type": "code",
   "execution_count": 28,
   "id": "936d62af-11e4-4229-894c-417d93896dd2",
   "metadata": {},
   "outputs": [
    {
     "data": {
      "text/plain": [
       "tensor(0.7618)"
      ]
     },
     "execution_count": 28,
     "metadata": {},
     "output_type": "execute_result"
    }
   ],
   "source": [
    "class4_acc_vl[-1]"
   ]
  },
  {
   "cell_type": "code",
   "execution_count": 1,
   "id": "cbc63c1f-9617-4fea-9997-cd993e85130b",
   "metadata": {},
   "outputs": [
    {
     "ename": "NameError",
     "evalue": "name 'class1_acc_vl' is not defined",
     "output_type": "error",
     "traceback": [
      "\u001b[0;31m---------------------------------------------------------------------------\u001b[0m",
      "\u001b[0;31mNameError\u001b[0m                                 Traceback (most recent call last)",
      "Cell \u001b[0;32mIn[1], line 1\u001b[0m\n\u001b[0;32m----> 1\u001b[0m \u001b[43mclass1_acc_vl\u001b[49m[\u001b[38;5;241m-\u001b[39m\u001b[38;5;241m1\u001b[39m]\n",
      "\u001b[0;31mNameError\u001b[0m: name 'class1_acc_vl' is not defined"
     ]
    }
   ],
   "source": [
    "class1_acc_vl[-1]"
   ]
  },
  {
   "cell_type": "code",
   "execution_count": 77,
   "id": "8f3f94c3-d7c9-4ae5-9c8f-d4dd9f414982",
   "metadata": {},
   "outputs": [
    {
     "data": {
      "text/plain": [
       "tensor(0.7910)"
      ]
     },
     "execution_count": 77,
     "metadata": {},
     "output_type": "execute_result"
    }
   ],
   "source": [
    "class2_acc_vl[-1]"
   ]
  },
  {
   "cell_type": "code",
   "execution_count": 75,
   "id": "c28deb23-02df-4185-ac2f-6e2efa5d6094",
   "metadata": {},
   "outputs": [
    {
     "data": {
      "text/plain": [
       "tensor(0.5669)"
      ]
     },
     "execution_count": 75,
     "metadata": {},
     "output_type": "execute_result"
    }
   ],
   "source": [
    "class3_acc_vl[-1]"
   ]
  },
  {
   "cell_type": "code",
   "execution_count": 76,
   "id": "46a6a8a8-e7e0-432b-89f8-223d004d2ef6",
   "metadata": {},
   "outputs": [
    {
     "data": {
      "text/plain": [
       "tensor(0.8175)"
      ]
     },
     "execution_count": 76,
     "metadata": {},
     "output_type": "execute_result"
    }
   ],
   "source": [
    "class4_acc_vl[-1]"
   ]
  },
  {
   "cell_type": "code",
   "execution_count": 12,
   "id": "7b391598-2899-482e-a461-fdacc016d947",
   "metadata": {},
   "outputs": [
    {
     "name": "stderr",
     "output_type": "stream",
     "text": [
      "/tmp/ipykernel_13704/2125270781.py:1: FutureWarning: You are using `torch.load` with `weights_only=False` (the current default value), which uses the default pickle module implicitly. It is possible to construct malicious pickle data which will execute arbitrary code during unpickling (See https://github.com/pytorch/pytorch/blob/main/SECURITY.md#untrusted-models for more details). In a future release, the default value for `weights_only` will be flipped to `True`. This limits the functions that could be executed during unpickling. Arbitrary objects will no longer be allowed to be loaded via this mode unless they are explicitly allowlisted by the user via `torch.serialization.add_safe_globals`. We recommend you start setting `weights_only=True` for any use case where you don't have full control of the loaded file. Please open an issue on GitHub for any issues related to this experimental feature.\n",
      "  myModel.load_state_dict(torch.load('model_8block_32epochs_message_passing_BCE_Jan25.pth'))\n"
     ]
    },
    {
     "data": {
      "text/plain": [
       "EncodeProcessDecode(\n",
       "  (_encoder): MLPGraphIndependent(\n",
       "    (_network): GraphIndependent(\n",
       "      (_edge_model): WrappedModelFnModule(\n",
       "        (_model): MLP(-1, 128, 128, 128, 16)\n",
       "      )\n",
       "      (_node_model): WrappedModelFnModule(\n",
       "        (_model): MLP(-1, 128, 128, 128, 16)\n",
       "      )\n",
       "      (_global_model): WrappedModelFnModule(\n",
       "        (_model): MLP(-1, 128, 128, 128, 16)\n",
       "      )\n",
       "    )\n",
       "  )\n",
       "  (_core): MLPGraphNetwork(\n",
       "    (_network): GraphNetwork(\n",
       "      (_edge_block): EdgeBlock(\n",
       "        (_edge_model): MLP(-1, 128, 128, 128, 16)\n",
       "      )\n",
       "      (_node_block): NodeBlock(\n",
       "        (_node_model): MLP(-1, 128, 128, 128, 16)\n",
       "        (_sent_edges_aggregator): EdgesToNodesAggregator()\n",
       "      )\n",
       "      (_global_block): GlobalBlock(\n",
       "        (_global_model): MLP(-1, 128, 128, 128, 16)\n",
       "        (_edges_aggregator): EdgesToGlobalsAggregator()\n",
       "        (_edges_aggregator_max): EdgesToGlobalsAggregator()\n",
       "        (_edges_aggregator_mean): EdgesToGlobalsAggregator()\n",
       "        (_edges_aggregator_std): EdgesToGlobalsAggregator()\n",
       "        (_nodes_aggregator): NodesToGlobalsAggregator()\n",
       "        (_nodes_aggregator_max): NodesToGlobalsAggregator()\n",
       "        (_nodes_aggregator_mean): NodesToGlobalsAggregator()\n",
       "        (_nodes_aggregator_std): NodesToGlobalsAggregator()\n",
       "      )\n",
       "      (edge_linear): Linear(in_features=8, out_features=1, bias=True)\n",
       "      (edge_mlp): MLP(-1, 16, 16, 16, 1)\n",
       "      (node_linear): Linear(in_features=8, out_features=1, bias=True)\n",
       "      (node_mlp): MLP(-1, 16, 16, 16, 1)\n",
       "      (sigmoid): Sigmoid()\n",
       "      (softmax): Softmax(dim=0)\n",
       "      (select): SelectTopK(1, ratio=20)\n",
       "      (select_nodes): SelectTopK(1, ratio=70)\n",
       "    )\n",
       "  )\n",
       "  (_blocks): ModuleList(\n",
       "    (0-7): 8 x MLPGraphNetwork(\n",
       "      (_network): GraphNetwork(\n",
       "        (_edge_block): EdgeBlock(\n",
       "          (_edge_model): MLP(-1, 128, 128, 128, 16)\n",
       "        )\n",
       "        (_node_block): NodeBlock(\n",
       "          (_node_model): MLP(-1, 128, 128, 128, 16)\n",
       "          (_sent_edges_aggregator): EdgesToNodesAggregator()\n",
       "        )\n",
       "        (_global_block): GlobalBlock(\n",
       "          (_global_model): MLP(-1, 128, 128, 128, 16)\n",
       "          (_edges_aggregator): EdgesToGlobalsAggregator()\n",
       "          (_edges_aggregator_max): EdgesToGlobalsAggregator()\n",
       "          (_edges_aggregator_mean): EdgesToGlobalsAggregator()\n",
       "          (_edges_aggregator_std): EdgesToGlobalsAggregator()\n",
       "          (_nodes_aggregator): NodesToGlobalsAggregator()\n",
       "          (_nodes_aggregator_max): NodesToGlobalsAggregator()\n",
       "          (_nodes_aggregator_mean): NodesToGlobalsAggregator()\n",
       "          (_nodes_aggregator_std): NodesToGlobalsAggregator()\n",
       "        )\n",
       "        (edge_linear): Linear(in_features=8, out_features=1, bias=True)\n",
       "        (edge_mlp): MLP(-1, 16, 16, 16, 1)\n",
       "        (node_linear): Linear(in_features=8, out_features=1, bias=True)\n",
       "        (node_mlp): MLP(-1, 16, 16, 16, 1)\n",
       "        (sigmoid): Sigmoid()\n",
       "        (softmax): Softmax(dim=0)\n",
       "        (select): SelectTopK(1, ratio=20)\n",
       "        (select_nodes): SelectTopK(1, ratio=70)\n",
       "      )\n",
       "    )\n",
       "  )\n",
       "  (_decoder): MLPGraphIndependent(\n",
       "    (_network): GraphIndependent(\n",
       "      (_edge_model): WrappedModelFnModule(\n",
       "        (_model): MLP(-1, 128, 128, 128, 16)\n",
       "      )\n",
       "      (_node_model): WrappedModelFnModule(\n",
       "        (_model): MLP(-1, 128, 128, 128, 16)\n",
       "      )\n",
       "      (_global_model): WrappedModelFnModule(\n",
       "        (_model): MLP(-1, 128, 128, 128, 16)\n",
       "      )\n",
       "    )\n",
       "  )\n",
       "  (_output_transform): GraphIndependent(\n",
       "    (_edge_model): WrappedModelFnModule(\n",
       "      (_model): Linear(in_features=16, out_features=4, bias=True)\n",
       "    )\n",
       "  )\n",
       ")"
      ]
     },
     "execution_count": 12,
     "metadata": {},
     "output_type": "execute_result"
    }
   ],
   "source": [
    "myModel.load_state_dict(torch.load('model_8block_32epochs_message_passing_BCE_Jan25.pth'))\n",
    "myModel.eval()"
   ]
  },
  {
   "cell_type": "code",
   "execution_count": null,
   "id": "44c3b379-07f8-4626-8a8d-9e73fed7bc8a",
   "metadata": {},
   "outputs": [],
   "source": []
  },
  {
   "cell_type": "code",
   "execution_count": 29,
   "id": "19d62c55-6c68-42a4-86d3-9b51a1e30f6e",
   "metadata": {},
   "outputs": [],
   "source": [
    "torch.save(myModel.state_dict(), 'model_6block_32epochs_message_passing_BCE_scaled_30Jan25.pth')"
   ]
  },
  {
   "cell_type": "code",
   "execution_count": 30,
   "id": "0a5f31c8-58fe-4c26-90c6-ec721cbad80f",
   "metadata": {},
   "outputs": [
    {
     "data": {
      "text/plain": [
       "tensor(0.9840)"
      ]
     },
     "execution_count": 30,
     "metadata": {},
     "output_type": "execute_result"
    }
   ],
   "source": [
    "class1_acc_tr[-1]"
   ]
  },
  {
   "cell_type": "code",
   "execution_count": 31,
   "id": "ef68921d-f72d-4b2a-9138-0aedf24cd81e",
   "metadata": {},
   "outputs": [
    {
     "data": {
      "text/plain": [
       "tensor(0.7923)"
      ]
     },
     "execution_count": 31,
     "metadata": {},
     "output_type": "execute_result"
    }
   ],
   "source": [
    "class2_acc_tr[-1]"
   ]
  },
  {
   "cell_type": "code",
   "execution_count": 32,
   "id": "c40f9b48-0191-4736-b6e9-73a0310116df",
   "metadata": {},
   "outputs": [
    {
     "data": {
      "text/plain": [
       "tensor(0.5790)"
      ]
     },
     "execution_count": 32,
     "metadata": {},
     "output_type": "execute_result"
    }
   ],
   "source": [
    "class3_acc_tr[-1]"
   ]
  },
  {
   "cell_type": "code",
   "execution_count": 34,
   "id": "3d85de9a-eda4-474f-b1fd-6ce2a9a0af5c",
   "metadata": {},
   "outputs": [
    {
     "data": {
      "text/plain": [
       "tensor(0.8906)"
      ]
     },
     "execution_count": 34,
     "metadata": {},
     "output_type": "execute_result"
    }
   ],
   "source": [
    "class4_acc_tr[-1]"
   ]
  },
  {
   "cell_type": "code",
   "execution_count": 42,
   "id": "07c725c7-f2ea-43b5-adf0-128b89faee35",
   "metadata": {},
   "outputs": [
    {
     "data": {
      "text/plain": [
       "tensor(0.9845)"
      ]
     },
     "execution_count": 42,
     "metadata": {},
     "output_type": "execute_result"
    }
   ],
   "source": [
    "class1_acc_tr[-1]"
   ]
  },
  {
   "cell_type": "code",
   "execution_count": 43,
   "id": "7f2add38-0818-43d0-bbb2-8def1b05ec4e",
   "metadata": {},
   "outputs": [
    {
     "data": {
      "text/plain": [
       "tensor(0.8000)"
      ]
     },
     "execution_count": 43,
     "metadata": {},
     "output_type": "execute_result"
    }
   ],
   "source": [
    "class2_acc_tr[-1]"
   ]
  },
  {
   "cell_type": "code",
   "execution_count": 44,
   "id": "a96b5b51-5e41-4410-a3cd-cd9749c39a2f",
   "metadata": {},
   "outputs": [
    {
     "data": {
      "text/plain": [
       "tensor(0.5870)"
      ]
     },
     "execution_count": 44,
     "metadata": {},
     "output_type": "execute_result"
    }
   ],
   "source": [
    "class3_acc_tr[-1]"
   ]
  },
  {
   "cell_type": "code",
   "execution_count": 45,
   "id": "6dbfcbe3-fed9-4e40-be03-dc09a4b322ed",
   "metadata": {},
   "outputs": [
    {
     "data": {
      "text/plain": [
       "tensor(0.8949)"
      ]
     },
     "execution_count": 45,
     "metadata": {},
     "output_type": "execute_result"
    }
   ],
   "source": [
    "class4_acc_tr[-1]"
   ]
  },
  {
   "cell_type": "code",
   "execution_count": 46,
   "id": "accfe2bb-e960-469c-9893-e4ae70ae6f38",
   "metadata": {},
   "outputs": [
    {
     "data": {
      "text/plain": [
       "[tensor(0.6118),\n",
       " tensor(0.6786),\n",
       " tensor(0.6757),\n",
       " tensor(0.6558),\n",
       " tensor(0.6509),\n",
       " tensor(0.6536),\n",
       " tensor(0.6666),\n",
       " tensor(0.6658),\n",
       " tensor(0.6673),\n",
       " tensor(0.6685),\n",
       " tensor(0.6807),\n",
       " tensor(0.6829),\n",
       " tensor(0.6897),\n",
       " tensor(0.6908),\n",
       " tensor(0.6885),\n",
       " tensor(0.6641),\n",
       " tensor(0.6871),\n",
       " tensor(0.7060),\n",
       " tensor(0.7084),\n",
       " tensor(0.7117),\n",
       " tensor(0.7235),\n",
       " tensor(0.7219),\n",
       " tensor(0.7176),\n",
       " tensor(0.7303),\n",
       " tensor(0.7269),\n",
       " tensor(0.7324),\n",
       " tensor(0.7405),\n",
       " tensor(0.7406),\n",
       " tensor(0.7416),\n",
       " tensor(0.7398),\n",
       " tensor(0.7685),\n",
       " tensor(0.7795),\n",
       " tensor(0.7857),\n",
       " tensor(0.7923),\n",
       " tensor(0.7956),\n",
       " tensor(0.8000)]"
      ]
     },
     "execution_count": 46,
     "metadata": {},
     "output_type": "execute_result"
    }
   ],
   "source": [
    "class2_acc_tr"
   ]
  },
  {
   "cell_type": "code",
   "execution_count": 32,
   "id": "bcbb771a-514a-44e7-971c-4a559e1e1b9e",
   "metadata": {},
   "outputs": [],
   "source": [
    "import pandas"
   ]
  },
  {
   "cell_type": "code",
   "execution_count": 33,
   "id": "f3979792-ffd3-4eac-9f21-dd705f2f6f8e",
   "metadata": {},
   "outputs": [],
   "source": [
    "df = pandas.DataFrame({'val_loss' : lst_vl_loss, 'train_loss' : lst_tr_loss, 'val_class1_acc' : [x.item() for x in class1_acc_vl] ,\n",
    "               'val_class2_acc' : [x.item() for x in class2_acc_vl], 'val_class3_acc' : [x.item() for x in class3_acc_vl], \n",
    "                  'val_class4_acc' : [x.item() for x in class4_acc_vl]\n",
    "                      , 'train_class1_acc' : [x.item() for x in class1_acc_tr] ,\n",
    "               'train_class2_acc' : [x.item() for x in class2_acc_tr], 'train_class3_acc' : [x.item() for x in class3_acc_tr], \n",
    "                  'train_class4_acc' : [x.item() for x in class4_acc_tr]})"
   ]
  },
  {
   "cell_type": "code",
   "execution_count": 34,
   "id": "6cd9c533-6a43-4a60-9794-f88e2debd090",
   "metadata": {},
   "outputs": [],
   "source": [
    "df.to_csv(\"32_epoch_8block_message_passing_BCE_minmax.csv\")"
   ]
  },
  {
   "cell_type": "code",
   "execution_count": 35,
   "id": "04b6e6dc-dee7-4109-86da-30de3f0dd991",
   "metadata": {},
   "outputs": [
    {
     "name": "stdout",
     "output_type": "stream",
     "text": [
      " validation: batch 290 last_batch 290 loss: 3.5355710144700674\n"
     ]
    }
   ],
   "source": [
    "myModel.train(False)\n",
    "vl_loss, vl_acc= eval_one_epoch(epoch_number)"
   ]
  },
  {
   "cell_type": "code",
   "execution_count": null,
   "id": "af3c923b-c727-4139-8fad-19d14bef1a6c",
   "metadata": {},
   "outputs": [],
   "source": [
    "vl_acc"
   ]
  },
  {
   "cell_type": "code",
   "execution_count": 36,
   "id": "62b9ce41-bc14-4157-a783-f93c92e8a504",
   "metadata": {},
   "outputs": [
    {
     "name": "stdout",
     "output_type": "stream",
     "text": [
      "model_8block_32epochs_weighted_message_passing_BCE_Jan25.pth\n"
     ]
    }
   ],
   "source": [
    "!ls model_8block_32epochs_weighted_message_passing_BCE_Jan25*"
   ]
  },
  {
   "cell_type": "code",
   "execution_count": 62,
   "id": "f8cbc600-8ffd-4874-a48c-85355053b868",
   "metadata": {},
   "outputs": [
    {
     "name": "stderr",
     "output_type": "stream",
     "text": [
      "/tmp/ipykernel_13704/40802897.py:1: FutureWarning: You are using `torch.load` with `weights_only=False` (the current default value), which uses the default pickle module implicitly. It is possible to construct malicious pickle data which will execute arbitrary code during unpickling (See https://github.com/pytorch/pytorch/blob/main/SECURITY.md#untrusted-models for more details). In a future release, the default value for `weights_only` will be flipped to `True`. This limits the functions that could be executed during unpickling. Arbitrary objects will no longer be allowed to be loaded via this mode unless they are explicitly allowlisted by the user via `torch.serialization.add_safe_globals`. We recommend you start setting `weights_only=True` for any use case where you don't have full control of the loaded file. Please open an issue on GitHub for any issues related to this experimental feature.\n",
      "  myModel.load_state_dict(torch.load('model_4block_32epochs_message_passing_BCE_Jan25.pth'))\n"
     ]
    },
    {
     "data": {
      "text/plain": [
       "EncodeProcessDecode(\n",
       "  (_encoder): MLPGraphIndependent(\n",
       "    (_network): GraphIndependent(\n",
       "      (_edge_model): WrappedModelFnModule(\n",
       "        (_model): MLP(-1, 128, 128, 128, 16)\n",
       "      )\n",
       "      (_node_model): WrappedModelFnModule(\n",
       "        (_model): MLP(-1, 128, 128, 128, 16)\n",
       "      )\n",
       "      (_global_model): WrappedModelFnModule(\n",
       "        (_model): MLP(-1, 128, 128, 128, 16)\n",
       "      )\n",
       "    )\n",
       "  )\n",
       "  (_core): MLPGraphNetwork(\n",
       "    (_network): GraphNetwork(\n",
       "      (_edge_block): EdgeBlock(\n",
       "        (_edge_model): MLP(-1, 128, 128, 128, 16)\n",
       "      )\n",
       "      (_node_block): NodeBlock(\n",
       "        (_node_model): MLP(-1, 128, 128, 128, 16)\n",
       "        (_sent_edges_aggregator): EdgesToNodesAggregator()\n",
       "      )\n",
       "      (_global_block): GlobalBlock(\n",
       "        (_global_model): MLP(-1, 128, 128, 128, 16)\n",
       "        (_edges_aggregator): EdgesToGlobalsAggregator()\n",
       "        (_edges_aggregator_max): EdgesToGlobalsAggregator()\n",
       "        (_edges_aggregator_mean): EdgesToGlobalsAggregator()\n",
       "        (_edges_aggregator_std): EdgesToGlobalsAggregator()\n",
       "        (_nodes_aggregator): NodesToGlobalsAggregator()\n",
       "        (_nodes_aggregator_max): NodesToGlobalsAggregator()\n",
       "        (_nodes_aggregator_mean): NodesToGlobalsAggregator()\n",
       "        (_nodes_aggregator_std): NodesToGlobalsAggregator()\n",
       "      )\n",
       "      (edge_linear): Linear(in_features=8, out_features=1, bias=True)\n",
       "      (edge_mlp): MLP(-1, 16, 16, 16, 1)\n",
       "      (node_linear): Linear(in_features=8, out_features=1, bias=True)\n",
       "      (node_mlp): MLP(-1, 16, 16, 16, 1)\n",
       "      (sigmoid): Sigmoid()\n",
       "      (softmax): Softmax(dim=0)\n",
       "      (select): SelectTopK(1, ratio=20)\n",
       "      (select_nodes): SelectTopK(1, ratio=70)\n",
       "    )\n",
       "  )\n",
       "  (_blocks): ModuleList(\n",
       "    (0-3): 4 x MLPGraphNetwork(\n",
       "      (_network): GraphNetwork(\n",
       "        (_edge_block): EdgeBlock(\n",
       "          (_edge_model): MLP(-1, 128, 128, 128, 16)\n",
       "        )\n",
       "        (_node_block): NodeBlock(\n",
       "          (_node_model): MLP(-1, 128, 128, 128, 16)\n",
       "          (_sent_edges_aggregator): EdgesToNodesAggregator()\n",
       "        )\n",
       "        (_global_block): GlobalBlock(\n",
       "          (_global_model): MLP(-1, 128, 128, 128, 16)\n",
       "          (_edges_aggregator): EdgesToGlobalsAggregator()\n",
       "          (_edges_aggregator_max): EdgesToGlobalsAggregator()\n",
       "          (_edges_aggregator_mean): EdgesToGlobalsAggregator()\n",
       "          (_edges_aggregator_std): EdgesToGlobalsAggregator()\n",
       "          (_nodes_aggregator): NodesToGlobalsAggregator()\n",
       "          (_nodes_aggregator_max): NodesToGlobalsAggregator()\n",
       "          (_nodes_aggregator_mean): NodesToGlobalsAggregator()\n",
       "          (_nodes_aggregator_std): NodesToGlobalsAggregator()\n",
       "        )\n",
       "        (edge_linear): Linear(in_features=8, out_features=1, bias=True)\n",
       "        (edge_mlp): MLP(-1, 16, 16, 16, 1)\n",
       "        (node_linear): Linear(in_features=8, out_features=1, bias=True)\n",
       "        (node_mlp): MLP(-1, 16, 16, 16, 1)\n",
       "        (sigmoid): Sigmoid()\n",
       "        (softmax): Softmax(dim=0)\n",
       "        (select): SelectTopK(1, ratio=20)\n",
       "        (select_nodes): SelectTopK(1, ratio=70)\n",
       "      )\n",
       "    )\n",
       "  )\n",
       "  (_decoder): MLPGraphIndependent(\n",
       "    (_network): GraphIndependent(\n",
       "      (_edge_model): WrappedModelFnModule(\n",
       "        (_model): MLP(-1, 128, 128, 128, 16)\n",
       "      )\n",
       "      (_node_model): WrappedModelFnModule(\n",
       "        (_model): MLP(-1, 128, 128, 128, 16)\n",
       "      )\n",
       "      (_global_model): WrappedModelFnModule(\n",
       "        (_model): MLP(-1, 128, 128, 128, 16)\n",
       "      )\n",
       "    )\n",
       "  )\n",
       "  (_output_transform): GraphIndependent(\n",
       "    (_edge_model): WrappedModelFnModule(\n",
       "      (_model): Linear(in_features=16, out_features=4, bias=True)\n",
       "    )\n",
       "  )\n",
       ")"
      ]
     },
     "execution_count": 62,
     "metadata": {},
     "output_type": "execute_result"
    }
   ],
   "source": [
    "myModel.load_state_dict(torch.load('model_4block_32epochs_message_passing_BCE_Jan25.pth'))\n",
    "myModel.eval()"
   ]
  },
  {
   "cell_type": "code",
   "execution_count": 25,
   "id": "42dc52de-7518-4da0-9236-423c87573379",
   "metadata": {},
   "outputs": [
    {
     "name": "stdout",
     "output_type": "stream",
     "text": [
      "model_27_epochs_pruning_latest.pth\n",
      "model_32_epochs_pruning_latest.pth\n",
      "model_34_6block_epochs_pruning_scattermean.pth\n",
      "model_4block_32epochs_message_passing_BCE_Jan25.pth\n",
      "model_4block_32epochs_message_passing_Jan25.pth\n",
      "model_4block_32epochs_weighted_message_passing_BCE_Jan25.pth\n",
      "model_4block_32epochs_weighted_message_passing_Jan25.pth\n",
      "model_6block_32epochs_weighted_message_passing.pth\n",
      "model_6block_36epochs_weighted_message_passing_full_blocks.pth\n",
      "model_8block_32epochs_message_passing_BCE_Jan25_new.pth\n",
      "model_8block_32epochs_message_passing_BCE_Jan25.pth\n",
      "model_8block_32epochs_no_weighted_message_passing.pth\n",
      "model_8block_32epochs_weighted_message_passing_BCE_Jan25.pth\n",
      "model_8block_32epochs_weighted_message_passing_full_graphs.pth\n",
      "model_8block_32epochs_weighted_message_passing_noBCE.pth\n",
      "model_8block_32epochs_weighted_message_passing.pth\n",
      "model_8block_34epochs_weighted_message_passing.pth\n",
      "model_8block_36epochs_weighted_message_passing.pth\n",
      "model_time.png\n",
      "model_time_pruning.png\n",
      "\n",
      "models:\n",
      "model_32_8block_epochs_pruning_latest.pth\n"
     ]
    }
   ],
   "source": [
    "!ls model*"
   ]
  },
  {
   "cell_type": "code",
   "execution_count": 26,
   "id": "41cfe336-3708-4f6e-bbc3-299a7b846209",
   "metadata": {},
   "outputs": [
    {
     "name": "stderr",
     "output_type": "stream",
     "text": [
      "/tmp/ipykernel_13704/2343438864.py:1: FutureWarning: You are using `torch.load` with `weights_only=False` (the current default value), which uses the default pickle module implicitly. It is possible to construct malicious pickle data which will execute arbitrary code during unpickling (See https://github.com/pytorch/pytorch/blob/main/SECURITY.md#untrusted-models for more details). In a future release, the default value for `weights_only` will be flipped to `True`. This limits the functions that could be executed during unpickling. Arbitrary objects will no longer be allowed to be loaded via this mode unless they are explicitly allowlisted by the user via `torch.serialization.add_safe_globals`. We recommend you start setting `weights_only=True` for any use case where you don't have full control of the loaded file. Please open an issue on GitHub for any issues related to this experimental feature.\n",
      "  myModel.load_state_dict(torch.load('model_8block_32epochs_weighted_message_passing.pth'))\n"
     ]
    },
    {
     "data": {
      "text/plain": [
       "EncodeProcessDecode(\n",
       "  (_encoder): MLPGraphIndependent(\n",
       "    (_network): GraphIndependent(\n",
       "      (_edge_model): WrappedModelFnModule(\n",
       "        (_model): MLP(-1, 128, 128, 128, 16)\n",
       "      )\n",
       "      (_node_model): WrappedModelFnModule(\n",
       "        (_model): MLP(-1, 128, 128, 128, 16)\n",
       "      )\n",
       "      (_global_model): WrappedModelFnModule(\n",
       "        (_model): MLP(-1, 128, 128, 128, 16)\n",
       "      )\n",
       "    )\n",
       "  )\n",
       "  (_core): MLPGraphNetwork(\n",
       "    (_network): GraphNetwork(\n",
       "      (_edge_block): EdgeBlock(\n",
       "        (_edge_model): MLP(-1, 128, 128, 128, 16)\n",
       "      )\n",
       "      (_node_block): NodeBlock(\n",
       "        (_node_model): MLP(-1, 128, 128, 128, 16)\n",
       "        (_sent_edges_aggregator): EdgesToNodesAggregator()\n",
       "      )\n",
       "      (_global_block): GlobalBlock(\n",
       "        (_global_model): MLP(-1, 128, 128, 128, 16)\n",
       "        (_edges_aggregator): EdgesToGlobalsAggregator()\n",
       "        (_edges_aggregator_max): EdgesToGlobalsAggregator()\n",
       "        (_edges_aggregator_mean): EdgesToGlobalsAggregator()\n",
       "        (_edges_aggregator_std): EdgesToGlobalsAggregator()\n",
       "        (_nodes_aggregator): NodesToGlobalsAggregator()\n",
       "        (_nodes_aggregator_max): NodesToGlobalsAggregator()\n",
       "        (_nodes_aggregator_mean): NodesToGlobalsAggregator()\n",
       "        (_nodes_aggregator_std): NodesToGlobalsAggregator()\n",
       "      )\n",
       "      (edge_linear): Linear(in_features=8, out_features=1, bias=True)\n",
       "      (edge_mlp): MLP(-1, 16, 16, 16, 1)\n",
       "      (node_linear): Linear(in_features=8, out_features=1, bias=True)\n",
       "      (node_mlp): MLP(-1, 16, 16, 16, 1)\n",
       "      (sigmoid): Sigmoid()\n",
       "      (softmax): Softmax(dim=0)\n",
       "      (select): SelectTopK(1, ratio=20)\n",
       "      (select_nodes): SelectTopK(1, ratio=70)\n",
       "    )\n",
       "  )\n",
       "  (_blocks): ModuleList(\n",
       "    (0-7): 8 x MLPGraphNetwork(\n",
       "      (_network): GraphNetwork(\n",
       "        (_edge_block): EdgeBlock(\n",
       "          (_edge_model): MLP(-1, 128, 128, 128, 16)\n",
       "        )\n",
       "        (_node_block): NodeBlock(\n",
       "          (_node_model): MLP(-1, 128, 128, 128, 16)\n",
       "          (_sent_edges_aggregator): EdgesToNodesAggregator()\n",
       "        )\n",
       "        (_global_block): GlobalBlock(\n",
       "          (_global_model): MLP(-1, 128, 128, 128, 16)\n",
       "          (_edges_aggregator): EdgesToGlobalsAggregator()\n",
       "          (_edges_aggregator_max): EdgesToGlobalsAggregator()\n",
       "          (_edges_aggregator_mean): EdgesToGlobalsAggregator()\n",
       "          (_edges_aggregator_std): EdgesToGlobalsAggregator()\n",
       "          (_nodes_aggregator): NodesToGlobalsAggregator()\n",
       "          (_nodes_aggregator_max): NodesToGlobalsAggregator()\n",
       "          (_nodes_aggregator_mean): NodesToGlobalsAggregator()\n",
       "          (_nodes_aggregator_std): NodesToGlobalsAggregator()\n",
       "        )\n",
       "        (edge_linear): Linear(in_features=8, out_features=1, bias=True)\n",
       "        (edge_mlp): MLP(-1, 16, 16, 16, 1)\n",
       "        (node_linear): Linear(in_features=8, out_features=1, bias=True)\n",
       "        (node_mlp): MLP(-1, 16, 16, 16, 1)\n",
       "        (sigmoid): Sigmoid()\n",
       "        (softmax): Softmax(dim=0)\n",
       "        (select): SelectTopK(1, ratio=20)\n",
       "        (select_nodes): SelectTopK(1, ratio=70)\n",
       "      )\n",
       "    )\n",
       "  )\n",
       "  (_decoder): MLPGraphIndependent(\n",
       "    (_network): GraphIndependent(\n",
       "      (_edge_model): WrappedModelFnModule(\n",
       "        (_model): MLP(-1, 128, 128, 128, 16)\n",
       "      )\n",
       "      (_node_model): WrappedModelFnModule(\n",
       "        (_model): MLP(-1, 128, 128, 128, 16)\n",
       "      )\n",
       "      (_global_model): WrappedModelFnModule(\n",
       "        (_model): MLP(-1, 128, 128, 128, 16)\n",
       "      )\n",
       "    )\n",
       "  )\n",
       "  (_output_transform): GraphIndependent(\n",
       "    (_edge_model): WrappedModelFnModule(\n",
       "      (_model): Linear(in_features=16, out_features=4, bias=True)\n",
       "    )\n",
       "  )\n",
       ")"
      ]
     },
     "execution_count": 26,
     "metadata": {},
     "output_type": "execute_result"
    }
   ],
   "source": [
    "myModel.load_state_dict(torch.load('model_8block_32epochs_weighted_message_passing.pth'))\n",
    "myModel.eval()"
   ]
  },
  {
   "cell_type": "code",
   "execution_count": 63,
   "id": "4e3e10fb-7685-4643-99da-edde1cb0f716",
   "metadata": {},
   "outputs": [],
   "source": [
    "for block in  myModel._blocks:\n",
    "    block._network._node_block._sent_edges_aggregator._weighted = False\n",
    "    block._network._global_block._edges_aggregator._weighted = False\n",
    "    block._network._global_block._nodes_aggregator._weighted = False"
   ]
  },
  {
   "cell_type": "code",
   "execution_count": 28,
   "id": "84bd6380-82ea-43fc-a3cb-874779824112",
   "metadata": {},
   "outputs": [],
   "source": [
    "STEP_SIZE=2"
   ]
  },
  {
   "cell_type": "code",
   "execution_count": 54,
   "id": "5d169099-ed4c-468f-a218-b5d3c6dd0bf2",
   "metadata": {},
   "outputs": [
    {
     "data": {
      "text/plain": [
       "DataBatch(y=[117026, 4], nodes=[3018, 16], edges=[117026, 16], senders=[117026], receivers=[117026], graph_globals=[32, 16], edgepos=[117026], num_edges=[32], num_nodes=3018, batch=[3018], ptr=[33])"
      ]
     },
     "execution_count": 54,
     "metadata": {},
     "output_type": "execute_result"
    }
   ],
   "source": [
    "vdata"
   ]
  },
  {
   "cell_type": "code",
   "execution_count": 64,
   "id": "57be1f6a-8fef-442a-aa8c-adb9f3a8209d",
   "metadata": {},
   "outputs": [],
   "source": [
    "for j, vdata in enumerate(loader_vl): \n",
    "\n",
    "    vdata['graph_globals'] = vdata['graph_globals'].unsqueeze(1)\n",
    "    vdata.receivers = vdata.receivers - torch.min(vdata.receivers)\n",
    "    vdata.senders = vdata.senders - torch.min(vdata.senders)\n",
    "    vdata.edgepos = vdata.edgepos - torch.min(vdata.edgepos)\n",
    "    vdata.to('cuda')\n",
    "    yBCE_start = 1.*(vdata.y[:,0]==0).unsqueeze(1)\n",
    "    num_nodes=vdata.nodes.shape[0]\n",
    "    out = vdata.edges.new_zeros(num_nodes, vdata.edges.shape[1])\n",
    "    node_sum = scatter_add(vdata.y,vdata.senders,out=out,dim=0)\n",
    "    ynodes_start = (1.*(torch.sum(node_sum[:,1:],1)>0)).unsqueeze(1)\n",
    "    \n",
    "    label0 = vdata.y.argmax(dim=1)\n",
    "    answers = torch.ones_like(vdata.edges).cuda()\n",
    "    outputs = myModel(vdata, num_processing_steps=STEP_SIZE)\n",
    "    break"
   ]
  },
  {
   "cell_type": "code",
   "execution_count": 58,
   "id": "bf66f8ab-fefe-49d0-83e5-a41b26d0b176",
   "metadata": {},
   "outputs": [
    {
     "data": {
      "text/plain": [
       "DataBatch(y=[117026, 4], nodes=[3018, 16], edges=[117026, 4], senders=[117026], receivers=[117026], graph_globals=[32, 16], edgepos=[117026], num_edges=[32], num_nodes=3018, batch=[3018], ptr=[33])"
      ]
     },
     "execution_count": 58,
     "metadata": {},
     "output_type": "execute_result"
    }
   ],
   "source": [
    "outputs"
   ]
  },
  {
   "cell_type": "code",
   "execution_count": 65,
   "id": "c71bbe3a-f5d3-41c3-998a-c6b957d32c48",
   "metadata": {},
   "outputs": [
    {
     "data": {
      "text/plain": [
       "(array([ 0.55159195,  1.10318348,  0.36772783,  0.36772811,  0.36772811,\n",
       "         0.91931957,  0.73545565,  0.91931957,  0.18386391,  0.1838642 ,\n",
       "         0.18386391,  0.18386391,  0.        ,  0.1838642 ,  0.36772783,\n",
       "         0.18386391,  0.55159174,  0.36772783,  0.        ,  0.        ,\n",
       "         0.55159174,  0.18386391,  0.55159089,  0.        ,  0.36772839,\n",
       "         0.36772726,  0.36772839,  0.36772839,  0.18386363,  0.36772839,\n",
       "         0.        ,  0.1838642 ,  0.55159259,  0.18386363,  0.        ,\n",
       "         0.73545452,  0.36772839,  0.        ,  0.36772726,  0.36772839,\n",
       "         0.        ,  0.36772839,  0.        ,  0.18386363,  0.55159259,\n",
       "         0.55159089,  0.1838642 ,  0.55159089,  0.36772726,  0.36772839,\n",
       "         0.        ,  0.18386306,  0.1838642 ,  0.        ,  0.55159259,\n",
       "         0.1838642 ,  0.18386306,  0.1838642 ,  0.1838642 ,  0.55159259,\n",
       "         0.36772839,  0.18386306,  0.55159259,  0.91932099,  0.73545679,\n",
       "         0.73545679,  0.36772612,  0.        ,  0.91932099,  1.83864197,\n",
       "         0.73545679,  0.55158918,  0.73545679,  0.55159259,  0.91932099,\n",
       "         0.91932099,  0.55158918,  0.36772839,  0.91932099,  0.91932099,\n",
       "         0.91932099,  1.47090449,  0.91932099,  1.28704938,  1.47091358,\n",
       "         1.83864197,  2.39021979,  2.02250617,  1.28704938,  1.65477778,\n",
       "         2.75796296,  1.65476755,  3.12569135,  3.12569135,  2.94182716,\n",
       "         3.30953509,  7.17070369,  6.06751851,  8.64161727, 16.73164195]),\n",
       " array([0.03558264, 0.0452259 , 0.05486917, 0.06451245, 0.07415571,\n",
       "        0.08379897, 0.09344225, 0.10308552, 0.11272879, 0.12237206,\n",
       "        0.13201532, 0.14165859, 0.15130186, 0.16094513, 0.17058839,\n",
       "        0.18023166, 0.18987493, 0.1995182 , 0.20916148, 0.21880473,\n",
       "        0.228448  , 0.23809128, 0.24773455, 0.25737783, 0.26702109,\n",
       "        0.27666435, 0.28630763, 0.29595089, 0.30559415, 0.31523743,\n",
       "        0.32488069, 0.33452398, 0.34416723, 0.35381049, 0.36345378,\n",
       "        0.37309703, 0.38274032, 0.39238358, 0.40202683, 0.41167012,\n",
       "        0.42131338, 0.43095666, 0.44059992, 0.45024318, 0.45988646,\n",
       "        0.46952972, 0.479173  , 0.48881626, 0.49845955, 0.50810283,\n",
       "        0.51774609, 0.52738935, 0.53703266, 0.54667592, 0.55631918,\n",
       "        0.56596243, 0.57560569, 0.58524901, 0.59489226, 0.60453552,\n",
       "        0.61417878, 0.62382203, 0.63346535, 0.64310861, 0.65275186,\n",
       "        0.66239512, 0.67203838, 0.68168169, 0.69132495, 0.70096821,\n",
       "        0.71061146, 0.72025472, 0.72989804, 0.73954129, 0.74918455,\n",
       "        0.75882781, 0.76847106, 0.77811438, 0.78775764, 0.79740089,\n",
       "        0.80704415, 0.81668741, 0.82633072, 0.83597398, 0.84561723,\n",
       "        0.85526049, 0.86490375, 0.87454706, 0.88419032, 0.89383358,\n",
       "        0.90347683, 0.91312009, 0.92276341, 0.93240666, 0.94204992,\n",
       "        0.95169318, 0.96133649, 0.97097975, 0.98062301, 0.99026626,\n",
       "        0.99990952]),\n",
       " <BarContainer object of 100 artists>)"
      ]
     },
     "execution_count": 65,
     "metadata": {},
     "output_type": "execute_result"
    },
    {
     "data": {
      "image/png": "[encoded data removed]",
      "text/plain": [
       "<Figure size 640x480 with 1 Axes>"
      ]
     },
     "metadata": {},
     "output_type": "display_data"
    }
   ],
   "source": [
    "import matplotlib.pyplot as plt\n",
    "\n",
    "plt.hist(myModel._blocks[3]._network.edge_weights.cpu().detach().numpy()[outputs.cpu().y[:,0] == 1],density=True,bins=100)\n",
    "plt.hist(myModel._blocks[3]._network.edge_weights.cpu().detach().numpy()[outputs.cpu().y[:,0] != 1],density=True, bins=100)"
   ]
  },
  {
   "cell_type": "code",
   "execution_count": 56,
   "id": "c2b548ae-07ca-48dd-bab2-af180ab4ea48",
   "metadata": {},
   "outputs": [],
   "source": [
    "# myModel._blocks[4]._network.node_prune = True\n",
    "# myModel._blocks[4]._network.prune_by_cut = True\n",
    "# myModel._blocks[4]._network.node_weight_cut = 0.01\n",
    "# myModel._blocks[4]._network.device = 'cuda'\n",
    "myModel._blocks[5]._network.edge_prune = False\n",
    "myModel._blocks[5]._network.prune_by_cut = False\n",
    "myModel._blocks[5]._network.edge_weight_cut = 0.01\n",
    "myModel._blocks[5]._network.device = 'cuda'\n",
    "myModel._blocks[3]._network.edge_prune = False\n",
    "myModel._blocks[3]._network.prune_by_cut = False\n",
    "myModel._blocks[3]._network.edge_weight_cut = 0.01\n",
    "myModel._blocks[3]._network.device = 'cuda'\n",
    "myModel._blocks[7]._network.edge_prune = False\n",
    "myModel._blocks[7]._network.prune_by_cut = False\n",
    "myModel._blocks[7]._network.edge_weight_cut = 0.05\n",
    "myModel._blocks[7]._network.device = 'cuda'\n",
    "#myModel._blocks[7]._network.node_weight_cut = 0.1\n",
    "#myModel._blocks[7]._network.edge_weight_cut = 0.1\n",
    "layer=7"
   ]
  },
  {
   "cell_type": "code",
   "execution_count": 44,
   "id": "d484be33-9ef3-43a9-b7e7-b1d66d08f695",
   "metadata": {},
   "outputs": [],
   "source": [
    "from wmpgnn.util.functions import weight_four_class, acc_four_class\n",
    "\n",
    "last_batch_vl = len(loader_vl)\n",
    "\n",
    "\n",
    "def eval_one_epoch(epoch_index):\n",
    "    running_loss = 0.\n",
    "    last_loss = 0.\n",
    "    acc_one_epoch = []\n",
    "    \n",
    "    for j, vdata in enumerate(loader_vl): \n",
    "\n",
    "        vdata['graph_globals'] = vdata['graph_globals'].unsqueeze(1)\n",
    "        vdata.receivers = vdata.receivers - torch.min(vdata.receivers)\n",
    "        vdata.senders = vdata.senders - torch.min(vdata.senders)\n",
    "        vdata.edgepos = vdata.edgepos - torch.min(vdata.edgepos)\n",
    "        vdata.to('cuda')\n",
    "        yBCE_start = 1.*(vdata.y[:,0]==0).unsqueeze(1)\n",
    "        num_nodes=vdata.nodes.shape[0]\n",
    "        out = vdata.edges.new_zeros(num_nodes, vdata.edges.shape[1])\n",
    "        node_sum = scatter_add(vdata.y,vdata.senders,out=out,dim=0)\n",
    "        ynodes_start = (1.*(torch.sum(node_sum[:,1:],1)>0)).unsqueeze(1)\n",
    "        \n",
    "        label0 = vdata.y.argmax(dim=1)\n",
    "        answers = torch.ones_like(vdata.edges).cuda()\n",
    "        try:\n",
    "            outputs = myModel(vdata, num_processing_steps=STEP_SIZE)\n",
    "        except:\n",
    "            print(\"expception \")\n",
    "            continue\n",
    "        vdata = outputs\n",
    "        label= vdata.y.argmax(dim=1)\n",
    "\n",
    "        num_nodes=vdata.nodes.shape[0]\n",
    "        out = vdata.edges.new_zeros(num_nodes, vdata.edges.shape[1])\n",
    "        node_sum = scatter_add(vdata.y,vdata.senders,out=out,dim=0)\n",
    "        ynodes = (1.*(torch.sum(node_sum[:,1:],1)>0)).unsqueeze(1)\n",
    "#         label= vdata.y\n",
    "        \n",
    "        if myModel._blocks[layer]._network.edge_prune == True:\n",
    "            indices= myModel._blocks[layer]._network.edge_indices\n",
    "            #indices= myModel._blocks[3]._network.edge_index\n",
    "            #indices = myModel._blocks[2]._network.edge_node_pruning_indices\n",
    "            \n",
    "            #print(label.shape)\n",
    "            #loss = criterion(outputs.edges, label) \n",
    "            index = torch.ones(label0.shape[0], dtype=bool).cuda()\n",
    "            index[indices] = False\n",
    "            selected_labels = label0[index]\n",
    "            answers[:,1:] = 0\n",
    "            answers[indices] = outputs.edges\n",
    "            num_nodes=vdata.nodes.shape[0]\n",
    "            out = vdata.edges.new_zeros(num_nodes, vdata.edges.shape[1])\n",
    "            node_sum = scatter_add(vdata.y,vdata.senders,out=out,dim=0)\n",
    "            ynodes = (1.*(torch.sum(node_sum[:,1:],1)>0)).unsqueeze(1)\n",
    "            # include missing graph \n",
    "            #loss += criterion(answers[index], selected_labels)\n",
    "            yBCE = 1.*(vdata.y[:,0]==0).unsqueeze(1)\n",
    "\n",
    "        if myModel._blocks[layer]._network.edge_prune == True:\n",
    "            acc_one_batch = acc_four_class(answers, label0)\n",
    "        else:\n",
    "            acc_one_batch = acc_four_class(outputs.edges, label)\n",
    "        acc_one_epoch.append(acc_one_batch)\n",
    "#         break\n",
    "    \n",
    "    acc_one_epoch=torch.stack(acc_one_epoch)\n",
    "\n",
    "    return acc_one_epoch.nanmean(dim=0)"
   ]
  },
  {
   "cell_type": "code",
   "execution_count": 45,
   "id": "d8e71968-4324-471c-a1cc-ee6062e2e033",
   "metadata": {},
   "outputs": [],
   "source": [
    "myModel.train(False)\n",
    "myModel.cuda()\n",
    "STEP_SIZE=2\n",
    "vl_acc= eval_one_epoch(0)"
   ]
  },
  {
   "cell_type": "code",
   "execution_count": 49,
   "id": "b338ef1b-1927-41a3-a2db-c7e61166a1cb",
   "metadata": {},
   "outputs": [
    {
     "ename": "NameError",
     "evalue": "name 'gout' is not defined",
     "output_type": "error",
     "traceback": [
      "\u001b[0;31m---------------------------------------------------------------------------\u001b[0m",
      "\u001b[0;31mNameError\u001b[0m                                 Traceback (most recent call last)",
      "Cell \u001b[0;32mIn[49], line 3\u001b[0m\n\u001b[1;32m      1\u001b[0m \u001b[38;5;28;01mimport\u001b[39;00m \u001b[38;5;21;01mmatplotlib\u001b[39;00m\u001b[38;5;21;01m.\u001b[39;00m\u001b[38;5;21;01mpyplot\u001b[39;00m \u001b[38;5;28;01mas\u001b[39;00m \u001b[38;5;21;01mplt\u001b[39;00m\n\u001b[0;32m----> 3\u001b[0m plt\u001b[38;5;241m.\u001b[39mhist(myModel\u001b[38;5;241m.\u001b[39m_blocks[\u001b[38;5;241m7\u001b[39m]\u001b[38;5;241m.\u001b[39m_network\u001b[38;5;241m.\u001b[39medge_weights\u001b[38;5;241m.\u001b[39mcpu()\u001b[38;5;241m.\u001b[39mdetach()\u001b[38;5;241m.\u001b[39mnumpy()[\u001b[43mgout\u001b[49m\u001b[38;5;241m.\u001b[39mcpu()\u001b[38;5;241m.\u001b[39my[:,\u001b[38;5;241m0\u001b[39m] \u001b[38;5;241m==\u001b[39m \u001b[38;5;241m1\u001b[39m],density\u001b[38;5;241m=\u001b[39m\u001b[38;5;28;01mTrue\u001b[39;00m,bins\u001b[38;5;241m=\u001b[39m\u001b[38;5;241m100\u001b[39m)\n\u001b[1;32m      4\u001b[0m plt\u001b[38;5;241m.\u001b[39mhist(myModel\u001b[38;5;241m.\u001b[39m_blocks[\u001b[38;5;241m7\u001b[39m]\u001b[38;5;241m.\u001b[39m_network\u001b[38;5;241m.\u001b[39medge_weights\u001b[38;5;241m.\u001b[39mcpu()\u001b[38;5;241m.\u001b[39mdetach()\u001b[38;5;241m.\u001b[39mnumpy()[gout\u001b[38;5;241m.\u001b[39mcpu()\u001b[38;5;241m.\u001b[39my[:,\u001b[38;5;241m0\u001b[39m] \u001b[38;5;241m!=\u001b[39m \u001b[38;5;241m1\u001b[39m],density\u001b[38;5;241m=\u001b[39m\u001b[38;5;28;01mTrue\u001b[39;00m, bins\u001b[38;5;241m=\u001b[39m\u001b[38;5;241m100\u001b[39m)\n",
      "\u001b[0;31mNameError\u001b[0m: name 'gout' is not defined"
     ]
    }
   ],
   "source": []
  },
  {
   "cell_type": "code",
   "execution_count": 32,
   "id": "8ecd3bb5-53ac-4e7a-8b60-822477c9323b",
   "metadata": {},
   "outputs": [
    {
     "data": {
      "text/plain": [
       "tensor([0.9842, 0.7828, 0.5565, 0.8386])"
      ]
     },
     "execution_count": 32,
     "metadata": {},
     "output_type": "execute_result"
    }
   ],
   "source": [
    "#weighted mp no cut\n",
    "vl_acc"
   ]
  },
  {
   "cell_type": "code",
   "execution_count": 36,
   "id": "45132a51-fdb5-4f1b-9320-52dfdd4d84e5",
   "metadata": {},
   "outputs": [
    {
     "data": {
      "text/plain": [
       "tensor([0.9888, 0.7765, 0.5523, 0.8282])"
      ]
     },
     "execution_count": 36,
     "metadata": {},
     "output_type": "execute_result"
    }
   ],
   "source": [
    "# weighted mp 0.01 3rd block\n",
    "vl_acc"
   ]
  },
  {
   "cell_type": "code",
   "execution_count": 42,
   "id": "6df5d921-5beb-4e90-877a-8217e870b3a8",
   "metadata": {},
   "outputs": [
    {
     "data": {
      "text/plain": [
       "tensor([0.9968, 0.7734, 0.5175, 0.7632])"
      ]
     },
     "execution_count": 42,
     "metadata": {},
     "output_type": "execute_result"
    }
   ],
   "source": [
    "# weighted mp 0.1 7th block\n",
    "vl_acc"
   ]
  },
  {
   "cell_type": "code",
   "execution_count": 46,
   "id": "1900a1e2-6939-4e77-b334-d3ce9ec3921a",
   "metadata": {},
   "outputs": [
    {
     "data": {
      "text/plain": [
       "tensor([0.9954, 0.7776, 0.5332, 0.7933])"
      ]
     },
     "execution_count": 46,
     "metadata": {},
     "output_type": "execute_result"
    }
   ],
   "source": [
    "# weighted mp 0.05 7th block\n",
    "vl_acc"
   ]
  },
  {
   "cell_type": "code",
   "execution_count": 23,
   "id": "aa208b23-fa93-4fde-b4db-0869af8c497e",
   "metadata": {},
   "outputs": [
    {
     "data": {
      "text/plain": [
       "tensor([0.9900, 0.7763, 0.5608, 0.7821])"
      ]
     },
     "execution_count": 23,
     "metadata": {},
     "output_type": "execute_result"
    }
   ],
   "source": [
    "vl_acc"
   ]
  },
  {
   "cell_type": "code",
   "execution_count": 21,
   "id": "69394f53-b9d5-4f91-b0a5-00bde7923e87",
   "metadata": {},
   "outputs": [
    {
     "data": {
      "text/plain": [
       "tensor([0.9848, 0.7886, 0.5527, 0.8343])"
      ]
     },
     "execution_count": 21,
     "metadata": {},
     "output_type": "execute_result"
    }
   ],
   "source": [
    "vl_acc"
   ]
  },
  {
   "cell_type": "code",
   "execution_count": 1,
   "id": "9daac4bb-fa32-4fa7-8f37-1c40e8217264",
   "metadata": {},
   "outputs": [],
   "source": [
    "#vl_acc"
   ]
  },
  {
   "cell_type": "code",
   "execution_count": 62,
   "id": "8882ae4c-ffd5-4145-ba42-6350f7127c4d",
   "metadata": {},
   "outputs": [
    {
     "data": {
      "text/plain": [
       "tensor([0.9909, 0.7897, 0.5580, 0.7877])"
      ]
     },
     "execution_count": 62,
     "metadata": {},
     "output_type": "execute_result"
    }
   ],
   "source": [
    "vl_acc"
   ]
  },
  {
   "cell_type": "code",
   "execution_count": 21,
   "id": "b0308288-ae8c-4b71-a3a0-8489b955517e",
   "metadata": {},
   "outputs": [
    {
     "data": {
      "text/plain": [
       "tensor([0.9833, 0.7596, 0.5080, 0.8450])"
      ]
     },
     "execution_count": 21,
     "metadata": {},
     "output_type": "execute_result"
    }
   ],
   "source": [
    "vl_acc"
   ]
  },
  {
   "cell_type": "code",
   "execution_count": 33,
   "id": "4b3fa9a8-0644-4972-a252-d43da5046e19",
   "metadata": {},
   "outputs": [
    {
     "data": {
      "text/plain": [
       "tensor([0.9967, 0.7290, 0.4859, 0.7784])"
      ]
     },
     "execution_count": 33,
     "metadata": {},
     "output_type": "execute_result"
    }
   ],
   "source": [
    "vl_acc"
   ]
  },
  {
   "cell_type": "code",
   "execution_count": 47,
   "id": "9541b6e1-fcfa-4d4b-8bba-4a8e42eb0f9c",
   "metadata": {},
   "outputs": [
    {
     "data": {
      "text/plain": [
       "tensor([0.9884, 0.7506, 0.5112, 0.8395])"
      ]
     },
     "execution_count": 47,
     "metadata": {},
     "output_type": "execute_result"
    }
   ],
   "source": [
    "vl_acc"
   ]
  },
  {
   "cell_type": "code",
   "execution_count": 31,
   "id": "3832aa17-6c3c-44f2-bf6f-2557eaab0b64",
   "metadata": {},
   "outputs": [
    {
     "data": {
      "text/plain": [
       "MLPGraphNetwork(\n",
       "  (_network): GraphNetwork(\n",
       "    (_edge_block): EdgeBlock(\n",
       "      (_edge_model): MLP(-1, 128, 128, 128, 16)\n",
       "    )\n",
       "    (_node_block): NodeBlock(\n",
       "      (_node_model): MLP(-1, 128, 128, 128, 16)\n",
       "      (_sent_edges_aggregator): EdgesToNodesAggregator()\n",
       "    )\n",
       "    (_global_block): GlobalBlock(\n",
       "      (_global_model): MLP(-1, 128, 128, 128, 16)\n",
       "      (_edges_aggregator): EdgesToGlobalsAggregator()\n",
       "      (_nodes_aggregator): NodesToGlobalsAggregator()\n",
       "    )\n",
       "    (edge_linear): Linear(in_features=8, out_features=1, bias=True)\n",
       "    (edge_mlp): MLP(-1, 16, 16, 16, 1)\n",
       "    (node_linear): Linear(in_features=8, out_features=1, bias=True)\n",
       "    (node_mlp): MLP(-1, 16, 16, 16, 1)\n",
       "    (sigmoid): Sigmoid()\n",
       "    (softmax): Softmax(dim=0)\n",
       "    (select): SelectTopK(1, ratio=20)\n",
       "    (select_nodes): SelectTopK(1, ratio=70)\n",
       "  )\n",
       ")"
      ]
     },
     "execution_count": 31,
     "metadata": {},
     "output_type": "execute_result"
    }
   ],
   "source": [
    "myModel._blocks[5]."
   ]
  },
  {
   "cell_type": "code",
   "execution_count": 3,
   "id": "ba1211ec-a1a1-4db1-b1ad-87f99cf1b2b9",
   "metadata": {},
   "outputs": [
    {
     "name": "stdout",
     "output_type": "stream",
     "text": [
      "32_epoch_4block_message_passing_BCE_addmeanmax.csv\n",
      "32_epoch_4block_message_passing_BCE.csv\n",
      "32_epoch_4block_message_passing_BCE_minmax.csv\n",
      "32_epoch_4block_message_passing.csv\n",
      "32_epoch_4block_weighted_message_passing_2.csv\n",
      "32_epoch_4block_weighted_message_passing_BCE.csv\n",
      "32_epoch_4block_weighted_message_passing.csv\n"
     ]
    }
   ],
   "source": [
    "!ls 32_epoch_4*.csv"
   ]
  },
  {
   "cell_type": "code",
   "execution_count": 2,
   "id": "24ac01e3-5308-4002-af0d-fbd964f42e5d",
   "metadata": {},
   "outputs": [],
   "source": [
    "import pandas"
   ]
  },
  {
   "cell_type": "code",
   "execution_count": 188,
   "id": "bef065dd-b9df-4f3c-8e1d-591f9facf698",
   "metadata": {},
   "outputs": [],
   "source": [
    "df_nom = pandas.read_csv(\"32_epoch_no_weighted_message_passing.csv\", index_col=0)\n",
    "df_nowp_BCE = pandas.read_csv(\"32_epoch__message_passing_BCE.csv\", index_col=0)\n",
    "df_wp_noBCE = pandas.read_csv(\"32_epoch_weighted_message_passing_noBCE.csv\", index_col=0)\n",
    "df_wp_BCE = pandas.read_csv(\"32_epoch_weighted_message_passing_BCE.csv\", index_col=0)"
   ]
  },
  {
   "cell_type": "code",
   "execution_count": 15,
   "id": "53c6ab5a-bc88-41ab-815d-04920038c4a8",
   "metadata": {},
   "outputs": [],
   "source": [
    "df_nom = pandas.read_csv(\"32_epoch_4block_message_passing.csv\", index_col=0)\n",
    "df_nowp_BCE = pandas.read_csv(\"32_epoch_4block_message_passing_BCE.csv\", index_col=0)\n",
    "df_wp_noBCE = pandas.read_csv(\"32_epoch_4block_weighted_message_passing_2.csv\", index_col=0)\n",
    "df_wp_BCE = pandas.read_csv(\"32_epoch_4block_weighted_message_passing_BCE.csv\", index_col=0)\n",
    "df_nowp_BCE_minmax = pandas.read_csv(\"32_epoch_4block_message_passing_BCE_minmax.csv\", index_col=0)"
   ]
  },
  {
   "cell_type": "code",
   "execution_count": 21,
   "id": "1efbf1a4-4063-40fd-830f-da404a89b0b7",
   "metadata": {},
   "outputs": [],
   "source": [
    "df_nom['Model']='MP'\n",
    "df_wp_noBCE['Model'] = 'WMP'\n",
    "df_wp_BCE['Model'] = 'WMP, BCE'\n",
    "df_nowp_BCE['Model'] = 'MP, BCE'\n",
    "df_nowp_BCE_minmax['Model'] = 'MP, BCE, agg'"
   ]
  },
  {
   "cell_type": "code",
   "execution_count": 22,
   "id": "00f6a96e-ecd6-461f-ae39-0a9eaf637517",
   "metadata": {},
   "outputs": [],
   "source": [
    "dfconcat = pandas.concat( [df_nom.iloc[-1:,:],df_wp_noBCE.iloc[-1:,:], df_wp_BCE.iloc[-1:,:],  df_nowp_BCE.iloc[-1:,:]])"
   ]
  },
  {
   "cell_type": "code",
   "execution_count": 23,
   "id": "a3d3b78a-6329-478c-9008-716b0efda39d",
   "metadata": {},
   "outputs": [],
   "source": [
    "cols = ['Model','val_class1_acc', 'val_class2_acc',\n",
    "       'val_class3_acc', 'val_class4_acc'] #, 'train_class1_acc',\n",
    "      # 'train_class2_acc', 'train_class3_acc', 'train_class4_acc']"
   ]
  },
  {
   "cell_type": "code",
   "execution_count": 24,
   "id": "552da907-95a6-483c-85b2-22457e307bc2",
   "metadata": {},
   "outputs": [],
   "source": [
    "df = dfconcat[cols]"
   ]
  },
  {
   "cell_type": "code",
   "execution_count": null,
   "id": "be82d66a-1ba5-42a7-8cf4-aeee6166dc8e",
   "metadata": {},
   "outputs": [],
   "source": []
  },
  {
   "cell_type": "code",
   "execution_count": 25,
   "id": "1d5ebf68-6705-42b4-8f32-2f27a47e0fd2",
   "metadata": {},
   "outputs": [
    {
     "data": {
      "text/html": [
       "<div>\n",
       "<style scoped>\n",
       "    .dataframe tbody tr th:only-of-type {\n",
       "        vertical-align: middle;\n",
       "    }\n",
       "\n",
       "    .dataframe tbody tr th {\n",
       "        vertical-align: top;\n",
       "    }\n",
       "\n",
       "    .dataframe thead th {\n",
       "        text-align: right;\n",
       "    }\n",
       "</style>\n",
       "<table border=\"1\" class=\"dataframe\">\n",
       "  <thead>\n",
       "    <tr style=\"text-align: right;\">\n",
       "      <th></th>\n",
       "      <th>Model</th>\n",
       "      <th>val_class1_acc</th>\n",
       "      <th>val_class2_acc</th>\n",
       "      <th>val_class3_acc</th>\n",
       "      <th>val_class4_acc</th>\n",
       "    </tr>\n",
       "  </thead>\n",
       "  <tbody>\n",
       "    <tr>\n",
       "      <th>31</th>\n",
       "      <td>MP</td>\n",
       "      <td>0.959232</td>\n",
       "      <td>0.735833</td>\n",
       "      <td>0.457061</td>\n",
       "      <td>0.794285</td>\n",
       "    </tr>\n",
       "    <tr>\n",
       "      <th>31</th>\n",
       "      <td>WMP</td>\n",
       "      <td>0.959166</td>\n",
       "      <td>0.751190</td>\n",
       "      <td>0.495643</td>\n",
       "      <td>0.733849</td>\n",
       "    </tr>\n",
       "    <tr>\n",
       "      <th>31</th>\n",
       "      <td>WMP, BCE</td>\n",
       "      <td>0.983117</td>\n",
       "      <td>0.791396</td>\n",
       "      <td>0.525369</td>\n",
       "      <td>0.830089</td>\n",
       "    </tr>\n",
       "    <tr>\n",
       "      <th>31</th>\n",
       "      <td>MP, BCE</td>\n",
       "      <td>0.985334</td>\n",
       "      <td>0.779036</td>\n",
       "      <td>0.538713</td>\n",
       "      <td>0.814167</td>\n",
       "    </tr>\n",
       "  </tbody>\n",
       "</table>\n",
       "</div>"
      ],
      "text/plain": [
       "       Model  val_class1_acc  val_class2_acc  val_class3_acc  val_class4_acc\n",
       "31        MP        0.959232        0.735833        0.457061        0.794285\n",
       "31       WMP        0.959166        0.751190        0.495643        0.733849\n",
       "31  WMP, BCE        0.983117        0.791396        0.525369        0.830089\n",
       "31   MP, BCE        0.985334        0.779036        0.538713        0.814167"
      ]
     },
     "execution_count": 25,
     "metadata": {},
     "output_type": "execute_result"
    }
   ],
   "source": [
    "df"
   ]
  },
  {
   "cell_type": "code",
   "execution_count": 26,
   "id": "ec2ee2f0-1e3d-4125-a890-dee92bef0860",
   "metadata": {},
   "outputs": [],
   "source": [
    "renaming = {'val_class2_acc' : 'LCA$_{\\\\rmtext val}$=1', 'val_class3_acc' : 'LCA$_{\\\\rmtext val}$=2', 'val_class4_acc' : 'LCA$_{\\\\rmtext val}$=3', 'val_class1_acc' : 'LCA$_{\\\\rmtext val}$=1',\n",
    "           'train_class2_acc' : 'train LCA=1', 'train_class3_acc' : 'train LCA=2', 'train_class4_acc' : 'train LCA=3', 'train_class1_acc' : 'train LCA=0'}"
   ]
  },
  {
   "cell_type": "code",
   "execution_count": 27,
   "id": "35d7a1ca-3476-480f-8f4c-c3a74b5ba5c1",
   "metadata": {},
   "outputs": [],
   "source": [
    "df = df.rename(columns=renaming)"
   ]
  },
  {
   "cell_type": "code",
   "execution_count": 28,
   "id": "4b262514-f30b-4460-ae19-6481139273e2",
   "metadata": {},
   "outputs": [
    {
     "name": "stdout",
     "output_type": "stream",
     "text": [
      "\\begin{tabular}{lrrrr}\n",
      "\\toprule\n",
      "Model & LCA$_{\\rmtext val}$=1 & LCA$_{\\rmtext val}$=1 & LCA$_{\\rmtext val}$=2 & LCA$_{\\rmtext val}$=3 \\\\\n",
      "\\midrule\n",
      "MP & 0.959 & 0.736 & 0.457 & 0.794 \\\\\n",
      "WMP & 0.959 & 0.751 & 0.496 & 0.734 \\\\\n",
      "WMP, BCE & 0.983 & 0.791 & 0.525 & 0.830 \\\\\n",
      "MP, BCE & 0.985 & 0.779 & 0.539 & 0.814 \\\\\n",
      "\\bottomrule\n",
      "\\end{tabular}\n",
      "\n"
     ]
    }
   ],
   "source": [
    "\n",
    "print(df.to_latex(index=False,float_format=\"{:.3f}\".format))"
   ]
  },
  {
   "cell_type": "code",
   "execution_count": 25,
   "id": "89349f19-7968-446e-9284-da36d11b20b7",
   "metadata": {},
   "outputs": [
    {
     "data": {
      "text/plain": [
       "Index(['val_loss', 'train_loss', 'val_class1_acc', 'val_class2_acc',\n",
       "       'val_class3_acc', 'val_class4_acc', 'train_class1_acc',\n",
       "       'train_class2_acc', 'train_class3_acc', 'train_class4_acc'],\n",
       "      dtype='object')"
      ]
     },
     "execution_count": 25,
     "metadata": {},
     "output_type": "execute_result"
    }
   ],
   "source": [
    "df.columns"
   ]
  },
  {
   "cell_type": "code",
   "execution_count": null,
   "id": "def31ad2-1047-4c3a-942c-d44206f47f0c",
   "metadata": {},
   "outputs": [],
   "source": []
  },
  {
   "cell_type": "code",
   "execution_count": 32,
   "id": "6e688a9d-fa50-4cea-ac00-2cf63172ae43",
   "metadata": {},
   "outputs": [
    {
     "data": {
      "text/html": [
       "<div>\n",
       "<style scoped>\n",
       "    .dataframe tbody tr th:only-of-type {\n",
       "        vertical-align: middle;\n",
       "    }\n",
       "\n",
       "    .dataframe tbody tr th {\n",
       "        vertical-align: top;\n",
       "    }\n",
       "\n",
       "    .dataframe thead th {\n",
       "        text-align: right;\n",
       "    }\n",
       "</style>\n",
       "<table border=\"1\" class=\"dataframe\">\n",
       "  <thead>\n",
       "    <tr style=\"text-align: right;\">\n",
       "      <th></th>\n",
       "      <th>val_class1_acc</th>\n",
       "      <th>val_class2_acc</th>\n",
       "      <th>val_class3_acc</th>\n",
       "      <th>val_class4_acc</th>\n",
       "      <th>train_class1_acc</th>\n",
       "      <th>train_class2_acc</th>\n",
       "      <th>train_class3_acc</th>\n",
       "      <th>train_class4_acc</th>\n",
       "    </tr>\n",
       "  </thead>\n",
       "  <tbody>\n",
       "    <tr>\n",
       "      <th>31</th>\n",
       "      <td>0.960</td>\n",
       "      <td>0.739</td>\n",
       "      <td>0.484</td>\n",
       "      <td>0.762</td>\n",
       "      <td>0.961</td>\n",
       "      <td>0.732</td>\n",
       "      <td>0.506</td>\n",
       "      <td>0.821</td>\n",
       "    </tr>\n",
       "  </tbody>\n",
       "</table>\n",
       "</div>"
      ],
      "text/plain": [
       "    val_class1_acc  val_class2_acc  val_class3_acc  val_class4_acc  \\\n",
       "31           0.960           0.739           0.484           0.762   \n",
       "\n",
       "    train_class1_acc  train_class2_acc  train_class3_acc  train_class4_acc  \n",
       "31             0.961             0.732             0.506             0.821  "
      ]
     },
     "execution_count": 32,
     "metadata": {},
     "output_type": "execute_result"
    }
   ],
   "source": [
    "df[['val_class1_acc', 'val_class2_acc',\n",
    "       'val_class3_acc', 'val_class4_acc', 'train_class1_acc',\n",
    "       'train_class2_acc', 'train_class3_acc', 'train_class4_acc']]"
   ]
  },
  {
   "cell_type": "code",
   "execution_count": 41,
   "id": "043dba4b-c15d-4017-82ab-dc469b653c44",
   "metadata": {},
   "outputs": [
    {
     "data": {
      "text/plain": [
       "'\\\\begin{tabular}{lrrrrrrrrrr}\\n\\\\toprule\\n & val_loss & train_loss & val_class1_acc & val_class2_acc & val_class3_acc & val_class4_acc & train_class1_acc & train_class2_acc & train_class3_acc & train_class4_acc \\\\\\\\\\n\\\\midrule\\n31 & 0.6 & 0.6 & 1.0 & 0.7 & 0.5 & 0.8 & 1.0 & 0.7 & 0.5 & 0.8 \\\\\\\\\\n\\\\bottomrule\\n\\\\end{tabular}\\n'"
      ]
     },
     "execution_count": 41,
     "metadata": {},
     "output_type": "execute_result"
    }
   ],
   "source": [
    "df.to_latex(float_format=\"{:.3f}\".format)"
   ]
  },
  {
   "cell_type": "code",
   "execution_count": 46,
   "id": "2ff48736-771c-4073-a282-f114d05a15bd",
   "metadata": {},
   "outputs": [
    {
     "name": "stdout",
     "output_type": "stream",
     "text": [
      "32_epoch_4block_message_passing_BCE.csv\n",
      "32_epoch_4block_message_passing.csv\n",
      "32_epoch_4block_weighted_message_passing_2.csv\n",
      "32_epoch_4block_weighted_message_passing.csv\n",
      "32_epoch__message_passing_BCE.csv\n",
      "32_epoch_no_weighted_message_passing.csv\n",
      "32_epoch_weighted_message_passing_BCE.csv\n",
      "32_epoch_weighted_message_passing_noBCE.csv\n"
     ]
    }
   ],
   "source": [
    "!ls 32*csv"
   ]
  },
  {
   "cell_type": "code",
   "execution_count": 36,
   "id": "5c0035a6-2f87-44cc-b9e2-b924e14bac10",
   "metadata": {},
   "outputs": [],
   "source": [
    "df_nom = pandas.read_csv(\"32_epoch__message_passing_BCE.csv\", index_col=0)\n",
    "#df_nowp_BCE = pandas.read_csv(\"32_epoch__message_passing_BCE.csv\", index_col=0)"
   ]
  },
  {
   "cell_type": "code",
   "execution_count": 37,
   "id": "126ce7c6-43a5-4de7-b8d3-5f1f9e288ba0",
   "metadata": {},
   "outputs": [
    {
     "data": {
      "text/plain": [
       "val_loss            3.550542\n",
       "train_loss          3.299775\n",
       "val_class1_acc      0.984844\n",
       "val_class2_acc      0.788637\n",
       "val_class3_acc      0.552709\n",
       "val_class4_acc      0.834297\n",
       "train_class1_acc    0.984399\n",
       "train_class2_acc    0.784322\n",
       "train_class3_acc    0.569888\n",
       "train_class4_acc    0.884605\n",
       "Name: 31, dtype: float64"
      ]
     },
     "execution_count": 37,
     "metadata": {},
     "output_type": "execute_result"
    }
   ],
   "source": [
    "df_nom.iloc[-1,:]"
   ]
  },
  {
   "cell_type": "code",
   "execution_count": 38,
   "id": "a195d87b-f29b-4aec-b5c7-714fbc47eec9",
   "metadata": {},
   "outputs": [
    {
     "data": {
      "text/plain": [
       "val_loss            3.535571\n",
       "train_loss          3.323573\n",
       "val_class1_acc      0.984728\n",
       "val_class2_acc      0.794865\n",
       "val_class3_acc      0.533209\n",
       "val_class4_acc      0.841544\n",
       "train_class1_acc    0.984672\n",
       "train_class2_acc    0.777269\n",
       "train_class3_acc    0.556378\n",
       "train_class4_acc    0.873267\n",
       "Name: 31, dtype: float64"
      ]
     },
     "execution_count": 38,
     "metadata": {},
     "output_type": "execute_result"
    }
   ],
   "source": [
    "df.iloc[-1,:]"
   ]
  },
  {
   "cell_type": "code",
   "execution_count": null,
   "id": "d8acd78f-b39c-43da-ab21-5f0bc091aee9",
   "metadata": {},
   "outputs": [],
   "source": []
  }
 ],
 "metadata": {
  "kernelspec": {
   "display_name": "Python 3 (ipykernel)",
   "language": "python",
   "name": "python3"
  },
  "language_info": {
   "codemirror_mode": {
    "name": "ipython",
    "version": 3
   },
   "file_extension": ".py",
   "mimetype": "text/x-python",
   "name": "python",
   "nbconvert_exporter": "python",
   "pygments_lexer": "ipython3",
   "version": "3.12.5"
  }
 },
 "nbformat": 4,
 "nbformat_minor": 5
}
