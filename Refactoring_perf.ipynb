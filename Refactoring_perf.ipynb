{
 "cells": [
  {
   "cell_type": "code",
   "execution_count": 12,
   "id": "bfd1cbc6-4df3-4e11-9587-1a802c0e349f",
   "metadata": {},
   "outputs": [],
   "source": [
    "import numpy as np\n",
    "import networkx as nx\n",
    "import os, time\n",
    "\n",
    "import os.path as osp\n",
    "import glob\n",
    "from wmpgnn.datasets.graph_dataset import CustomDataset\n",
    "from wmpgnn.datasets.hetero_graph_dataset import CustomHeteroDataset\n",
    "from torch_geometric.loader import DataLoader\n",
    "import contextlib\n",
    "import torch\n",
    "from torch import nn\n",
    "from torch_scatter import scatter_add"
   ]
  },
  {
   "cell_type": "code",
   "execution_count": null,
   "id": "67dc2293-b4d7-4167-b47b-934acceb9de5",
   "metadata": {},
   "outputs": [],
   "source": []
  },
  {
   "cell_type": "code",
   "execution_count": 13,
   "id": "bd59b86e-ec71-4e86-a1ca-8a351db90d0a",
   "metadata": {},
   "outputs": [],
   "source": [
    "from wmpgnn.model.gnn_model import GNN\n",
    "from wmpgnn.model.model_loader import ModelLoader\n",
    "from wmpgnn.configs.config_loader import ConfigLoader\n",
    "from wmpgnn.datasets.data_handler import DataHandler\n",
    "# Load the configuration\n",
    "config_loader = ConfigLoader(\"config_files/heteromp_gnn_inference.yaml\", environment_prefix=\"DL\")\n",
    "#config_loader = ConfigLoader(\"config_files/mp_gnn_inference.yaml\", environment_prefix=\"DL\")"
   ]
  },
  {
   "cell_type": "code",
   "execution_count": null,
   "id": "ccdcb287-1ff7-4990-b84c-c255cb722f27",
   "metadata": {},
   "outputs": [],
   "source": []
  },
  {
   "cell_type": "code",
   "execution_count": 3,
   "id": "afc8a710-38cd-4f94-8948-527463ff44af",
   "metadata": {},
   "outputs": [],
   "source": [
    "import pandas as pd\n"
   ]
  },
  {
   "cell_type": "code",
   "execution_count": 12,
   "id": "837fb9d8-0ac6-4053-bf0b-33a3fe49acec",
   "metadata": {},
   "outputs": [
    {
     "name": "stdout",
     "output_type": "stream",
     "text": [
      "Final_hetero_8block_32_epochs_message_passing_BCE.csv\n",
      "Final_hetero_8block_32_epochs_message_passing_BCE.pt\n",
      "Final_hetero_8block_32_epochs_message_passing.csv\n",
      "Final_hetero_8block_32_epochs_message_passing.pt\n",
      "Final_hetero_8block_32_epochs_message_passing_pvconstraints.csv\n",
      "Final_hetero_8block_32_epochs_weighted_message_passing_BCE.csv\n",
      "Final_hetero_8block_32_epochs_weighted_message_passing_BCE.pt\n",
      "Final_hetero_8block_32_epochs_weighted_message_passing.csv\n",
      "Final_hetero_8block_32_epochs_weighted_message_passing.pt\n",
      "Final_hetero_8block_32_epochs_weighted_message_passing_pvconstraints.csv\n"
     ]
    }
   ],
   "source": [
    "!ls /home/sutclw/results2/"
   ]
  },
  {
   "cell_type": "code",
   "execution_count": 7,
   "id": "092f4959-7ebc-46d9-b3af-1c821931cb2c",
   "metadata": {},
   "outputs": [
    {
     "name": "stdout",
     "output_type": "stream",
     "text": [
      "Final_full_graph_8block_32_epochs_message_passing.csv\n",
      "Final_full_graph_8block_32_epochs_message_passing.pt\n",
      "Final_full_graph_8block_32_epochs_weighted_message_passing_BCE.csv\n",
      "Final_full_graph_8block_32_epochs_weighted_message_passing_BCE.pt\n",
      "Final_full_graph_hetero_8block_32_epochs_weighted_message_passing_BCE.csv\n",
      "Final_full_graph_hetero_8block_32_epochs_weighted_message_passing_BCE.pt\n"
     ]
    }
   ],
   "source": [
    "!ls /home/sutclw/full_graph_results/"
   ]
  },
  {
   "cell_type": "code",
   "execution_count": 14,
   "id": "79c3962f-d2fb-47ee-960e-453b03c21f1c",
   "metadata": {},
   "outputs": [],
   "source": [
    "import matplotlib.pyplot as plt\n",
    "\n",
    "\n",
    "def init_thesis_plot_style():\n",
    "    my_rc_params = {\n",
    "        \"xtick.direction\": \"in\",\n",
    "        \"xtick.major.size\": 8.0,\n",
    "        \"xtick.minor.size\": 4.0,\n",
    "        \"xtick.minor.visible\": True,\n",
    "        \"xtick.major.width\": 1.2,\n",
    "        \"xtick.minor.width\": 0.9,\n",
    "        \"ytick.direction\": \"in\",\n",
    "        \"ytick.major.size\": 8.0,\n",
    "        \"ytick.minor.size\": 4.0,\n",
    "        \"ytick.minor.visible\": True,\n",
    "        \"ytick.major.width\": 1.2,\n",
    "        \"ytick.minor.width\": 0.9,\n",
    "        \"errorbar.capsize\": 2,\n",
    "        \"axes.linewidth\": 1.2,\n",
    "        # \"font.familiy\": \"serif\",\n",
    "        \"font.size\": 14,\n",
    "        \"axes.grid\": False,\n",
    "        \"ytick.right\": True,\n",
    "        \"xtick.top\": True\n",
    "    }\n",
    "    return(my_rc_params)\n",
    "class Tango(object):\n",
    "    scarlet_red_light = '#ef2929'\n",
    "    scarlet_red = '#cc0000'\n",
    "    scarlet_red_dark = '#a40000'\n",
    "\n",
    "    aluminium_light = '#eeeeec'\n",
    "    aluminium = '#d3d7cf'\n",
    "    aluminium_dark = '#babdb6'\n",
    "\n",
    "    butter_light = '#fce94f'\n",
    "    butter = '#edd400'\n",
    "    butter_dark = '#c4a000'\n",
    "\n",
    "    chameleon_light = '#8ae234'\n",
    "    chameleon = '#73d216'\n",
    "    chameleon_dark = '#4e9a06'\n",
    "\n",
    "    orange_light = '#fcaf3e'\n",
    "    orange = '#f57900'\n",
    "    orange_dark = '#ce5c00'\n",
    "\n",
    "    chocolate_light = '#e9b96e'\n",
    "    chocolate = '#c17d11'\n",
    "    chocolate_dark = '#8f5902'\n",
    "\n",
    "    sky_blue_light = '#729fcf'\n",
    "    sky_blue = '#3465a4'\n",
    "    sky_blue_dark = '#204a87'\n",
    "\n",
    "    plum_light = '#ad7fa8'\n",
    "    plum = '#75507b'\n",
    "    plum_dark = '#5c3566'\n",
    "\n",
    "    slate_light = '#888a85'\n",
    "    slate = '#555753'\n",
    "    slate_dark = '#2e3436'\n",
    "\n",
    "init_thesis_plot_style()\n",
    "plt.rcParams.update(init_thesis_plot_style())"
   ]
  },
  {
   "cell_type": "code",
   "execution_count": 22,
   "id": "8407603c-90dd-4b08-b2f6-fbebfc19fbd5",
   "metadata": {},
   "outputs": [
    {
     "name": "stdout",
     "output_type": "stream",
     "text": [
      "Final_full_graph_hetero_8block_32_epochs_message_passing_onlypvs.csv\n",
      "Final_full_graph_hetero_8block_32_epochs_message_passing_onlypvs.pt\n",
      "Final_full_graph_hetero_8block_32_epochs_weighted_message_passing_onlypvs.csv\n",
      "Final_full_graph_hetero_8block_32_epochs_weighted_message_passing_onlypvs.pt\n",
      "Final_hetero_8block_32_epochs_message_passing_BCE_corrected.pt\n",
      "Final_hetero_8block_32_epochs_message_passing_BCE.csv\n",
      "Final_hetero_8block_32_epochs_message_passing_BCE.pt\n",
      "Final_hetero_8block_32_epochs_message_passing.csv\n",
      "Final_hetero_8block_32_epochs_message_passing.pt\n",
      "Final_hetero_8block_32_epochs_message_passing_pvconstraints.csv\n",
      "Final_hetero_8block_32_epochs_message_passing_pv_constraints.pt\n",
      "Final_hetero_8block_32_epochs_weighted_message_passing_BCE.csv\n",
      "Final_hetero_8block_32_epochs_weighted_message_passing_BCE.pt\n",
      "Final_hetero_8block_32_epochs_weighted_message_passing.csv\n",
      "Final_hetero_8block_32_epochs_weighted_message_passing.pt\n",
      "Final_hetero_8block_32_epochs_weighted_message_passing_pvconstraints.csv\n",
      "Final_hetero_8block_32_epochs_weighted_message_passing_pv_constraints.pt\n"
     ]
    }
   ],
   "source": [
    "!ls /home/sutclw/results2/results2"
   ]
  },
  {
   "cell_type": "code",
   "execution_count": 19,
   "id": "8611bc1a-70bb-4c20-9ce1-8b195512d213",
   "metadata": {},
   "outputs": [],
   "source": [
    "from wmpgnn.performance.reconstruction import reconstruct_decay\n",
    "from wmpgnn.performance.reconstruction import particle_name\n",
    "from wmpgnn.performance.reconstruction import flatten\n",
    "from wmpgnn.util.functions import acc_four_class\n",
    "import pandas as pd\n",
    "import matplotlib.pyplot as plt\n",
    "from sklearn.metrics import roc_curve, roc_auc_score\n",
    "\n",
    "\n",
    "class Performance:\n",
    "    \"\"\" Class responsible for determining performance given a dataset and \n",
    "    a configuration for both homogeneous and heterogeneous GNNs. \"\"\"\n",
    "\n",
    "    def __init__(self, config, performance_mode=False, full_graphs = False):\n",
    "        self.config_loader = config\n",
    "        self.data_loader = DataHandler(config_loader, performance_mode=performance_mode)\n",
    "        self.data_loader.load_data()\n",
    "        self.full_graphs = full_graphs\n",
    "        self.data_type = config.get(\"dataset.data_type\")\n",
    "        \n",
    "        model_loader = ModelLoader(config_loader)\n",
    "        self.model = model_loader.get_model()\n",
    "        self.full_graphs = full_graphs\n",
    "        # self.model.load_state_dict(torch.load('/home/sutclw/results/Final_model_8block_32epochs_weighted_message_passing_BCE_3Feb25.pth'))\n",
    "        # self.model.eval()\n",
    "        #self.model.load_state_dict(torch.load('/home/sutclw/full_graph_results/Final_full_graph_8block_32_epochs_weighted_message_passing_BCE.pt'))\n",
    "        #self.model.eval()\n",
    "        #self.model.load_state_dict(torch.load('/home/sutclw/results2/Final_hetero_8block_32_epochs_weighted_message_passing_BCE.pt'))\n",
    "        #self.model.eval()\n",
    "        #self.model.load_state_dict(torch.load('/home/sutclw/full_graph_results/Final_full_graph_hetero_8block_32_epochs_weighted_message_passing_BCE.pt'))\n",
    "        #self.model.eval()\n",
    "        self.model.load_state_dict(torch.load('/home/sutclw/results2/results2/Final_hetero_8block_32_epochs_message_passing_BCE_corrected.pt'))\n",
    "        self.model.eval()\n",
    "#Final_hetero_8block_32_epochs_message_passing_BCE.pt\n",
    "        \n",
    "    def evaluate_hetero_lca_accuracy(self,prune_layer=3, bdt_pruned_data=False, batch_size=8):\n",
    "        self.dataset = self.data_loader.get_test_dataloader(batch_size=batch_size)\n",
    "        acc_one_epoch = []\n",
    "        self.model.cuda()\n",
    "        for i, data in enumerate(self.dataset): \n",
    "            data.to('cuda')\n",
    "            label0= data[('tracks', 'to', 'tracks')].y.argmax(dim=1)\n",
    "            answers = torch.ones_like(data[('tracks', 'to', 'tracks')].edges).cuda()\n",
    "            outputs = self.model(data)\n",
    "            label= data[('tracks', 'to', 'tracks')].y.argmax(dim=1)\n",
    "     \n",
    "            if self.model._blocks[prune_layer].edge_prune == True:\n",
    "                indices = self.model._blocks[prune_layer].edge_indices[('tracks', 'to', 'tracks')]\n",
    "                index = torch.ones(label0.shape[0], dtype=bool).cuda()\n",
    "                index[indices] = False\n",
    "                selected_labels = label0[index]\n",
    "                answers[:,1:] = 0\n",
    "                answers[indices] = outputs[('tracks', 'to', 'tracks')].edges\n",
    " \n",
    "            if self.model._blocks[prune_layer].edge_prune == True:\n",
    "                acc_one_batch = acc_four_class(answers, label0)\n",
    "            elif bdt_pruned_data:\n",
    "                y_full = torch.concat([data.old_y,data[('tracks', 'to', 'tracks')].y])\n",
    "                bdt_pruned_edges = torch.ones_like(data.old_y).cuda()\n",
    "                bdt_pruned_edges[:,1:]=0\n",
    "                edge_full = torch.concat([bdt_pruned_edges, outputs[('tracks', 'to', 'tracks')].edges])\n",
    "                acc_one_batch = acc_four_class(edge_full,y_full.argmax(dim=1))\n",
    "            else:\n",
    "                acc_one_batch = acc_four_class(outputs[('tracks', 'to', 'tracks')].edges, label)\n",
    "            acc_one_epoch.append(acc_one_batch)\n",
    "        acc_one_epoch=torch.stack(acc_one_epoch)\n",
    "        return acc_one_epoch.nanmean(dim=0)\n",
    "\n",
    "    def evaluate_homog_lca_accuracy(self,prune_layer=3, bdt_pruned_data=False, batch_size=8):\n",
    "        self.dataset = self.data_loader.get_test_dataloader(batch_size=batch_size)\n",
    "        acc_one_epoch = []\n",
    "        self.model.cuda()\n",
    "        \n",
    "        for j, vdata in enumerate(self.dataset): \n",
    "            vdata['graph_globals'] = vdata['graph_globals'].unsqueeze(1)\n",
    "            vdata.receivers = vdata.receivers - torch.min(vdata.receivers)\n",
    "            vdata.senders = vdata.senders - torch.min(vdata.senders)\n",
    "            vdata.edgepos = vdata.edgepos - torch.min(vdata.edgepos)\n",
    "            vdata.to('cuda')\n",
    "            label0 = vdata.y.argmax(dim=1)\n",
    "            answers = torch.ones_like(vdata.edges).cuda()\n",
    "            \n",
    "            outputs = self.model(vdata)\n",
    "            vdata = outputs\n",
    "            label= vdata.y.argmax(dim=1)\n",
    "    \n",
    "            if self.model._blocks[prune_layer]._network.edge_prune == True:\n",
    "                indices= self.model._blocks[7]._network.edge_indices\n",
    "                index = torch.ones(label0.shape[0], dtype=bool).cuda()\n",
    "                index[indices] = False\n",
    "                selected_labels = label0[index]\n",
    "                answers[:,1:] = 0\n",
    "                answers[indices] = outputs.edges\n",
    "    \n",
    "            if self.model._blocks[prune_layer]._network.edge_prune == True:\n",
    "                acc_one_batch = acc_four_class(answers, label0)\n",
    "            elif bdt_pruned_data:\n",
    "                y_full = torch.concat([vdata.old_y, vdata.y])\n",
    "                bdt_pruned_edges = torch.ones_like(vdata.old_y).cuda()\n",
    "                bdt_pruned_edges[:,1:]=0\n",
    "                edge_full = torch.concat([bdt_pruned_edges, outputs.edges])\n",
    "                acc_one_batch = acc_four_class(edge_full,y_full.argmax(dim=1))\n",
    "            else:\n",
    "                acc_one_batch = acc_four_class(outputs.edges, label)\n",
    "            acc_one_epoch.append(acc_one_batch)\n",
    "        \n",
    "        acc_one_epoch=torch.stack(acc_one_epoch)\n",
    "    \n",
    "        return acc_one_epoch.nanmean(dim=0)\n",
    "        \n",
    "    def set_edge_pruning(self, layer, cut, device='cuda'):\n",
    "        if self.data_type == \"homogeneous\":\n",
    "            self.model._blocks[layer]._network.edge_prune = True\n",
    "            self.model._blocks[layer]._network.edge_weight_cut = cut\n",
    "            self.model._blocks[layer]._network.prune_by_cut = True\n",
    "            self.model._blocks[layer]._network.device = device\n",
    "        elif self.data_type == \"heterogeneous\":\n",
    "            self.model._blocks[layer].edge_prune = True\n",
    "            self.model._blocks[layer].edge_weight_cut = cut\n",
    "            self.model._blocks[layer].prune_by_cut = True\n",
    "            self.model._blocks[layer].device = device\n",
    "            \n",
    "    def set_node_pruning(self, layer, cut, device='cuda'):\n",
    "        if self.data_type == \"homogeneous\":\n",
    "            self.model._blocks[layer]._network.node_prune = True\n",
    "            self.model._blocks[layer]._network.node_weight_cut = cut\n",
    "            self.model._blocks[layer]._network.prune_by_cut = True\n",
    "            self.model._blocks[layer]._network.device = device\n",
    "        elif self.data_type == \"heterogeneous\":\n",
    "            self.model._blocks[layer].node_prune = True\n",
    "            self.model._blocks[layer].node_weight_cut= cut\n",
    "            self.model._blocks[layer].prune_by_cut = True\n",
    "            self.model._blocks[layer].device = device\n",
    "\n",
    "    def set_pruning(self, layer, cut, device='cuda'):\n",
    "        self.set_edge_pruning(layer, cut, device=device)\n",
    "        self.set_node_pruning(layer, cut, device=device)\n",
    "\n",
    "    \n",
    "    def lca_reco_matrix(self, graph):\n",
    "        if self.data_type == \"homogeneous\":\n",
    "            senders = graph.senders\n",
    "            receivers = graph.receivers\n",
    "            edges = graph[\"edges\"]\n",
    "        elif self.data_type == \"heterogeneous\":\n",
    "            senders = graph[('tracks','to','tracks')].edge_index[0]\n",
    "            receivers = graph[('tracks','to','tracks')].edge_index[1]\n",
    "            edges = graph[('tracks','to','tracks')].edges\n",
    "        edge_index = torch.vstack([senders,receivers])\n",
    "        pd_matrix = pd.DataFrame(np.vstack(\n",
    "            (edge_index[0], edge_index[1])).transpose(), columns=['senders', 'receivers'])\n",
    "        pd_matrix[\"LCA_probs\"] = list(edges.detach().numpy())\n",
    "        pd_matrix[\"LCA_dec\"] = list( np.argmax( edges.detach().numpy() , axis = -1))\n",
    "        pd_matrix.set_index(['senders', 'receivers'], inplace=True)\n",
    "        pd_matrix = pd_matrix.reset_index()\n",
    "        pd_matrix = pd_matrix[pd_matrix['senders'] < pd_matrix['receivers']]\n",
    "        reverse_order_indices = list(map(tuple, np.vstack((graph[\"receivers\"], graph[\"senders\"])).transpose()))\n",
    "        return pd_matrix\n",
    "\n",
    "    def lca_truth_matrix(self, graph):\n",
    "        if self.data_type == \"homogeneous\":\n",
    "            senders = graph.init_senders\n",
    "            receivers = graph.init_receivers\n",
    "            init_y = graph[\"init_y\"]\n",
    "        elif self.data_type == \"heterogeneous\":\n",
    "            senders = graph.init_senders\n",
    "            receivers = graph.init_receivers\n",
    "            init_y = graph[\"init_y\"]\n",
    "            \n",
    "        truth_lca = pd.DataFrame(np.column_stack((senders, receivers)), columns=['senders', 'receivers'])\n",
    "        truth_lca['LCA_dec'] = np.reshape(\n",
    "        np.argmax(\n",
    "            np.reshape(init_y, (init_y.shape[0], 4)), axis=-1),\n",
    "        (-1,))\n",
    "        truth_lca = truth_lca[truth_lca['senders'] < truth_lca['receivers']]\n",
    "        truth_lca['LCA_id_label'] = list(map(particle_name, graph['init_moth_ids'].numpy()))\n",
    "        truth_lca['TrueFullChainLCA'] = graph['lca_chain']\n",
    "        return truth_lca\n",
    "\n",
    "    def init_reco_dataframes(self):\n",
    "        self.signal_df = pd.DataFrame(columns=['EventNumber', 'NumParticlesInEvent', 'NumSignalParticles', 'PerfectSignalReconstruction', 'AllParticles','PerfectReco',\n",
    "                                 'NoneIso', 'PartReco', 'NotFound'])\n",
    "        self.signal_df = self.signal_df.astype({'EventNumber': np.int32, 'NumParticlesInEvent': np.int32, 'NumSignalParticles': np.int32, 'PerfectSignalReconstruction': np.int32,\n",
    "                              'AllParticles': np.int32,'PerfectReco': np.int32,\n",
    "                                 'NoneIso': np.int32, 'PartReco': np.int32, 'NotFound': np.int32})\n",
    "\n",
    "\n",
    "\n",
    "        self.event_df = pd.DataFrame(columns=['EventNumber', 'NumParticlesInEvent', 'NumParticlesFromHeavyHadronInEvent', 'NumBackgroundParticlesInEvent', 'NumSelectedParticlesInEvent', 'NumSelectedParticlesFromHeavyHadronInEvent',\n",
    "                                     'NumSelectedParticlesFromHeavyHadronInEventNPOnly', 'NumSelectedParticlesFromHeavyHadronInEventNPAndEPOnly', 'NumSelectedBackgroundParticlesInEvent', 'NumTruthClustersGen1', 'NumTruthClustersGen2',\n",
    "                                     'NumTruthClustersGen3', 'NumTruthClustersGen4', 'NumRecoClustersGen1', 'NumRecoClustersGen2', 'NumRecoClustersGen3', 'NumRecoClustersGen4', 'MaxTruthFullChainDepthInEvent',\n",
    "                                     'EfficiencyParticlesFromHeavyHadronInEvent', 'EfficiencyBackgroundParticlesInEvent', 'BackgroundRejectionPowerInEvent', 'PerfectEventReconstruction', 'TimeNodeFiltering', 'TimeEdgeFiltering',\n",
    "                                     'TimeLCAReconstruction', 'TimeSequence', 'NumTrueSignalsInEvent', 'NumRecoSignalsInEvent','TimeModel','TimeReco','TimeTruth'])\n",
    "        \n",
    "    def evaluate_pv_association(self, batch_size=8, b_tracks = True):\n",
    "        self.dataset = self.data_loader.get_test_dataloader(batch_size=batch_size)\n",
    "        running_acc = 0\n",
    "        self.model.cuda()\n",
    "        for i, data in enumerate(self.dataset): \n",
    "            data.to('cuda')\n",
    "\n",
    "            outputs = self.model(data)\n",
    "            data = outputs\n",
    "            PVlabel= torch.tensor(data[('tracks', 'to', 'pvs')].y,dtype=torch.float32)\n",
    "\n",
    "            if b_tracks:\n",
    "                tracks =data[('tracks', 'to', 'tracks')].edge_index[0][data[('tracks', 'to', 'tracks')].y[:,0]==0]\n",
    "            else:\n",
    "                tracks =data[('tracks', 'to', 'tracks')].edge_index[0]\n",
    "            unique_tracks = torch.unique(tracks)\n",
    "            correctly_associated = 0\n",
    "            \n",
    "            for i in  unique_tracks:\n",
    "                index = (data[('tracks', 'to', 'pvs')].edge_index[0]==i)\n",
    "                pv_associated = (torch.argmax(self.model._blocks[-1].edge_weights[('tracks', 'to', 'pvs')][index])==torch.argmax(data[('tracks', 'to', 'pvs')].y[index]))\n",
    "                correctly_associated += int(pv_associated.item())\n",
    "        \n",
    "            running_acc+=correctly_associated/unique_tracks.shape[0]\n",
    "        acc = running_acc/len(self.dataset)\n",
    "        return acc\n",
    "\n",
    "    def evaluate_homog_track_pruning_performance(self, layers=[0,1,2,7], batch_size=8, edge_pruning=True): \n",
    "        trues = []\n",
    "        self.dataset = self.data_loader.get_test_dataloader(batch_size=batch_size)\n",
    "        self.model.cuda()\n",
    "        preds = {}\n",
    "        for layer in layers:\n",
    "            preds[layer] = []\n",
    "        for j, data in enumerate(self.dataset): \n",
    "            \n",
    "            data['graph_globals'] = data['graph_globals'].unsqueeze(1)\n",
    "            data.receivers = data.receivers - torch.min(data.receivers)\n",
    "            data.senders = data.senders - torch.min(data.senders)\n",
    "            data.edgepos = data.edgepos - torch.min(data.edgepos)\n",
    "            data.to('cuda')\n",
    "            outputs = self.model(data)\n",
    "    \n",
    "            label= data.y.argmax(dim=1)\n",
    "            num_nodes=data.nodes.shape[0]\n",
    "            out = data.edges.new_zeros(num_nodes, data.edges.shape[1])\n",
    "            node_sum = scatter_add(data.y,data.senders,out=out,dim=0)\n",
    "            ynodes = (1.*(torch.sum(node_sum[:,1:],1)>0)).unsqueeze(1)\n",
    "            if edge_pruning:\n",
    "                trues.append( 1*(outputs.cpu().y.detach().numpy()[:,0] == 0 ) ) \n",
    "                for layer in layers:\n",
    "                    preds[layer].append(self.model._blocks[layer]._network.edge_weights.cpu().detach().numpy())\n",
    "            else:\n",
    "                trues.append(ynodes.cpu().detach().numpy()) \n",
    "                for layer in layers:\n",
    "                    preds[layer].append(self.model._blocks[layer]._network.node_weights.cpu().detach().numpy())\n",
    "        true = np.concatenate(trues)\n",
    "        pred = [np.concatenate(preds[i]) for i in layers]\n",
    "        names = [f\"Layer {i}\" for i in layers]\n",
    "\n",
    "        if edge_pruning:\n",
    "            self.plot_roc_curve(true, pred, names, file_name=\"hetero_edge_pruning_roc\", title=\"Edge\")\n",
    "        else:\n",
    "            self.plot_roc_curve(true, pred, names, file_name=\"hetero_node_pruning_roc\", title=\"Node\")      \n",
    "        \n",
    "    def evaluate_hetero_track_pruning_performance(self, layers=[0,1,2,7], batch_size=8, edge_pruning=True):\n",
    "        trues = []\n",
    "        self.dataset = self.data_loader.get_test_dataloader(batch_size=batch_size)\n",
    "        self.model.cuda()\n",
    "        preds = {}\n",
    "        for layer in layers:\n",
    "            preds[layer] = []\n",
    "        for i, data in enumerate(self.dataset): \n",
    "            data.to('cuda')\n",
    "            outputs = self.model(data)\n",
    "            data = outputs\n",
    "            label= data[('tracks', 'to', 'tracks')].y.argmax(dim=1)\n",
    "        \n",
    "            num_nodes=data['tracks'].x.shape[0]\n",
    "            out = data[('tracks', 'to', 'tracks')].edges.new_zeros(num_nodes, data[('tracks', 'to', 'tracks')].y.shape[1])\n",
    "            node_sum = scatter_add(data[('tracks', 'to', 'tracks')].y,data[('tracks', 'to', 'tracks')].edge_index[0],out=out,dim=0)\n",
    "            ynodes = (1.*(torch.sum(node_sum[:,1:],1)>0)).unsqueeze(1)\n",
    "            yBCE = 1.*(data[('tracks', 'to', 'tracks')].y[:,0]==0).unsqueeze(1)\n",
    "        \n",
    "            if edge_pruning:\n",
    "                trues.append(yBCE.cpu().detach().numpy()) \n",
    "                for layer in layers:\n",
    "                    preds[layer].append(self.model._blocks[layer].edge_weights[('tracks','to','tracks')].cpu().detach().numpy())\n",
    "            else:\n",
    "                trues.append(ynodes.cpu().detach().numpy()) \n",
    "                for layer in layers:\n",
    "                    preds[layer].append(sel.model._blocks[layer].node_weights[('tracks','to','tracks')].cpu().detach().numpy())\n",
    "        true = np.concatenate(trues)\n",
    "        pred = [np.concatenate(preds[i]) for i in layers]\n",
    "        names = [f\"Layer {i}\" for i in layers]\n",
    "\n",
    "        if edge_pruning:\n",
    "            self.plot_roc_curve(true, pred, names, file_name=\"hetero_edge_pruning_roc\", title=\"Edge\")\n",
    "        else:\n",
    "            self.plot_roc_curve(true, pred, names, file_name=\"hetero_node_pruning_roc\", title=\"Node\")            \n",
    "    \n",
    "    \n",
    "    def plot_roc_curve(self, y_true, y_scores, names, file_name=\"test_edge_pruning_roc\", title=\"Edge\"):\n",
    "        plt.figure(figsize=(8, 6))\n",
    "    \n",
    "        line_styles = [\"dashdot\",\"dashed\",\"dotted\",\"--\",\"solid\"]\n",
    "        for i in range(0,len(y_scores)):\n",
    "            name = names[i]\n",
    "            y_score = y_scores[i]\n",
    "            line_style = line_styles[i]\n",
    "            fpr, tpr, _ = roc_curve(y_true, y_score)\n",
    "            auc_score = roc_auc_score(y_true, y_score)\n",
    "            plt.plot(fpr, tpr, label=f'{name} (AUC = {auc_score:.4f})',linestyle=line_style)\n",
    "            print(auc_score)\n",
    "        plt.plot([0, 1], [0, 1], linestyle='--', color='gray')\n",
    "        plt.xlabel('False Positive Rate')\n",
    "        plt.ylabel('True Positive Rate')\n",
    "        plt.title(f'{title} Pruning Receiver Operating Characteristic (ROC) Curve')\n",
    "        plt.legend()\n",
    "        plt.grid()\n",
    "        plt.savefig(file_name + \".png\", dpi=200)\n",
    "        plt.savefig(file_name + \".pdf\")\n",
    "        plt.show()\n",
    "    \n",
    "\n",
    "    \n",
    "    def evaluate_reco_performance(self, event_max = -1, plot_perfect_decaychains=2):\n",
    "            # should eventually include BDT timing and perf. in filtering when caching dataset\n",
    "            self.dataset = self.data_loader.get_test_dataloader(batch_size=1)\n",
    "            self.init_reco_dataframes()\n",
    "            time_node_filtering = 0\n",
    "            time_edge_filtering = 0 \n",
    "            time_LCA_reconstruction = 0\n",
    "            number_of_selected_particles_from_heavy_hadron_NPonly = 0 \n",
    "            number_of_selected_particles_from_heavy_hadron_NPandEPonly = 0 \n",
    "            compute_performance = 1\n",
    "\n",
    "            j = 0\n",
    "            event = 0\n",
    "            event=0\n",
    "            count=0\n",
    "            count2=0\n",
    "            count3= 0 \n",
    "            time_model = 0\n",
    "            time_reco = 0\n",
    "            for batch_i, vdata in enumerate(self.dataset): \n",
    "                if batch_i == event_max:\n",
    "                    print(f\"Event loop for reconstruction ending at event max {event_max}\")\n",
    "                    break\n",
    "                if event%100 == 0:\n",
    "                    print(event)\n",
    "                Bparts = float(torch.sum(torch.argmax(vdata.init_y,-1)>0))\n",
    "                if Bparts < 1:\n",
    "                    continue\n",
    "                if self.data_type == \"homogeneous\":\n",
    "                    vdata['graph_globals'] = vdata['graph_globals'].unsqueeze(1)\n",
    "                    vdata.receivers = vdata.receivers - torch.min(vdata.receivers)\n",
    "                    vdata.senders = vdata.senders - torch.min(vdata.senders)\n",
    "                    vdata.edgepos = vdata.edgepos - torch.min(vdata.edgepos)\n",
    "                \n",
    "                count3+=1\n",
    "\n",
    "                vdata.cuda()\n",
    "                vdata_copy = vdata.clone()\n",
    "                self.model.cuda()\n",
    "                self.set_pruning(7,0.1)\n",
    "                try:\n",
    "                    start_time = time.time()\n",
    "                    gout = self.model(vdata)\n",
    "                    end_time = time.time()\n",
    "                    time_model = end_time-start_time\n",
    "                except:\n",
    "                    print(\"Pruning looser\")\n",
    "                    self.set_pruning(7,0.05)\n",
    "                    try:\n",
    "                        start_time = time.time()\n",
    "                        gout = self.model(vdata_copy)\n",
    "                        end_time = time.time()\n",
    "                        time_model = end_time-start_time\n",
    "                    except:\n",
    "                        print(\"Exception occurred\")\n",
    "                        continue\n",
    "                self.model.cpu()\n",
    "                gout.cpu()\n",
    "                vdata.cpu()\n",
    "                if self.data_type == \"homogeneous\":\n",
    "                    Bparts_after = float(torch.sum(torch.argmax(vdata.y,-1)>0))\n",
    "                elif self.data_type == \"heterogeneous\":\n",
    "                    Bparts_after = float(torch.sum(torch.argmax(vdata[('tracks','to','tracks')].y,-1)>0))\n",
    "                if Bparts_after < Bparts:\n",
    "                    print(\"Bparts lost, before had \", Bparts, \" and now \", Bparts_after )\n",
    "\n",
    "                start_time = time.time()\n",
    "                reco_LCA = self.lca_reco_matrix(gout)\n",
    "                particle_keys = list(vdata[\"final_keys\"].numpy())\n",
    "                \n",
    "                reco_cluster_dict, reco_num_clusters_per_order, _ = reconstruct_decay(\n",
    "                    reco_LCA, particle_keys)\n",
    "                end_time = time.time()\n",
    "                time_reco = end_time-start_time\n",
    "                start_time = time.time()\n",
    "                true_LCA = self.lca_truth_matrix(vdata)\n",
    "                particle_keys = list(vdata[\"init_keys\"].numpy())\n",
    "                particle_ids =  list(map(particle_name, vdata['init_partids'].numpy()))\n",
    "                truth_cluster_dict, truth_num_clusters_per_order, max_full_chain_depth_in_event = reconstruct_decay(\n",
    "                    true_LCA, particle_keys,particle_ids=particle_ids,truth_level_simulation=1)\n",
    "                end_time = time.time()\n",
    "                time_truth = end_time-start_time\n",
    "                compute_performance = 1\n",
    "                if compute_performance == 1:\n",
    "                    time_node_filtering = 0\n",
    "                    time_edge_filtering = 0 \n",
    "                    time_LCA_reconstruction = 0\n",
    "                    total_number_of_particles = len(particle_keys)\n",
    "                    number_of_selected_particles_from_heavy_hadron_NPonly = 0 \n",
    "                    number_of_selected_particles_from_heavy_hadron_NPandEPonly = 0 \n",
    "                    #f truth_cluster_dict == {}:\n",
    "                    #    count += 1\n",
    "                    if truth_cluster_dict != {}:\n",
    "                        count+=1\n",
    "                        # Compute performance metrics\n",
    "                        particles_from_heavy_hadron = flatten([truth_cluster_dict[tc_firstkey]['node_keys'] for tc_firstkey in truth_cluster_dict.keys()])\n",
    "                        number_of_particles_from_heavy_hadron = len(particles_from_heavy_hadron)\n",
    "                        number_of_selected_particles_from_heavy_hadron_NPonly = number_of_particles_from_heavy_hadron\n",
    "                        number_of_selected_particles_from_heavy_hadron_NPandEPonly = number_of_particles_from_heavy_hadron\n",
    "                        number_of_background_particles = total_number_of_particles - number_of_particles_from_heavy_hadron\n",
    "                        if reco_cluster_dict != {}:\n",
    "                            selected_particles = flatten([reco_cluster_dict[tc_firstkey]['node_keys'] for tc_firstkey in reco_cluster_dict.keys()])\n",
    "                            number_of_selected_particles = len(selected_particles)\n",
    "                            number_of_selected_particles_from_heavy_hadron = len(list(set(selected_particles).intersection(particles_from_heavy_hadron)))\n",
    "                            number_of_selected_background_particles = number_of_selected_particles - number_of_selected_particles_from_heavy_hadron\n",
    "                        else:\n",
    "                            number_of_selected_particles = 0\n",
    "                            number_of_selected_particles_from_heavy_hadron = 0\n",
    "                            number_of_selected_background_particles = 0\n",
    "                \n",
    "                        perfect_event_reconstruction = 1\n",
    "                        if number_of_selected_background_particles > 0:\n",
    "                            perfect_event_reconstruction = 0\n",
    "               \n",
    "            \n",
    "                        for tc_firstkey in truth_cluster_dict.keys():\n",
    "                            number_of_signal_particles = len(truth_cluster_dict[tc_firstkey]['node_keys'])\n",
    "                            perfect_signal_reconstruction = 1\n",
    "                            if reco_cluster_dict == {}:\n",
    "                                perfect_signal_reconstruction = 0\n",
    "                            else:\n",
    "                                if tc_firstkey not in reco_cluster_dict.keys():\n",
    "                                    perfect_signal_reconstruction = 0\n",
    "                                else:\n",
    "                                    if reco_cluster_dict[tc_firstkey]['node_keys'] != truth_cluster_dict[tc_firstkey]['node_keys'] or reco_cluster_dict[tc_firstkey]['LCA_values'] != truth_cluster_dict[tc_firstkey]['LCA_values']:\n",
    "                                        perfect_signal_reconstruction = 0\n",
    "                            perfect_event_reconstruction *= perfect_signal_reconstruction\n",
    "            \n",
    "                            true_cluster = truth_cluster_dict[tc_firstkey]\n",
    "                            perfect_reco = 0\n",
    "                            all_particles = 0\n",
    "                            none_iso = 0\n",
    "                            part_reco = 0\n",
    "                            none_associated = 0\n",
    "                            for cluster in reco_cluster_dict.values():\n",
    "                                true_in_reco = np.sum( np.isin(true_cluster['node_keys'],cluster['node_keys']))/len(true_cluster['node_keys'])\n",
    "                                #reco_in_true = np.sum( np.isin(cluster['node_keys'],true_cluster['node_keys']))/len(true_cluster['node_keys'])\n",
    "                                #print(val)\n",
    "                                if cluster['node_keys'] == true_cluster['node_keys']:\n",
    "                                    all_particles = 1\n",
    "                                    if cluster['LCA_values'] == true_cluster['LCA_values']:\n",
    "                                        perfect_reco = 1\n",
    "                                    break\n",
    "                                elif true_in_reco == 1 and len(cluster['node_keys']) > len(true_cluster['node_keys']):\n",
    "                                    none_iso = 1\n",
    "                                elif true_in_reco >= 0.2 and true_in_reco < 1:\n",
    "                                    part_reco = 1\n",
    "                                #elif val >= 0.2 and len(cluster['node_keys']) > len(true_cluster['node_keys']):\n",
    "                                #    none_iso = 1\n",
    "                            if all_particles == 1:\n",
    "                                none_iso = 0\n",
    "                                part_reco = 0\n",
    "                            if all_particles == 0 and none_iso == 0 and part_reco == 0:\n",
    "                                none_associated = 1\n",
    "                            self.signal_df = self.signal_df._append({'EventNumber' : event,\n",
    "                                                          'NumParticlesInEvent': total_number_of_particles,\n",
    "                                                          'NumSignalParticles': number_of_signal_particles,\n",
    "                                                          'PerfectSignalReconstruction': perfect_signal_reconstruction,\n",
    "                                                          'AllParticles': all_particles,\n",
    "                                                          'PerfectReco': perfect_reco,\n",
    "                                                          'NoneIso' : none_iso,\n",
    "                                                          'PartReco' : part_reco,\n",
    "                                                          'NotFound' : none_associated},\n",
    "                                                       ignore_index=True)    \n",
    "                            count2+=1\n",
    "                            if perfect_signal_reconstruction and plot_perfect_decaychains > 0:\n",
    "                                plt.clf()\n",
    "                                fix, axs = plt.subplots(2, figsize=(10, 10))\n",
    "                                axs[0].set_title('Reco trees in event',\n",
    "                                                 fontweight='bold', fontsize=14)\n",
    "                                particle_keys = list(vdata[\"final_keys\"].numpy())\n",
    "                                reco_cluster_dict, reco_num_clusters_per_order, _ = reconstruct_decay(\n",
    "                                    reco_LCA, particle_keys,  axs[0])\n",
    "                                axs[1].set_title('Truth-level trees in event',\n",
    "                                                 fontweight='bold', fontsize=14)\n",
    "                                particle_keys = list(vdata[\"init_keys\"].numpy())\n",
    "                                particle_ids =  list(map(particle_name, vdata['init_partids'].numpy()))\n",
    "                                truth_cluster_dict, truth_num_clusters_per_order, max_full_chain_depth_in_event = reconstruct_decay(\n",
    "                                    true_LCA, particle_keys, axs[1], particle_ids=particle_ids, truth_level_simulation=1)\n",
    "                                #plt.show()\n",
    "                                plt.savefig(f\"perfect_reco_decay_chain_{plot_perfect_decaychains}.png\")\n",
    "                                plot_perfect_decaychains = plot_perfect_decaychains -  1\n",
    "                            \n",
    "                        event+=1\n",
    "                        self.event_df = self.event_df._append({'EventNumber': event,\n",
    "                                                        'NumParticlesInEvent': total_number_of_particles,\n",
    "                                                        'NumParticlesFromHeavyHadronInEvent': number_of_particles_from_heavy_hadron,\n",
    "                                                        'NumBackgroundParticlesInEvent': number_of_background_particles,\n",
    "                                                        'NumSelectedParticlesInEvent': number_of_selected_particles,\n",
    "                                                        'NumSelectedParticlesFromHeavyHadronInEvent': number_of_selected_particles_from_heavy_hadron,\n",
    "                                                        'NumSelectedParticlesFromHeavyHadronInEventNPOnly': number_of_selected_particles_from_heavy_hadron_NPonly,\n",
    "                                                        'NumSelectedParticlesFromHeavyHadronInEventNPAndEPOnly': number_of_selected_particles_from_heavy_hadron_NPandEPonly,\n",
    "                                                        'NumSelectedBackgroundParticlesInEvent': number_of_selected_background_particles,\n",
    "                                                        'NumTruthClustersGen1': truth_num_clusters_per_order[0],\n",
    "                                                        'NumTruthClustersGen2': truth_num_clusters_per_order[1],\n",
    "                                                        'NumTruthClustersGen3': truth_num_clusters_per_order[2],\n",
    "                                                        'NumTruthClustersGen4': truth_num_clusters_per_order[3],\n",
    "                                                        'NumRecoClustersGen1': reco_num_clusters_per_order[0],\n",
    "                                                        'NumRecoClustersGen2': reco_num_clusters_per_order[1],\n",
    "                                                        'NumRecoClustersGen3': reco_num_clusters_per_order[2],\n",
    "                                                        'NumRecoClustersGen4': reco_num_clusters_per_order[3],\n",
    "                                                        'MaxTruthFullChainDepthInEvent': max_full_chain_depth_in_event,\n",
    "                                                        'EfficiencyParticlesFromHeavyHadronInEvent': float(number_of_selected_particles_from_heavy_hadron) / number_of_particles_from_heavy_hadron,\n",
    "                                                        'EfficiencyBackgroundParticlesInEvent': float(number_of_selected_background_particles) / number_of_background_particles,\n",
    "                                                        'BackgroundRejectionPowerInEvent': 1. - float(number_of_selected_background_particles) / number_of_background_particles,\n",
    "                                                        'PerfectEventReconstruction': perfect_event_reconstruction,\n",
    "                                                        'TimeNodeFiltering': time_node_filtering,\n",
    "                                                        'TimeEdgeFiltering': time_edge_filtering,\n",
    "                                                        'TimeLCAReconstruction': time_LCA_reconstruction,\n",
    "                                                        'TimeSequence': time_node_filtering + time_edge_filtering + time_LCA_reconstruction,\n",
    "                                                        'NumTrueSignalsInEvent': len(truth_cluster_dict.keys()),\n",
    "                                                        'NumRecoSignalsInEvent': len(reco_cluster_dict.keys()),\n",
    "                                                        'TimeModel' : time_model,\n",
    "                                                        'TimeReco': time_reco,\n",
    "                                                        'TimeTruth': time_truth},\n",
    "                                                       ignore_index=True) \n",
    "        "
   ]
  },
  {
   "cell_type": "code",
   "execution_count": null,
   "id": "146f97dc-79b1-4361-9a31-055e240ba9d4",
   "metadata": {},
   "outputs": [],
   "source": []
  },
  {
   "cell_type": "code",
   "execution_count": 20,
   "id": "482814e3-88d7-49c7-b420-e5c456223d5d",
   "metadata": {},
   "outputs": [
    {
     "name": "stderr",
     "output_type": "stream",
     "text": [
      "/tmp/ipykernel_14945/33057257.py:32: FutureWarning: You are using `torch.load` with `weights_only=False` (the current default value), which uses the default pickle module implicitly. It is possible to construct malicious pickle data which will execute arbitrary code during unpickling (See https://github.com/pytorch/pytorch/blob/main/SECURITY.md#untrusted-models for more details). In a future release, the default value for `weights_only` will be flipped to `True`. This limits the functions that could be executed during unpickling. Arbitrary objects will no longer be allowed to be loaded via this mode unless they are explicitly allowlisted by the user via `torch.serialization.add_safe_globals`. We recommend you start setting `weights_only=True` for any use case where you don't have full control of the loaded file. Please open an issue on GitHub for any issues related to this experimental feature.\n",
      "  self.model.load_state_dict(torch.load('/home/sutclw/results2/results2/Final_hetero_8block_32_epochs_message_passing_BCE_corrected.pt'))\n"
     ]
    }
   ],
   "source": [
    "perf = Performance(config_loader,performance_mode=True,full_graphs=False)"
   ]
  },
  {
   "cell_type": "code",
   "execution_count": 21,
   "id": "a4048e0e-0d68-4b94-b3be-27e8b3387448",
   "metadata": {},
   "outputs": [
    {
     "name": "stdout",
     "output_type": "stream",
     "text": [
      "0\n"
     ]
    },
    {
     "name": "stderr",
     "output_type": "stream",
     "text": [
      "/tmp/ipykernel_14945/33057257.py:505: FutureWarning: The behavior of DataFrame concatenation with empty or all-NA entries is deprecated. In a future version, this will no longer exclude empty or all-NA columns when determining the result dtypes. To retain the old behavior, exclude the relevant entries before the concat operation.\n",
      "  self.event_df = self.event_df._append({'EventNumber': event,\n"
     ]
    },
    {
     "name": "stdout",
     "output_type": "stream",
     "text": [
      "Bparts lost, before had  6.0  and now  2.0\n",
      "No particles found.\n",
      "0\n",
      "Bparts lost, before had  6.0  and now  2.0\n",
      "Bparts lost, before had  76.0  and now  70.0\n",
      "Bparts lost, before had  48.0  and now  44.0\n",
      "No particles found.\n",
      "0\n",
      "Bparts lost, before had  56.0  and now  42.0\n",
      "Bparts lost, before had  42.0  and now  14.0\n",
      "100\n",
      "No particles found.\n",
      "0\n",
      "Bparts lost, before had  40.0  and now  30.0\n",
      "Bparts lost, before had  54.0  and now  42.0\n",
      "Bparts lost, before had  18.0  and now  14.0\n",
      "No particles found.\n",
      "0\n",
      "Bparts lost, before had  50.0  and now  22.0\n",
      "Bparts lost, before had  66.0  and now  54.0\n",
      "Bparts lost, before had  32.0  and now  22.0\n",
      "No particles found.\n",
      "0\n",
      "Bparts lost, before had  50.0  and now  40.0\n",
      "Bparts lost, before had  2.0  and now  0.0\n",
      "No particles found.\n",
      "0\n",
      "Bparts lost, before had  12.0  and now  8.0\n",
      "No particles found.\n",
      "0\n",
      "200\n",
      "No particles found.\n",
      "0\n",
      "Bparts lost, before had  30.0  and now  28.0\n",
      "Bparts lost, before had  2.0  and now  0.0\n",
      "Bparts lost, before had  26.0  and now  24.0\n",
      "Bparts lost, before had  98.0  and now  84.0\n",
      "No particles found.\n",
      "0\n",
      "Bparts lost, before had  20.0  and now  12.0\n",
      "Bparts lost, before had  20.0  and now  12.0\n",
      "Bparts lost, before had  36.0  and now  32.0\n",
      "Bparts lost, before had  92.0  and now  78.0\n",
      "Bparts lost, before had  12.0  and now  6.0\n",
      "Bparts lost, before had  68.0  and now  54.0\n",
      "Bparts lost, before had  56.0  and now  42.0\n",
      "Bparts lost, before had  74.0  and now  72.0\n",
      "No particles found.\n",
      "0\n",
      "Bparts lost, before had  12.0  and now  6.0\n",
      "No particles found.\n",
      "0\n",
      "300\n",
      "Bparts lost, before had  86.0  and now  74.0\n",
      "Bparts lost, before had  30.0  and now  20.0\n",
      "No particles found.\n",
      "0\n",
      "No particles found.\n",
      "0\n",
      "Bparts lost, before had  36.0  and now  18.0\n",
      "Bparts lost, before had  62.0  and now  60.0\n",
      "Bparts lost, before had  82.0  and now  42.0\n",
      "Bparts lost, before had  62.0  and now  32.0\n",
      "Bparts lost, before had  62.0  and now  48.0\n",
      "Bparts lost, before had  32.0  and now  18.0\n",
      "No particles found.\n",
      "0\n",
      "Bparts lost, before had  44.0  and now  42.0\n",
      "Bparts lost, before had  18.0  and now  16.0\n",
      "Bparts lost, before had  18.0  and now  12.0\n",
      "Bparts lost, before had  20.0  and now  12.0\n",
      "400\n",
      "Bparts lost, before had  8.0  and now  4.0\n",
      "Bparts lost, before had  98.0  and now  88.0\n",
      "No particles found.\n",
      "0\n",
      "Bparts lost, before had  62.0  and now  58.0\n",
      "Bparts lost, before had  32.0  and now  22.0\n",
      "Bparts lost, before had  50.0  and now  48.0\n",
      "Bparts lost, before had  20.0  and now  18.0\n",
      "No particles found.\n",
      "0\n",
      "No particles found.\n",
      "0\n",
      "Bparts lost, before had  26.0  and now  24.0\n",
      "500\n",
      "Bparts lost, before had  76.0  and now  72.0\n",
      "Bparts lost, before had  68.0  and now  54.0\n",
      "Bparts lost, before had  44.0  and now  32.0\n",
      "Bparts lost, before had  12.0  and now  10.0\n",
      "Bparts lost, before had  18.0  and now  4.0\n",
      "No particles found.\n",
      "0\n",
      "Bparts lost, before had  32.0  and now  26.0\n",
      "Bparts lost, before had  20.0  and now  18.0\n",
      "Bparts lost, before had  56.0  and now  30.0\n",
      "Bparts lost, before had  26.0  and now  24.0\n",
      "Bparts lost, before had  12.0  and now  10.0\n",
      "No particles found.\n",
      "0\n",
      "600\n",
      "Bparts lost, before had  20.0  and now  12.0\n",
      "Bparts lost, before had  68.0  and now  50.0\n",
      "No particles found.\n",
      "0\n",
      "Bparts lost, before had  4.0  and now  2.0\n",
      "Bparts lost, before had  18.0  and now  16.0\n",
      "Bparts lost, before had  26.0  and now  24.0\n",
      "Bparts lost, before had  52.0  and now  50.0\n",
      "No particles found.\n",
      "0\n",
      "No particles found.\n",
      "0\n",
      "Bparts lost, before had  72.0  and now  60.0\n",
      "Bparts lost, before had  56.0  and now  46.0\n",
      "700\n",
      "Bparts lost, before had  48.0  and now  36.0\n",
      "Bparts lost, before had  32.0  and now  28.0\n",
      "Bparts lost, before had  28.0  and now  24.0\n",
      "Bparts lost, before had  92.0  and now  84.0\n",
      "Bparts lost, before had  26.0  and now  24.0\n",
      "Bparts lost, before had  22.0  and now  20.0\n",
      "Bparts lost, before had  32.0  and now  30.0\n",
      "Bparts lost, before had  8.0  and now  6.0\n",
      "No particles found.\n",
      "0\n",
      "Bparts lost, before had  20.0  and now  12.0\n",
      "Bparts lost, before had  84.0  and now  82.0\n",
      "Bparts lost, before had  18.0  and now  14.0\n",
      "800\n",
      "Bparts lost, before had  32.0  and now  26.0\n",
      "Bparts lost, before had  30.0  and now  20.0\n",
      "Bparts lost, before had  60.0  and now  58.0\n",
      "Bparts lost, before had  82.0  and now  72.0\n",
      "No particles found.\n",
      "0\n",
      "Bparts lost, before had  76.0  and now  66.0\n",
      "No particles found.\n",
      "0\n",
      "Bparts lost, before had  8.0  and now  6.0\n",
      "Bparts lost, before had  26.0  and now  22.0\n",
      "Bparts lost, before had  76.0  and now  74.0\n",
      "Bparts lost, before had  12.0  and now  10.0\n",
      "Bparts lost, before had  22.0  and now  14.0\n",
      "Bparts lost, before had  58.0  and now  50.0\n",
      "900\n",
      "Bparts lost, before had  56.0  and now  54.0\n",
      "Bparts lost, before had  32.0  and now  24.0\n",
      "Bparts lost, before had  12.0  and now  2.0\n",
      "Bparts lost, before had  130.0  and now  128.0\n",
      "No particles found.\n",
      "0\n",
      "Bparts lost, before had  50.0  and now  44.0\n",
      "Bparts lost, before had  44.0  and now  38.0\n",
      "Bparts lost, before had  8.0  and now  6.0\n",
      "Bparts lost, before had  38.0  and now  32.0\n",
      "Bparts lost, before had  72.0  and now  50.0\n",
      "No particles found.\n",
      "0\n",
      "Bparts lost, before had  74.0  and now  44.0\n",
      "1000\n",
      "Bparts lost, before had  12.0  and now  2.0\n",
      "No particles found.\n",
      "0\n",
      "Bparts lost, before had  68.0  and now  66.0\n",
      "Bparts lost, before had  72.0  and now  42.0\n",
      "Bparts lost, before had  42.0  and now  38.0\n",
      "Bparts lost, before had  30.0  and now  26.0\n",
      "Bparts lost, before had  36.0  and now  34.0\n",
      "Bparts lost, before had  18.0  and now  16.0\n",
      "Bparts lost, before had  24.0  and now  22.0\n",
      "1100\n",
      "1100\n",
      "Bparts lost, before had  48.0  and now  46.0\n",
      "Bparts lost, before had  32.0  and now  26.0\n",
      "Bparts lost, before had  44.0  and now  42.0\n",
      "No particles found.\n",
      "0\n",
      "Bparts lost, before had  128.0  and now  112.0\n",
      "Bparts lost, before had  18.0  and now  14.0\n",
      "Bparts lost, before had  60.0  and now  54.0\n",
      "Bparts lost, before had  40.0  and now  36.0\n",
      "Bparts lost, before had  42.0  and now  30.0\n",
      "Bparts lost, before had  2.0  and now  0.0\n",
      "No particles found.\n",
      "0\n",
      "Bparts lost, before had  32.0  and now  24.0\n",
      "1200\n",
      "No particles found.\n",
      "0\n",
      "Bparts lost, before had  6.0  and now  2.0\n",
      "Bparts lost, before had  18.0  and now  16.0\n",
      "No particles found.\n",
      "0\n",
      "Bparts lost, before had  6.0  and now  2.0\n",
      "Bparts lost, before had  18.0  and now  14.0\n",
      "Bparts lost, before had  20.0  and now  12.0\n",
      "No particles found.\n",
      "0\n",
      "Bparts lost, before had  60.0  and now  42.0\n",
      "Bparts lost, before had  58.0  and now  56.0\n",
      "Bparts lost, before had  18.0  and now  16.0\n",
      "Bparts lost, before had  96.0  and now  78.0\n",
      "No particles found.\n",
      "0\n",
      "Bparts lost, before had  32.0  and now  30.0\n",
      "Bparts lost, before had  32.0  and now  30.0\n",
      "1300\n",
      "No particles found.\n",
      "0\n",
      "No particles found.\n",
      "0\n",
      "No particles found.\n",
      "0\n",
      "Bparts lost, before had  14.0  and now  12.0\n",
      "Bparts lost, before had  56.0  and now  54.0\n",
      "No particles found.\n",
      "0\n",
      "Bparts lost, before had  96.0  and now  26.0\n",
      "No particles found.\n",
      "0\n",
      "Bparts lost, before had  70.0  and now  68.0\n",
      "1400\n",
      "Bparts lost, before had  26.0  and now  22.0\n",
      "No particles found.\n",
      "0\n",
      "Bparts lost, before had  42.0  and now  30.0\n",
      "Bparts lost, before had  50.0  and now  42.0\n",
      "No particles found.\n",
      "0\n",
      "Bparts lost, before had  14.0  and now  12.0\n",
      "Bparts lost, before had  84.0  and now  82.0\n",
      "No particles found.\n",
      "0\n",
      "Bparts lost, before had  32.0  and now  22.0\n",
      "Bparts lost, before had  54.0  and now  42.0\n",
      "Bparts lost, before had  40.0  and now  38.0\n",
      "1500\n",
      "Bparts lost, before had  44.0  and now  32.0\n",
      "No particles found.\n",
      "0\n",
      "No particles found.\n",
      "0\n",
      "Bparts lost, before had  12.0  and now  2.0\n",
      "No particles found.\n",
      "0\n",
      "Bparts lost, before had  84.0  and now  72.0\n",
      "Bparts lost, before had  36.0  and now  34.0\n",
      "Bparts lost, before had  66.0  and now  64.0\n",
      "Bparts lost, before had  46.0  and now  44.0\n",
      "No particles found.\n",
      "0\n",
      "Bparts lost, before had  32.0  and now  18.0\n",
      "Bparts lost, before had  20.0  and now  12.0\n",
      "Bparts lost, before had  42.0  and now  38.0\n",
      "Bparts lost, before had  36.0  and now  26.0\n",
      "No particles found.\n",
      "0\n",
      "1600\n",
      "Bparts lost, before had  102.0  and now  88.0\n",
      "Bparts lost, before had  66.0  and now  64.0\n",
      "Bparts lost, before had  26.0  and now  24.0\n",
      "No particles found.\n",
      "0\n",
      "Bparts lost, before had  30.0  and now  26.0\n",
      "Bparts lost, before had  26.0  and now  24.0\n",
      "Bparts lost, before had  62.0  and now  60.0\n",
      "Bparts lost, before had  76.0  and now  74.0\n",
      "Bparts lost, before had  42.0  and now  34.0\n",
      "No particles found.\n",
      "0\n",
      "Bparts lost, before had  20.0  and now  12.0\n",
      "Bparts lost, before had  56.0  and now  42.0\n",
      "1700\n",
      "No particles found.\n",
      "0\n",
      "Bparts lost, before had  20.0  and now  12.0\n",
      "Bparts lost, before had  44.0  and now  38.0\n",
      "Bparts lost, before had  54.0  and now  40.0\n",
      "Bparts lost, before had  12.0  and now  0.0\n",
      "No particles found.\n",
      "0\n",
      "Bparts lost, before had  92.0  and now  82.0\n",
      "Bparts lost, before had  72.0  and now  26.0\n",
      "Bparts lost, before had  20.0  and now  0.0\n",
      "Bparts lost, before had  22.0  and now  14.0\n",
      "Bparts lost, before had  114.0  and now  98.0\n",
      "Event loop for reconstruction ending at event max 2000\n"
     ]
    },
    {
     "data": {
      "text/plain": [
       "<Figure size 640x480 with 0 Axes>"
      ]
     },
     "metadata": {},
     "output_type": "display_data"
    },
    {
     "data": {
      "text/plain": [
       "<Figure size 1000x1000 with 0 Axes>"
      ]
     },
     "metadata": {},
     "output_type": "display_data"
    },
    {
     "data": {
      "text/plain": [
       "<Figure size 1000x1000 with 0 Axes>"
      ]
     },
     "metadata": {},
     "output_type": "display_data"
    },
    {
     "data": {
      "text/plain": [
       "<Figure size 1000x1000 with 0 Axes>"
      ]
     },
     "metadata": {},
     "output_type": "display_data"
    },
    {
     "data": {
      "text/plain": [
       "<Figure size 1000x1000 with 0 Axes>"
      ]
     },
     "metadata": {},
     "output_type": "display_data"
    },
    {
     "data": {
      "text/plain": [
       "<Figure size 1000x1000 with 0 Axes>"
      ]
     },
     "metadata": {},
     "output_type": "display_data"
    },
    {
     "data": {
      "text/plain": [
       "<Figure size 1000x1000 with 0 Axes>"
      ]
     },
     "metadata": {},
     "output_type": "display_data"
    },
    {
     "data": {
      "text/plain": [
       "<Figure size 1000x1000 with 0 Axes>"
      ]
     },
     "metadata": {},
     "output_type": "display_data"
    },
    {
     "data": {
      "text/plain": [
       "<Figure size 1000x1000 with 0 Axes>"
      ]
     },
     "metadata": {},
     "output_type": "display_data"
    },
    {
     "data": {
      "text/plain": [
       "<Figure size 1000x1000 with 0 Axes>"
      ]
     },
     "metadata": {},
     "output_type": "display_data"
    },
    {
     "data": {
      "image/png": "[encoded data removed]",
      "text/plain": [
       "<Figure size 1000x1000 with 2 Axes>"
      ]
     },
     "metadata": {},
     "output_type": "display_data"
    }
   ],
   "source": [
    "perf.evaluate_reco_performance(event_max=2000, plot_perfect_decaychains=10)"
   ]
  },
  {
   "cell_type": "code",
   "execution_count": 12,
   "id": "3efe9e88-2987-49a9-bda8-e495c4f6ff59",
   "metadata": {},
   "outputs": [],
   "source": [
    "#acc = perf.evaluate_homog_lca_accuracy(bdt_pruned_data=True)"
   ]
  },
  {
   "cell_type": "code",
   "execution_count": 11,
   "id": "44ec7a24-77df-4892-b3bb-778b9627d476",
   "metadata": {},
   "outputs": [
    {
     "data": {
      "text/plain": [
       "tensor([0.9972, 0.7814, 0.5410, 0.7729])"
      ]
     },
     "execution_count": 11,
     "metadata": {},
     "output_type": "execute_result"
    }
   ],
   "source": [
    "acc"
   ]
  },
  {
   "cell_type": "code",
   "execution_count": 13,
   "id": "28b7ce73-3a8a-4640-909f-f6e480ef6ff1",
   "metadata": {},
   "outputs": [],
   "source": [
    "#perf.evaluate_homog_track_pruning_performance()"
   ]
  },
  {
   "cell_type": "code",
   "execution_count": 14,
   "id": "5c718651-9da0-4394-b33f-4e2330ab27ad",
   "metadata": {},
   "outputs": [],
   "source": [
    "acc = perf.evaluate_hetero_lca_accuracy(bdt_pruned_data=True)"
   ]
  },
  {
   "cell_type": "code",
   "execution_count": 15,
   "id": "e4e84592-a20a-4a4a-9356-48e9ab7fa1fe",
   "metadata": {},
   "outputs": [
    {
     "data": {
      "text/plain": [
       "tensor([0.9974, 0.7866, 0.5367, 0.7740])"
      ]
     },
     "execution_count": 15,
     "metadata": {},
     "output_type": "execute_result"
    }
   ],
   "source": [
    "acc"
   ]
  },
  {
   "cell_type": "code",
   "execution_count": 16,
   "id": "461ef2f0-2fd8-4602-b8cf-90c3507fa988",
   "metadata": {},
   "outputs": [],
   "source": [
    "acc = perf.evaluate_hetero_lca_accuracy()"
   ]
  },
  {
   "cell_type": "code",
   "execution_count": 17,
   "id": "75ec95d9-23a4-467e-ac14-5450c5ac0018",
   "metadata": {},
   "outputs": [
    {
     "data": {
      "text/plain": [
       "tensor([0.9857, 0.8000, 0.5540, 0.7999])"
      ]
     },
     "execution_count": 17,
     "metadata": {},
     "output_type": "execute_result"
    }
   ],
   "source": [
    "acc"
   ]
  },
  {
   "cell_type": "code",
   "execution_count": null,
   "id": "1e06a141-8ad0-4471-9000-76a0dead7af7",
   "metadata": {},
   "outputs": [],
   "source": [
    "perf.evaluate_pv_association(b_tracks=False)"
   ]
  },
  {
   "cell_type": "code",
   "execution_count": 33,
   "id": "3d86aca0-320e-4745-8de9-73a784d60d9c",
   "metadata": {},
   "outputs": [
    {
     "name": "stderr",
     "output_type": "stream",
     "text": [
      "/tmp/ipykernel_6411/1321471939.py:159: UserWarning: To copy construct from a tensor, it is recommended to use sourceTensor.clone().detach() or sourceTensor.clone().detach().requires_grad_(True), rather than torch.tensor(sourceTensor).\n",
      "  PVlabel= torch.tensor(data[('tracks', 'to', 'pvs')].y,dtype=torch.float32)\n"
     ]
    },
    {
     "data": {
      "text/plain": [
       "0.9987598693207513"
      ]
     },
     "execution_count": 33,
     "metadata": {},
     "output_type": "execute_result"
    }
   ],
   "source": [
    "perf.evaluate_pv_association(b_tracks=False)"
   ]
  },
  {
   "cell_type": "code",
   "execution_count": 21,
   "id": "b64ad24b-a958-476b-8efc-4af86ebeebb9",
   "metadata": {},
   "outputs": [],
   "source": [
    "perf.set_edge_pruning(7, 0.15)"
   ]
  },
  {
   "cell_type": "code",
   "execution_count": 9,
   "id": "dda6951f-a9b3-4f65-9d9f-59cddb1a4c5f",
   "metadata": {},
   "outputs": [],
   "source": [
    "acc = perf.evaluate_hetero_lca_accuracy(bdt_pruned_data=True)"
   ]
  },
  {
   "cell_type": "code",
   "execution_count": 11,
   "id": "bc0a9a9d-7398-4688-b72d-03a2a5934916",
   "metadata": {},
   "outputs": [],
   "source": [
    "acc = perf.evaluate_hetero_lca_accuracy()"
   ]
  },
  {
   "cell_type": "code",
   "execution_count": 12,
   "id": "7c4e635f-3e86-4f7b-8b0c-cf724bcd86ae",
   "metadata": {},
   "outputs": [
    {
     "data": {
      "text/plain": [
       "tensor([0.9857, 0.8000, 0.5540, 0.7999])"
      ]
     },
     "execution_count": 12,
     "metadata": {},
     "output_type": "execute_result"
    }
   ],
   "source": [
    "acc"
   ]
  },
  {
   "cell_type": "code",
   "execution_count": 10,
   "id": "3833c1b0-47da-42f3-9577-9491a7d597a1",
   "metadata": {},
   "outputs": [
    {
     "data": {
      "text/plain": [
       "tensor([0.9978, 0.3962, 0.2724, 0.3918])"
      ]
     },
     "execution_count": 10,
     "metadata": {},
     "output_type": "execute_result"
    }
   ],
   "source": [
    "acc"
   ]
  },
  {
   "cell_type": "code",
   "execution_count": 13,
   "id": "d03565b0-f252-4add-9e2f-fb42c877ff33",
   "metadata": {},
   "outputs": [
    {
     "name": "stdout",
     "output_type": "stream",
     "text": [
      "0\n"
     ]
    },
    {
     "name": "stderr",
     "output_type": "stream",
     "text": [
      "/tmp/ipykernel_32664/3583824070.py:284: FutureWarning: The behavior of DataFrame concatenation with empty or all-NA entries is deprecated. In a future version, this will no longer exclude empty or all-NA columns when determining the result dtypes. To retain the old behavior, exclude the relevant entries before the concat operation.\n",
      "  self.event_df = self.event_df._append({'EventNumber': event,\n"
     ]
    },
    {
     "name": "stdout",
     "output_type": "stream",
     "text": [
      "100\n",
      "No particles found.\n",
      "0\n",
      "No particles found.\n",
      "0\n",
      "No particles found.\n",
      "0\n",
      "200\n",
      "No particles found.\n",
      "0\n",
      "300\n",
      "No particles found.\n",
      "0\n",
      "400\n",
      "No particles found.\n",
      "0\n",
      "500\n",
      "No particles found.\n",
      "0\n",
      "600\n",
      "No particles found.\n",
      "0\n",
      "No particles found.\n",
      "0\n",
      "No particles found.\n",
      "0\n",
      "700\n",
      "No particles found.\n",
      "0\n",
      "No particles found.\n",
      "0\n",
      "800\n",
      "900\n",
      "1000\n",
      "1100\n",
      "1100\n",
      "No particles found.\n",
      "0\n",
      "1200\n",
      "No particles found.\n",
      "0\n",
      "No particles found.\n",
      "0\n",
      "No particles found.\n",
      "0\n",
      "1300\n",
      "No particles found.\n",
      "0\n",
      "No particles found.\n",
      "0\n",
      "No particles found.\n",
      "0\n",
      "No particles found.\n",
      "0\n",
      "1400\n",
      "1500\n",
      "No particles found.\n",
      "0\n",
      "No particles found.\n",
      "0\n",
      "1600\n",
      "No particles found.\n",
      "0\n",
      "No particles found.\n",
      "0\n",
      "No particles found.\n",
      "0\n",
      "1700\n",
      "No particles found.\n",
      "0\n",
      "1800\n",
      "1900\n",
      "No particles found.\n",
      "0\n",
      "2000\n",
      "2100\n",
      "2200\n",
      "No particles found.\n",
      "0\n",
      "2300\n"
     ]
    },
    {
     "ename": "KeyboardInterrupt",
     "evalue": "",
     "output_type": "error",
     "traceback": [
      "\u001b[0;31m---------------------------------------------------------------------------\u001b[0m",
      "\u001b[0;31mKeyboardInterrupt\u001b[0m                         Traceback (most recent call last)",
      "Cell \u001b[0;32mIn[13], line 1\u001b[0m\n\u001b[0;32m----> 1\u001b[0m perf\u001b[38;5;241m.\u001b[39mevaluate_reco_performance()\n",
      "Cell \u001b[0;32mIn[11], line 194\u001b[0m, in \u001b[0;36mPerformance.evaluate_reco_performance\u001b[0;34m(self)\u001b[0m\n\u001b[1;32m    192\u001b[0m particle_keys \u001b[38;5;241m=\u001b[39m \u001b[38;5;28mlist\u001b[39m(vdata[\u001b[38;5;124m\"\u001b[39m\u001b[38;5;124minit_keys\u001b[39m\u001b[38;5;124m\"\u001b[39m]\u001b[38;5;241m.\u001b[39mnumpy())\n\u001b[1;32m    193\u001b[0m particle_ids \u001b[38;5;241m=\u001b[39m  \u001b[38;5;28mlist\u001b[39m(\u001b[38;5;28mmap\u001b[39m(particle_name, vdata[\u001b[38;5;124m'\u001b[39m\u001b[38;5;124minit_partids\u001b[39m\u001b[38;5;124m'\u001b[39m]\u001b[38;5;241m.\u001b[39mnumpy()))\n\u001b[0;32m--> 194\u001b[0m truth_cluster_dict, truth_num_clusters_per_order, max_full_chain_depth_in_event \u001b[38;5;241m=\u001b[39m reconstruct_decay(\n\u001b[1;32m    195\u001b[0m     true_LCA, particle_keys,particle_ids\u001b[38;5;241m=\u001b[39mparticle_ids,truth_level_simulation\u001b[38;5;241m=\u001b[39m\u001b[38;5;241m1\u001b[39m)\n\u001b[1;32m    196\u001b[0m end_time \u001b[38;5;241m=\u001b[39m time\u001b[38;5;241m.\u001b[39mtime()\n\u001b[1;32m    197\u001b[0m time_truth \u001b[38;5;241m=\u001b[39m end_time\u001b[38;5;241m-\u001b[39mstart_time\n",
      "File \u001b[0;32m~/Work/Zurich/LHCb/GNNs/weighted_MP_gnn/wmpgnn/performance/reconstruction.py:153\u001b[0m, in \u001b[0;36mreconstruct_decay\u001b[0;34m(triang_LCA_matrix, particle_keys, ax, particle_ids, truth_level_simulation)\u001b[0m\n\u001b[1;32m    150\u001b[0m \u001b[38;5;28;01mfor\u001b[39;00m sender \u001b[38;5;129;01min\u001b[39;00m \u001b[38;5;28mrange\u001b[39m(composite_counter):\n\u001b[1;32m    151\u001b[0m     \u001b[38;5;28;01mif\u001b[39;00m sender \u001b[38;5;129;01mnot\u001b[39;00m \u001b[38;5;129;01min\u001b[39;00m indices_in_cluster:\n\u001b[1;32m    152\u001b[0m         proxy_links \u001b[38;5;241m=\u001b[39m current_LCA_matrix[\n\u001b[0;32m--> 153\u001b[0m             ((current_LCA_matrix[\u001b[38;5;124m'\u001b[39m\u001b[38;5;124msenders\u001b[39m\u001b[38;5;124m'\u001b[39m] \u001b[38;5;241m==\u001b[39m sender) \u001b[38;5;241m&\u001b[39m (current_LCA_matrix[\u001b[38;5;124m'\u001b[39m\u001b[38;5;124mreceivers\u001b[39m\u001b[38;5;124m'\u001b[39m]\u001b[38;5;241m.\u001b[39misin(\n\u001b[1;32m    154\u001b[0m                 indices_in_cluster))) \u001b[38;5;241m|\u001b[39m ((current_LCA_matrix[\u001b[38;5;124m'\u001b[39m\u001b[38;5;124msenders\u001b[39m\u001b[38;5;124m'\u001b[39m]\u001b[38;5;241m.\u001b[39misin(indices_in_cluster)) \u001b[38;5;241m&\u001b[39m (\n\u001b[1;32m    155\u001b[0m                         current_LCA_matrix[\u001b[38;5;124m'\u001b[39m\u001b[38;5;124mreceivers\u001b[39m\u001b[38;5;124m'\u001b[39m] \u001b[38;5;241m==\u001b[39m sender))]\n\u001b[1;32m    156\u001b[0m         \u001b[38;5;28;01mif\u001b[39;00m proxy_links\u001b[38;5;241m.\u001b[39mempty \u001b[38;5;241m==\u001b[39m \u001b[38;5;28;01mFalse\u001b[39;00m:\n\u001b[1;32m    157\u001b[0m             new_LCA_matrix_df \u001b[38;5;241m=\u001b[39m pd\u001b[38;5;241m.\u001b[39mDataFrame({\n\u001b[1;32m    158\u001b[0m                 \u001b[38;5;124m'\u001b[39m\u001b[38;5;124msenders\u001b[39m\u001b[38;5;124m'\u001b[39m: [sender],\n\u001b[1;32m    159\u001b[0m                 \u001b[38;5;124m'\u001b[39m\u001b[38;5;124mreceivers\u001b[39m\u001b[38;5;124m'\u001b[39m: [composite_counter],\n\u001b[1;32m    160\u001b[0m                 \u001b[38;5;124m'\u001b[39m\u001b[38;5;124mLCA_dec\u001b[39m\u001b[38;5;124m'\u001b[39m: [\u001b[38;5;28mmax\u001b[39m(proxy_links[\u001b[38;5;124m'\u001b[39m\u001b[38;5;124mLCA_dec\u001b[39m\u001b[38;5;124m'\u001b[39m])]\n\u001b[1;32m    161\u001b[0m             })\n",
      "File \u001b[0;32m~/anaconda3/envs/dfei/lib/python3.11/site-packages/pandas/core/series.py:5560\u001b[0m, in \u001b[0;36mSeries.isin\u001b[0;34m(self, values)\u001b[0m\n\u001b[1;32m   5487\u001b[0m \u001b[38;5;250m\u001b[39m\u001b[38;5;124;03m\"\"\"\u001b[39;00m\n\u001b[1;32m   5488\u001b[0m \u001b[38;5;124;03mWhether elements in Series are contained in `values`.\u001b[39;00m\n\u001b[1;32m   5489\u001b[0m \n\u001b[0;32m   (...)\u001b[0m\n\u001b[1;32m   5557\u001b[0m \u001b[38;5;124;03mdtype: bool\u001b[39;00m\n\u001b[1;32m   5558\u001b[0m \u001b[38;5;124;03m\"\"\"\u001b[39;00m\n\u001b[1;32m   5559\u001b[0m result \u001b[38;5;241m=\u001b[39m algorithms\u001b[38;5;241m.\u001b[39misin(\u001b[38;5;28mself\u001b[39m\u001b[38;5;241m.\u001b[39m_values, values)\n\u001b[0;32m-> 5560\u001b[0m \u001b[38;5;28;01mreturn\u001b[39;00m \u001b[38;5;28mself\u001b[39m\u001b[38;5;241m.\u001b[39m_constructor(result, index\u001b[38;5;241m=\u001b[39m\u001b[38;5;28mself\u001b[39m\u001b[38;5;241m.\u001b[39mindex, copy\u001b[38;5;241m=\u001b[39m\u001b[38;5;28;01mFalse\u001b[39;00m)\u001b[38;5;241m.\u001b[39m__finalize__(\n\u001b[1;32m   5561\u001b[0m     \u001b[38;5;28mself\u001b[39m, method\u001b[38;5;241m=\u001b[39m\u001b[38;5;124m\"\u001b[39m\u001b[38;5;124misin\u001b[39m\u001b[38;5;124m\"\u001b[39m\n\u001b[1;32m   5562\u001b[0m )\n",
      "File \u001b[0;32m~/anaconda3/envs/dfei/lib/python3.11/site-packages/pandas/core/series.py:593\u001b[0m, in \u001b[0;36mSeries.__init__\u001b[0;34m(self, data, index, dtype, name, copy, fastpath)\u001b[0m\n\u001b[1;32m    590\u001b[0m         data \u001b[38;5;241m=\u001b[39m SingleArrayManager\u001b[38;5;241m.\u001b[39mfrom_array(data, index)\n\u001b[1;32m    592\u001b[0m NDFrame\u001b[38;5;241m.\u001b[39m\u001b[38;5;21m__init__\u001b[39m(\u001b[38;5;28mself\u001b[39m, data)\n\u001b[0;32m--> 593\u001b[0m \u001b[38;5;28mself\u001b[39m\u001b[38;5;241m.\u001b[39mname \u001b[38;5;241m=\u001b[39m name\n\u001b[1;32m    594\u001b[0m \u001b[38;5;28mself\u001b[39m\u001b[38;5;241m.\u001b[39m_set_axis(\u001b[38;5;241m0\u001b[39m, index)\n\u001b[1;32m    596\u001b[0m \u001b[38;5;28;01mif\u001b[39;00m original_dtype \u001b[38;5;129;01mis\u001b[39;00m \u001b[38;5;28;01mNone\u001b[39;00m \u001b[38;5;129;01mand\u001b[39;00m is_pandas_object \u001b[38;5;129;01mand\u001b[39;00m data_dtype \u001b[38;5;241m==\u001b[39m np\u001b[38;5;241m.\u001b[39mobject_:\n",
      "File \u001b[0;32m~/anaconda3/envs/dfei/lib/python3.11/site-packages/pandas/core/generic.py:6320\u001b[0m, in \u001b[0;36mNDFrame.__setattr__\u001b[0;34m(self, name, value)\u001b[0m\n\u001b[1;32m   6317\u001b[0m \u001b[38;5;66;03m# if this fails, go on to more involved attribute setting\u001b[39;00m\n\u001b[1;32m   6318\u001b[0m \u001b[38;5;66;03m# (note that this matches __getattr__, above).\u001b[39;00m\n\u001b[1;32m   6319\u001b[0m \u001b[38;5;28;01mif\u001b[39;00m name \u001b[38;5;129;01min\u001b[39;00m \u001b[38;5;28mself\u001b[39m\u001b[38;5;241m.\u001b[39m_internal_names_set:\n\u001b[0;32m-> 6320\u001b[0m     \u001b[38;5;28mobject\u001b[39m\u001b[38;5;241m.\u001b[39m\u001b[38;5;21m__setattr__\u001b[39m(\u001b[38;5;28mself\u001b[39m, name, value)\n\u001b[1;32m   6321\u001b[0m \u001b[38;5;28;01melif\u001b[39;00m name \u001b[38;5;129;01min\u001b[39;00m \u001b[38;5;28mself\u001b[39m\u001b[38;5;241m.\u001b[39m_metadata:\n\u001b[1;32m   6322\u001b[0m     \u001b[38;5;28mobject\u001b[39m\u001b[38;5;241m.\u001b[39m\u001b[38;5;21m__setattr__\u001b[39m(\u001b[38;5;28mself\u001b[39m, name, value)\n",
      "File \u001b[0;32m~/anaconda3/envs/dfei/lib/python3.11/site-packages/pandas/core/series.py:787\u001b[0m, in \u001b[0;36mSeries.name\u001b[0;34m(self, value)\u001b[0m\n\u001b[1;32m    784\u001b[0m \u001b[38;5;129m@name\u001b[39m\u001b[38;5;241m.\u001b[39msetter\n\u001b[1;32m    785\u001b[0m \u001b[38;5;28;01mdef\u001b[39;00m \u001b[38;5;21mname\u001b[39m(\u001b[38;5;28mself\u001b[39m, value: Hashable) \u001b[38;5;241m-\u001b[39m\u001b[38;5;241m>\u001b[39m \u001b[38;5;28;01mNone\u001b[39;00m:\n\u001b[1;32m    786\u001b[0m     validate_all_hashable(value, error_name\u001b[38;5;241m=\u001b[39m\u001b[38;5;124mf\u001b[39m\u001b[38;5;124m\"\u001b[39m\u001b[38;5;132;01m{\u001b[39;00m\u001b[38;5;28mtype\u001b[39m(\u001b[38;5;28mself\u001b[39m)\u001b[38;5;241m.\u001b[39m\u001b[38;5;18m__name__\u001b[39m\u001b[38;5;132;01m}\u001b[39;00m\u001b[38;5;124m.name\u001b[39m\u001b[38;5;124m\"\u001b[39m)\n\u001b[0;32m--> 787\u001b[0m     \u001b[38;5;28mobject\u001b[39m\u001b[38;5;241m.\u001b[39m\u001b[38;5;21m__setattr__\u001b[39m(\u001b[38;5;28mself\u001b[39m, \u001b[38;5;124m\"\u001b[39m\u001b[38;5;124m_name\u001b[39m\u001b[38;5;124m\"\u001b[39m, value)\n",
      "\u001b[0;31mKeyboardInterrupt\u001b[0m: "
     ]
    }
   ],
   "source": [
    "perf.evaluate_reco_performance()"
   ]
  },
  {
   "cell_type": "code",
   "execution_count": 26,
   "id": "bd125a53-1177-496b-81bd-44253bc6868e",
   "metadata": {},
   "outputs": [
    {
     "data": {
      "text/plain": [
       "234"
      ]
     },
     "execution_count": 26,
     "metadata": {},
     "output_type": "execute_result"
    }
   ],
   "source": [
    "len(perf.signal_df)"
   ]
  },
  {
   "cell_type": "code",
   "execution_count": 23,
   "id": "cc81bc14-35a7-4df2-8147-9bb0d70345b8",
   "metadata": {},
   "outputs": [
    {
     "data": {
      "text/plain": [
       "0.21951219512195122"
      ]
     },
     "execution_count": 23,
     "metadata": {},
     "output_type": "execute_result"
    }
   ],
   "source": [
    "len(perf.signal_df.query('PerfectSignalReconstruction == 1'))/len(perf.signal_df)"
   ]
  },
  {
   "cell_type": "code",
   "execution_count": 9,
   "id": "9296ab32-f15b-46ba-87e2-f7deea588f46",
   "metadata": {},
   "outputs": [
    {
     "data": {
      "text/plain": [
       "0.18686073957513769"
      ]
     },
     "execution_count": 9,
     "metadata": {},
     "output_type": "execute_result"
    }
   ],
   "source": [
    "len(perf.signal_df.query('PerfectSignalReconstruction == 1'))/len(perf.signal_df)"
   ]
  },
  {
   "cell_type": "code",
   "execution_count": 25,
   "id": "aa7ea7c1-62e8-4e2c-8886-7ad25787d64c",
   "metadata": {},
   "outputs": [
    {
     "data": {
      "text/plain": [
       "0.2777777777777778"
      ]
     },
     "execution_count": 25,
     "metadata": {},
     "output_type": "execute_result"
    }
   ],
   "source": [
    "len(perf.signal_df.query('PerfectSignalReconstruction == 1'))/len(perf.signal_df)"
   ]
  },
  {
   "cell_type": "code",
   "execution_count": 10,
   "id": "42a9b4b5-a275-460b-a1b1-9c961575bd5b",
   "metadata": {},
   "outputs": [
    {
     "data": {
      "text/plain": [
       "0.24779874213836478"
      ]
     },
     "execution_count": 10,
     "metadata": {},
     "output_type": "execute_result"
    }
   ],
   "source": [
    "len(perf.signal_df.query('PerfectSignalReconstruction == 1'))/len(perf.signal_df)"
   ]
  },
  {
   "cell_type": "code",
   "execution_count": 24,
   "id": "3bf90eb6-1814-48b2-a9df-402ba12a005b",
   "metadata": {},
   "outputs": [
    {
     "data": {
      "text/plain": [
       "0.4893784421715185"
      ]
     },
     "execution_count": 24,
     "metadata": {},
     "output_type": "execute_result"
    }
   ],
   "source": [
    "len(perf.signal_df.query('AllParticles == 1'))/len(perf.signal_df)"
   ]
  },
  {
   "cell_type": "code",
   "execution_count": 10,
   "id": "d26094e6-2945-458a-a6a9-dd966e46505b",
   "metadata": {},
   "outputs": [
    {
     "data": {
      "text/plain": [
       "0.37844217151848936"
      ]
     },
     "execution_count": 10,
     "metadata": {},
     "output_type": "execute_result"
    }
   ],
   "source": [
    "len(perf.signal_df.query('AllParticles == 1'))/len(perf.signal_df)"
   ]
  },
  {
   "cell_type": "code",
   "execution_count": 11,
   "id": "96330e35-cc2d-4da3-9681-a3af76cf9b66",
   "metadata": {},
   "outputs": [
    {
     "data": {
      "text/plain": [
       "0.5177358490566037"
      ]
     },
     "execution_count": 11,
     "metadata": {},
     "output_type": "execute_result"
    }
   ],
   "source": [
    "len(perf.signal_df.query('AllParticles == 1'))/len(perf.signal_df)"
   ]
  },
  {
   "cell_type": "code",
   "execution_count": 12,
   "id": "6f3e98fc-2718-4d3f-8f1d-11ddcad13919",
   "metadata": {},
   "outputs": [
    {
     "data": {
      "text/plain": [
       "0.5177358490566037"
      ]
     },
     "execution_count": 12,
     "metadata": {},
     "output_type": "execute_result"
    }
   ],
   "source": [
    "len(perf.signal_df.query('AllParticles == 1'))/len(perf.signal_df)"
   ]
  },
  {
   "cell_type": "code",
   "execution_count": 13,
   "id": "bc404952-bfb4-4c09-b4d6-74461fbed39d",
   "metadata": {},
   "outputs": [
    {
     "data": {
      "text/plain": [
       "0.24779874213836478"
      ]
     },
     "execution_count": 13,
     "metadata": {},
     "output_type": "execute_result"
    }
   ],
   "source": [
    "len(perf.signal_df.query('PerfectSignalReconstruction == 1'))/len(perf.signal_df)"
   ]
  },
  {
   "cell_type": "code",
   "execution_count": 14,
   "id": "6d98f813-8a5e-42a7-b767-e13808dab888",
   "metadata": {},
   "outputs": [
    {
     "data": {
      "text/plain": [
       "0.5177358490566037"
      ]
     },
     "execution_count": 14,
     "metadata": {},
     "output_type": "execute_result"
    }
   ],
   "source": [
    "len(perf.signal_df.query('AllParticles == 1'))/len(perf.signal_df)"
   ]
  },
  {
   "cell_type": "code",
   "execution_count": 15,
   "id": "547f6df6-5785-4e71-9728-dfa0c9369575",
   "metadata": {},
   "outputs": [
    {
     "data": {
      "text/plain": [
       "0.5177358490566037"
      ]
     },
     "execution_count": 15,
     "metadata": {},
     "output_type": "execute_result"
    }
   ],
   "source": [
    "len(perf.signal_df.query('AllParticles == 1'))/len(perf.signal_df)"
   ]
  },
  {
   "cell_type": "code",
   "execution_count": 16,
   "id": "911be197-ff61-45bf-9b40-9cb69b323708",
   "metadata": {},
   "outputs": [
    {
     "data": {
      "text/plain": [
       "0.24779874213836478"
      ]
     },
     "execution_count": 16,
     "metadata": {},
     "output_type": "execute_result"
    }
   ],
   "source": [
    "len(perf.signal_df.query('PerfectSignalReconstruction == 1'))/len(perf.signal_df)"
   ]
  },
  {
   "cell_type": "code",
   "execution_count": 73,
   "id": "93cb008d-b0a8-4113-aa58-5d64c19ddb5e",
   "metadata": {},
   "outputs": [
    {
     "data": {
      "text/plain": [
       "0.295764788239412"
      ]
     },
     "execution_count": 73,
     "metadata": {},
     "output_type": "execute_result"
    }
   ],
   "source": [
    "len(perf.signal_df.query('AllParticles == 1'))/len(perf.signal_df)"
   ]
  },
  {
   "cell_type": "code",
   "execution_count": 17,
   "id": "b5a0141b-6c16-4466-acc8-404b17b2aa6d",
   "metadata": {},
   "outputs": [
    {
     "data": {
      "text/plain": [
       "0.33635220125786164"
      ]
     },
     "execution_count": 17,
     "metadata": {},
     "output_type": "execute_result"
    }
   ],
   "source": [
    "len(perf.signal_df.query('NoneIso == 1'))/len(perf.signal_df)"
   ]
  },
  {
   "cell_type": "code",
   "execution_count": 11,
   "id": "c1050b49-a1af-497f-9cf0-a0ce0d10e902",
   "metadata": {},
   "outputs": [
    {
     "data": {
      "text/plain": [
       "0.0959874114870181"
      ]
     },
     "execution_count": 11,
     "metadata": {},
     "output_type": "execute_result"
    }
   ],
   "source": [
    "len(perf.signal_df.query('PartReco == 1'))/len(perf.signal_df)"
   ]
  },
  {
   "cell_type": "code",
   "execution_count": 25,
   "id": "77a9e4ff-41ef-406a-ba7f-499f5d0f40ab",
   "metadata": {},
   "outputs": [
    {
     "data": {
      "text/plain": [
       "0.1125098347757671"
      ]
     },
     "execution_count": 25,
     "metadata": {},
     "output_type": "execute_result"
    }
   ],
   "source": [
    "len(perf.signal_df.query('PartReco == 1'))/len(perf.signal_df)"
   ]
  },
  {
   "cell_type": "code",
   "execution_count": 26,
   "id": "2f862d02-9b92-438a-be4c-e7244920dc4c",
   "metadata": {},
   "outputs": [
    {
     "data": {
      "text/plain": [
       "0.1125098347757671"
      ]
     },
     "execution_count": 26,
     "metadata": {},
     "output_type": "execute_result"
    }
   ],
   "source": [
    "len(perf.signal_df.query('PartReco == 1'))/len(perf.signal_df)"
   ]
  },
  {
   "cell_type": "code",
   "execution_count": 18,
   "id": "fa7ca6ac-e0b0-414b-91d7-07d2b2fb5cf1",
   "metadata": {},
   "outputs": [
    {
     "data": {
      "text/plain": [
       "0.1119496855345912"
      ]
     },
     "execution_count": 18,
     "metadata": {},
     "output_type": "execute_result"
    }
   ],
   "source": [
    "len(perf.signal_df.query('PartReco == 1'))/len(perf.signal_df)"
   ]
  },
  {
   "cell_type": "code",
   "execution_count": 39,
   "id": "b7badf84-4a81-41ab-b591-c6d1a5db59f9",
   "metadata": {},
   "outputs": [
    {
     "data": {
      "text/plain": [
       "0.10763520678685047"
      ]
     },
     "execution_count": 39,
     "metadata": {},
     "output_type": "execute_result"
    }
   ],
   "source": [
    "len(perf.signal_df.query('PartReco == 1'))/len(perf.signal_df)"
   ]
  },
  {
   "cell_type": "code",
   "execution_count": 60,
   "id": "ccff36f7-1830-4d51-b3a5-6ca48cd525db",
   "metadata": {},
   "outputs": [
    {
     "data": {
      "text/plain": [
       "0.027328299172959366"
      ]
     },
     "execution_count": 60,
     "metadata": {},
     "output_type": "execute_result"
    }
   ],
   "source": [
    "len(perf.signal_df.query('NotFound == 1'))/len(perf.signal_df)"
   ]
  },
  {
   "cell_type": "code",
   "execution_count": 19,
   "id": "af869803-f324-44b3-8537-32eac0ac5fd1",
   "metadata": {},
   "outputs": [
    {
     "data": {
      "text/plain": [
       "0.033962264150943396"
      ]
     },
     "execution_count": 19,
     "metadata": {},
     "output_type": "execute_result"
    }
   ],
   "source": [
    "len(perf.signal_df.query('NotFound == 1'))/len(perf.signal_df)"
   ]
  },
  {
   "cell_type": "code",
   "execution_count": 82,
   "id": "4231027f-d2d6-466e-b890-f678f484720b",
   "metadata": {},
   "outputs": [
    {
     "data": {
      "text/plain": [
       "0.029605263157894735"
      ]
     },
     "execution_count": 82,
     "metadata": {},
     "output_type": "execute_result"
    }
   ],
   "source": [
    "len(perf.signal_df.query('NotFound == 1'))/len(perf.signal_df)"
   ]
  },
  {
   "cell_type": "code",
   "execution_count": 17,
   "id": "86999679-af67-4dd9-b301-5f52099c7187",
   "metadata": {},
   "outputs": [
    {
     "data": {
      "text/plain": [
       "0.03228754188242461"
      ]
     },
     "execution_count": 17,
     "metadata": {},
     "output_type": "execute_result"
    }
   ],
   "source": [
    "len(perf.signal_df.query('NotFound == 1'))/len(perf.signal_df)"
   ]
  },
  {
   "cell_type": "markdown",
   "id": "8654225c-5c6b-43a1-a4ba-fdca2d1b4c34",
   "metadata": {},
   "source": [
    "# To do\n",
    "\n",
    "* check full graph dataset for comparison\n",
    "* get heterogeneous running for reco\n",
    "* reco with cpu or gpu \n",
    "* get lca accuracy with / without pruning, full graph or bdt pruned\n",
    "* roc curves for layer weights and histogram of distributions\n",
    "* pv association"
   ]
  },
  {
   "cell_type": "code",
   "execution_count": null,
   "id": "fd7ba481-0a5d-4ab7-8c51-419326ae00e1",
   "metadata": {},
   "outputs": [],
   "source": []
  }
 ],
 "metadata": {
  "kernelspec": {
   "display_name": "Python 3 (ipykernel)",
   "language": "python",
   "name": "python3"
  },
  "language_info": {
   "codemirror_mode": {
    "name": "ipython",
    "version": 3
   },
   "file_extension": ".py",
   "mimetype": "text/x-python",
   "name": "python",
   "nbconvert_exporter": "python",
   "pygments_lexer": "ipython3",
   "version": "3.11.11"
  }
 },
 "nbformat": 4,
 "nbformat_minor": 5
}
